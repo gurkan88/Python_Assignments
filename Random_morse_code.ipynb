{
 "cells": [
  {
   "cell_type": "markdown",
   "source": [
    "Take a string with input() and returns the Morse code equivalent.\r\n",
    "Examples\r\n",
    "\"EDABBIT CHALLENGE\" ➞ \". -.. .- -... -... .. -   -.-. .... .- .-.. .-.. . -. --. .\"\r\n",
    "\"HELP ME !\" ➞ \".... . .-.. .--.   -- .   -.-.--\"\r\n",
    "This dictionary can be used for coding:\r\n",
    "char_to_dots = {\r\n",
    "  'A': '.-', 'B': '-...', 'C': '-.-.', 'D': '-..', 'E': '.', 'F': '..-.',\r\n",
    "  'G': '--.', 'H': '....', 'I': '..', 'J': '.---', 'K': '-.-', 'L': '.-..',\r\n",
    "  'M': '--', 'N': '-.', 'O': '---', 'P': '.--.', 'Q': '--.-', 'R': '.-.',\r\n",
    "  'S': '...', 'T': '-', 'U': '..-', 'V': '...-', 'W': '.--', 'X': '-..-',\r\n",
    "  'Y': '-.--', 'Z': '--..', ' ': ' ', '0': '-----',\r\n",
    "  '1': '.----', '2': '..---', '3': '...--', '4': '....-', '5': '.....',\r\n",
    "  '6': '-....', '7': '--...', '8': '---..', '9': '----.',\r\n",
    "  '&': '.-...', \"'\": '.----.', '@': '.--.-.', ')': '-.--.-', '(': '-.--.',\r\n",
    "  ':': '---...', ',': '--..--', '=': '-...-', '!': '-.-.--', '.': '.-.-.-',\r\n",
    "  '-': '-....-', '+': '.-.-.', '\"': '.-..-.', '?': '..--..', '/': '-..-.'\r\n",
    "}\r\n",
    "Notes\r\n",
    "Ouput should be International Morse Code, and use the standard conventions for symbols not defined inside the ITU recommendation (see Resources).\r\n",
    "Input value can be lower or upper case.\r\n",
    "Input string can have digits.\r\n",
    "Input string can have some special characters (e.g. comma, colon, apostrophe, period, question mark, exclamation mark).\r\n",
    "One space \" \" is expected after each character, except the last one."
   ],
   "metadata": {}
  },
  {
   "cell_type": "code",
   "execution_count": null,
   "source": [
    "char_to_dots = {\r\n",
    "  'A': '.-', 'B': '-...', 'C': '-.-.', 'D': '-..', 'E': '.', 'F': '..-.',\r\n",
    "  'G': '--.', 'H': '....', 'I': '..', 'J': '.---', 'K': '-.-', 'L': '.-..',\r\n",
    "  'M': '--', 'N': '-.', 'O': '---', 'P': '.--.', 'Q': '--.-', 'R': '.-.',\r\n",
    "  'S': '...', 'T': '-', 'U': '..-', 'V': '...-', 'W': '.--', 'X': '-..-',\r\n",
    "  'Y': '-.--', 'Z': '--..', ' ': ' ', '0': '-----',\r\n",
    "  '1': '.----', '2': '..---', '3': '...--', '4': '....-', '5': '.....',\r\n",
    "  '6': '-....', '7': '--...', '8': '---..', '9': '----.',\r\n",
    "  '&': '.-...', \"'\": '.----.', '@': '.--.-.', ')': '-.--.-', '(': '-.--.',\r\n",
    "  ':': '---...', ',': '--..--', '=': '-...-', '!': '-.-.--', '.': '.-.-.-',\r\n",
    "  '-': '-....-', '+': '.-.-.', '\"': '.-..-.', '?': '..--..', '/': '-..-.'\r\n",
    "}\r\n",
    "i = 0\r\n",
    "output = \"\"\r\n",
    "x = list(input(\"enter the word:\").upper())\r\n",
    "for i in range(0,len(x)):\r\n",
    "    output += char_to_dots[x[i]] + \" \"\r\n",
    "print(output.rstrip(output[-1]))"
   ],
   "outputs": [],
   "metadata": {}
  }
 ],
 "metadata": {
  "orig_nbformat": 4,
  "language_info": {
   "name": "python"
  }
 },
 "nbformat": 4,
 "nbformat_minor": 2
}