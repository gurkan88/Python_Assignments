{
 "cells": [
  {
   "cell_type": "code",
   "execution_count": 1,
   "source": [
    "# assume the user name is Joseph\r\n",
    "name = \"Joseph\"\r\n",
    "password = \"1234\"\r\n",
    "print(\"Forgot your password?\\n\")\r\n",
    "x = str(input(\"Enter your name\\n\")).strip().title()\r\n",
    "if x == name :\r\n",
    "    print(f\"Hello, {x}! The password is : {password}\")\r\n",
    "else :\r\n",
    "    print(f\"Hello, {x}!\\nThe name you entered does not match our records\")"
   ],
   "outputs": [
    {
     "output_type": "stream",
     "name": "stdout",
     "text": [
      "Forgot your password?\n",
      "\n",
      "Hello, Joseph! The password is : 1234\n"
     ]
    }
   ],
   "metadata": {}
  }
 ],
 "metadata": {
  "orig_nbformat": 4,
  "language_info": {
   "name": "python"
  }
 },
 "nbformat": 4,
 "nbformat_minor": 2
}
