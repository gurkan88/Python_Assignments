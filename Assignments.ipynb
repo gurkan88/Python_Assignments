{
 "cells": [
  {
   "cell_type": "markdown",
   "source": [
    "***\r\n",
    "***\r\n",
    "<h2>Agginment_1</h2>"
   ],
   "metadata": {}
  },
  {
   "cell_type": "code",
   "execution_count": 1,
   "source": [
    "# assume the user name is Joseph\r\n",
    "name = \"Joseph\"\r\n",
    "password = \"1234\"\r\n",
    "print(\"Forgot your password?\\n\")\r\n",
    "x = str(input(\"Enter your name\\n\")).strip().title()\r\n",
    "if x == name :\r\n",
    "    print(f\"Hello, {x}! The password is : {password}\")\r\n",
    "else :\r\n",
    "    print(f\"Hello, {x}!\\nThe name you entered does not match our records\")"
   ],
   "outputs": [
    {
     "output_type": "stream",
     "name": "stdout",
     "text": [
      "Forgot your password?\n",
      "\n",
      "Hello, Joseph! The password is : 1234\n"
     ]
    }
   ],
   "metadata": {}
  },
  {
   "cell_type": "markdown",
   "source": [
    "***\r\n",
    "***\r\n",
    "<h2>Assignment_2 Covid_19_risk</h2>\r\n"
   ],
   "metadata": {}
  },
  {
   "cell_type": "code",
   "execution_count": null,
   "source": [
    "print(\"answer following questions yes or no\")\r\n",
    "age = input(\"Are you a cigarette addict older than 75 years old?\").strip().title()\r\n",
    "chronic = input(\"Do you have a severe chronic disease?\").strip().title()\r\n",
    "immune = input(\"Is your immune system too weak?\").strip().title()\r\n",
    "if age and chronic and immune == \"Yes\" :\r\n",
    "    print(\"You are in risky group\")\r\n",
    "elif age and chronic == \"Yes\" :\r\n",
    "    print(\"You are in risky group\")\r\n",
    "elif age and immune == \"Yes\" :\r\n",
    "    print(\"You are in risky group\")\r\n",
    "elif chronic and immune == \"Yes\" :\r\n",
    "    print(\"You are in risky group\")\r\n",
    "else:\r\n",
    "    print(\"You are not in risky group\")"
   ],
   "outputs": [],
   "metadata": {}
  },
  {
   "cell_type": "markdown",
   "source": [
    "***\r\n",
    "***\r\n",
    "<h2>Assignment_3 Armstrong_numbers</h2>"
   ],
   "metadata": {}
  },
  {
   "cell_type": "code",
   "execution_count": 10,
   "source": [
    "def check_is_digit(input_str):\r\n",
    "    if input_str.strip().isdigit():\r\n",
    "        number = int(input_str)\r\n",
    "        x = list(input_str)\r\n",
    "        y = 0\r\n",
    "        for i in range(0,len(x)):\r\n",
    "            x[i] = int(x[i])\r\n",
    "            y += x[i]**(len(x))\r\n",
    "        if y == number:\r\n",
    "            print(f\"{y} is an Armstrong number\")\r\n",
    "        else:\r\n",
    "            print(f\"{number} is not an Armstrong number\")\r\n",
    "    else:\r\n",
    "        print(\" It is an invalid entry. Don't use non-numeric, float, or negative values!\")\r\n",
    "\r\n",
    "num1 = input(\"Enter number and hit enter\")\r\n",
    "check_is_digit(num1)"
   ],
   "outputs": [
    {
     "output_type": "stream",
     "name": "stdout",
     "text": [
      "17333509997782249308725103962772 is an Armstrong number\n"
     ]
    }
   ],
   "metadata": {}
  },
  {
   "cell_type": "code",
   "execution_count": 9,
   "source": [
    "while True :\r\n",
    "    number = input(\"enter a positive integer number : \")\r\n",
    "    digits = len(number)\r\n",
    "    summ = 0\r\n",
    "    if not number.isdigit() :\r\n",
    "        print(number, \" is invalid entry. Enter valid input.!\")\r\n",
    "    elif int(number) >= 0 :\r\n",
    "        for i in range(digits) :\r\n",
    "            summ = summ + int(number[i]) ** digits\r\n",
    "        if summ == int(number) :\r\n",
    "            print(number, \"is an Armstrong Number.\")\r\n",
    "            break\r\n",
    "        else :\r\n",
    "            print(number, \"is not an Armstrong Number. Sorry.\")\r\n",
    "            break"
   ],
   "outputs": [
    {
     "output_type": "stream",
     "name": "stdout",
     "text": [
      "4338281769391370 is an Armstrong Number.\n"
     ]
    }
   ],
   "metadata": {}
  },
  {
   "cell_type": "markdown",
   "source": [
    "***\r\n",
    "***\r\n",
    "<h2>Assignment-009/4 (Is it a Prime Number?)</h2>\r\n",
    "\r\n",
    "💡Objective:\r\n",
    "<br>To improve your control flow statement skills and to raise your awareness of some algebraic knowledge.\r\n",
    "\r\n",
    "<br>Task : Write a program that takes a number from the user and prints the result to check if it is a prime number.\r\n",
    "\r\n",
    "<br>The examples of the desired output are as follows :\r\n",
    "\r\n",
    "<br>input →  19 ⇉ output : 19 is a prime number\r\n",
    "<br>input →  10 ⇉ output : 10 is not a prime number\r\n",
    "\r\n",
    "### The Rule is x(n) = x(n−1) + x(n−2)\r\n"
   ],
   "metadata": {}
  },
  {
   "cell_type": "code",
   "execution_count": 17,
   "source": [
    "\r\n",
    "def Prime_number_check(num):\r\n",
    "    check = False\r\n",
    "    if num.replace(\" \",\"\").isdigit():\r\n",
    "        num = int(num)\r\n",
    "        division = int(num/2 + 1.5)  #to have less calculation, the greatest divider is half of the number   \r\n",
    "        if num > 2 :\r\n",
    "            for i in range(2,division):    \r\n",
    "                if num % i == 0 :\r\n",
    "                    check = True        \r\n",
    "                    break\r\n",
    "            if check:\r\n",
    "                print(f\"{num} is not a prime number\")\r\n",
    "            else:\r\n",
    "                print(f\"{num} is a prime number\")  \r\n",
    "        else:\r\n",
    "            if num == 2:\r\n",
    "                print(f\"{num} is a prime number\")\r\n",
    "            else:\r\n",
    "                print(f\"{num} is not a prime number\")\r\n",
    "    else:\r\n",
    "        print(\"It is an invalid entry. Don't use non-numeric, float, or negative values!\")\r\n",
    "\r\n",
    "input1 = input(\"Enter a number: \")\r\n",
    "Prime_number_check(input1)"
   ],
   "outputs": [
    {
     "output_type": "stream",
     "name": "stdout",
     "text": [
      "4 is not a prime number\n"
     ]
    }
   ],
   "metadata": {}
  },
  {
   "cell_type": "code",
   "execution_count": null,
   "source": [
    "# Program to check if a number is prime or not\r\n",
    "\r\n",
    "num = 25\r\n",
    "\r\n",
    "# To take input from the user\r\n",
    "#num = int(input(\"Enter a number: \"))\r\n",
    "\r\n",
    "# define a flag variable\r\n",
    "flag = False\r\n",
    "\r\n",
    "# prime numbers are greater than 1\r\n",
    "if num > 1:\r\n",
    "    # check for factors\r\n",
    "    for i in range(2, num):\r\n",
    "        if (num % i) == 0:\r\n",
    "            # if factor is found, set flag to True\r\n",
    "            flag = True\r\n",
    "            # break out of loop\r\n",
    "            break\r\n",
    "\r\n",
    "# check if flag is True\r\n",
    "if flag:\r\n",
    "    print(num, \"is not a prime number\")\r\n",
    "else:\r\n",
    "    print(num, \"is a prime number\")"
   ],
   "outputs": [],
   "metadata": {}
  },
  {
   "cell_type": "markdown",
   "source": [
    "***\r\n",
    "***\r\n",
    "<h2>Assignment_5 Fibonacci_Numbers</h2>\r\n",
    "💡Objective:\r\n",
    "To improve your control flow statement skills and to raise your awareness of some algebraic knowledge.<br>\r\n",
    "\r\n",
    "Task : Create a list consisting of Fibonacci numbers from 1 to 55 using control flow statements.<br>\r\n",
    "\r\n",
    "The desired output is like :<br>\r\n",
    "\r\n",
    "fibonacci →  [1, 1, 2, 3, 5, 8, 13, 21, 34, 55]<br>\r\n"
   ],
   "metadata": {}
  },
  {
   "cell_type": "code",
   "execution_count": null,
   "source": [
    "list1 = list(range(1,57))\r\n",
    "fibonacci = [0,1]   ## the first two fibonacci number is placed in advance\r\n",
    "for i in range(2,len(list1)):\r\n",
    "    f = fibonacci[i-1] + fibonacci[i-2]   ## The Rule is x(n) = x(n−1) + x(n−2)\r\n",
    "    fibonacci.append(f)\r\n",
    "for index,f in enumerate(fibonacci):\r\n",
    "    print(index,\": \",f)"
   ],
   "outputs": [],
   "metadata": {}
  },
  {
   "cell_type": "markdown",
   "source": [
    "***\r\n",
    "<hr>"
   ],
   "metadata": {}
  },
  {
   "cell_type": "markdown",
   "source": [
    "## Assignment-6 Prime Numbers\r\n",
    "💡Objective:\r\n",
    "<br>To improve your control flow statement skills and to raise your awareness of some algebraic knowledge.\r\n",
    "<br>Task : Print the prime numbers which are between 1 to entered limit number (n).\r\n",
    "<br>You can use a nested for loop.\r\n",
    "<br>Collect all these numbers into a list\r\n",
    "<br>The desired output for n=100 :\r\n",
    "<br>[2, 3, 5, 7, 11, 13, 17, 19, 23, 29, 31, 37, 41, 43, 47, 53, 59, 61, 67, 71, 73, 79, 83, 89, 97]"
   ],
   "metadata": {}
  },
  {
   "cell_type": "code",
   "execution_count": 11,
   "source": [
    "def prime_numbers():\r\n",
    "    n = int(input(\"Enter a number: \"))\r\n",
    "    prime_list = []\r\n",
    "    for i in range(2,n+1):\r\n",
    "        count = 0\r\n",
    "        for j in range(1,i+1):\r\n",
    "            if i % j == 0:\r\n",
    "                count += 1\r\n",
    "        if count <= 2 :\r\n",
    "            prime_list.append(i)\r\n",
    "    return prime_list\r\n",
    "\r\n",
    "print(prime_numbers())\r\n",
    "                        "
   ],
   "outputs": [],
   "metadata": {}
  }
 ],
 "metadata": {
  "orig_nbformat": 4,
  "language_info": {
   "name": "python",
   "version": "3.9.5",
   "mimetype": "text/x-python",
   "codemirror_mode": {
    "name": "ipython",
    "version": 3
   },
   "pygments_lexer": "ipython3",
   "nbconvert_exporter": "python",
   "file_extension": ".py"
  },
  "kernelspec": {
   "name": "python3",
   "display_name": "Python 3.9.5 64-bit"
  },
  "interpreter": {
   "hash": "df9803d5d1b6cb5abc1edc30c69a1153e23b31bf85805cdabf595a077425259e"
  }
 },
 "nbformat": 4,
 "nbformat_minor": 2
}