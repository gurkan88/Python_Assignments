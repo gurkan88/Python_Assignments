{
 "cells": [
  {
   "cell_type": "code",
   "execution_count": null,
   "source": [
    "def missing_char(word, n):\r\n",
    "    if int(n) < len(word):\r\n",
    "        word = word.replace(word[n], \"\")\r\n",
    "    return word\r\n",
    "\r\n",
    "print(missing_char('kitchen', 1))\r\n",
    "print(missing_char('kitchen', 0))\r\n",
    "print(missing_char('kitchen', 4))"
   ],
   "outputs": [],
   "metadata": {}
  },
  {
   "cell_type": "code",
   "execution_count": 9,
   "source": [
    "def front_back(word):\r\n",
    "    if len(word) > 1:\r\n",
    "        return word[-1] + word[1:len(word)-1] + word[0]\r\n",
    "    else :\r\n",
    "        return word\r\n",
    "\r\n",
    "print(front_back('clarusway'))"
   ],
   "outputs": [
    {
     "output_type": "stream",
     "name": "stdout",
     "text": [
      "ylaruswac\n"
     ]
    }
   ],
   "metadata": {}
  },
  {
   "cell_type": "code",
   "execution_count": 50,
   "source": [
    "def char_counter():\r\n",
    "    result = \"\"\r\n",
    "    output = dict()\r\n",
    "    text = input(\"enter the text : \")\r\n",
    "    for i in text :\r\n",
    "        if i.isalpha():\r\n",
    "            result += i\r\n",
    "    for j in result:\r\n",
    "        if j not in output.keys():\r\n",
    "            output.update({j: 1})\r\n",
    "        else :\r\n",
    "            output[j] += 1\r\n",
    "\r\n",
    "    return print(output)\r\n",
    "\r\n",
    "char_counter()"
   ],
   "outputs": [
    {
     "output_type": "stream",
     "name": "stdout",
     "text": [
      "{'h': 3, 'e': 4, 'y': 2, 'o': 4, 'u': 2, 't': 3, 'r': 2, 'f': 1, 'w': 1, 'l': 1, 'd': 1}\n"
     ]
    }
   ],
   "metadata": {}
  }
 ],
 "metadata": {
  "orig_nbformat": 4,
  "language_info": {
   "name": "python",
   "version": "3.9.5",
   "mimetype": "text/x-python",
   "codemirror_mode": {
    "name": "ipython",
    "version": 3
   },
   "pygments_lexer": "ipython3",
   "nbconvert_exporter": "python",
   "file_extension": ".py"
  },
  "kernelspec": {
   "name": "python3",
   "display_name": "Python 3.9.5 64-bit"
  },
  "interpreter": {
   "hash": "df9803d5d1b6cb5abc1edc30c69a1153e23b31bf85805cdabf595a077425259e"
  }
 },
 "nbformat": 4,
 "nbformat_minor": 2
}