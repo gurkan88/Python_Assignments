{
 "cells": [
  {
   "cell_type": "code",
   "execution_count": null,
   "source": [
    "### my_answer\r\n",
    "xyz = list(range(100,100000))\r\n",
    "abc = list(range(100,100000))\r\n",
    "inter = []\r\n",
    "for i in range(100,len(xyz)):\r\n",
    "    choice_xyz = (xyz[i] % 5 == 0) and (xyz[i] % 4 == 0) # divisibility rule of 2 is redundant\r\n",
    "    choice_abc = (abc[i] % 5 == 0) and (abc[i] % 2 == 0) \r\n",
    "    if choice_xyz and choice_abc:\r\n",
    "        inter += [i]\r\n",
    "print(len(inter))"
   ],
   "outputs": [],
   "metadata": {}
  },
  {
   "cell_type": "markdown",
   "source": [
    "Soru:\r\n",
    "Aynı zamanda hem 2'ye hem 4'e hem de 5'e bölünebilen sayılara xyz sayısı diyelim. \r\n",
    "Hem 2'ye hem de 5'e bölünebilen sayılar ise abc sayısı olsun. \r\n",
    "100 ile 100.000 arasındaki xyz sayılarından kaç tanesi aynı zamanda abc sayısıdır?"
   ],
   "metadata": {}
  },
  {
   "cell_type": "markdown",
   "source": [
    "### Other Answers"
   ],
   "metadata": {}
  },
  {
   "cell_type": "code",
   "execution_count": null,
   "source": [
    "xyz = []\r\n",
    "abc = []\r\n",
    "for i in range(100,150):\r\n",
    "    if i % 2 == 0 and i % 5 == 0 and i % 4 ==0:\r\n",
    "        xyz.append(i)\r\n",
    "print(xyz)\r\n",
    "for i in range(100,150):\r\n",
    "    if i % 2 == 0 and i % 5 == 0:\r\n",
    "        abc.append(i)\r\n",
    "print(abc)\r\n",
    "print(set(abc).intersection(set(xyz)))\r\n",
    "print(len(set(abc).intersection(set(xyz))))"
   ],
   "outputs": [],
   "metadata": {}
  },
  {
   "cell_type": "code",
   "execution_count": null,
   "source": [
    "k = 0\r\n",
    "for i in range(100,150):\r\n",
    "    if i % 2 == 0 and i % 5 == 0:\r\n",
    "        if i % 4 ==0:\r\n",
    "            k += 1\r\n",
    "print(k)"
   ],
   "outputs": [],
   "metadata": {}
  },
  {
   "cell_type": "code",
   "execution_count": null,
   "source": [
    "xyz=[i for i in range(100, 100001) if i%5==0 and i%4==0]\r\n",
    "abc=[i for i in range(100, 100001) if i%2==0 and i%5==0]\r\n",
    "cross_check=len(set(xyz).intersection(set(abc)))\r\n",
    "print(cross_check)"
   ],
   "outputs": [],
   "metadata": {}
  },
  {
   "cell_type": "code",
   "execution_count": null,
   "source": [
    "sayilar = list(range(100, 100000))\r\n",
    "xyz = []\r\n",
    "abc = []\r\n",
    "for i in sayilar:\r\n",
    "    if i % 2 == 0 and i % 4 == 0 and i % 5 == 0:\r\n",
    "        xyz.append(i)\r\n",
    "        count_xyz = len(xyz)\r\n",
    "for i in xyz:\r\n",
    "    if i % 4 != 0:\r\n",
    "        xyz.remove(i)\r\n",
    "        count_abc = len(xyz)\r\n",
    "print(count_xyz)\r\n",
    "print(count_abc)"
   ],
   "outputs": [],
   "metadata": {}
  },
  {
   "cell_type": "code",
   "execution_count": null,
   "source": [
    "result_table_xyz = []\r\n",
    "result_table_abc = []\r\n",
    "for i in range(100, 100000):\r\n",
    "  if i%2==0 and i%4==0 and i%5==0:\r\n",
    "    result_table_xyz.append(i)\r\n",
    "    i += 1\r\n",
    "for x in result_table_xyz:\r\n",
    "  if x%2==0 and x%5 == 0:\r\n",
    "    result_table_abc.append(x)\r\n",
    "print(len(result_table_abc))"
   ],
   "outputs": [],
   "metadata": {}
  }
 ],
 "metadata": {
  "orig_nbformat": 4,
  "language_info": {
   "name": "python"
  }
 },
 "nbformat": 4,
 "nbformat_minor": 2
}