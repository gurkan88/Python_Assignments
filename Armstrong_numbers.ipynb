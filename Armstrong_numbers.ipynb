{
 "cells": [
  {
   "cell_type": "code",
   "execution_count": null,
   "source": [
    "def check_is_digit(input_str):\r\n",
    "    if input_str.strip().isdigit():\r\n",
    "        number = int(input_str)\r\n",
    "        x = list(input_str)\r\n",
    "        y = 0\r\n",
    "        for i in range(0,len(x)):\r\n",
    "            x[i] = int(x[i])\r\n",
    "            y += x[i]**(len(x))\r\n",
    "        if y == number:\r\n",
    "            print(f\"{y} is an Armstrong number\")\r\n",
    "        else:\r\n",
    "            print(f\"{number} is not an Armstrong number\")\r\n",
    "    else:\r\n",
    "        print(\" It is an invalid entry. Don't use non-numeric, float, or negative values!\")\r\n",
    "\r\n",
    "num1 = input(\"Enter number and hit enter\")\r\n",
    "check_is_digit(num1)"
   ],
   "outputs": [],
   "metadata": {}
  }
 ],
 "metadata": {
  "orig_nbformat": 4,
  "language_info": {
   "name": "python"
  }
 },
 "nbformat": 4,
 "nbformat_minor": 2
}