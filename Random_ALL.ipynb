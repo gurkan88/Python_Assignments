{
 "cells": [
  {
   "cell_type": "markdown",
   "source": [
    "## This file contains different problems with solutions"
   ],
   "metadata": {}
  },
  {
   "cell_type": "markdown",
   "source": [
    "***\r\n",
    "***\r\n",
    "Write a Python program to construct the following pattern, using a nested for loop."
   ],
   "metadata": {}
  },
  {
   "cell_type": "code",
   "execution_count": 47,
   "source": [
    "def arrow(x):\r\n",
    "    if area < 30:\r\n",
    "        for i in range(area):\r\n",
    "            print(\"* \"*i, \" \"*(area-i),\"*\"*i)\r\n",
    "        for j in range(area,0,-1):\r\n",
    "            print(\"* \"*j, \" \"*(area-j),\"*\"*j)\r\n",
    "    else:\r\n",
    "        return 0\r\n",
    "\r\n",
    "area = int(input(\"enter a number: \"))\r\n",
    "arrow(area)"
   ],
   "outputs": [
    {
     "output_type": "stream",
     "name": "stdout",
     "text": [
      "      \n",
      "*      *\n",
      "* *     **\n",
      "* * *    ***\n",
      "* * * *   ****\n",
      "* * *    ***\n",
      "* *     **\n",
      "*      *\n"
     ]
    }
   ],
   "metadata": {}
  },
  {
   "cell_type": "markdown",
   "source": [
    "***\r\n",
    "***\r\n",
    "Döngüler ve liste metotlarını kullanarak çözebileceğiniz bir soru \r\n",
    "num = [48, 10, 11, 21, 36, 5, 6, 52, 28, 29,\r\n",
    "       53, 54, 45, 19, 20, 47, 55, 39, 41, 7,\r\n",
    "       9, 17, 26, 27, 42, 22, 37, 51, 46, 18,\r\n",
    "       44, 30, 34, 13, 15, 35, 33, 16, 50, 24]\r\n",
    "Elemanları ardışık sayılardan oluşan karışık halde bir liste veriliyor. Listenin en küçük elemanı ile en büyük elemanı arasında yer alan, ancak listede gösterilmeyen eksik sayılardan çift olanları çıktı veren python kodu yazınız.\r\n",
    "Beklenen Çıktı:\r\n",
    "8\r\n",
    "12\r\n",
    "14\r\n",
    "32\r\n",
    "38\r\n",
    "40"
   ],
   "metadata": {}
  },
  {
   "cell_type": "code",
   "execution_count": 77,
   "source": [
    "#my_ansewer\r\n",
    "num = [48, 10, 11, 21, 36, 5, 6, 52, 28, 29,\r\n",
    "       53, 54, 45, 19, 20, 47, 55, 39, 41, 7,\r\n",
    "       9, 17, 26, 27, 42, 22, 37, 51, 46, 18,\r\n",
    "       44, 30, 34, 13, 15, 35, 33, 16, 50, 24]\r\n",
    "for x in range(min(num), max(num)):\r\n",
    "    print(x) if x % 2 == 0 and (x not in num) else None"
   ],
   "outputs": [
    {
     "output_type": "stream",
     "name": "stdout",
     "text": [
      "8\n",
      "12\n",
      "14\n",
      "32\n",
      "38\n",
      "40\n"
     ]
    }
   ],
   "metadata": {}
  },
  {
   "cell_type": "code",
   "execution_count": 1,
   "source": [
    "num = [48, 10, 11, 21, 36, 5, 6, 52, 28, 29,\r\n",
    "       53, 54, 45, 19, 20, 47, 55, 39, 41, 7,\r\n",
    "       9, 17, 26, 27, 42, 22, 37, 51, 46, 18,\r\n",
    "       44, 30, 34, 13, 15, 35, 33, 16, 50, 24]\r\n",
    "print([i for i in range(min(num),max(num)) if i%2==0 and i not in num])"
   ],
   "outputs": [
    {
     "output_type": "stream",
     "name": "stdout",
     "text": [
      "[8, 12, 14, 32, 38, 40]\n"
     ]
    }
   ],
   "metadata": {}
  },
  {
   "cell_type": "markdown",
   "source": [
    "***\r\n",
    "***\r\n",
    "What is an anagram? Well, two words are anagrams of each other if they both contain the same letters. For example:\r\n",
    "'abba' & 'baab' == true\r\n",
    "'abba' & 'bbaa' == true\r\n",
    "'abba' & 'abbba' == false\r\n",
    "'abba' & 'abca' == false\r\n",
    "Take two inputs from the user word and word list and then write code that will find all the anagrams of a word from a list. You should return a list of all the anagrams or an empty list if there are none. For example:\r\n",
    "input1:'abba'\r\n",
    "input2: ['aabb', 'abcd', 'bbaa', 'dada']) \r\n",
    "output: ['aabb', 'bbaa']\r\n",
    "input1:'racer'\r\n",
    "input2: ['crazer', 'carer', 'racar', 'caers', 'racer'])\r\n",
    "output: ['carer', 'racer']\r\n",
    "input1:'laser'\r\n",
    "input2:['lazing', 'lazy',  'lacer'])\r\n",
    "output:[]\r\n",
    "\r\n"
   ],
   "metadata": {}
  },
  {
   "cell_type": "code",
   "execution_count": 26,
   "source": [
    "def check_anagram(word,word_list):\r\n",
    "    anagram = []\r\n",
    "    word_list = list(word_list.split(\",\"))\r\n",
    "    for i in word_list:\r\n",
    "        if sorted(list(word)) == sorted(i):\r\n",
    "            anagram.append(i)\r\n",
    "    print(anagram)\r\n",
    "\r\n",
    "input1 = input(\"enter a word to check for anagram: \")\r\n",
    "input2 = input(\"enter other words to check for anagram(use comma to seperate the words): \")\r\n",
    "check_anagram(input1,input2)"
   ],
   "outputs": [
    {
     "output_type": "stream",
     "name": "stdout",
     "text": [
      "['abab', 'baba', 'bbaa']\n"
     ]
    }
   ],
   "metadata": {}
  },
  {
   "cell_type": "code",
   "execution_count": 30,
   "source": [
    "x = [\"a\",\"b\",\"c\"]\r\n",
    "y = [\"c\",\"a\",\"b\"]\r\n",
    "sorted(x) == sorted(y)"
   ],
   "outputs": [
    {
     "output_type": "execute_result",
     "data": {
      "text/plain": [
       "True"
      ]
     },
     "metadata": {},
     "execution_count": 30
    }
   ],
   "metadata": {}
  },
  {
   "cell_type": "code",
   "execution_count": 31,
   "source": [
    "x = [\"a\",\"b\",\"c\"]\r\n",
    "y = [\"c\",\"a\",\"b\"]\r\n",
    "x == y"
   ],
   "outputs": [
    {
     "output_type": "execute_result",
     "data": {
      "text/plain": [
       "False"
      ]
     },
     "metadata": {},
     "execution_count": 31
    }
   ],
   "metadata": {}
  },
  {
   "cell_type": "code",
   "execution_count": 33,
   "source": [
    "k = \"new\"\r\n",
    "sorted(k)"
   ],
   "outputs": [
    {
     "output_type": "execute_result",
     "data": {
      "text/plain": [
       "['e', 'n', 'w']"
      ]
     },
     "metadata": {},
     "execution_count": 33
    }
   ],
   "metadata": {}
  },
  {
   "cell_type": "markdown",
   "source": [
    "***\r\n",
    "***"
   ],
   "metadata": {}
  },
  {
   "cell_type": "markdown",
   "source": [
    "Write a Python program which iterates the integers from 1 to 50. For multiples of three print \"Fizz\" instead of the number and for the multiples of five print \"Buzz\". For numbers which are multiples of both three and five print \"FizzBuzz\".\r\n",
    "Sample Output :\r\n",
    "fizzbuzz\r\n",
    "1\r\n",
    "2\r\n",
    "fizz\r\n",
    "4\r\n",
    "buzz "
   ],
   "metadata": {}
  },
  {
   "cell_type": "code",
   "execution_count": null,
   "source": [
    "## my_answer\r\n",
    "numbers = list(range(1,50))\r\n",
    "for x in numbers:\r\n",
    "    if x % 15 == 0:\r\n",
    "        numbers[numbers.index(x)] = \"FizzBuzz\"\r\n",
    "    elif x % 3 == 0:\r\n",
    "        numbers[numbers.index(x)] = \"fizz\"\r\n",
    "    elif x % 5 == 0:\r\n",
    "        numbers[numbers.index(x)] = \"buzz\"\r\n",
    "for y in numbers:\r\n",
    "    print(y)      \r\n"
   ],
   "outputs": [],
   "metadata": {}
  },
  {
   "cell_type": "code",
   "execution_count": 57,
   "source": [
    "new423 = [5,6,7,9]\r\n",
    "new423[0] = \"five\"\r\n",
    "new423[3] = \"nine\"\r\n",
    "new423"
   ],
   "outputs": [
    {
     "output_type": "execute_result",
     "data": {
      "text/plain": [
       "['five', 6, 7, 'nine']"
      ]
     },
     "metadata": {},
     "execution_count": 57
    }
   ],
   "metadata": {}
  },
  {
   "cell_type": "markdown",
   "source": [
    "variable[index] = new_value ## this changes the value of that item determined with index number with the new_value"
   ],
   "metadata": {}
  },
  {
   "cell_type": "code",
   "execution_count": null,
   "source": [
    "## other_answers\r\n",
    "for i in range(1, 51):\r\n",
    "    if i % 3 == 0 and i % 5 != 0:\r\n",
    "        print('Fizz')\r\n",
    "    elif i % 5 == 0 and i % 3 != 0:\r\n",
    "        print('Buzz')\r\n",
    "    elif i % 15 == 0:\r\n",
    "        print('FizzBuzz')\r\n",
    "    else:\r\n",
    "        print(i)"
   ],
   "outputs": [],
   "metadata": {}
  },
  {
   "cell_type": "markdown",
   "source": [
    "***\r\n",
    "***"
   ],
   "metadata": {}
  },
  {
   "cell_type": "markdown",
   "source": [
    "Write a Python program to check a triangle is equilateral, isosceles or scalene.<br>\r\n",
    "Note :<br>\r\n",
    "An equilateral triangle is a triangle in which all three sides are equal.<br>\r\n",
    "A scalene triangle is a triangle that has three unequal sides.<br>\r\n",
    "An isosceles triangle is a triangle with (at least) two equal sides.<br>\r\n",
    "Sample Output:<br>\r\n",
    "x: 6<br>\r\n",
    "y:8<br>\r\n",
    "z:12<br>\r\n",
    "Scalene triangle<br>\r\n",
    "<br><img src=\"images/image1.png\"/>\r\n",
    "\r\n"
   ],
   "metadata": {}
  },
  {
   "cell_type": "code",
   "execution_count": null,
   "source": [],
   "outputs": [],
   "metadata": {}
  },
  {
   "cell_type": "markdown",
   "source": [
    "***\r\n",
    "***"
   ],
   "metadata": {}
  },
  {
   "cell_type": "markdown",
   "source": [],
   "metadata": {}
  },
  {
   "cell_type": "code",
   "execution_count": null,
   "source": [],
   "outputs": [],
   "metadata": {}
  }
 ],
 "metadata": {
  "orig_nbformat": 4,
  "language_info": {
   "name": "python",
   "version": "3.9.5",
   "mimetype": "text/x-python",
   "codemirror_mode": {
    "name": "ipython",
    "version": 3
   },
   "pygments_lexer": "ipython3",
   "nbconvert_exporter": "python",
   "file_extension": ".py"
  },
  "kernelspec": {
   "name": "python3",
   "display_name": "Python 3.9.5 64-bit"
  },
  "interpreter": {
   "hash": "df9803d5d1b6cb5abc1edc30c69a1153e23b31bf85805cdabf595a077425259e"
  }
 },
 "nbformat": 4,
 "nbformat_minor": 2
}