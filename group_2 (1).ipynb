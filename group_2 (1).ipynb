{
  "nbformat": 4,
  "nbformat_minor": 2,
  "metadata": {
    "colab": {
      "name": "group_2.ipynb",
      "provenance": []
    },
    "kernelspec": {
      "name": "python3",
      "display_name": "Python 3.9.5 64-bit"
    },
    "language_info": {
      "name": "python",
      "version": "3.9.5",
      "mimetype": "text/x-python",
      "codemirror_mode": {
        "name": "ipython",
        "version": 3
      },
      "pygments_lexer": "ipython3",
      "nbconvert_exporter": "python",
      "file_extension": ".py"
    },
    "interpreter": {
      "hash": "df9803d5d1b6cb5abc1edc30c69a1153e23b31bf85805cdabf595a077425259e"
    }
  },
  "cells": [
    {
      "cell_type": "markdown",
      "source": [
        "1- Write a program to prompt for a score between 0.0 and 1.0. If the score is out of range, print an error. If the score is between 0.0 and 1.0, print a grade using the following table: Score Grade\r\n",
        "\r\n",
        "0.9 A\r\n",
        "\r\n",
        "0.8 B\r\n",
        "\r\n",
        "0.7 C\r\n",
        "\r\n",
        "0.6 D\r\n",
        "\r\n",
        "0.5 F\r\n",
        "\r\n",
        "If the user enters a value out of range, print a suitable error message and exit. For the test, enter a score of 0.85"
      ],
      "metadata": {
        "id": "DpXjn6Vd9Yw6"
      }
    },
    {
      "cell_type": "code",
      "execution_count": 33,
      "source": [
        "def score():\r\n",
        "    num = float(input(\"enter the score: \"))\r\n",
        "    if num >= 0.9 : return (\"A\",\"value is out of range\")[num > 1.0]\r\n",
        "    elif num >= 0.8 : return (\"B\",\"A\")[num > 0.9]\r\n",
        "    elif num >= 0.7 : return (\"C\",\"B\")[num > 0.8]\r\n",
        "    elif num >= 0.6 : return (\"D\",\"C\")[num > 0.7]\r\n",
        "    else : return (\"F\",\"value is out of range\")[num < 0.0]\r\n",
        "\r\n",
        "score()\r\n"
      ],
      "outputs": [
        {
          "output_type": "execute_result",
          "data": {
            "text/plain": [
              "'value is out of range'"
            ]
          },
          "metadata": {},
          "execution_count": 33
        }
      ],
      "metadata": {}
    },
    {
      "cell_type": "code",
      "execution_count": null,
      "source": [
        "s = float(input('Enter a score: '))\r\n",
        "if 0.0 <= s <= 1.0 :\r\n",
        "  if s >= 0.9:\r\n",
        "    print('A')\r\n",
        "  elif s>=0.8:\r\n",
        "    print('B')\r\n",
        "  elif s >= 0.7 :\r\n",
        "    print('C')\r\n",
        "  elif s >=0.6:\r\n",
        "    print('D')\r\n",
        "  elif s < 0.6 :\r\n",
        "    print('F')\r\n",
        "else:\r\n",
        "  print('invalid input')"
      ],
      "outputs": [
        {
          "output_type": "stream",
          "name": "stdout",
          "text": [
            "Enter a score: 0.85\n",
            "B\n"
          ]
        }
      ],
      "metadata": {
        "colab": {
          "base_uri": "https://localhost:8080/"
        },
        "id": "ZMqcwm1AVD_M",
        "outputId": "f399513b-6b2f-43c7-ce44-fdc9fc4f87ae"
      }
    },
    {
      "cell_type": "markdown",
      "source": [
        "2- Yazi olarak girilen string ifadenin içindeki harfler tamamen büyük veya tamamen küçük ise True, küçük ve büyük harlerden oluşmuş ise False veren bir fonksiyon yazalım."
      ],
      "metadata": {
        "id": "k7W9-BOA9n7O"
      }
    },
    {
      "cell_type": "code",
      "execution_count": 42,
      "source": [
        "def case_check():\r\n",
        "    text = input(\"enter the text: \")\r\n",
        "    return (False, True)[text.islower() or text.isupper()]\r\n",
        "\r\n",
        "case_check()\r\n"
      ],
      "outputs": [
        {
          "output_type": "execute_result",
          "data": {
            "text/plain": [
              "False"
            ]
          },
          "metadata": {},
          "execution_count": 42
        }
      ],
      "metadata": {}
    },
    {
      "cell_type": "code",
      "execution_count": null,
      "source": [
        "def buyuk_kucuk(yazi):\r\n",
        "  if yazi.lower() == yazi or yazi.upper() == yazi :\r\n",
        "    return True\r\n",
        "  else:\r\n",
        "    return False\r\n",
        "buyuk_kucuk('Raife')"
      ],
      "outputs": [
        {
          "output_type": "execute_result",
          "data": {
            "text/plain": [
              "False"
            ]
          },
          "metadata": {
            "tags": []
          },
          "execution_count": 3
        }
      ],
      "metadata": {
        "colab": {
          "base_uri": "https://localhost:8080/"
        },
        "id": "aw8NIj4NVE7S",
        "outputId": "4a083ee2-47e6-4c84-9e7b-06d6ae3a3347"
      }
    },
    {
      "cell_type": "markdown",
      "source": [
        "3- Sayıyı kalansız bölen sayıları bulan bir fonksiyon yazalım"
      ],
      "metadata": {
        "id": "6PFwqEFO9nxy"
      }
    },
    {
      "cell_type": "code",
      "execution_count": 54,
      "source": [
        "def divider_check():\r\n",
        "    divider = []\r\n",
        "    n = int(input(\"enter the number : \"))\r\n",
        "    for i in range(1,n):\r\n",
        "        if n % i == 0 : divider.append(i)\r\n",
        "    return divider\r\n",
        "\r\n",
        "divider_check()"
      ],
      "outputs": [
        {
          "output_type": "execute_result",
          "data": {
            "text/plain": [
              "[2, 4, 8]"
            ]
          },
          "metadata": {},
          "execution_count": 54
        }
      ],
      "metadata": {}
    },
    {
      "cell_type": "code",
      "execution_count": null,
      "source": [
        "def kalansız_bolen(sayi):\r\n",
        "  liste = []\r\n",
        "  for i in range(1, sayi+1):\r\n",
        "    if sayi % i == 0 :\r\n",
        "      liste.append(i)\r\n",
        "  return liste\r\n",
        "kalansız_bolen(12)"
      ],
      "outputs": [
        {
          "output_type": "execute_result",
          "data": {
            "text/plain": [
              "[1, 2, 3, 4, 6, 12]"
            ]
          },
          "metadata": {
            "tags": []
          },
          "execution_count": 4
        }
      ],
      "metadata": {
        "colab": {
          "base_uri": "https://localhost:8080/"
        },
        "id": "DS38zXWNVFy9",
        "outputId": "da730899-2b37-4716-b934-ea9bb2bfb903"
      }
    },
    {
      "cell_type": "markdown",
      "source": [
        "4- Cümlenin içindeki sesli harfleri kaldıran bir fonksiyon yazalım.\r\n",
        "print(sessiz_yap(\"Hayat beni neden yoruyosun?:)\")) --> hyt bn ndn yrysn?:)"
      ],
      "metadata": {
        "id": "rgWFi-lZ9noI"
      }
    },
    {
      "cell_type": "code",
      "execution_count": 65,
      "source": [
        "def remove_vowels():\r\n",
        "    text = input(\"enter the text : \")\r\n",
        "    vowels = [\"a\", \"e\", \"ı\", \"i\", \"o\", \"ö\", \"u\", \"ü\"]\r\n",
        "    for i in text :\r\n",
        "        if i in vowels : text = text.replace(i, \"\")\r\n",
        "    return text\r\n",
        "     \r\n",
        "\r\n",
        "remove_vowels()"
      ],
      "outputs": [
        {
          "output_type": "execute_result",
          "data": {
            "text/plain": [
              "'Hyt bn ndn yrysn?'"
            ]
          },
          "metadata": {},
          "execution_count": 65
        }
      ],
      "metadata": {}
    },
    {
      "cell_type": "code",
      "execution_count": null,
      "source": [
        "def sessiz_yap(cumle):\r\n",
        "  sesli = 'aeıioöuüAEIİOÖUÜ'\r\n",
        "  for i in cumle:\r\n",
        "    if i in sesli:\r\n",
        "      cumle = cumle.replace(i, '')\r\n",
        "  return cumle\r\n",
        "sessiz_yap(\"Hayat beni neden yoruyosun?:)\")"
      ],
      "outputs": [
        {
          "output_type": "execute_result",
          "data": {
            "text/plain": [
              "'Hyt bn ndn yrysn?:)'"
            ],
            "application/vnd.google.colaboratory.intrinsic+json": {
              "type": "string"
            }
          },
          "metadata": {
            "tags": []
          },
          "execution_count": 5
        }
      ],
      "metadata": {
        "colab": {
          "base_uri": "https://localhost:8080/",
          "height": 35
        },
        "id": "1nDwibpcVGog",
        "outputId": "e5b5472b-cd3f-4a52-ed36-9909a65ead07"
      }
    },
    {
      "cell_type": "code",
      "execution_count": null,
      "source": [
        "def sessiz_yap(cumle):\r\n",
        "  sesli = 'aeıioöuüAEIİOÖUÜ'\r\n",
        "  yeni = ''\r\n",
        "  for i in cumle:\r\n",
        "    if i not in sesli:\r\n",
        "      yeni+= i\r\n",
        "  return yeni\r\n",
        "sessiz_yap(\"Hayat beni neden yoruyosun?:)\")"
      ],
      "outputs": [
        {
          "output_type": "execute_result",
          "data": {
            "text/plain": [
              "'Hyt bn ndn yrysn?:)'"
            ],
            "application/vnd.google.colaboratory.intrinsic+json": {
              "type": "string"
            }
          },
          "metadata": {
            "tags": []
          },
          "execution_count": 6
        }
      ],
      "metadata": {
        "colab": {
          "base_uri": "https://localhost:8080/",
          "height": 35
        },
        "id": "CeJ4UWbkcIpB",
        "outputId": "66caec20-8345-456f-c881-75e28bdf88e5"
      }
    },
    {
      "cell_type": "markdown",
      "source": [
        "5- Tarihi yüzyıla çeviren bir fonksiyon yazalım.\r\n",
        "print(yüzyıl_yap(1738)) --> 18. yüzyıl"
      ],
      "metadata": {
        "id": "yxwOQSQe9ne1"
      }
    },
    {
      "cell_type": "code",
      "execution_count": 78,
      "source": [
        "def convert_century():\r\n",
        "    year = input(\"enter the year : \")\r\n",
        "    return f\"{int(year[:2])+1}. century\"\r\n",
        "\r\n",
        "convert_century()"
      ],
      "outputs": [
        {
          "output_type": "execute_result",
          "data": {
            "text/plain": [
              "'15. century'"
            ]
          },
          "metadata": {},
          "execution_count": 78
        }
      ],
      "metadata": {}
    },
    {
      "cell_type": "code",
      "execution_count": null,
      "source": [
        "def yuzyıl_yap(sayi):\r\n",
        "  return f\"{(sayi//100) + 1}. yüzyıl\"\r\n",
        "yuzyıl_yap(1738)"
      ],
      "outputs": [
        {
          "output_type": "execute_result",
          "data": {
            "text/plain": [
              "'18. yüzyıl'"
            ],
            "application/vnd.google.colaboratory.intrinsic+json": {
              "type": "string"
            }
          },
          "metadata": {
            "tags": []
          },
          "execution_count": 7
        }
      ],
      "metadata": {
        "colab": {
          "base_uri": "https://localhost:8080/",
          "height": 35
        },
        "id": "G3So_WX3VHPS",
        "outputId": "c67736f9-4f6a-429d-a9ce-3cc924de770a"
      }
    },
    {
      "cell_type": "markdown",
      "source": [
        "6- Yazının içersindeki kelimelerin ilk ve son karakterleri sabit tutup diğer karakterleri yerine - çizgi koyan fonksiyon yazalım.\r\n",
        "print(dönüstür(\"hello world\")) --> h---o w---d "
      ],
      "metadata": {
        "id": "Y4qLf-_89nL4"
      }
    },
    {
      "cell_type": "code",
      "execution_count": 177,
      "source": [
        "def convert():\r\n",
        "    text = input(\"enter the text : \").split(\" \")\r\n",
        "    output = []\r\n",
        "    for i in text :\r\n",
        "        output.append(i.replace(i[1:len(i)-1],\"-\"*(len(i)-2)))\r\n",
        "    return \" \".join(output)\r\n",
        "\r\n",
        "convert()"
      ],
      "outputs": [
        {
          "output_type": "execute_result",
          "data": {
            "text/plain": [
              "'h---o w---d'"
            ]
          },
          "metadata": {},
          "execution_count": 177
        }
      ],
      "metadata": {}
    },
    {
      "cell_type": "code",
      "execution_count": 22,
      "source": [
        "def donustur(a):\r\n",
        "    b = a.split()\r\n",
        "    new = \"\"\r\n",
        "    for i in b:\r\n",
        "        x = len(i)\r\n",
        "        c = i.replace(i[1:(x-1):1], \"-\" *(x-2))\r\n",
        "        new += c + \" \"\r\n",
        "    return new.strip()\r\n",
        "donustur(\"Hello world\")"
      ],
      "outputs": [
        {
          "output_type": "execute_result",
          "data": {
            "text/plain": [
              "'H---o w---d'"
            ],
            "application/vnd.google.colaboratory.intrinsic+json": {
              "type": "string"
            }
          },
          "metadata": {
            "tags": []
          },
          "execution_count": 22
        }
      ],
      "metadata": {
        "colab": {
          "base_uri": "https://localhost:8080/",
          "height": 35
        },
        "id": "KIIC1NYooFBM",
        "outputId": "8fbf2cc7-5d6e-4e56-d6ab-9d58dab223c9"
      }
    },
    {
      "cell_type": "code",
      "execution_count": 178,
      "source": [
        "x = \"hello world\"\r\n",
        "y = x.split(\" \")\r\n",
        "a=\"\"\r\n",
        "for i in y:\r\n",
        "    for j in i:\r\n",
        "        if not j==i[0] and not j==i[-1] :\r\n",
        "            i=i.replace(j,\"-\")\r\n",
        "    a+=i+\" \"\r\n",
        "print(a.strip())"
      ],
      "outputs": [
        {
          "output_type": "stream",
          "name": "stdout",
          "text": [
            "h---o w---d\n"
          ]
        }
      ],
      "metadata": {
        "colab": {
          "base_uri": "https://localhost:8080/"
        },
        "id": "URuVwls9oPUr",
        "outputId": "8e09f08a-9ac3-4762-89e6-12f3a0017461"
      }
    },
    {
      "cell_type": "markdown",
      "source": [
        "7- Her girdi listesinde iki tanesi hariç her rakam en az bir kere tekrarlıyor.iki benzersiz sayıyı döndüren bir fonksiyon yazalım.\r\n",
        "benzersizi_bul([2,2,3,11,3,6,5]) --> [6, 5]  # 11 te 2 tane 1 var"
      ],
      "metadata": {
        "id": "mEPc7d0Z9nAI"
      }
    },
    {
      "cell_type": "code",
      "execution_count": 191,
      "source": [
        "def not_similar(list1):\r\n",
        "    list2 = []\r\n",
        "    for i in list1 :\r\n",
        "        if i >= 10 : \r\n",
        "            a = (i // 10)\r\n",
        "            b = i % 10 \r\n",
        "            if a != b and list1.count(a) <= 1 : list2.append(a)\r\n",
        "            elif a != b and list1.count(b) <= 1 : list2.append(b)\r\n",
        "        elif list1.count(i) == 1 : list2.append(i)\r\n",
        "    return list2\r\n",
        "not_similar([2,2,3,11,3,6,5,43])"
      ],
      "outputs": [
        {
          "output_type": "execute_result",
          "data": {
            "text/plain": [
              "[6, 5, 4]"
            ]
          },
          "metadata": {},
          "execution_count": 191
        }
      ],
      "metadata": {}
    },
    {
      "cell_type": "code",
      "execution_count": 192,
      "source": [
        "def benzersizi_bul(liste):\r\n",
        "  yeni = []\r\n",
        "  s = ''\r\n",
        "  for i in liste:\r\n",
        "    s += str(i)\r\n",
        "  for k in set(s):\r\n",
        "    if s.count(k) == 1:\r\n",
        "      yeni.append(int(k))\r\n",
        "  return yeni\r\n",
        "benzersizi_bul([2,2,3,11,3,6,5])\r\n"
      ],
      "outputs": [
        {
          "output_type": "execute_result",
          "data": {
            "text/plain": [
              "[6, 5]"
            ]
          },
          "metadata": {},
          "execution_count": 192
        }
      ],
      "metadata": {
        "colab": {
          "base_uri": "https://localhost:8080/"
        },
        "id": "EY1O4NA7VJnw",
        "outputId": "d4b9def9-018f-44c4-f812-73f334bd63ef"
      }
    },
    {
      "cell_type": "markdown",
      "source": [
        "8- Bir stringi(kelime) alan ve birbirini izleyen aynı harfleri çıkaran bir fonksiyon oluşturun.\r\n",
        "print(cıkar(\"mmmeeerrhhhaaabbbaaa\")) --> merhaba"
      ],
      "metadata": {
        "id": "GMgm2Jhu9mQj"
      }
    },
    {
      "cell_type": "code",
      "execution_count": null,
      "source": [],
      "outputs": [],
      "metadata": {}
    },
    {
      "cell_type": "code",
      "execution_count": null,
      "source": [],
      "outputs": [],
      "metadata": {}
    },
    {
      "cell_type": "code",
      "execution_count": null,
      "source": [],
      "outputs": [],
      "metadata": {}
    },
    {
      "cell_type": "code",
      "execution_count": null,
      "source": [],
      "outputs": [],
      "metadata": {}
    },
    {
      "cell_type": "code",
      "execution_count": null,
      "source": [],
      "outputs": [],
      "metadata": {}
    },
    {
      "cell_type": "code",
      "execution_count": null,
      "source": [
        "def cıkar(kelime):\r\n",
        "  yeni = ''\r\n",
        "  for i in range(len(kelime)-1):\r\n",
        "    if kelime[i] != kelime [i+1] :\r\n",
        "      yeni += kelime[i]\r\n",
        "  yeni += kelime[-1]\r\n",
        "  return yeni\r\n",
        "print(cıkar(\"mmmeeerrhhhaaabbbaaa\"))\r\n",
        "\r\n"
      ],
      "outputs": [
        {
          "output_type": "stream",
          "name": "stdout",
          "text": [
            "merhaba\n"
          ]
        }
      ],
      "metadata": {
        "colab": {
          "base_uri": "https://localhost:8080/"
        },
        "id": "OHliMr3fVKm9",
        "outputId": "dcbc363b-e15d-4160-ebd5-5f6cba20dff4"
      }
    },
    {
      "cell_type": "markdown",
      "source": [
        "9- Belirli aralıkta(sınırlar dahil) verilen rakamın kaç kere olduğunu sayan bir fonksiyon yazalım. print(kac_tane(50,55,5)) --> 7"
      ],
      "metadata": {
        "id": "3oD9kK_q9mBH"
      }
    },
    {
      "cell_type": "code",
      "execution_count": null,
      "source": [
        "def saydir(a, b, c):\r\n",
        "  sonuc = 0\r\n",
        "  for i in range(a, b+1):\r\n",
        "    sonuc += str(i).count(str(c))\r\n",
        "  return sonuc\r\n",
        "saydir(50, 55, 5)"
      ],
      "outputs": [
        {
          "output_type": "execute_result",
          "data": {
            "text/plain": [
              "7"
            ]
          },
          "metadata": {
            "tags": []
          },
          "execution_count": 17
        }
      ],
      "metadata": {
        "colab": {
          "base_uri": "https://localhost:8080/"
        },
        "id": "Xm3OBUHUVLZm",
        "outputId": "282b5b5a-24ac-4863-c7c7-99b684f77a22"
      }
    },
    {
      "cell_type": "markdown",
      "source": [
        "10- Yüksekliği verilen yılbaşı ağacını oluşturan bir fonksiyon yazalım. agac(7)\n",
        "\n",
        "\n",
        "```\n",
        "      #      \n",
        "     ###     \n",
        "    #####    \n",
        "   #######   \n",
        "  #########  \n",
        " ########### \n",
        "############# \n",
        "```\n",
        "\n"
      ],
      "metadata": {
        "id": "n1Tuy6szEGR8"
      }
    },
    {
      "cell_type": "code",
      "execution_count": 19,
      "source": [
        "def agac(yukseklik):\r\n",
        "  for i in range(1, 2*yukseklik, 2):\r\n",
        "    print((i*'#').center(2*yukseklik-1))\r\n",
        "agac(7)"
      ],
      "outputs": [
        {
          "output_type": "stream",
          "name": "stdout",
          "text": [
            "      #      \n",
            "     ###     \n",
            "    #####    \n",
            "   #######   \n",
            "  #########  \n",
            " ########### \n",
            "#############\n"
          ]
        }
      ],
      "metadata": {
        "id": "bGV1nJWCVMFX",
        "colab": {
          "base_uri": "https://localhost:8080/"
        },
        "outputId": "66bc6154-c4f9-4a18-c6ab-52a003621fb7"
      }
    },
    {
      "cell_type": "code",
      "execution_count": 21,
      "source": [
        "def agac(yukseklik):\r\n",
        "  i=1\r\n",
        "  while i <= 2*yukseklik -1:\r\n",
        "    print((i*'#').center(2*yukseklik-1))\r\n",
        "    i+=2\r\n",
        "agac(7)"
      ],
      "outputs": [
        {
          "output_type": "stream",
          "name": "stdout",
          "text": [
            "      #      \n",
            "     ###     \n",
            "    #####    \n",
            "   #######   \n",
            "  #########  \n",
            " ########### \n",
            "#############\n"
          ]
        }
      ],
      "metadata": {
        "colab": {
          "base_uri": "https://localhost:8080/"
        },
        "id": "9rQrZYcHnWlX",
        "outputId": "695f2a7e-d97f-407e-f2af-5a333e387e75"
      }
    },
    {
      "cell_type": "code",
      "execution_count": null,
      "source": [],
      "outputs": [],
      "metadata": {
        "id": "FVHKdMMqnxEB"
      }
    }
  ]
}