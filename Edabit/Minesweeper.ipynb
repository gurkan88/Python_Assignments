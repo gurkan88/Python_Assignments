{
 "cells": [
  {
   "cell_type": "markdown",
   "source": [
    "Minesweeper I — Grid\r\n",
    "This challenge is based on the game Minesweeper.\r\n",
    "\r\n",
    "Create a function that takes a grid of # and -, where each hash (#) represents a mine and each dash (-) represents a mine-free spot. Return a list where each dash is replaced by a digit indicating the number of mines immediately adjacent to the spot (horizontally, vertically, and diagonally).\r\n",
    "\r\n",
    "Examples\r\n",
    "num_grid([\r\n",
    "  [\"-\", \"-\", \"-\", \"-\", \"-\"],\r\n",
    "  [\"-\", \"-\", \"-\", \"-\", \"-\"],\r\n",
    "  [\"-\", \"-\", \"#\", \"-\", \"-\"],\r\n",
    "  [\"-\", \"-\", \"-\", \"-\", \"-\"],\r\n",
    "  [\"-\", \"-\", \"-\", \"-\", \"-\"]\r\n",
    "]) ➞ [\r\n",
    "  [\"0\", \"0\", \"0\", \"0\", \"0\"],\r\n",
    "  [\"0\", \"1\", \"1\", \"1\", \"0\"],\r\n",
    "  [\"0\", \"1\", \"#\", \"1\", \"0\"],\r\n",
    "  [\"0\", \"1\", \"1\", \"1\", \"0\"],\r\n",
    "  [\"0\", \"0\", \"0\", \"0\", \"0\"],\r\n",
    "]\r\n",
    "\r\n",
    "num_grid([\r\n",
    "  [\"-\", \"-\", \"-\", \"-\", \"#\"],\r\n",
    "  [\"-\", \"-\", \"-\", \"-\", \"-\"],\r\n",
    "  [\"-\", \"-\", \"#\", \"-\", \"-\"],\r\n",
    "  [\"-\", \"-\", \"-\", \"-\", \"-\"],\r\n",
    "  [\"#\", \"-\", \"-\", \"-\", \"-\"]\r\n",
    "]) ➞ [\r\n",
    "  [\"0\", \"0\", \"0\", \"1\", \"#\"],\r\n",
    "  [\"0\", \"1\", \"1\", \"2\", \"1\"],\r\n",
    "  [\"0\", \"1\", \"#\", \"1\", \"0\"],\r\n",
    "  [\"1\", \"2\", \"1\", \"1\", \"0\"],\r\n",
    "  [\"#\", \"1\", \"0\", \"0\", \"0\"]\r\n",
    "]\r\n",
    "\r\n",
    "num_grid([\r\n",
    "  [\"-\", \"-\", \"-\", \"#\", \"#\"],\r\n",
    "  [\"-\", \"#\", \"-\", \"-\", \"-\"],\r\n",
    "  [\"-\", \"-\", \"#\", \"-\", \"-\"],\r\n",
    "  [\"-\", \"#\", \"#\", \"-\", \"-\"],\r\n",
    "  [\"-\", \"-\", \"-\", \"-\", \"-\"]\r\n",
    "]) ➞ [\r\n",
    "  [\"1\", \"1\", \"2\", \"#\", \"#\"],\r\n",
    "  [\"1\", \"#\", \"3\", \"3\", \"2\"],\r\n",
    "  [\"2\", \"4\", \"#\", \"2\", \"0\"],\r\n",
    "  [\"1\", \"#\", \"#\", \"2\", \"0\"],\r\n",
    "  [\"1\", \"2\", \"2\", \"1\", \"0\"],\r\n",
    "]"
   ],
   "metadata": {}
  },
  {
   "cell_type": "markdown",
   "source": [
    "<a>https://edabit.com/challenge/YDgtdP69Mn9pC73xN</a>"
   ],
   "metadata": {}
  },
  {
   "cell_type": "code",
   "execution_count": 211,
   "source": [
    "def num_grid(lst):\r\n",
    "    import copy\r\n",
    "    default = copy.deepcopy(lst)\r\n",
    "    coordinate = lst\r\n",
    "    dict1 = {}\r\n",
    "    \r\n",
    "    for y in range(len(lst)):\r\n",
    "        for x in range(len(lst[0])):\r\n",
    "            coordinate[y][x] = [y,x]\r\n",
    "            dict1.update({\"{}\".format(coordinate[y][x]):\"{}\".format(default[y][x])})\r\n",
    "    dict2 = copy.deepcopy(dict1)\r\n",
    "    lst.insert(0,[])\r\n",
    "    lst.append([])\r\n",
    "    lst[0] = [[-1,i] for i in range(-1,len(default[0])+1)]\r\n",
    "    lst[6] = [[5,i] for i in range(-1,len(default[0])+1)]\r\n",
    "    for i,j in enumerate(range(5),1):\r\n",
    "        lst[i].append([j,5])\r\n",
    "    for i,j in enumerate(range(5),1):\r\n",
    "        lst[i].insert(0,[j,-1])\r\n",
    "    for y in lst:\r\n",
    "        for x in y:\r\n",
    "            if str(x) not in dict2.keys():\r\n",
    "                dict2.update({\"{}\".format(x):None})\r\n",
    "    \r\n",
    "    import ast\r\n",
    "    for i,j in dict1.items():\r\n",
    "        if j == \"-\":\r\n",
    "            count = 0\r\n",
    "            change = copy.deepcopy(i)\r\n",
    "            i = ast.literal_eval(i)\r\n",
    "            y, x = i[0], i[1]\r\n",
    "            i = [y, x+1]\r\n",
    "            for a in [y-1,y,y+1]:\r\n",
    "                i = [a, x+1]\r\n",
    "                if dict2[\"{}\".format(i)] == \"#\":\r\n",
    "                    count += 1\r\n",
    "            i = [y, x]\r\n",
    "            for b in [y-1, y+1]:\r\n",
    "                i = [b, x]\r\n",
    "                if dict2[\"{}\".format(i)] == \"#\":\r\n",
    "                    count += 1\r\n",
    "            i = [y, x-1]\r\n",
    "            for c in [y-1, y, y+1]:\r\n",
    "                i = [c, x-1]\r\n",
    "                if dict2[\"{}\".format(i)] == \"#\":\r\n",
    "                    count += 1\r\n",
    "            dict2[change] = count\r\n",
    "\r\n",
    "    for i in lst:\r\n",
    "        for j in range(len(lst[0])):\r\n",
    "            if \"{}\".format(i[j]) in dict2.keys():\r\n",
    "                i[j] = dict2[\"{}\".format(i[j])]\r\n",
    "    for i in range(len(lst)):\r\n",
    "        lst[i] = list(filter(lambda x : x != None, lst[i]))\r\n",
    "    lst = list(filter(None,lst))\r\n",
    "    for i in range(len(lst)):\r\n",
    "        for j in range(len(lst[i])):\r\n",
    "            lst[i][j] = str(lst[i][j])\r\n",
    "\r\n",
    "    return lst\r\n",
    "    \r\n",
    "num_grid([\r\n",
    "  [\"-\", \"-\", \"-\", \"#\", \"#\"],\r\n",
    "  [\"-\", \"#\", \"-\", \"-\", \"-\"],\r\n",
    "  [\"-\", \"-\", \"#\", \"-\", \"-\"],\r\n",
    "  [\"-\", \"#\", \"#\", \"-\", \"-\"],\r\n",
    "  [\"-\", \"-\", \"-\", \"-\", \"-\"]\r\n",
    "])"
   ],
   "outputs": [
    {
     "output_type": "execute_result",
     "data": {
      "text/plain": [
       "[['1', '1', '2', '#', '#'],\n",
       " ['1', '#', '3', '3', '2'],\n",
       " ['2', '4', '#', '2', '0'],\n",
       " ['1', '#', '#', '2', '0'],\n",
       " ['1', '2', '2', '1', '0']]"
      ]
     },
     "metadata": {},
     "execution_count": 211
    }
   ],
   "metadata": {}
  },
  {
   "cell_type": "code",
   "execution_count": 83,
   "source": [
    "dictionary = {}\r\n",
    "dictionary.update({\"abc\":None})\r\n",
    "list(dictionary.keys())"
   ],
   "outputs": [
    {
     "output_type": "execute_result",
     "data": {
      "text/plain": [
       "['abc']"
      ]
     },
     "metadata": {},
     "execution_count": 83
    }
   ],
   "metadata": {}
  },
  {
   "cell_type": "code",
   "execution_count": 121,
   "source": [
    "j = \"[0,1]\"\r\n",
    "j = list(j.strip(\"][\").split(\",\"))\r\n",
    "j"
   ],
   "outputs": [
    {
     "output_type": "execute_result",
     "data": {
      "text/plain": [
       "['0', '1']"
      ]
     },
     "metadata": {},
     "execution_count": 121
    }
   ],
   "metadata": {}
  },
  {
   "cell_type": "code",
   "execution_count": 124,
   "source": [
    "import ast\r\n",
    "j = \"[0,1]\"\r\n",
    "j = ast.literal_eval(j)\r\n",
    "j"
   ],
   "outputs": [
    {
     "output_type": "execute_result",
     "data": {
      "text/plain": [
       "[0, 1]"
      ]
     },
     "metadata": {},
     "execution_count": 124
    }
   ],
   "metadata": {}
  },
  {
   "cell_type": "code",
   "execution_count": 139,
   "source": [
    "yeni = {f\"{[1,2]}\":\"*\"}\r\n",
    "ş = [1,2]\r\n",
    "yeni[f\"{ş}\"]"
   ],
   "outputs": [
    {
     "output_type": "execute_result",
     "data": {
      "text/plain": [
       "'*'"
      ]
     },
     "metadata": {},
     "execution_count": 139
    }
   ],
   "metadata": {}
  }
 ],
 "metadata": {
  "orig_nbformat": 4,
  "language_info": {
   "name": "python",
   "version": "3.9.5",
   "mimetype": "text/x-python",
   "codemirror_mode": {
    "name": "ipython",
    "version": 3
   },
   "pygments_lexer": "ipython3",
   "nbconvert_exporter": "python",
   "file_extension": ".py"
  },
  "kernelspec": {
   "name": "python3",
   "display_name": "Python 3.9.5 64-bit"
  },
  "interpreter": {
   "hash": "df9803d5d1b6cb5abc1edc30c69a1153e23b31bf85805cdabf595a077425259e"
  }
 },
 "nbformat": 4,
 "nbformat_minor": 2
}