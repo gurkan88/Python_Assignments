{
 "cells": [
  {
   "cell_type": "markdown",
   "source": [
    "***\r\n",
    "***\r\n",
    "Sum of Negative Integers\r\n",
    "Create a function that takes a string containing integers as well as other characters and return the sum of the negative integers only.\r\n",
    "\r\n",
    "Examples\r\n",
    "negative_sum(\"-12 13%14&-11\") ➞ -23\r\n",
    "# -12 + -11 = -23\r\n",
    "\r\n",
    "negative_sum(\"22 13%14&-11-22 13 12\") ➞ -33\r\n",
    "# -11 + -22 = -33\r\n",
    "Notes\r\n",
    "There is at least one negative integer.\r\n"
   ],
   "metadata": {}
  },
  {
   "cell_type": "code",
   "execution_count": 1,
   "source": [
    "def negative_sum(chars):\r\n",
    "\t"
   ],
   "outputs": [],
   "metadata": {}
  },
  {
   "cell_type": "code",
   "execution_count": 9,
   "source": [
    "list1 = [1,3,4]\r\n",
    "sum(list1)"
   ],
   "outputs": [
    {
     "output_type": "execute_result",
     "data": {
      "text/plain": [
       "8"
      ]
     },
     "metadata": {},
     "execution_count": 9
    }
   ],
   "metadata": {}
  },
  {
   "cell_type": "code",
   "execution_count": null,
   "source": [
    "import re\r\n",
    "pattern = (A-Z)\r\n"
   ],
   "outputs": [],
   "metadata": {}
  },
  {
   "cell_type": "code",
   "execution_count": null,
   "source": [
    "import re\r\n",
    "def negative_sum(chars):\r\n",
    "\treturn sum(map(int,re.findall(r'-\\d+', chars))) # \\d ==[0-9]\r\n",
    "\r\n",
    "tt = \"aba87-5kı8-4\"\r\n",
    "negative_sum(tt)"
   ],
   "outputs": [],
   "metadata": {}
  },
  {
   "cell_type": "markdown",
   "source": [
    "***\r\n",
    "***\r\n",
    "Parentheses Clusters\r\n",
    "Write a function that groups a string into parentheses cluster. Each cluster should be balanced.\r\n",
    "\r\n",
    "Examples\r\n",
    "split(\"()()()\") ➞ [\"()\", \"()\", \"()\"]\r\n",
    "\r\n",
    "split(\"((()))\") ➞ [\"((()))\"]\r\n",
    "\r\n",
    "split(\"((()))(())()()(()())\") ➞ [\"((()))\", \"(())\", \"()\", \"()\", \"(()())\"]\r\n",
    "\r\n",
    "split(\"((())())(()(()()))\") ➞ [\"((())())\", \"(()(()()))\"]\r\n",
    "Notes\r\n",
    "All input strings will only contain parentheses.\r\n",
    "Balanced: Every opening parens ( must exist with its matching closing parens ) in the same cluster."
   ],
   "metadata": {}
  },
  {
   "cell_type": "code",
   "execution_count": 26,
   "source": [
    "def split(txt):\r\n",
    "    parantheses = {\")\" : \"(\"} \r\n",
    "    check = []\r\n",
    "    split_list = []\r\n",
    "    count = 0\r\n",
    "    for i in txt:\r\n",
    "        if i == \"(\" or \")\":\r\n",
    "            if i in \"(\":\r\n",
    "                check.append(i)\r\n",
    "                count += 1\r\n",
    "            elif i in \")\" and check != []:\r\n",
    "                check.pop()\r\n",
    "            if check == []:\r\n",
    "                split_list.append(\"(\"*count + \")\"*count)\r\n",
    "                count = 0\r\n",
    "        else: return None\r\n",
    "    return split_list\r\n",
    "\r\n",
    "print(split(\"()()()\"))\r\n",
    "print(split(\"((()))\"))\r\n",
    "print(split(\"((()))(())()()(()())\"))\r\n",
    "print(split(\"((())())(()(()()))\"))"
   ],
   "outputs": [
    {
     "output_type": "stream",
     "name": "stdout",
     "text": [
      "['()', '()', '()']\n",
      "['((()))']\n",
      "['((()))', '(())', '()', '()', '((()))']\n",
      "['(((())))', '((((()))))']\n"
     ]
    }
   ],
   "metadata": {}
  },
  {
   "cell_type": "code",
   "execution_count": 27,
   "source": [
    "par = input(\"Write only parentheses : \")\r\n",
    "list1=[]\r\n",
    "list2=[]\r\n",
    "par_split=[]\r\n",
    "for i in range(len(par)):\r\n",
    "    if par[i]==\"(\":\r\n",
    "        list1.append(\"(\")\r\n",
    "        list2.append(\"(\")\r\n",
    "    elif par[i]==\")\":\r\n",
    "        list1.pop()\r\n",
    "        list2.append(\")\")\r\n",
    "        if len(list1)==0:\r\n",
    "            par_split.append(\"\".join(list2))\r\n",
    "            list2.clear()\r\n",
    "print(par_split)\r\n",
    "\r\n"
   ],
   "outputs": [
    {
     "output_type": "stream",
     "name": "stdout",
     "text": [
      "['((())())', '(()(()()))']\n"
     ]
    }
   ],
   "metadata": {}
  },
  {
   "cell_type": "code",
   "execution_count": 25,
   "source": [
    "def split(txt):\r\n",
    "    a = []\r\n",
    "    b = \"\"\r\n",
    "    for i in txt:\r\n",
    "        b += i\r\n",
    "        if b.count(\"(\") == b.count(\")\"):\r\n",
    "            a.append(b)\r\n",
    "            b = \"\"\r\n",
    "    return a\r\n",
    "\r\n",
    "print(split(\"()()()\"))\r\n",
    "print(split(\"((()))\"))\r\n",
    "print(split(\"((()))(())()()(()())\"))\r\n",
    "print(split(\"((())())(()(()()))\"))"
   ],
   "outputs": [
    {
     "output_type": "stream",
     "name": "stdout",
     "text": [
      "['()', '()', '()']\n",
      "['((()))']\n",
      "['((()))', '(())', '()', '()', '(()())']\n",
      "['((())())', '(()(()()))']\n"
     ]
    }
   ],
   "metadata": {}
  },
  {
   "cell_type": "markdown",
   "source": [
    "***\r\n",
    "***\r\n",
    "Prime Factorization of an Integer\r\n",
    "Create a function that returns a list containing the prime factors of whatever integer is passed to it.\r\n",
    "\r\n",
    "Examples\r\n",
    "prime_factors(20) ➞ [2, 2, 5]\r\n",
    "\r\n",
    "prime_factors(100) ➞ [2, 2, 5, 5]\r\n",
    "\r\n",
    "prime_factors(8912234) ➞ [2, 47, 94811]\r\n",
    "Notes\r\n",
    "Implement your solution using trial division.\r\n",
    "Your solution should not require recursion."
   ],
   "metadata": {}
  },
  {
   "cell_type": "code",
   "execution_count": 128,
   "source": [
    "# it checks all the factors of the number and find all the prime numbers up to that number\r\n",
    "# then checks the factors in the prime numbers \r\n",
    "def prime_factors(num):\r\n",
    "    factors,prime_numbers = [], []\r\n",
    "    i = 2\r\n",
    "    for i in range(2,num):\r\n",
    "        if num % i == 0:\r\n",
    "            factors.append(i)\r\n",
    "            num /= i\r\n",
    "            while num % i == 0:\r\n",
    "                factors.append(i)\r\n",
    "                num /= i\r\n",
    "                if num % i != 0: break\r\n",
    "    for j in factors:\r\n",
    "        count = 0\r\n",
    "        for k in range(2,j+1):\r\n",
    "            if j % k == 0:\r\n",
    "                count += 1\r\n",
    "        if not count >= 2:\r\n",
    "            prime_numbers.append(j)\r\n",
    "    for m in factors:\r\n",
    "        if m not in prime_numbers:\r\n",
    "            factors.remove(m)\r\n",
    "    return factors\r\n",
    "\r\n",
    "prime_factors(156106746)"
   ],
   "outputs": [
    {
     "output_type": "execute_result",
     "data": {
      "text/plain": [
       "[2, 3, 3, 8672597]"
      ]
     },
     "metadata": {},
     "execution_count": 128
    }
   ],
   "metadata": {}
  },
  {
   "cell_type": "code",
   "execution_count": 130,
   "source": [
    "def prime_factors(n):\r\n",
    "    lst = []\r\n",
    "    for i in range(2,n):\r\n",
    "        if n % i == 0:\r\n",
    "            while n % i == 0:\r\n",
    "                lst.append(i)\r\n",
    "                n = n / i\r\n",
    "    return lst \r\n",
    "\r\n",
    "prime_factors(20)"
   ],
   "outputs": [
    {
     "output_type": "execute_result",
     "data": {
      "text/plain": [
       "[2, 2, 5]"
      ]
     },
     "metadata": {},
     "execution_count": 130
    }
   ],
   "metadata": {}
  },
  {
   "cell_type": "markdown",
   "source": [
    "these two below and above are quickest and simplest way only checks the factors that are already prime."
   ],
   "metadata": {}
  },
  {
   "cell_type": "code",
   "execution_count": null,
   "source": [
    "def prime_factors(num):\r\n",
    "    output = []\r\n",
    "    for i in range(2,  int(num/2)):\r\n",
    "        while num % i == 0:\r\n",
    "            output.append(i)\r\n",
    "            num = int(num / i)\r\n",
    "\r\n",
    "    return output"
   ],
   "outputs": [],
   "metadata": {}
  },
  {
   "cell_type": "markdown",
   "source": [
    "***\r\n"
   ],
   "metadata": {}
  },
  {
   "cell_type": "markdown",
   "source": [
    "***\r\n",
    "***\r\n",
    "Splitting Up Numbers\r\n",
    "Create a function that takes a number num and returns each place value in the number.\r\n",
    "\r\n",
    "Examples\r\n",
    "num_split(39) ➞ [30, 9]\r\n",
    "\r\n",
    "num_split(-434) ➞ [-400, -30, -4]\r\n",
    "\r\n",
    "num_split(100) ➞ [100, 0, 0]\r\n",
    "Notes\r\n",
    "N/A\r\n",
    "\r\n",
    "https://edabit.com/challenge/Wd9cCvFKC3fHzgqSx"
   ],
   "metadata": {}
  },
  {
   "cell_type": "code",
   "execution_count": 173,
   "source": [
    "def num_split(num):\r\n",
    "    output = []\r\n",
    "    if num < 0:\r\n",
    "        digits = (list(str(num)))[1:]\r\n",
    "        number_of_digits = len(digits) - 1\r\n",
    "        for i in digits:\r\n",
    "            x = int(i) * (10**number_of_digits)\r\n",
    "            number_of_digits -= 1\r\n",
    "            output.append(x*-1)\r\n",
    "    else:\r\n",
    "        digits = (list(str(num)))\r\n",
    "        number_of_digits = len(digits) - 1\r\n",
    "        for i in digits:\r\n",
    "            x = int(i) * (10**number_of_digits)\r\n",
    "            number_of_digits -= 1\r\n",
    "            output.append(x)\r\n",
    "    return output\r\n",
    "\r\n",
    "num_split(489616)"
   ],
   "outputs": [
    {
     "output_type": "execute_result",
     "data": {
      "text/plain": [
       "[400000, 80000, 9000, 600, 10, 6]"
      ]
     },
     "metadata": {},
     "execution_count": 173
    }
   ],
   "metadata": {}
  },
  {
   "cell_type": "code",
   "execution_count": 163,
   "source": [
    "def num_split(num):\r\n",
    "\tf,res = [1,-1][num < 0],[]\r\n",
    "\tnum = abs(num)\r\n",
    "\twhile num:\r\n",
    "\t\tnum,r = divmod(num,10)\r\n",
    "\t\tres = [r*f]+res\r\n",
    "\t\tf *= 10\r\n",
    "\treturn res\r\n",
    "\r\n",
    "num_split(395)"
   ],
   "outputs": [
    {
     "output_type": "execute_result",
     "data": {
      "text/plain": [
       "[300, 90, 5]"
      ]
     },
     "metadata": {},
     "execution_count": 163
    }
   ],
   "metadata": {}
  },
  {
   "cell_type": "code",
   "execution_count": 165,
   "source": [
    "def num_split(num):\r\n",
    "    sign, lst = 1 if num >= 0 else -1, list(map(int,str(abs(num))))\r\n",
    "    return [sign * lst[i] * 10**(len(lst)-i-1) for i in range(len(lst))]\r\n",
    "num_split(395)"
   ],
   "outputs": [
    {
     "output_type": "execute_result",
     "data": {
      "text/plain": [
       "[300, 90, 5]"
      ]
     },
     "metadata": {},
     "execution_count": 165
    }
   ],
   "metadata": {}
  },
  {
   "cell_type": "code",
   "execution_count": null,
   "source": [
    "def num_split(num):\r\n",
    "    a=[]\r\n",
    "    count=0\r\n",
    "    for i in str(abs(num))[::-1]:\r\n",
    "        a.append(int(i)*(10**(count)))\r\n",
    "        count+=1\r\n",
    "    return a[::-1] if num >0 else [-1*i for i in a[::-1]]\r\n",
    "\r\n",
    "num_split(795)"
   ],
   "outputs": [],
   "metadata": {}
  },
  {
   "cell_type": "markdown",
   "source": [
    "***\r\n"
   ],
   "metadata": {}
  },
  {
   "cell_type": "markdown",
   "source": [
    "***\r\n",
    "***\r\n",
    "Prison Break\r\n",
    "A prison can be represented as a list of cells. Each cell contains exactly one prisoner. A 1 represents an unlocked cell and a 0 represents a locked cell.\r\n",
    "\r\n",
    "[1, 1, 0, 0, 0, 1, 0]\r\n",
    "Starting inside the leftmost cell, you are tasked with seeing how many prisoners you can set free, with a catch. You are the prisoner in the first cell. If the first cell is locked, you cannot free anyone. Each time you free a prisoner, the locked cells become unlocked, and the unlocked cells become locked again.\r\n",
    "\r\n",
    "So, if we use the example above:\r\n",
    "\r\n",
    "[1, 1, 0, 0, 0, 1, 0]\r\n",
    "# You free the prisoner in the 1st cell.\r\n",
    "\r\n",
    "[0, 0, 1, 1, 1, 0, 1] \r\n",
    "# You free the prisoner in the 3rd cell (2nd one locked).\r\n",
    "\r\n",
    "[1, 1, 0, 0, 0, 1, 0]\r\n",
    "# You free the prisoner in the 6th cell (3rd, 4th and 5th locked).\r\n",
    "\r\n",
    "[0, 0, 1, 1, 1, 0, 1]\r\n",
    "# You free the prisoner in the 7th cell - and you are done!\r\n",
    "Here, we have set free 4 prisoners in total.\r\n",
    "\r\n",
    "Create a function that, given this unique prison arrangement, returns the number of freed prisoners.\r\n",
    "\r\n",
    "Examples\r\n",
    "freed_prisoners([1, 1, 0, 0, 0, 1, 0]) ➞ 4\r\n",
    "\r\n",
    "freed_prisoners([1, 1, 1]) ➞ 1\r\n",
    "\r\n",
    "freed_prisoners([0, 0, 0]) ➞ 0\r\n",
    "\r\n",
    "freed_prisoners([0, 1, 1, 1]) ➞ 0\r\n",
    "Notes\r\n",
    "You are the prisoner in the first cell. You must be freed to free anyone else.\r\n",
    "You must free a prisoner in order for the locks to switch. So in the second example where the input is [1, 1, 1] after you release the first prisoner, the locks change to [0, 0, 0]. Since all cells are locked, you can release no more prisoners.\r\n",
    "You always start within the leftmost element in the list (the first prison cell). If all the prison cells to your right are zeroes, you cannot free any more prisoners."
   ],
   "metadata": {}
  },
  {
   "cell_type": "code",
   "execution_count": 50,
   "source": [
    "def freed_prisoners(prison):\r\n",
    "    if prison[0] == 0 :\r\n",
    "        return 0\r\n",
    "    count = 1\r\n",
    "    for x in range(1,len(prison)):\r\n",
    "        if prison[x] != prison[x-1]:\r\n",
    "            count += 1\r\n",
    "    return count\r\n",
    "\t\t\r\n",
    "list1 = [1, 1, 0, 0, 0, 1, 0]\r\n",
    "freed_prisoners(list1)"
   ],
   "outputs": [
    {
     "output_type": "execute_result",
     "data": {
      "text/plain": [
       "4"
      ]
     },
     "metadata": {},
     "execution_count": 50
    }
   ],
   "metadata": {}
  },
  {
   "cell_type": "markdown",
   "source": [
    "***\r\n"
   ],
   "metadata": {}
  },
  {
   "cell_type": "markdown",
   "source": [
    "***\r\n",
    "***\r\n",
    "<a>https://edabit.com/challenge/gt9LLufDCMHKMioh2</a>\r\n",
    "<br>Stuttering Function\r\n",
    "Write a function that stutters a word as if someone is struggling to read it. The first two letters are repeated twice with an ellipsis ... and space after each, and then the word is pronounced with a question mark ?.\r\n",
    "\r\n",
    "Examples\r\n",
    "stutter(\"incredible\") ➞ \"in... in... incredible?\"\r\n",
    "\r\n",
    "stutter(\"enthusiastic\") ➞ \"en... en... enthusiastic?\"\r\n",
    "\r\n",
    "stutter(\"outstanding\") ➞ \"ou... ou... outstanding?\"\r\n",
    "Notes\r\n",
    "Assume all input is in lower case and at least two characters long.\r\n"
   ],
   "metadata": {}
  },
  {
   "cell_type": "code",
   "execution_count": 54,
   "source": [
    "def stutter(word):\r\n",
    "    x = (\"\" + word[:2] + \"... \")*2 + word + \"?\"\r\n",
    "    return x\r\n",
    "\r\n",
    "stutter(\"incredible\")"
   ],
   "outputs": [
    {
     "output_type": "execute_result",
     "data": {
      "text/plain": [
       "'in... in... incredible?'"
      ]
     },
     "metadata": {},
     "execution_count": 54
    }
   ],
   "metadata": {}
  },
  {
   "cell_type": "markdown",
   "source": [
    "***"
   ],
   "metadata": {}
  },
  {
   "cell_type": "markdown",
   "source": [
    "***\r\n",
    "---\r\n",
    "<br>Drunken Python\r\n",
    "Python got drunk and the built-in functions str() and int() are acting odd:\r\n",
    "\r\n",
    "str(4) ➞ 4\r\n",
    "\r\n",
    "str(\"4\") ➞ 4\r\n",
    "\r\n",
    "int(\"4\") ➞ \"4\"\r\n",
    "\r\n",
    "int(4) ➞ \"4\"\r\n",
    "You need to create two functions to substitute str() and int(). A function called int_to_str() that converts integers into strings and a function called str_to_int() that converts strings into integers.\r\n",
    "\r\n",
    "Examples:\r\n",
    "int_to_str(4) ➞ \"4\"\r\n",
    "\r\n",
    "str_to_int(\"4\") ➞ 4\r\n",
    "\r\n",
    "int_to_str(29348) ➞ \"29348\"\r\n",
    "Notes\r\n",
    "This is meant to illustrate the dangers of using already-existing function names.\r\n",
    "Extra points if you can de-drunk Python."
   ],
   "metadata": {}
  },
  {
   "cell_type": "code",
   "execution_count": 97,
   "source": [
    "int,str = str,int\r\n",
    "\r\n",
    "def int_to_str(num):\r\n",
    "    return str(num)\r\n",
    "\r\n",
    "def str_to_int(num):\r\n",
    "    return int(num)\r\n",
    "\r\n",
    "print(int_to_str(4))\r\n",
    "print(str_to_int(\"4\"))\r\n",
    "print(int_to_str(29348))\r\n"
   ],
   "outputs": [
    {
     "output_type": "stream",
     "name": "stdout",
     "text": [
      "4\n",
      "4\n",
      "29348\n"
     ]
    }
   ],
   "metadata": {}
  },
  {
   "cell_type": "markdown",
   "source": [
    "---"
   ],
   "metadata": {}
  },
  {
   "cell_type": "markdown",
   "source": [
    "***\r\n",
    "***\r\n",
    "The Snake — Area Filling\r\n",
    "This challenge is based on the classic videogame \"Snake\".\r\n",
    "\r\n",
    "Assume the game screen is an n * n square, and the snake starts the game with length 1 (i.e. just the head) positioned on the top left corner.\r\n",
    "\r\n",
    "For example, if n = 7 the game looks something like this:\r\n",
    "\r\n",
    "\r\n",
    "\r\n",
    "In this version of the game, the length of the snake doubles each time it eats food (e.g. if the length is 4, after eating it becomes 8).\r\n",
    "\r\n",
    "Create a function that takes the side n of the game screen and returns the number of times the snake can eat before it runs out of space in the game screen.\r\n",
    "\r\n",
    "Examples\r\n",
    "snakefill(3) ➞ 3\r\n",
    "\r\n",
    "snakefill(6) ➞ 5\r\n",
    "\r\n",
    "snakefill(24) ➞ 9\r\n",
    "Notes\r\n",
    "The given number will always be a positive integer (there are no exceptions to handle)."
   ],
   "metadata": {}
  },
  {
   "cell_type": "code",
   "execution_count": 123,
   "source": [
    "def snakefill(n):\r\n",
    "    area = n*n - 1\r\n",
    "    count = 1\r\n",
    "    snake_len = 1\r\n",
    "    for i in range(1,area):\r\n",
    "        snake_len += 2**i \r\n",
    "        if snake_len <= area :\r\n",
    "            count += 1\r\n",
    "    return count\r\n",
    "        \r\n",
    "snakefill(5)"
   ],
   "outputs": [
    {
     "output_type": "execute_result",
     "data": {
      "text/plain": [
       "4"
      ]
     },
     "metadata": {},
     "execution_count": 123
    }
   ],
   "metadata": {}
  },
  {
   "cell_type": "markdown",
   "source": [
    "---"
   ],
   "metadata": {}
  },
  {
   "cell_type": "markdown",
   "source": [
    "Check Rubik's Cubes\r\n",
    "Matt wants to make Rubik Cubes. These Rubiks should be in the shape of a full cube, and it shouldn't have any missing parts.\r\n",
    "\r\n",
    "This is a full cube:\r\n",
    "\r\n",
    "Full\r\n",
    "\r\n",
    "This is not a full cube:\r\n",
    "\r\n",
    "Full\r\n",
    "\r\n",
    "And he asks his friend to draw some patterns. When his friend gives him these Rubik's Cube patterns, he realizes that some of them are wrong or missing. Help him identify them!\r\n",
    "\r\n",
    "The small cubes that make up the Rubik's Cube will be denoted by \"O\".\r\n",
    "\r\n",
    "Return \"Full\" if the Rubik Cube is full and no part is missing.\r\n",
    "Return \"Non-Full\" if the Rubik Cube is non-full and no part is missing.\r\n",
    "Return \"Missing {number of missing parts}\" if the Rubik Cube has missing parts.\r\n",
    "Examples\r\n",
    "identify(\r\n",
    "  [\"O\", \"O\", \"O\"],\r\n",
    "  [\"O\", \"O\", \"O\"],\r\n",
    "  [\"O\", \"O\", \"O\"]\r\n",
    ") ➞ \"Full\"\r\n",
    "\r\n",
    "# This is 3x3 full Rubik's Cube.\r\n",
    "# So we should return \"Full\"\r\n",
    "identify(\r\n",
    "  [\"O\", \"O\", \"O\"],\r\n",
    "  [\"O\", \"O\", \"O\"]\r\n",
    ") ➞ \"Non-Full\"\r\n",
    "\r\n",
    "# This is a 2x3 Rubik's Cube.\r\n",
    "# It's not full, so we should return \"Non-Full\".\r\n",
    "identify(\r\n",
    "  [\"O\", \"O\"],\r\n",
    "  [\"O\", \"O\", \"O\"],\r\n",
    "  [\"O\", \"O\", \"O\"]\r\n",
    ") ➞ \"Missing 1\"\r\n",
    "\r\n",
    "# This is almost a 3x3 Rubik's Cube with one missing part.\r\n",
    "# We should return \"Missing 1\".\r\n",
    "Notes\r\n",
    "Every cubic (small part of a Rubik's Cube) will be denoted by \"O\". There won't be any other type.\r\n",
    "Don't forget to return by paying attention to capital letters.\r\n",
    "\r\n",
    "Tests<br>\r\n",
    "Test.assert_equals(identify(\r\n",
    "\t[\"O\", \"O\"],\r\n",
    "\t[\"O\", \"O\"],\r\n",
    "\t[\"O\", \"O\", \"O\"]\r\n",
    "), \"Missing 2\")\r\n",
    "\r\n",
    "Test.assert_equals(identify(\r\n",
    "\t[\"O\", \"O\"],\r\n",
    "\t[\"O\", \"O\", \"O\"]\r\n",
    "), \"Missing 1\")\r\n",
    "\r\n",
    "Test.assert_equals(identify(\r\n",
    "\t[\"O\", \"O\", \"O\"],\r\n",
    "\t[\"O\", \"O\", \"O\"],\r\n",
    "\t[\"O\", \"O\", \"O\"]\r\n",
    "), \"Full\")\r\n",
    "\r\n",
    "Test.assert_equals(identify(\r\n",
    "\t[\"O\", \"O\", \"O\", \"O\"],\r\n",
    "\t[\"O\", \"O\", \"O\", \"O\"],\r\n",
    "\t[\"O\", \"O\", \"O\", \"O\"],\r\n",
    "\t[\"O\", \"O\", \"O\", \"O\"]\r\n",
    "), \"Full\")\r\n",
    "\r\n",
    "Test.assert_equals(identify(\r\n",
    "\t[\"O\", \"O\", \"O\", \"O\"],\r\n",
    "\t[\"O\", \"O\", \"O\", \"O\"],\r\n",
    "\t[\"O\", \"O\", \"O\"],\r\n",
    "\t[\"O\", \"O\", \"O\", \"O\"]\r\n",
    "), \"Missing 1\")\r\n",
    "\r\n",
    "Test.assert_equals(identify(\r\n",
    "\t[\"O\", \"O\", \"O\", \"O\"],\r\n",
    "\t[\"O\", \"O\", \"O\", \"O\"]\r\n",
    "), \"Non-Full\")\r\n",
    "\r\n",
    "Test.assert_equals(identify(\r\n",
    "\t[\"O\", \"O\"],\r\n",
    "\t[\"O\", \"O\"]\r\n",
    "), \"Full\")\r\n",
    "\r\n",
    "Test.assert_equals(identify(\r\n",
    "\t[\"O\", \"O\"],\r\n",
    "\t[\"O\"]\r\n",
    "), \"Missing 1\")"
   ],
   "metadata": {}
  },
  {
   "cell_type": "code",
   "execution_count": null,
   "source": [
    "def identify(*cube):\r\n",
    "    count = 0\r\n",
    "    for i in cube:\r\n",
    "        count += len(i)\r\n",
    "    \r\n",
    "    if count == len(cube)**2 : return \"Full\"\r\n",
    "\r\n",
    "    elif len(cube) < len(max(cube)) and count / len(cube) == len(max(cube)): \r\n",
    "        return \"Non-Full\"\r\n",
    "\r\n",
    "    else:\r\n",
    "        count2 = []\r\n",
    "        for j in cube:\r\n",
    "            if len(j) < len(max(cube)):\r\n",
    "                count2.append(len(j))\r\n",
    "        return \"Missing {}\".format(len(max(cube))*len(count2) - sum(count2))\r\n"
   ],
   "outputs": [],
   "metadata": {}
  },
  {
   "cell_type": "code",
   "execution_count": 234,
   "source": [
    "def identify(*cube):\r\n",
    "\tm = len(cube)\r\n",
    "\tn = max(len(row) for row in cube)\r\n",
    "\tmissing = sum(n-len(row) for row in cube)\r\n",
    "\tif missing:\r\n",
    "\t\treturn \"Missing \" + str(missing)\r\n",
    "\treturn \"Full\" if m==n else \"Non-Full\""
   ],
   "outputs": [],
   "metadata": {}
  },
  {
   "cell_type": "code",
   "execution_count": null,
   "source": [
    "def identify(*c):\r\n",
    "\tl=[len(x)for x in c]\r\n",
    "\treturn('Non-Full','Full')[len(l)==l[0]]if len(set(l))<2else'Missing %s'%(abs(len(l)**2-sum(l)))"
   ],
   "outputs": [],
   "metadata": {}
  },
  {
   "cell_type": "code",
   "execution_count": 247,
   "source": [
    "def check():\r\n",
    "    return(\"if false\",\"if true\")[1<2]\r\n",
    "\r\n",
    "check()"
   ],
   "outputs": [
    {
     "output_type": "execute_result",
     "data": {
      "text/plain": [
       "'if true'"
      ]
     },
     "metadata": {},
     "execution_count": 247
    }
   ],
   "metadata": {}
  },
  {
   "cell_type": "code",
   "execution_count": 1,
   "source": [
    "(\"if false\",\"if true\")[1<2]"
   ],
   "outputs": [
    {
     "output_type": "execute_result",
     "data": {
      "text/plain": [
       "'if true'"
      ]
     },
     "metadata": {},
     "execution_count": 1
    }
   ],
   "metadata": {}
  },
  {
   "cell_type": "markdown",
   "source": [
    "---"
   ],
   "metadata": {}
  },
  {
   "cell_type": "markdown",
   "source": [
    "***\r\n",
    "***\r\n",
    "<h1>Least Common Multiple</h1>\r\n",
    "Given a list of integers, create a function that will find the smallest positive integer that is evenly divisible by all the members of the list. In other words, find the least common multiple (LCM).\r\n",
    "\r\n",
    "Examples\r\n",
    "lcm([1, 2, 3, 4, 5, 6, 7, 8, 9]) ➞ 2520\r\n",
    "\r\n",
    "lcm([5]) ➞ 5\r\n",
    "\r\n",
    "lcm([5, 7, 11]) ➞ 385\r\n",
    "\r\n",
    "lcm([5, 7, 11, 35, 55, 77]) ➞ 385"
   ],
   "metadata": {}
  },
  {
   "cell_type": "code",
   "execution_count": 133,
   "source": [
    "def lcm(nums):\r\n",
    "    lcm1 = dict()\r\n",
    "    factors = []\r\n",
    "    result = 1\r\n",
    "    for i in nums :\r\n",
    "        key = i\r\n",
    "        lcm1.update({i : []})\r\n",
    "        for j in range(2,i+1) :\r\n",
    "            if i % j == 0 :\r\n",
    "                i /= j\r\n",
    "                lcm1[key].append(j)\r\n",
    "                while i % j == 0 :\r\n",
    "                    i /= j\r\n",
    "                    lcm1[key].append(j)\r\n",
    "    for k in lcm1.values() :\r\n",
    "        factors += k \r\n",
    "    factors = set(factors)\r\n",
    "\r\n",
    "    for k in factors :\r\n",
    "        number_of_factors = list(map(lambda x : x.count(k), lcm1.values()))\r\n",
    "        result *= k ** max(number_of_factors)\r\n",
    "\r\n",
    "    return result\r\n",
    "            \r\n",
    "v = [98,99,95,96,456,123,789,9632]\r\n",
    "lcm(v)"
   ],
   "outputs": [
    {
     "output_type": "execute_result",
     "data": {
      "text/plain": [
       "936971197283940"
      ]
     },
     "metadata": {},
     "execution_count": 133
    }
   ],
   "metadata": {}
  },
  {
   "cell_type": "code",
   "execution_count": 135,
   "source": [
    "def to_infinity():\r\n",
    "    index = 1\r\n",
    "    while True:\r\n",
    "        yield index\r\n",
    "        index += 1\r\n",
    "\r\n",
    "def least_common(liste):\r\n",
    "    for i in to_infinity():\r\n",
    "        count = 0\r\n",
    "        for j in liste:\r\n",
    "            if i % j == 0:\r\n",
    "                count += 1\r\n",
    "        if count == len(liste):\r\n",
    "            result = i\r\n",
    "            break\r\n",
    "    return result\r\n",
    "\r\n",
    "least_common([5,4,6,7])"
   ],
   "outputs": [
    {
     "output_type": "execute_result",
     "data": {
      "text/plain": [
       "420"
      ]
     },
     "metadata": {},
     "execution_count": 135
    }
   ],
   "metadata": {}
  },
  {
   "cell_type": "markdown",
   "source": [
    "---"
   ],
   "metadata": {}
  }
 ],
 "metadata": {
  "orig_nbformat": 4,
  "language_info": {
   "name": "python",
   "version": "3.9.5",
   "mimetype": "text/x-python",
   "codemirror_mode": {
    "name": "ipython",
    "version": 3
   },
   "pygments_lexer": "ipython3",
   "nbconvert_exporter": "python",
   "file_extension": ".py"
  },
  "kernelspec": {
   "name": "python3",
   "display_name": "Python 3.9.5 64-bit"
  },
  "interpreter": {
   "hash": "df9803d5d1b6cb5abc1edc30c69a1153e23b31bf85805cdabf595a077425259e"
  }
 },
 "nbformat": 4,
 "nbformat_minor": 2
}