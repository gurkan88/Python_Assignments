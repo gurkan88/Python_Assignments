{
 "cells": [
  {
   "cell_type": "markdown",
   "source": [
    "<a>https://edabit.com/challenge/GGibsZwLpLQJrxw8v</a>"
   ],
   "metadata": {}
  },
  {
   "cell_type": "code",
   "execution_count": 82,
   "source": [
    "def get_lucky_number(size, nth):\r\n",
    "    list1 = list(range(1, size+1))[::2]\r\n",
    "    f = 1\r\n",
    "    while list1[f] < len(list1):\r\n",
    "        list1 = [j for i,j in enumerate(list1,1) if i % list1[f] != 0]\r\n",
    "        f += 1\r\n",
    "    return list1\r\n",
    "\r\n",
    "\r\n",
    "\r\n",
    "\r\n",
    "get_lucky_number(25,6)"
   ],
   "outputs": [
    {
     "output_type": "execute_result",
     "data": {
      "text/plain": [
       "[1, 3, 7, 9, 13, 15, 21, 25]"
      ]
     },
     "metadata": {},
     "execution_count": 82
    }
   ],
   "metadata": {}
  },
  {
   "cell_type": "code",
   "execution_count": 83,
   "source": [
    "def get_lucky_number(size, n):\r\n",
    "    arr = list(range(1, size+1))[::2]\r\n",
    "    f = 1\r\n",
    "    while arr[f] < len(arr):\r\n",
    "        arr = [i for idx, i in enumerate(arr, 1) if idx%arr[f] != 0]\r\n",
    "        f += 1\r\n",
    "    return arr\r\n",
    "\r\n",
    "get_lucky_number(60,5)"
   ],
   "outputs": [
    {
     "output_type": "execute_result",
     "data": {
      "text/plain": [
       "[1, 3, 7, 9, 13, 15, 21, 25, 31, 33, 37, 43, 49, 51, 55]"
      ]
     },
     "metadata": {},
     "execution_count": 83
    }
   ],
   "metadata": {}
  },
  {
   "cell_type": "code",
   "execution_count": 84,
   "source": [
    "def get_lucky_number(size, nth):\r\n",
    "\tlst = list(range(1,size+1,2))\r\n",
    "\tn = 3\r\n",
    "\twhile n < len(lst):\r\n",
    "\t\tdel lst[n-1::n]\r\n",
    "\t\tn = lst[lst.index(n)+1]\r\n",
    "\treturn lst[nth-1]"
   ],
   "outputs": [],
   "metadata": {}
  },
  {
   "cell_type": "code",
   "execution_count": 95,
   "source": [
    "h = list(range(1,100))\r\n",
    "n = 3\r\n",
    "del h[::n]\r\n",
    "h"
   ],
   "outputs": [
    {
     "output_type": "execute_result",
     "data": {
      "text/plain": [
       "[1,\n",
       " 2,\n",
       " 3,\n",
       " 5,\n",
       " 6,\n",
       " 8,\n",
       " 9,\n",
       " 11,\n",
       " 12,\n",
       " 14,\n",
       " 15,\n",
       " 17,\n",
       " 18,\n",
       " 20,\n",
       " 21,\n",
       " 23,\n",
       " 24,\n",
       " 26,\n",
       " 27,\n",
       " 29,\n",
       " 30,\n",
       " 32,\n",
       " 33,\n",
       " 35,\n",
       " 36,\n",
       " 38,\n",
       " 39,\n",
       " 41,\n",
       " 42,\n",
       " 44,\n",
       " 45,\n",
       " 47,\n",
       " 48,\n",
       " 50,\n",
       " 51,\n",
       " 53,\n",
       " 54,\n",
       " 56,\n",
       " 57,\n",
       " 59,\n",
       " 60,\n",
       " 62,\n",
       " 63,\n",
       " 65,\n",
       " 66,\n",
       " 68,\n",
       " 69,\n",
       " 71,\n",
       " 72,\n",
       " 74,\n",
       " 75,\n",
       " 77,\n",
       " 78,\n",
       " 80,\n",
       " 81,\n",
       " 83,\n",
       " 84,\n",
       " 86,\n",
       " 87,\n",
       " 89,\n",
       " 90,\n",
       " 92,\n",
       " 93,\n",
       " 95,\n",
       " 96,\n",
       " 98,\n",
       " 99]"
      ]
     },
     "metadata": {},
     "execution_count": 95
    }
   ],
   "metadata": {}
  }
 ],
 "metadata": {
  "orig_nbformat": 4,
  "language_info": {
   "name": "python",
   "version": "3.9.5",
   "mimetype": "text/x-python",
   "codemirror_mode": {
    "name": "ipython",
    "version": 3
   },
   "pygments_lexer": "ipython3",
   "nbconvert_exporter": "python",
   "file_extension": ".py"
  },
  "kernelspec": {
   "name": "python3",
   "display_name": "Python 3.9.5 64-bit"
  },
  "interpreter": {
   "hash": "df9803d5d1b6cb5abc1edc30c69a1153e23b31bf85805cdabf595a077425259e"
  }
 },
 "nbformat": 4,
 "nbformat_minor": 2
}