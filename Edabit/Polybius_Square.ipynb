{
 "cells": [
  {
   "cell_type": "markdown",
   "source": [
    "Polybius Square (Basic)\r\n",
    "The Polybius Square cipher is a simple substitution cipher that makes use of a 5x5 square grid. The letters A-Z are written into the grid, with \"I\" and \"J\" typically sharing a slot (as there are 26 letters and only 25 slots).\r\n",
    "\r\n",
    "1\t2\t3\t4\t5\r\n",
    "1\tA\tB\tC\tD\tE\r\n",
    "2\tF\tG\tH\tI/J\tK\r\n",
    "3\tL\tM\tN\tO\tP\r\n",
    "4\tQ\tR\tS\tT\tU\r\n",
    "5\tV\tW\tX\tY\tZ\r\n",
    "To encipher a message, each letter is merely replaced by its row and column numbers in the grid.\r\n",
    "\r\n",
    "Create a function that takes a plaintext or ciphertext message, and returns the corresponding ciphertext or plaintext.\r\n",
    "\r\n",
    "Examples\r\n",
    "polybius(\"Hi\") ➞ \"2324\"\r\n",
    "\r\n",
    "polybius(\"2324  4423154215\") ➞ \"hi there\"\r\n",
    "\r\n",
    "polybius(\"543445 14343344 522433 21422415331443 52244423 4311311114\") ➞ \"you dont win friends with salad\"\r\n",
    "Notes\r\n",
    "As \"I\" and \"J\" share a slot, both are enciphered into 24, but deciphered only into \"I\" (see third and fourth test).\r\n",
    "\r\n",
    "<a>https://edabit.com/challenge/2C3gtb4treAFyWJMg</a>"
   ],
   "metadata": {}
  },
  {
   "cell_type": "code",
   "execution_count": null,
   "source": [
    "def polybius(text):\r\n",
    "    text = text.lower().replace(\"j\",\"i\").replace(\"'\",\"\").replace(\":\",\"\")\r\n",
    "    import string\r\n",
    "    lower = string.ascii_lowercase.replace(\"ij\",\"i\")\r\n",
    "    dict1 = {}\r\n",
    "    for j in range(0,25):\r\n",
    "        row = j // 5 + 1\r\n",
    "        column = j % 5 + 1\r\n",
    "        dict1[\"{}{}\".format(row,column)] = lower[j]\r\n",
    "    if text[0].isalpha():\r\n",
    "        dict1 = {str(k): str(v) for v, k in dict1.items()}\r\n",
    "        dict1[\"j\"] = \"24\"\r\n",
    "        for i in text:\r\n",
    "            if i != \" \": text = text.replace(i, dict1[i])\r\n",
    "        return text\r\n",
    "    else:\r\n",
    "        decode = [i for i in text.split(\" \") if i]\r\n",
    "        for i in range(len(decode)) :\r\n",
    "            n = 2\r\n",
    "            decode[i] = [decode[i][j:j+n] for j in range(0,len(decode[i]),2)]\r\n",
    "            for k in range(len(decode[i])):\r\n",
    "                decode[i][k] = dict1[decode[i][k]]\r\n",
    "        for i in decode:\r\n",
    "            decode[decode.index(i)] = \"\".join(i)\r\n",
    "        return \" \".join(decode)\r\n",
    "\r\n",
    "# polybius(\"Just because I don't care doesn't mean that I don't understand\")"
   ],
   "outputs": [],
   "metadata": {}
  },
  {
   "cell_type": "code",
   "execution_count": null,
   "source": [
    "import string\r\n",
    "harfler = string.ascii_lowercase\r\n",
    "k, tablo = 0, {}\r\n",
    "for i in range(1, 6):\r\n",
    "    for j in range(1, 6):\r\n",
    "        if str(i) + str(j) != '24':\r\n",
    "            tablo[str(i) + str(j)] = harfler[k]\r\n",
    "            k += 1\r\n",
    "        else:\r\n",
    "            tablo[str(i) + str(j)] = harfler[k:k + 2]\r\n",
    "            k += 2\r\n",
    "\r\n",
    "def polybus_square(text):\r\n",
    "    n, result = 0, ''\r\n",
    "    while n < len(text):\r\n",
    "        if text[n].isdigit():\r\n",
    "            if text[n: n + 2] == '24':\r\n",
    "                result += 'I'\r\n",
    "            else:\r\n",
    "                result += tablo[text[n: n + 2]].upper()\r\n",
    "            n += 2\r\n",
    "        elif text[n].isalpha():\r\n",
    "            for a, b in tablo.items():\r\n",
    "                if text[n].lower() == b or text[n].lower() in b:\r\n",
    "                    result += a\r\n",
    "                    n += 1\r\n",
    "                    break\r\n",
    "        elif text[n] == ' ':\r\n",
    "            result += ' '\r\n",
    "            n += 1\r\n",
    "    return result\r\n",
    "\r\n",
    "polybus_square(\"Just because I dont care doesnt mean that I dont understand\")"
   ],
   "outputs": [],
   "metadata": {}
  },
  {
   "cell_type": "code",
   "execution_count": 119,
   "source": [
    "from timeit import timeit "
   ],
   "outputs": [],
   "metadata": {}
  },
  {
   "cell_type": "code",
   "execution_count": 118,
   "source": [
    "\r\n",
    "text = \"Just because I dont care doesnt mean that I dont understand\"\r\n",
    "\r\n",
    "time1 = timeit(polybius(text1), number=1000)\r\n",
    "# time2 = timeit(polybus_square(text1), number=1000)\r\n",
    "# print(f\"first is {round(time1/time2, 2)} times faster than second\")"
   ],
   "outputs": [
    {
     "output_type": "error",
     "ename": "SyntaxError",
     "evalue": "invalid syntax (<timeit-src>, line 2)",
     "traceback": [
      "Traceback \u001b[1;36m(most recent call last)\u001b[0m:\n",
      "  File \u001b[0;32m\"C:\\Users\\gurka\\AppData\\Roaming\\Python\\Python39\\site-packages\\IPython\\core\\interactiveshell.py\"\u001b[0m, line \u001b[0;32m3441\u001b[0m, in \u001b[0;35mrun_code\u001b[0m\n    exec(code_obj, self.user_global_ns, self.user_ns)\n",
      "  File \u001b[0;32m\"C:\\Users\\gurka\\AppData\\Local\\Temp/ipykernel_7024/282896540.py\"\u001b[0m, line \u001b[0;32m3\u001b[0m, in \u001b[0;35m<module>\u001b[0m\n    time1 = timeit(polybius(text1), number=1000)\n",
      "  File \u001b[0;32m\"C:\\Users\\gurka\\AppData\\Local\\Programs\\Python\\Python39\\lib\\timeit.py\"\u001b[0m, line \u001b[0;32m233\u001b[0m, in \u001b[0;35mtimeit\u001b[0m\n    return Timer(stmt, setup, timer, globals).timeit(number)\n",
      "\u001b[1;36m  File \u001b[1;32m\"C:\\Users\\gurka\\AppData\\Local\\Programs\\Python\\Python39\\lib\\timeit.py\"\u001b[1;36m, line \u001b[1;32m122\u001b[1;36m, in \u001b[1;35m__init__\u001b[1;36m\u001b[0m\n\u001b[1;33m    compile(stmtprefix + stmt, dummy_src_name, \"exec\")\u001b[0m\n",
      "\u001b[1;36m  File \u001b[1;32m\"<timeit-src>\"\u001b[1;36m, line \u001b[1;32m2\u001b[0m\n\u001b[1;33m    24454344 12151311454315 24 14343344 13114215 143415433344 32151133 44231144 24 14343344 45331415424344113314\u001b[0m\n\u001b[1;37m             ^\u001b[0m\n\u001b[1;31mSyntaxError\u001b[0m\u001b[1;31m:\u001b[0m invalid syntax\n"
     ]
    }
   ],
   "metadata": {}
  },
  {
   "cell_type": "code",
   "execution_count": 93,
   "source": [
    "def polybius(message):\r\n",
    "\r\n",
    "  text = \"\"\r\n",
    "\r\n",
    "  list1 = [\r\n",
    "           [\"A\", \"B\", \"C\", \"D\", \"E\"],\r\n",
    "           [\"F\", \"G\", \"H\", \"I/J\", \"K\"],\r\n",
    "           [\"L\", \"M\", \"N\", \"O\", \"P\"],\r\n",
    "           [\"Q\", \"R\", \"S\", \"T\", \"U\"],\r\n",
    "           [\"V\", \"W\", \"X\", \"Y\", \"Z\"]\r\n",
    "          ]\r\n",
    "\r\n",
    "  list1[1][3] = \"I\"\r\n",
    "\r\n",
    "  if message[0].isnumeric():\r\n",
    "    message = \"  \".join(message.split())\r\n",
    "    for i in range(0, len(message), 2):\r\n",
    "      for x in message[i+1:i+2]:\r\n",
    "        if x.isspace():\r\n",
    "          text += \" \"\r\n",
    "        else:\r\n",
    "          text += list1[(int(message[i]))-1][int(x)-1]\r\n",
    "  else:\r\n",
    "    for i in message:\r\n",
    "      if i.isspace():\r\n",
    "          text += \" \"    \r\n",
    "      for x in range(5):\r\n",
    "        for y in range(5):\r\n",
    "          if list1[x][y] == i.upper():\r\n",
    "             text += str(x+1) + str(y+1)\r\n",
    "             break\r\n",
    "        else:\r\n",
    "            continue\r\n",
    "        break\r\n",
    "  \r\n",
    "  return text.lower()\r\n",
    "\r\n",
    "polybius(\"a hi there 45 12 \")"
   ],
   "outputs": [
    {
     "output_type": "execute_result",
     "data": {
      "text/plain": [
       "'11 2324 4423154215   '"
      ]
     },
     "metadata": {},
     "execution_count": 93
    }
   ],
   "metadata": {}
  },
  {
   "cell_type": "code",
   "execution_count": 28,
   "source": [
    "import re \r\n",
    "test = \"124578\"\r\n",
    "for i in range(len(test)):\r\n",
    "    new = re.findall(\"\\d2\", test)\r\n",
    "\r\n",
    "new\r\n"
   ],
   "outputs": [
    {
     "output_type": "execute_result",
     "data": {
      "text/plain": [
       "['12']"
      ]
     },
     "metadata": {},
     "execution_count": 28
    }
   ],
   "metadata": {}
  },
  {
   "cell_type": "code",
   "execution_count": 51,
   "source": [
    "x = [[\"a\",\"b\"], [\"c\"]]\r\n",
    "\r\n",
    "result = sum(x, [])\r\n",
    "result"
   ],
   "outputs": [
    {
     "output_type": "execute_result",
     "data": {
      "text/plain": [
       "['a', 'b', 'c']"
      ]
     },
     "metadata": {},
     "execution_count": 51
    }
   ],
   "metadata": {}
  },
  {
   "cell_type": "code",
   "execution_count": 59,
   "source": [
    "p = [['H', 'I'], ['T', 'H', 'E', 'R', 'E']]\r\n",
    "p[0]\r\n",
    "# c = \"\".join(p[0])\r\n"
   ],
   "outputs": [
    {
     "output_type": "execute_result",
     "data": {
      "text/plain": [
       "['H', 'I']"
      ]
     },
     "metadata": {},
     "execution_count": 59
    }
   ],
   "metadata": {}
  }
 ],
 "metadata": {
  "orig_nbformat": 4,
  "language_info": {
   "name": "python",
   "version": "3.9.5",
   "mimetype": "text/x-python",
   "codemirror_mode": {
    "name": "ipython",
    "version": 3
   },
   "pygments_lexer": "ipython3",
   "nbconvert_exporter": "python",
   "file_extension": ".py"
  },
  "kernelspec": {
   "name": "python3",
   "display_name": "Python 3.9.5 64-bit"
  },
  "interpreter": {
   "hash": "df9803d5d1b6cb5abc1edc30c69a1153e23b31bf85805cdabf595a077425259e"
  }
 },
 "nbformat": 4,
 "nbformat_minor": 2
}