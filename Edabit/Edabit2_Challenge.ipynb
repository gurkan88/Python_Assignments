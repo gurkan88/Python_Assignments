{
 "cells": [
  {
   "cell_type": "markdown",
   "source": [
    "***\r\n",
    "***\r\n",
    "<h1>Multiply by 11</h1>\r\n",
    "Given a positive number as a string, multiply the number by 11 and also return it as a string. However, there is a catch:\r\n",
    "\r\n",
    "You are NOT ALLOWED to simply cast the number into an integer!\r\n",
    "\r\n",
    "Now, how is this challenge even possible? Despite this, there is still a way to solve it, and it involves thinking about how someone might multiply by 11 in their head. See the tips below for guidance.\r\n",
    "\r\n",
    "Examples\r\n",
    "multiply_by_11(\"11\") ➞ \"121\"\r\n",
    "\r\n",
    "multiply_by_11(\"111111111\") ➞ \"1222222221\"\r\n",
    "\r\n",
    "multiply_by_11(\"9473745364784876253253263723\") ➞ \"104211199012633638785785900953\"\r\n",
    "Tip\r\n",
    "There is a simple trick to multiplying any two-digit number by 11 in your head:\r\n",
    "\r\n",
    "Add the two digits together\r\n",
    "Place the sum between the two digits!\r\n",
    "Note if the total goes over, carry the sum on to the next digit\r\n",
    "# 23 * 11\r\n",
    "# Add together 2 and 3 to make 5\r\n",
    "# Place 5 between the two digits to make 253\r\n",
    "# 77 * 11\r\n",
    "# Add together 7 and 7 to make 14\r\n",
    "# Place 4 between the two digits to make 747\r\n",
    "# Carry the 1 to make 847\r\n",
    "Notes\r\n",
    "See this resource to find out how this process can be utilized for numbers of any length!\r\n",
    "This challenge was heavily inspired by Mubashir Hassan's challenge on adding two numbers together!"
   ],
   "metadata": {}
  },
  {
   "cell_type": "code",
   "execution_count": 50,
   "source": [
    "def multiply_by_11(n):\r\n",
    "    result, x = \"\", \"0\"\r\n",
    "    n1 = \"\".join((\"0\",n))\r\n",
    "    n2 = n + \"0\"\r\n",
    "    for i,j in zip(n1[::-1],n2[::-1]) :\r\n",
    "        if int(i) + int(j) + int(x) < 10 :\r\n",
    "            result = \"\".join((str(int(i) + int(j) + int(x)), result))\r\n",
    "            x = \"0\"\r\n",
    "        else :\r\n",
    "            sum1 = int(i) + int(j) + int(x)\r\n",
    "            result = \"\".join((str(sum1)[-1], result))\r\n",
    "            x = f\"{sum1 // 10}\"\r\n",
    "    if x != 0 and x != \"0\":\r\n",
    "        result = \"\".join((str(x), result))\r\n",
    "    return result  \r\n",
    "\r\n",
    "\r\n",
    "multiply_by_11(\"86\")\r\n"
   ],
   "outputs": [
    {
     "output_type": "execute_result",
     "data": {
      "text/plain": [
       "'946'"
      ]
     },
     "metadata": {},
     "execution_count": 50
    }
   ],
   "metadata": {}
  },
  {
   "cell_type": "code",
   "execution_count": 3,
   "source": [
    "a = input(\"Please enter a number ....  \")\r\n",
    "b = list(a)\r\n",
    "k = []\r\n",
    "for i in range(len(b)-1) : \r\n",
    "  k.append((int(b[i]) + int(b[i+1])))\r\n",
    "k.insert(0,int(b[0]))\r\n",
    "k.insert(len(b), int(b[len(b)-1])) \r\n",
    "for i in range(len(k)) :\r\n",
    "    if k[i] >= 10 :\r\n",
    "     k.insert(i,k[i-1] + k[i] // 10)\r\n",
    "     k.pop(i-1)\r\n",
    "     k.insert(i+1,k[i] % 10)\r\n",
    "     k.pop(i)\r\n",
    "print(* k, sep=\"\") "
   ],
   "outputs": [
    {
     "output_type": "stream",
     "name": "stdout",
     "text": [
      "1001\n"
     ]
    }
   ],
   "metadata": {}
  },
  {
   "cell_type": "code",
   "execution_count": null,
   "source": [
    "def multiplier_11(n):\r\n",
    "    n = n[::-1]\r\n",
    "    new = \"\"\r\n",
    "    bolum = 0\r\n",
    "  \r\n",
    "    for a, b in zip(n + '0', '0' + n ):      \r\n",
    "        bolum, kalan = divmod( int(a) + int(b) + bolum, 10 ) \r\n",
    "        new += str(kalan)\r\n",
    "    \r\n",
    "    if bolum != 0:\r\n",
    "        new += str(\"1\")\r\n",
    "        \r\n",
    "    return new[::-1]\r\n",
    "multiplier_11(\"91\")"
   ],
   "outputs": [],
   "metadata": {}
  },
  {
   "cell_type": "code",
   "execution_count": null,
   "source": [],
   "outputs": [],
   "metadata": {}
  },
  {
   "cell_type": "markdown",
   "source": [
    "***"
   ],
   "metadata": {}
  },
  {
   "cell_type": "markdown",
   "source": [
    "***\r\n",
    "***"
   ],
   "metadata": {}
  },
  {
   "cell_type": "code",
   "execution_count": 1,
   "source": [
    "def function1(var1=5, var2=7):\r\n",
    "    var2=9\r\n",
    "    var1=3\r\n",
    "    print (var1, \" \", var2)\r\n",
    "print(function1(10,12))"
   ],
   "outputs": [
    {
     "output_type": "stream",
     "name": "stdout",
     "text": [
      "3   9\n",
      "None\n"
     ]
    }
   ],
   "metadata": {}
  },
  {
   "cell_type": "code",
   "execution_count": 2,
   "source": [
    "list1 = [1,2,3,4,5,6,7,8,9]\r\n",
    "factorial = 1\r\n",
    "for i in range(1,len(list1)+1):\r\n",
    "    factorial *= i \r\n",
    "num_of_rows = int(factorial / len(list1))\r\n",
    "output = []\r\n",
    "for i in range(factorial):\r\n",
    "    output.append([])\r\n",
    "index1 = 0\r\n",
    "u = 0\r\n",
    "w = len(list1) - 1\r\n",
    "for b in range(len(list1)-1) :\r\n",
    "    p = 0\r\n",
    "    for i in range(int(len(output)/num_of_rows)):\r\n",
    "        y = set(list1).difference(output[index1])\r\n",
    "        y1 = list(y)\r\n",
    "        [ output[k].append(y1[p]) for k in range(index1,index1+num_of_rows)]\r\n",
    "        index1 += num_of_rows\r\n",
    "        if p+1 != len(y1) : p += 1\r\n",
    "        else :              p = 0\r\n",
    "        y = list1\r\n",
    "    p = 0\r\n",
    "    index1 = 0\r\n",
    "    num_of_rows = int(num_of_rows / w)\r\n",
    "    w -= 1\r\n",
    "for q in range(len(output)):\r\n",
    "    diff = set(list1).difference(output[q])\r\n",
    "    output[q].append(*diff)\r\n",
    "output"
   ],
   "outputs": [
    {
     "output_type": "stream",
     "name": "stdout",
     "text": [
      "[['1', '2', '3'], ['1', '2', '4'], ['1', '3', '2'], ['1', '4', '2'], ['2', '1', '3'], ['2', '1', '4'], ['2', '3', '1'], ['2', '4', '1'], ['3', '1', '2'], ['3', '2', '1'], ['4', '1', '2'], ['4', '2', '1']]\n"
     ]
    }
   ],
   "metadata": {}
  }
 ],
 "metadata": {
  "orig_nbformat": 4,
  "language_info": {
   "name": "python",
   "version": "3.9.5",
   "mimetype": "text/x-python",
   "codemirror_mode": {
    "name": "ipython",
    "version": 3
   },
   "pygments_lexer": "ipython3",
   "nbconvert_exporter": "python",
   "file_extension": ".py"
  },
  "kernelspec": {
   "name": "python3",
   "display_name": "Python 3.9.5 64-bit"
  },
  "interpreter": {
   "hash": "df9803d5d1b6cb5abc1edc30c69a1153e23b31bf85805cdabf595a077425259e"
  }
 },
 "nbformat": 4,
 "nbformat_minor": 2
}