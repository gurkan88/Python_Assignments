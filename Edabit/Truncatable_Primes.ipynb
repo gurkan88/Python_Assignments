{
 "cells": [
  {
   "cell_type": "markdown",
   "source": [
    "Truncatable Primes\r\n",
    "A left-truncatable prime is a prime number that contains no 0 digits and, when the first digit is successively removed, the result is always prime.\r\n",
    "\r\n",
    "A right-truncatable prime is a prime number that contains no 0 digits and, when the last digit is successively removed, the result is always prime.\r\n",
    "\r\n",
    "Create a function that takes an integer as an argument and:\r\n",
    "\r\n",
    "If the integer is only a left-truncatable prime, return \"left\".\r\n",
    "If the integer is only a right-truncatable prime, return \"right\".\r\n",
    "If the integer is both, return \"both\".\r\n",
    "Otherwise, return False.\r\n",
    "Examples\r\n",
    "truncatable(9137) ➞ \"left\"\r\n",
    "# Because 9137, 137, 37 and 7 are all prime.\r\n",
    "\r\n",
    "truncatable(5939) ➞ \"right\"\r\n",
    "# Because 5939, 593, 59 and 5 are all prime.\r\n",
    "\r\n",
    "truncatable(317) ➞ \"both\"\r\n",
    "# Because 317, 17 and 7 are all prime and 317, 31 and 3 are all prime.\r\n",
    "\r\n",
    "truncatable(5) ➞ \"both\"\r\n",
    "# The trivial case of single-digit primes is treated as truncatable from both directions.\r\n",
    "\r\n",
    "truncatable(139) ➞ False\r\n",
    "# 1 and 9 are non-prime, so 139 cannot be truncatable from either direction.\r\n",
    "\r\n",
    "truncatable(103) ➞ False\r\n",
    "# Because it contains a 0 digit (even though 103 and 3 are primes).\r\n",
    "Notes\r\n",
    "The input integers will not exceed 10^6."
   ],
   "metadata": {}
  },
  {
   "cell_type": "markdown",
   "source": [
    "<a>https://edabit.com/challenge/BfSj2nBc33aCQrbSg</a>"
   ],
   "metadata": {}
  },
  {
   "cell_type": "code",
   "execution_count": 72,
   "source": [
    "def truncatable(n):\r\n",
    "    numR, numL = str(n), str(n)\r\n",
    "    listR, listL = [numR], [numL]\r\n",
    "    for i in range(1,len(str(n))):\r\n",
    "        listL.append(numR[i:])\r\n",
    "    for i in range(1,len(str(n))):\r\n",
    "        listR.append(numL[:i])\r\n",
    "\r\n",
    "    listL_check = []\r\n",
    "    for i in listL:\r\n",
    "        if i[0] != 0:\r\n",
    "            i = int(i)\r\n",
    "            prime_check = False\r\n",
    "            if (i != 1) and (i != 0):\r\n",
    "                for j in range(2,i):\r\n",
    "                    if (i % j == 0): prime_check = True\r\n",
    "                if prime_check == False : listL_check.append(str(i))\r\n",
    "    listR_check = []\r\n",
    "    for i in listR:\r\n",
    "        if i[0] != 0:\r\n",
    "            i = int(i)\r\n",
    "            prime_check = False\r\n",
    "            if (i != 1) and (i != 0):\r\n",
    "                for j in range(2,i):\r\n",
    "                    if (i % j == 0): prime_check = True\r\n",
    "                if prime_check == False : listR_check.append(str(i))\r\n",
    "\r\n",
    "    if (listL_check == listL) and (listR_check == listR):\r\n",
    "        return \"both\"\r\n",
    "    elif (listL_check == listL): return \"left\"\r\n",
    "    elif (listR_check == listR): return \"right\"\r\n",
    "    else : return False\r\n",
    "\r\n",
    "truncatable(7331)\r\n"
   ],
   "outputs": [
    {
     "output_type": "execute_result",
     "data": {
      "text/plain": [
       "'right'"
      ]
     },
     "metadata": {},
     "execution_count": 72
    }
   ],
   "metadata": {}
  },
  {
   "cell_type": "markdown",
   "source": [
    "# rstrip() method trim all duplicate values so if 7331 is case shown below\r\n",
    "# rstrip trim the \"3\" value at once"
   ],
   "metadata": {}
  },
  {
   "cell_type": "code",
   "execution_count": 54,
   "source": [
    "a = \"7331\"\r\n",
    "a = a.rstrip(a[-1])\r\n",
    "a.rstrip(a[-1])"
   ],
   "outputs": [
    {
     "output_type": "execute_result",
     "data": {
      "text/plain": [
       "'7'"
      ]
     },
     "metadata": {},
     "execution_count": 54
    }
   ],
   "metadata": {}
  },
  {
   "cell_type": "code",
   "execution_count": 39,
   "source": [
    "lst = (['62383', '2383', '383', '83', '3'], ['62383', '6238', '623', '62', '6'])\r\n",
    "prime = 6\r\n",
    "for i in range(1,prime+1):\r\n",
    "    counter = 0\r\n",
    "    if prime % i == 0:\r\n",
    "        counter += 1\r\n",
    "if counter <= 2 :\r\n",
    "    print(prime, \"it is prime number\")\r\n"
   ],
   "outputs": [
    {
     "output_type": "stream",
     "name": "stdout",
     "text": [
      "6 it is prime number\n"
     ]
    }
   ],
   "metadata": {}
  },
  {
   "cell_type": "code",
   "execution_count": 11,
   "source": [
    "hey = \"heyyou\".rstrip()\r\n",
    "hey"
   ],
   "outputs": [
    {
     "output_type": "execute_result",
     "data": {
      "text/plain": [
       "'heyyou'"
      ]
     },
     "metadata": {},
     "execution_count": 11
    }
   ],
   "metadata": {}
  },
  {
   "cell_type": "code",
   "execution_count": 13,
   "source": [
    "kj = 105\r\n",
    "str(kj)[0]"
   ],
   "outputs": [
    {
     "output_type": "execute_result",
     "data": {
      "text/plain": [
       "'1'"
      ]
     },
     "metadata": {},
     "execution_count": 13
    }
   ],
   "metadata": {}
  },
  {
   "cell_type": "code",
   "execution_count": 48,
   "source": [
    "inter = range(2,35)\r\n",
    "prime = []\r\n",
    "for i in inter:\r\n",
    "    count = 0\r\n",
    "    for j in range(1,i+1):\r\n",
    "        if i % j == 0:\r\n",
    "            count += 1\r\n",
    "    if count <= 2:    prime.append(i)\r\n",
    "prime"
   ],
   "outputs": [
    {
     "output_type": "execute_result",
     "data": {
      "text/plain": [
       "[2, 3, 5, 7, 11, 13, 17, 19, 23, 29, 31]"
      ]
     },
     "metadata": {},
     "execution_count": 48
    }
   ],
   "metadata": {}
  }
 ],
 "metadata": {
  "orig_nbformat": 4,
  "language_info": {
   "name": "python",
   "version": "3.9.5",
   "mimetype": "text/x-python",
   "codemirror_mode": {
    "name": "ipython",
    "version": 3
   },
   "pygments_lexer": "ipython3",
   "nbconvert_exporter": "python",
   "file_extension": ".py"
  },
  "kernelspec": {
   "name": "python3",
   "display_name": "Python 3.9.5 64-bit"
  },
  "interpreter": {
   "hash": "df9803d5d1b6cb5abc1edc30c69a1153e23b31bf85805cdabf595a077425259e"
  }
 },
 "nbformat": 4,
 "nbformat_minor": 2
}