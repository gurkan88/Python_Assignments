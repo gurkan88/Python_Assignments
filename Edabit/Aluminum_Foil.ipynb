{
 "cells": [
  {
   "cell_type": "markdown",
   "source": [
    "Aluminum Foil\r\n",
    "Aluminum foil has a thickness of 0.025mm. A roll is formed by tightly winding it around a tube with an outside diameter of 4cm. Given the length of the foil in cm, write a function that returns the diameter of the roll in cm measured at its thickest point. Round the result to four places.\r\n",
    "\r\n",
    "Examples\r\n",
    "foil(0) ➞ 4.0\r\n",
    "\r\n",
    "foil(50) ➞ 4.02\r\n",
    "\r\n",
    "foil(4321) ➞ 5.4575\r\n",
    "\r\n",
    "foil(10000) ➞ 6.9175\r\n",
    "Notes\r\n",
    "N/A\r\n",
    "\r\n",
    "<a>https://edabit.com/challenge/siuKPSYXjjic9zEF2</a>"
   ],
   "metadata": {}
  },
  {
   "cell_type": "code",
   "execution_count": 38,
   "source": [
    "def foil(length):\r\n",
    "    from math import pi\r\n",
    "    diameter, perimeter = 4, 4*pi\r\n",
    "    while (length >= perimeter) :\r\n",
    "        length -= perimeter\r\n",
    "        diameter += 0.0025 * 2\r\n",
    "        perimeter = diameter * pi\r\n",
    "    if 0 < length < perimeter/2 : diameter += 0.0025\r\n",
    "    elif perimeter/2 <= length < perimeter : diameter += 0.0025 * 2\r\n",
    "    return round(diameter,4)\r\n",
    "\r\n",
    "foil(1000)\r\n"
   ],
   "outputs": [
    {
     "output_type": "execute_result",
     "data": {
      "text/plain": [
       "4.3825"
      ]
     },
     "metadata": {},
     "execution_count": 38
    }
   ],
   "metadata": {}
  }
 ],
 "metadata": {
  "orig_nbformat": 4,
  "language_info": {
   "name": "python",
   "version": "3.9.5",
   "mimetype": "text/x-python",
   "codemirror_mode": {
    "name": "ipython",
    "version": 3
   },
   "pygments_lexer": "ipython3",
   "nbconvert_exporter": "python",
   "file_extension": ".py"
  },
  "kernelspec": {
   "name": "python3",
   "display_name": "Python 3.9.5 64-bit"
  },
  "interpreter": {
   "hash": "df9803d5d1b6cb5abc1edc30c69a1153e23b31bf85805cdabf595a077425259e"
  }
 },
 "nbformat": 4,
 "nbformat_minor": 2
}