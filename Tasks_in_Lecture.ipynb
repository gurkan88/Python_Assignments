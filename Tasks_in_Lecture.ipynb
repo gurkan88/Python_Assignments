{
 "cells": [
  {
   "cell_type": "code",
   "execution_count": 23,
   "source": [
    "text = list(input(\"enter the text:\").split(\" \"))\r\n",
    "i = 0\r\n",
    "list1 = []\r\n",
    "while i < len(text):\r\n",
    "    list1.append(len(text[i]))\r\n",
    "    i += 1\r\n",
    "print(max(list1))\r\n",
    "\r\n"
   ],
   "outputs": [
    {
     "output_type": "stream",
     "name": "stdout",
     "text": [
      "9\n"
     ]
    }
   ],
   "metadata": {}
  },
  {
   "cell_type": "code",
   "execution_count": 5,
   "source": [
    "text = input(\"enter the text: \")\r\n",
    "list1 = []\r\n",
    "for i in range(len(text)):\r\n",
    "    list1.append(text[i])\r\n",
    "print(list1)"
   ],
   "outputs": [
    {
     "output_type": "stream",
     "name": "stdout",
     "text": [
      "['c', 'l', 'a', 'r', 'u', 's', 'w', 'a', 'y']\n"
     ]
    }
   ],
   "metadata": {}
  },
  {
   "cell_type": "code",
   "execution_count": 7,
   "source": [
    "text = input(\"enter the text: \")\r\n",
    "list1 = []\r\n",
    "for i in text:\r\n",
    "    list1.append(i)\r\n",
    "print(list1)"
   ],
   "outputs": [
    {
     "output_type": "stream",
     "name": "stdout",
     "text": [
      "['c', 'l', 'a', 'r', 'u', 's']\n"
     ]
    }
   ],
   "metadata": {}
  },
  {
   "cell_type": "code",
   "execution_count": 9,
   "source": [
    "for i in range(1,10):\r\n",
    "    print(str(i)*i)"
   ],
   "outputs": [
    {
     "output_type": "stream",
     "name": "stdout",
     "text": [
      "1\n",
      "22\n",
      "333\n",
      "4444\n",
      "55555\n",
      "666666\n",
      "7777777\n",
      "88888888\n",
      "999999999\n"
     ]
    }
   ],
   "metadata": {}
  },
  {
   "cell_type": "code",
   "execution_count": null,
   "source": [
    "text = ['one', 'two', 'three', 'four', 'five']\r\n",
    "numbers = [1, 2, 3, 4, 5]"
   ],
   "outputs": [],
   "metadata": {}
  },
  {
   "cell_type": "code",
   "execution_count": null,
   "source": [
    "even = [0,2,4,6,8]\r\n",
    "odd = [1,3,5,7,9]"
   ],
   "outputs": [],
   "metadata": {}
  },
  {
   "cell_type": "code",
   "execution_count": 24,
   "source": [
    "number = 23\r\n",
    "if number >= 10 :\r\n",
    "    print(\"The number is equal or greater than 10\")\r\n",
    "elif number < 10:\r\n",
    "    print(\"The number is less than 10\")"
   ],
   "outputs": [
    {
     "output_type": "stream",
     "name": "stdout",
     "text": [
      "The number is equal or greater than 10\n"
     ]
    }
   ],
   "metadata": {}
  },
  {
   "cell_type": "code",
   "execution_count": 25,
   "source": [
    "answer = 44\r\n",
    "\r\n",
    "question = 'What number am I thinking of?  '\r\n",
    "print (\"Let's play the guessing game!\")\r\n",
    "\r\n",
    "while True:\r\n",
    "    guess = int(input(question))\r\n",
    "    if guess < answer:\r\n",
    "        print('Little higher')\r\n",
    "    elif guess > answer:\r\n",
    "        print('Little lower')\r\n",
    "    else:  # guess == answer\r\n",
    "        print('Are you a MINDREADER!!!')\r\n",
    "        break"
   ],
   "outputs": [
    {
     "output_type": "stream",
     "name": "stdout",
     "text": [
      "Let's play the guessing game!\n",
      "Little higher\n",
      "Little lower\n",
      "Are you a MINDREADER!!!\n"
     ]
    }
   ],
   "metadata": {}
  },
  {
   "cell_type": "code",
   "execution_count": 26,
   "source": [
    "flowers = ['Rose', 'Orchid', 'Tulip']\r\n",
    "count1 = len(flowers)\r\n",
    "count2 = 0\r\n",
    "\r\n",
    "while count1>0 :\r\n",
    "    print(flowers[count2])\r\n",
    "    count1 -= 1\r\n",
    "    count2 += 1"
   ],
   "outputs": [
    {
     "output_type": "stream",
     "name": "stdout",
     "text": [
      "Rose\n",
      "Orchid\n",
      "Tulip\n"
     ]
    }
   ],
   "metadata": {}
  },
  {
   "cell_type": "code",
   "execution_count": 27,
   "source": [
    "5*2"
   ],
   "outputs": [
    {
     "output_type": "execute_result",
     "data": {
      "text/plain": [
       "10"
      ]
     },
     "metadata": {},
     "execution_count": 27
    }
   ],
   "metadata": {}
  },
  {
   "cell_type": "code",
   "execution_count": 32,
   "source": [
    "1000000"
   ],
   "outputs": [
    {
     "output_type": "execute_result",
     "data": {
      "text/plain": [
       "1000000"
      ]
     },
     "metadata": {},
     "execution_count": 32
    }
   ],
   "metadata": {}
  },
  {
   "cell_type": "code",
   "execution_count": 30,
   "source": [
    "1_000_000"
   ],
   "outputs": [
    {
     "output_type": "execute_result",
     "data": {
      "text/plain": [
       "1000000"
      ]
     },
     "metadata": {},
     "execution_count": 30
    }
   ],
   "metadata": {}
  },
  {
   "cell_type": "code",
   "execution_count": 35,
   "source": [
    "with open(\"README.md\") as f:\r\n",
    "    file_contents = f.read()\r\n",
    "words = file_contents.split(\" \")\r\n",
    "word_count = len(words)\r\n",
    "print(word_count)\r\n",
    "print(words)\r\n"
   ],
   "outputs": [
    {
     "output_type": "stream",
     "name": "stdout",
     "text": [
      "7\n",
      "['#', 'python_assignments\\nthis', 'repo', 'is', 'for', 'python', 'assignments\\n']\n"
     ]
    }
   ],
   "metadata": {}
  },
  {
   "cell_type": "code",
   "execution_count": 40,
   "source": [
    "names = [\"Corey\", \"Chris\", \"Dave\", \"Travis\"]\r\n",
    "index = 0\r\n",
    "for name in names:\r\n",
    "    print(index, name)\r\n",
    "    index += 1"
   ],
   "outputs": [
    {
     "output_type": "stream",
     "name": "stdout",
     "text": [
      "0 Corey\n",
      "1 Chris\n",
      "2 Dave\n",
      "3 Travis\n"
     ]
    }
   ],
   "metadata": {}
  },
  {
   "cell_type": "code",
   "execution_count": 48,
   "source": [
    "names = [\"Corey\", \"Chris\", \"Dave\", \"Travis\"]\r\n",
    "\r\n",
    "for index, name in enumerate(names):\r\n",
    "    print(index, name)\r\n"
   ],
   "outputs": [
    {
     "output_type": "stream",
     "name": "stdout",
     "text": [
      "0 Corey\n",
      "1 Chris\n",
      "2 Dave\n",
      "3 Travis\n"
     ]
    }
   ],
   "metadata": {}
  },
  {
   "cell_type": "code",
   "execution_count": 49,
   "source": [
    "names = [\"Corey\", \"Chris\", \"Dave\", \"Travis\"]\r\n",
    "\r\n",
    "for index, name in enumerate(names, start=1):\r\n",
    "    print(index, name)"
   ],
   "outputs": [
    {
     "output_type": "stream",
     "name": "stdout",
     "text": [
      "1 Corey\n",
      "2 Chris\n",
      "3 Dave\n",
      "4 Travis\n"
     ]
    }
   ],
   "metadata": {}
  },
  {
   "cell_type": "code",
   "execution_count": null,
   "source": [
    "names = [\"Corey\", \"Chris\", \"Dave\", \"Travis\"]\r\n",
    "heroes = [\"Spiderman\", \"Superman\", \"Deadpool\", \"Batman\"]\r\n",
    "for index, name in enumerate(names, start=1):\r\n",
    "    print(index, name)"
   ],
   "outputs": [],
   "metadata": {}
  },
  {
   "cell_type": "code",
   "execution_count": 52,
   "source": [
    "for i in {'n1' : 'one', 'n2' : 'two'} : print(i)"
   ],
   "outputs": [
    {
     "output_type": "stream",
     "name": "stdout",
     "text": [
      "n1\n",
      "n2\n"
     ]
    }
   ],
   "metadata": {}
  },
  {
   "cell_type": "code",
   "execution_count": 1,
   "source": [
    "print(range(5))\r\n",
    "\r\n",
    "print(*range(5)) \r\n"
   ],
   "outputs": [
    {
     "output_type": "stream",
     "name": "stdout",
     "text": [
      "range(0, 5)\n",
      "0 1 2 3 4\n"
     ]
    }
   ],
   "metadata": {}
  },
  {
   "cell_type": "code",
   "execution_count": null,
   "source": [
    "n = int(input('enter a number between 1-10'))\r\n",
    "\r\n",
    "for i in range(11):\r\n",
    "    print('{}x{} = '.format(n, i), n*i)"
   ],
   "outputs": [],
   "metadata": {}
  },
  {
   "cell_type": "code",
   "execution_count": 17,
   "source": [
    "sentence = \"  I live and work in Virginia  \"\r\n",
    "\r\n",
    "print(sentence.upper())  \r\n",
    "\r\n",
    "print(sentence.lower())\r\n",
    "\r\n",
    "print(sentence.swapcase())\r\n",
    "print(str.upper(sentence))\r\n",
    "print(sentence.replace(\"i\", \"A\",2))\r\n",
    "\r\n",
    "print(sentence)  # note that, source text is unchanged\r\n"
   ],
   "outputs": [
    {
     "output_type": "stream",
     "name": "stdout",
     "text": [
      "  I LIVE AND WORK IN VIRGINIA  \n",
      "  i live and work in virginia  \n",
      "  i LIVE AND WORK IN vIRGINIA  \n",
      "  I LIVE AND WORK IN VIRGINIA  \n",
      "  I lAve and work An Virginia  \n",
      "  I live and work in Virginia  \n"
     ]
    }
   ],
   "metadata": {}
  },
  {
   "cell_type": "code",
   "execution_count": 29,
   "source": [
    "sentence1 = \"  I live and work in Virginia  \"\r\n",
    "print(sentence1.strip().rstrip(\"ai\").lstrip(\"I \"))\r\n",
    "print(sentence1)"
   ],
   "outputs": [
    {
     "output_type": "stream",
     "name": "stdout",
     "text": [
      "live and work in Virgin\n",
      "  I live and work in Virginia  \n"
     ]
    }
   ],
   "metadata": {}
  },
  {
   "cell_type": "code",
   "execution_count": 31,
   "source": [
    "print((False or {0}) and [])"
   ],
   "outputs": [
    {
     "output_type": "stream",
     "name": "stdout",
     "text": [
      "[]\n"
     ]
    }
   ],
   "metadata": {}
  },
  {
   "cell_type": "code",
   "execution_count": 32,
   "source": [
    "print(int(\"5\" + \"1\"))\r\n",
    "print(str(\"5\" + \"1\"))\r\n",
    "print(\"5\" + \"1\")"
   ],
   "outputs": [
    {
     "output_type": "stream",
     "name": "stdout",
     "text": [
      "51\n",
      "51\n",
      "51\n"
     ]
    }
   ],
   "metadata": {}
  },
  {
   "cell_type": "code",
   "execution_count": 33,
   "source": [
    "var1 = \"sleep\"\r\n",
    "var2 = \"eat\"\r\n",
    "var3 = \"better\"\r\n",
    "var4 = \"life\"\r\n",
    "print(f\"The less you {var1} and {var2}, the {var3} your {var4} will be.\")"
   ],
   "outputs": [
    {
     "output_type": "stream",
     "name": "stdout",
     "text": [
      "The less you sleep and eat, the better your life will be.\n"
     ]
    }
   ],
   "metadata": {}
  },
  {
   "cell_type": "code",
   "execution_count": 34,
   "source": [
    "city = \"SARAJEVO\"\r\n",
    "print(f\"{city.lower().capitalize()}\")"
   ],
   "outputs": [
    {
     "output_type": "stream",
     "name": "stdout",
     "text": [
      "Sarajevo\n"
     ]
    }
   ],
   "metadata": {}
  },
  {
   "cell_type": "code",
   "execution_count": 43,
   "source": [
    "generate = (i ** 2 for i in range(6))\r\n",
    "print(generate)\r\n",
    "print(*generate)\r\n",
    "list(list(generate))"
   ],
   "outputs": [
    {
     "output_type": "stream",
     "name": "stdout",
     "text": [
      "<generator object <genexpr> at 0x000001E2C8565C10>\n",
      "0 1 4 9 16 25\n"
     ]
    },
    {
     "output_type": "execute_result",
     "data": {
      "text/plain": [
       "[]"
      ]
     },
     "metadata": {},
     "execution_count": 43
    }
   ],
   "metadata": {}
  },
  {
   "cell_type": "code",
   "execution_count": 49,
   "source": [
    "map((i ** 2 for i in range(6)),i)"
   ],
   "outputs": [
    {
     "output_type": "error",
     "ename": "NameError",
     "evalue": "name 'i' is not defined",
     "traceback": [
      "\u001b[1;31m---------------------------------------------------------------------------\u001b[0m",
      "\u001b[1;31mNameError\u001b[0m                                 Traceback (most recent call last)",
      "\u001b[1;32m~\\AppData\\Local\\Temp/ipykernel_1668/2438330844.py\u001b[0m in \u001b[0;36m<module>\u001b[1;34m\u001b[0m\n\u001b[1;32m----> 1\u001b[1;33m \u001b[0mmap\u001b[0m\u001b[1;33m(\u001b[0m\u001b[1;33m(\u001b[0m\u001b[0mi\u001b[0m \u001b[1;33m**\u001b[0m \u001b[1;36m2\u001b[0m \u001b[1;32mfor\u001b[0m \u001b[0mi\u001b[0m \u001b[1;32min\u001b[0m \u001b[0mrange\u001b[0m\u001b[1;33m(\u001b[0m\u001b[1;36m6\u001b[0m\u001b[1;33m)\u001b[0m\u001b[1;33m)\u001b[0m\u001b[1;33m,\u001b[0m\u001b[0mi\u001b[0m\u001b[1;33m)\u001b[0m\u001b[1;33m\u001b[0m\u001b[1;33m\u001b[0m\u001b[0m\n\u001b[0m",
      "\u001b[1;31mNameError\u001b[0m: name 'i' is not defined"
     ]
    }
   ],
   "metadata": {}
  },
  {
   "cell_type": "code",
   "execution_count": 10,
   "source": [
    "round(12.5)\r\n",
    "round(10.8)\r\n",
    "round(3.665,2)\r\n",
    "round(3.675,2)"
   ],
   "outputs": [
    {
     "output_type": "execute_result",
     "data": {
      "text/plain": [
       "3.67"
      ]
     },
     "metadata": {},
     "execution_count": 10
    }
   ],
   "metadata": {}
  },
  {
   "cell_type": "code",
   "execution_count": null,
   "source": [
    "def add(a,b):\r\n",
    "    return a+b\r\n"
   ],
   "outputs": [],
   "metadata": {}
  },
  {
   "cell_type": "code",
   "execution_count": 13,
   "source": [
    "def calculator(x,y,operator):\r\n",
    "    if operator == \"+\" or \"-\" or \"/\" or \"*\":\r\n",
    "        if operator == \"+\":\r\n",
    "            return x + y\r\n",
    "        elif operator == \"-\":\r\n",
    "            return x - y\r\n",
    "        elif operator == \"/\":\r\n",
    "            return x / y\r\n",
    "        elif operator == \"*\":\r\n",
    "            return x * y\r\n",
    "    else:\r\n",
    "        print(\"Enter valid arguments\")\r\n"
   ],
   "outputs": [],
   "metadata": {}
  },
  {
   "cell_type": "code",
   "execution_count": 23,
   "source": [
    "def absolute_value(x):\r\n",
    "    '''  This function gives absolute value\\\r\n",
    "of the entered number.  '''\r\n",
    "    if int(x) < 0:\r\n",
    "        return -x\r\n",
    "    elif int(x) >= 0:\r\n",
    "        return x\r\n",
    "\r\n",
    "absolute_value(-25)"
   ],
   "outputs": [
    {
     "output_type": "execute_result",
     "data": {
      "text/plain": [
       "25"
      ]
     },
     "metadata": {},
     "execution_count": 23
    }
   ],
   "metadata": {}
  },
  {
   "cell_type": "code",
   "execution_count": 24,
   "source": [
    "print(absolute_value.__doc__)"
   ],
   "outputs": [
    {
     "output_type": "stream",
     "name": "stdout",
     "text": [
      "  This function gives absolute valueof the entered number.  \n"
     ]
    }
   ],
   "metadata": {}
  },
  {
   "cell_type": "code",
   "execution_count": 17,
   "source": [
    "print(abs.__doc__)"
   ],
   "outputs": [
    {
     "output_type": "stream",
     "name": "stdout",
     "text": [
      "Return the absolute value of the argument.\n"
     ]
    }
   ],
   "metadata": {}
  },
  {
   "cell_type": "code",
   "execution_count": 32,
   "source": [
    "text = \"Clarusway, \"\r\n",
    "\r\n",
    "print(text*3,\"\\n\\t\",text*3,\"\\n\\t\\t\",(text*3).rstrip(\" ,\"),sep=\"\",)"
   ],
   "outputs": [
    {
     "output_type": "stream",
     "name": "stdout",
     "text": [
      "Clarusway, Clarusway, Clarusway, \n",
      "\tClarusway, Clarusway, Clarusway, \n",
      "\t\tClarusway, Clarusway, Clarusway\n"
     ]
    }
   ],
   "metadata": {}
  },
  {
   "cell_type": "code",
   "execution_count": 33,
   "source": [
    "print(False or ([] and {0}))"
   ],
   "outputs": [
    {
     "output_type": "stream",
     "name": "stdout",
     "text": [
      "[]\n"
     ]
    }
   ],
   "metadata": {}
  },
  {
   "cell_type": "code",
   "execution_count": 39,
   "source": [
    "deposit = 1000\r\n",
    "deposit += deposit*0.07*7\r\n",
    "print(deposit)"
   ],
   "outputs": [
    {
     "output_type": "stream",
     "name": "stdout",
     "text": [
      "1490.0\n"
     ]
    }
   ],
   "metadata": {}
  },
  {
   "cell_type": "code",
   "execution_count": 50,
   "source": [
    "def converter_temp():\r\n",
    "\r\n",
    "    '''This function gives the fahrenheit temperature value\r\n",
    "       from celcius temperature value entered when function called'''\r\n",
    "\r\n",
    "    celcius = float(input(\"Enter the temperature(Celcius) : \"))\r\n",
    "    fahrenheit = celcius*1.8 + 32.0\r\n",
    "    return fahrenheit\r\n",
    "\r\n",
    "def converter_distance():\r\n",
    "\r\n",
    "    '''This function converts the distance input from kilometers\r\n",
    "    to miles.'''\r\n",
    "\r\n",
    "    kilometer = float(input(\"Enter the distance in kilometer: \"))\r\n",
    "    miles = kilometer*0.62\r\n",
    "    return miles\r\n",
    "\r\n",
    "print(converter_temp(), \"Fahrenheit\")\r\n",
    "print(converter_distance(), \"miles\")"
   ],
   "outputs": [
    {
     "output_type": "stream",
     "name": "stdout",
     "text": [
      "104.0 Fahrenheit\n",
      "9.3 miles\n"
     ]
    }
   ],
   "metadata": {}
  },
  {
   "cell_type": "code",
   "execution_count": 53,
   "source": [
    "list1 = [3,5,9,\"va\"]\r\n",
    "dict1 = {5:\"five\",6:\"six\"}\r\n",
    "tuple1 = (4,9,87,1,3)\r\n",
    "tuple2 = (3,)\r\n",
    "type(tuple2)"
   ],
   "outputs": [
    {
     "output_type": "execute_result",
     "data": {
      "text/plain": [
       "tuple"
      ]
     },
     "metadata": {},
     "execution_count": 53
    }
   ],
   "metadata": {}
  },
  {
   "cell_type": "code",
   "execution_count": 51,
   "source": [
    "even_numbers = [2, 4, 6, 8, 10, 12, 14, 16, 18, 20]\r\n",
    "\r\n",
    "print(even_numbers[4:9])"
   ],
   "outputs": [
    {
     "output_type": "stream",
     "name": "stdout",
     "text": [
      "[10, 12, 14, 16, 18]\n"
     ]
    }
   ],
   "metadata": {}
  },
  {
   "cell_type": "code",
   "execution_count": 54,
   "source": [
    "# create tuple object and assign it to variable t\r\n",
    "t = ('Jan','Feb','Mar','Jan')\r\n",
    "\r\n",
    "# calling count() method by passing 'Jan' as an argument\r\n",
    "count = t.count('Jan')\r\n",
    "\r\n",
    "# print the value of variable count\r\n",
    "print(count)"
   ],
   "outputs": [
    {
     "output_type": "stream",
     "name": "stdout",
     "text": [
      "2\n"
     ]
    }
   ],
   "metadata": {}
  },
  {
   "cell_type": "code",
   "execution_count": 57,
   "source": [
    "cars = (\"BMW\", \"Audi\", \"Mercedes\")\r\n",
    "print(cars[-1][::-1])"
   ],
   "outputs": [
    {
     "output_type": "stream",
     "name": "stdout",
     "text": [
      "sedecreM\n"
     ]
    }
   ],
   "metadata": {}
  },
  {
   "cell_type": "code",
   "execution_count": 77,
   "source": [
    "my_list = list(range(1,11))\r\n",
    "my_list.sort(reverse=True)\r\n",
    "my_list\r\n"
   ],
   "outputs": [
    {
     "output_type": "execute_result",
     "data": {
      "text/plain": [
       "[10, 9, 8, 7, 6, 5, 4, 3, 2, 1]"
      ]
     },
     "metadata": {},
     "execution_count": 77
    }
   ],
   "metadata": {}
  },
  {
   "cell_type": "code",
   "execution_count": 81,
   "source": [
    "grocer = [\"banana\", [\"orange\", [\"apple\", \"eggplant\", \"melon\", \"spinach\", \"cheese\", \"leek\" ], \"water\"], \"mandarin\"]\r\n",
    "print([grocer[1][1][1],grocer[1][1][3],grocer[1][1][5]])"
   ],
   "outputs": [
    {
     "output_type": "stream",
     "name": "stdout",
     "text": [
      "['eggplant', 'spinach', 'leek']\n"
     ]
    }
   ],
   "metadata": {}
  },
  {
   "cell_type": "code",
   "execution_count": 83,
   "source": [
    "flowers = [[\"jasmine\", [\"lavender\", \"rose\"], \"tulip\"]]\r\n",
    "colors = [\"red\", (\"blue\", [\"yellow\", \"green\"]), \"pink\"]\r\n",
    "print(\"My two favorite flowers are {} and {}, two favorite \\\r\n",
    "colors are {} and {}.\".format(flowers[0][2],flowers[0][1][1],colors[1][0],colors[1][1][1]))"
   ],
   "outputs": [
    {
     "output_type": "stream",
     "name": "stdout",
     "text": [
      "My two favorite flowers are tulip and rose, two favorite colors are blue and green.\n"
     ]
    }
   ],
   "metadata": {}
  },
  {
   "cell_type": "code",
   "execution_count": 92,
   "source": [
    "escapes = [\"\\n\\t\", (\"\\t\", \"\\t\\t\"), [\"\\n\", \"\\n\\t\\t\"]]\r\n",
    "\r\n",
    "sentence = \"I am 40 years old.{}I have two children.{}Data Science is my IT domain.\"\r\n",
    "\r\n",
    "print(sentence.format(escapes[0],escapes[2][1]))\r\n"
   ],
   "outputs": [
    {
     "output_type": "stream",
     "name": "stdout",
     "text": [
      "I am 40 years old.\n",
      "\tI have two children.\n",
      "\t\tData Science is my IT domain.\n"
     ]
    },
    {
     "output_type": "error",
     "ename": "AttributeError",
     "evalue": "'str' object has no attribute 'print'",
     "traceback": [
      "\u001b[1;31m---------------------------------------------------------------------------\u001b[0m",
      "\u001b[1;31mAttributeError\u001b[0m                            Traceback (most recent call last)",
      "\u001b[1;32m~\\AppData\\Local\\Temp/ipykernel_23368/971861808.py\u001b[0m in \u001b[0;36m<module>\u001b[1;34m\u001b[0m\n\u001b[0;32m      4\u001b[0m \u001b[1;33m\u001b[0m\u001b[0m\n\u001b[0;32m      5\u001b[0m \u001b[0mprint\u001b[0m\u001b[1;33m(\u001b[0m\u001b[0msentence\u001b[0m\u001b[1;33m.\u001b[0m\u001b[0mformat\u001b[0m\u001b[1;33m(\u001b[0m\u001b[0mescapes\u001b[0m\u001b[1;33m[\u001b[0m\u001b[1;36m0\u001b[0m\u001b[1;33m]\u001b[0m\u001b[1;33m,\u001b[0m\u001b[0mescapes\u001b[0m\u001b[1;33m[\u001b[0m\u001b[1;36m2\u001b[0m\u001b[1;33m]\u001b[0m\u001b[1;33m[\u001b[0m\u001b[1;36m1\u001b[0m\u001b[1;33m]\u001b[0m\u001b[1;33m)\u001b[0m\u001b[1;33m)\u001b[0m\u001b[1;33m\u001b[0m\u001b[1;33m\u001b[0m\u001b[0m\n\u001b[1;32m----> 6\u001b[1;33m \u001b[0msentence\u001b[0m\u001b[1;33m.\u001b[0m\u001b[0mprint\u001b[0m\u001b[1;33m(\u001b[0m\u001b[1;33m)\u001b[0m\u001b[1;33m\u001b[0m\u001b[1;33m\u001b[0m\u001b[0m\n\u001b[0m",
      "\u001b[1;31mAttributeError\u001b[0m: 'str' object has no attribute 'print'"
     ]
    }
   ],
   "metadata": {}
  },
  {
   "cell_type": "code",
   "execution_count": null,
   "source": [
    "def texter(a,b,c):\r\n",
    "    a = \"I\"\r\n",
    "    b = \"love\"\r\n",
    "    c = \"you\"\r\n",
    "    print(z, x, y)\r\n"
   ],
   "outputs": [],
   "metadata": {}
  },
  {
   "cell_type": "code",
   "execution_count": 1,
   "source": [
    "def parrot(voltage, state='a stiff', action='voom', type='Norwegian Blue'):\r\n",
    "    print(\"-- This parrot wouldn't\", action, end=' ')\r\n",
    "    print(\"if you put\", voltage, \"volts through it.\")\r\n",
    "    print(\"-- Lovely plumage, the\", type)\r\n",
    "    print(\"-- It's\", state, \"!\")"
   ],
   "outputs": [],
   "metadata": {}
  },
  {
   "cell_type": "code",
   "execution_count": 2,
   "source": [
    "parrot(1000)"
   ],
   "outputs": [
    {
     "output_type": "stream",
     "name": "stdout",
     "text": [
      "-- This parrot wouldn't voom if you put 1000 volts through it.\n",
      "-- Lovely plumage, the Norwegian Blue\n",
      "-- It's a stiff !\n"
     ]
    }
   ],
   "metadata": {}
  },
  {
   "cell_type": "code",
   "execution_count": 4,
   "source": [
    "def slicer(*args):\r\n",
    "    even = []\r\n",
    "    odd = []\r\n",
    "    for i in args:\r\n",
    "        if i % 2 == 0:\r\n",
    "            even.append(i)\r\n",
    "        elif i % 2 != 0:\r\n",
    "            odd.append(i)\r\n",
    "    return even, odd\r\n",
    "\r\n",
    "print(slicer(1,2,3,4,5,6,7,8,9,10))"
   ],
   "outputs": [
    {
     "output_type": "stream",
     "name": "stdout",
     "text": [
      "([2, 4, 6, 8, 10], [1, 3, 5, 7, 9])\n"
     ]
    }
   ],
   "metadata": {}
  },
  {
   "cell_type": "code",
   "execution_count": 12,
   "source": [
    "def organizer(**ages):\r\n",
    "    keys = []\r\n",
    "    values = []\r\n",
    "    for i,j in ages.items():\r\n",
    "        keys.append(i)\r\n",
    "        values.append(j)\r\n",
    "    print(keys)\r\n",
    "    print(values)\r\n",
    "\r\n",
    "organizer(Beth=26, Oscar=42, Justin=18, Frank=33)"
   ],
   "outputs": [
    {
     "output_type": "stream",
     "name": "stdout",
     "text": [
      "['Beth', 'Oscar', 'Justin', 'Frank']\n",
      "[26, 42, 18, 33]\n"
     ]
    }
   ],
   "metadata": {}
  },
  {
   "cell_type": "code",
   "execution_count": 14,
   "source": [
    "def organizer(**ages):\r\n",
    "    print(list(ages.keys()))\r\n",
    "    print(list(ages.values()))\r\n",
    "\r\n",
    "organizer(Beth=26, Oscar=42, Justin=18, Frank=33)"
   ],
   "outputs": [
    {
     "output_type": "stream",
     "name": "stdout",
     "text": [
      "['Beth', 'Oscar', 'Justin', 'Frank']\n",
      "[26, 42, 18, 33]\n"
     ]
    }
   ],
   "metadata": {}
  },
  {
   "cell_type": "code",
   "execution_count": 18,
   "source": [
    "help(set)"
   ],
   "outputs": [
    {
     "output_type": "stream",
     "name": "stdout",
     "text": [
      "Help on class set in module builtins:\n",
      "\n",
      "class set(object)\n",
      " |  set() -> new empty set object\n",
      " |  set(iterable) -> new set object\n",
      " |  \n",
      " |  Build an unordered collection of unique elements.\n",
      " |  \n",
      " |  Methods defined here:\n",
      " |  \n",
      " |  __and__(self, value, /)\n",
      " |      Return self&value.\n",
      " |  \n",
      " |  __contains__(...)\n",
      " |      x.__contains__(y) <==> y in x.\n",
      " |  \n",
      " |  __eq__(self, value, /)\n",
      " |      Return self==value.\n",
      " |  \n",
      " |  __ge__(self, value, /)\n",
      " |      Return self>=value.\n",
      " |  \n",
      " |  __getattribute__(self, name, /)\n",
      " |      Return getattr(self, name).\n",
      " |  \n",
      " |  __gt__(self, value, /)\n",
      " |      Return self>value.\n",
      " |  \n",
      " |  __iand__(self, value, /)\n",
      " |      Return self&=value.\n",
      " |  \n",
      " |  __init__(self, /, *args, **kwargs)\n",
      " |      Initialize self.  See help(type(self)) for accurate signature.\n",
      " |  \n",
      " |  __ior__(self, value, /)\n",
      " |      Return self|=value.\n",
      " |  \n",
      " |  __isub__(self, value, /)\n",
      " |      Return self-=value.\n",
      " |  \n",
      " |  __iter__(self, /)\n",
      " |      Implement iter(self).\n",
      " |  \n",
      " |  __ixor__(self, value, /)\n",
      " |      Return self^=value.\n",
      " |  \n",
      " |  __le__(self, value, /)\n",
      " |      Return self<=value.\n",
      " |  \n",
      " |  __len__(self, /)\n",
      " |      Return len(self).\n",
      " |  \n",
      " |  __lt__(self, value, /)\n",
      " |      Return self<value.\n",
      " |  \n",
      " |  __ne__(self, value, /)\n",
      " |      Return self!=value.\n",
      " |  \n",
      " |  __or__(self, value, /)\n",
      " |      Return self|value.\n",
      " |  \n",
      " |  __rand__(self, value, /)\n",
      " |      Return value&self.\n",
      " |  \n",
      " |  __reduce__(...)\n",
      " |      Return state information for pickling.\n",
      " |  \n",
      " |  __repr__(self, /)\n",
      " |      Return repr(self).\n",
      " |  \n",
      " |  __ror__(self, value, /)\n",
      " |      Return value|self.\n",
      " |  \n",
      " |  __rsub__(self, value, /)\n",
      " |      Return value-self.\n",
      " |  \n",
      " |  __rxor__(self, value, /)\n",
      " |      Return value^self.\n",
      " |  \n",
      " |  __sizeof__(...)\n",
      " |      S.__sizeof__() -> size of S in memory, in bytes\n",
      " |  \n",
      " |  __sub__(self, value, /)\n",
      " |      Return self-value.\n",
      " |  \n",
      " |  __xor__(self, value, /)\n",
      " |      Return self^value.\n",
      " |  \n",
      " |  add(...)\n",
      " |      Add an element to a set.\n",
      " |      \n",
      " |      This has no effect if the element is already present.\n",
      " |  \n",
      " |  clear(...)\n",
      " |      Remove all elements from this set.\n",
      " |  \n",
      " |  copy(...)\n",
      " |      Return a shallow copy of a set.\n",
      " |  \n",
      " |  difference(...)\n",
      " |      Return the difference of two or more sets as a new set.\n",
      " |      \n",
      " |      (i.e. all elements that are in this set but not the others.)\n",
      " |  \n",
      " |  difference_update(...)\n",
      " |      Remove all elements of another set from this set.\n",
      " |  \n",
      " |  discard(...)\n",
      " |      Remove an element from a set if it is a member.\n",
      " |      \n",
      " |      If the element is not a member, do nothing.\n",
      " |  \n",
      " |  intersection(...)\n",
      " |      Return the intersection of two sets as a new set.\n",
      " |      \n",
      " |      (i.e. all elements that are in both sets.)\n",
      " |  \n",
      " |  intersection_update(...)\n",
      " |      Update a set with the intersection of itself and another.\n",
      " |  \n",
      " |  isdisjoint(...)\n",
      " |      Return True if two sets have a null intersection.\n",
      " |  \n",
      " |  issubset(...)\n",
      " |      Report whether another set contains this set.\n",
      " |  \n",
      " |  issuperset(...)\n",
      " |      Report whether this set contains another set.\n",
      " |  \n",
      " |  pop(...)\n",
      " |      Remove and return an arbitrary set element.\n",
      " |      Raises KeyError if the set is empty.\n",
      " |  \n",
      " |  remove(...)\n",
      " |      Remove an element from a set; it must be a member.\n",
      " |      \n",
      " |      If the element is not a member, raise a KeyError.\n",
      " |  \n",
      " |  symmetric_difference(...)\n",
      " |      Return the symmetric difference of two sets as a new set.\n",
      " |      \n",
      " |      (i.e. all elements that are in exactly one of the sets.)\n",
      " |  \n",
      " |  symmetric_difference_update(...)\n",
      " |      Update a set with the symmetric difference of itself and another.\n",
      " |  \n",
      " |  union(...)\n",
      " |      Return the union of sets as a new set.\n",
      " |      \n",
      " |      (i.e. all elements that are in either set.)\n",
      " |  \n",
      " |  update(...)\n",
      " |      Update a set with the union of itself and others.\n",
      " |  \n",
      " |  ----------------------------------------------------------------------\n",
      " |  Class methods defined here:\n",
      " |  \n",
      " |  __class_getitem__(...) from builtins.type\n",
      " |      See PEP 585\n",
      " |  \n",
      " |  ----------------------------------------------------------------------\n",
      " |  Static methods defined here:\n",
      " |  \n",
      " |  __new__(*args, **kwargs) from builtins.type\n",
      " |      Create and return a new object.  See help(type) for accurate signature.\n",
      " |  \n",
      " |  ----------------------------------------------------------------------\n",
      " |  Data and other attributes defined here:\n",
      " |  \n",
      " |  __hash__ = None\n",
      "\n"
     ]
    }
   ],
   "metadata": {}
  },
  {
   "cell_type": "code",
   "execution_count": 20,
   "source": [
    "new = {\"p\", \"q\", \"r\"}\r\n",
    "\r\n",
    "for x in new:\r\n",
    "    print(x*2, new)"
   ],
   "outputs": [
    {
     "output_type": "stream",
     "name": "stdout",
     "text": [
      "rr {'r', 'p', 'q'}\n",
      "pp {'r', 'p', 'q'}\n",
      "qq {'r', 'p', 'q'}\n"
     ]
    }
   ],
   "metadata": {}
  },
  {
   "cell_type": "code",
   "execution_count": 21,
   "source": [
    "nhg = {}\r\n",
    "type(nhg)"
   ],
   "outputs": [
    {
     "output_type": "execute_result",
     "data": {
      "text/plain": [
       "dict"
      ]
     },
     "metadata": {},
     "execution_count": 21
    }
   ],
   "metadata": {}
  },
  {
   "cell_type": "code",
   "execution_count": null,
   "source": [
    "print('''it's not a problem using \"triple\" quotes''')"
   ],
   "outputs": [],
   "metadata": {}
  }
 ],
 "metadata": {
  "orig_nbformat": 4,
  "language_info": {
   "name": "python",
   "version": "3.9.5",
   "mimetype": "text/x-python",
   "codemirror_mode": {
    "name": "ipython",
    "version": 3
   },
   "pygments_lexer": "ipython3",
   "nbconvert_exporter": "python",
   "file_extension": ".py"
  },
  "kernelspec": {
   "name": "python3",
   "display_name": "Python 3.9.5 64-bit"
  },
  "interpreter": {
   "hash": "df9803d5d1b6cb5abc1edc30c69a1153e23b31bf85805cdabf595a077425259e"
  }
 },
 "nbformat": 4,
 "nbformat_minor": 2
}