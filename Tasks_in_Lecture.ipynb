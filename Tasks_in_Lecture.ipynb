{
 "cells": [
  {
   "cell_type": "code",
   "execution_count": 23,
   "source": [
    "text = list(input(\"enter the text:\").split(\" \"))\r\n",
    "i = 0\r\n",
    "list1 = []\r\n",
    "while i < len(text):\r\n",
    "    list1.append(len(text[i]))\r\n",
    "    i += 1\r\n",
    "print(max(list1))\r\n",
    "\r\n"
   ],
   "outputs": [
    {
     "output_type": "stream",
     "name": "stdout",
     "text": [
      "9\n"
     ]
    }
   ],
   "metadata": {}
  },
  {
   "cell_type": "code",
   "execution_count": 5,
   "source": [
    "text = input(\"enter the text: \")\r\n",
    "list1 = []\r\n",
    "for i in range(len(text)):\r\n",
    "    list1.append(text[i])\r\n",
    "print(list1)"
   ],
   "outputs": [
    {
     "output_type": "stream",
     "name": "stdout",
     "text": [
      "['c', 'l', 'a', 'r', 'u', 's', 'w', 'a', 'y']\n"
     ]
    }
   ],
   "metadata": {}
  },
  {
   "cell_type": "code",
   "execution_count": 7,
   "source": [
    "text = input(\"enter the text: \")\r\n",
    "list1 = []\r\n",
    "for i in text:\r\n",
    "    list1.append(i)\r\n",
    "print(list1)"
   ],
   "outputs": [
    {
     "output_type": "stream",
     "name": "stdout",
     "text": [
      "['c', 'l', 'a', 'r', 'u', 's']\n"
     ]
    }
   ],
   "metadata": {}
  },
  {
   "cell_type": "code",
   "execution_count": 9,
   "source": [
    "for i in range(1,10):\r\n",
    "    print(str(i)*i)"
   ],
   "outputs": [
    {
     "output_type": "stream",
     "name": "stdout",
     "text": [
      "1\n",
      "22\n",
      "333\n",
      "4444\n",
      "55555\n",
      "666666\n",
      "7777777\n",
      "88888888\n",
      "999999999\n"
     ]
    }
   ],
   "metadata": {}
  },
  {
   "cell_type": "code",
   "execution_count": null,
   "source": [
    "text = ['one', 'two', 'three', 'four', 'five']\r\n",
    "numbers = [1, 2, 3, 4, 5]"
   ],
   "outputs": [],
   "metadata": {}
  },
  {
   "cell_type": "code",
   "execution_count": null,
   "source": [
    "even = [0,2,4,6,8]\r\n",
    "odd = [1,3,5,7,9]"
   ],
   "outputs": [],
   "metadata": {}
  },
  {
   "cell_type": "code",
   "execution_count": 24,
   "source": [
    "number = 23\r\n",
    "if number >= 10 :\r\n",
    "    print(\"The number is equal or greater than 10\")\r\n",
    "elif number < 10:\r\n",
    "    print(\"The number is less than 10\")"
   ],
   "outputs": [
    {
     "output_type": "stream",
     "name": "stdout",
     "text": [
      "The number is equal or greater than 10\n"
     ]
    }
   ],
   "metadata": {}
  },
  {
   "cell_type": "code",
   "execution_count": 25,
   "source": [
    "answer = 44\r\n",
    "\r\n",
    "question = 'What number am I thinking of?  '\r\n",
    "print (\"Let's play the guessing game!\")\r\n",
    "\r\n",
    "while True:\r\n",
    "    guess = int(input(question))\r\n",
    "    if guess < answer:\r\n",
    "        print('Little higher')\r\n",
    "    elif guess > answer:\r\n",
    "        print('Little lower')\r\n",
    "    else:  # guess == answer\r\n",
    "        print('Are you a MINDREADER!!!')\r\n",
    "        break"
   ],
   "outputs": [
    {
     "output_type": "stream",
     "name": "stdout",
     "text": [
      "Let's play the guessing game!\n",
      "Little higher\n",
      "Little lower\n",
      "Are you a MINDREADER!!!\n"
     ]
    }
   ],
   "metadata": {}
  },
  {
   "cell_type": "code",
   "execution_count": 26,
   "source": [
    "flowers = ['Rose', 'Orchid', 'Tulip']\r\n",
    "count1 = len(flowers)\r\n",
    "count2 = 0\r\n",
    "\r\n",
    "while count1>0 :\r\n",
    "    print(flowers[count2])\r\n",
    "    count1 -= 1\r\n",
    "    count2 += 1"
   ],
   "outputs": [
    {
     "output_type": "stream",
     "name": "stdout",
     "text": [
      "Rose\n",
      "Orchid\n",
      "Tulip\n"
     ]
    }
   ],
   "metadata": {}
  },
  {
   "cell_type": "code",
   "execution_count": 27,
   "source": [
    "5*2"
   ],
   "outputs": [
    {
     "output_type": "execute_result",
     "data": {
      "text/plain": [
       "10"
      ]
     },
     "metadata": {},
     "execution_count": 27
    }
   ],
   "metadata": {}
  },
  {
   "cell_type": "code",
   "execution_count": 32,
   "source": [
    "1000000"
   ],
   "outputs": [
    {
     "output_type": "execute_result",
     "data": {
      "text/plain": [
       "1000000"
      ]
     },
     "metadata": {},
     "execution_count": 32
    }
   ],
   "metadata": {}
  },
  {
   "cell_type": "code",
   "execution_count": 30,
   "source": [
    "1_000_000"
   ],
   "outputs": [
    {
     "output_type": "execute_result",
     "data": {
      "text/plain": [
       "1000000"
      ]
     },
     "metadata": {},
     "execution_count": 30
    }
   ],
   "metadata": {}
  },
  {
   "cell_type": "code",
   "execution_count": 35,
   "source": [
    "with open(\"README.md\") as f:\r\n",
    "    file_contents = f.read()\r\n",
    "words = file_contents.split(\" \")\r\n",
    "word_count = len(words)\r\n",
    "print(word_count)\r\n",
    "print(words)\r\n"
   ],
   "outputs": [
    {
     "output_type": "stream",
     "name": "stdout",
     "text": [
      "7\n",
      "['#', 'python_assignments\\nthis', 'repo', 'is', 'for', 'python', 'assignments\\n']\n"
     ]
    }
   ],
   "metadata": {}
  },
  {
   "cell_type": "code",
   "execution_count": 40,
   "source": [
    "names = [\"Corey\", \"Chris\", \"Dave\", \"Travis\"]\r\n",
    "index = 0\r\n",
    "for name in names:\r\n",
    "    print(index, name)\r\n",
    "    index += 1"
   ],
   "outputs": [
    {
     "output_type": "stream",
     "name": "stdout",
     "text": [
      "0 Corey\n",
      "1 Chris\n",
      "2 Dave\n",
      "3 Travis\n"
     ]
    }
   ],
   "metadata": {}
  },
  {
   "cell_type": "code",
   "execution_count": 48,
   "source": [
    "names = [\"Corey\", \"Chris\", \"Dave\", \"Travis\"]\r\n",
    "\r\n",
    "for index, name in enumerate(names):\r\n",
    "    print(index, name)\r\n"
   ],
   "outputs": [
    {
     "output_type": "stream",
     "name": "stdout",
     "text": [
      "0 Corey\n",
      "1 Chris\n",
      "2 Dave\n",
      "3 Travis\n"
     ]
    }
   ],
   "metadata": {}
  },
  {
   "cell_type": "code",
   "execution_count": 49,
   "source": [
    "names = [\"Corey\", \"Chris\", \"Dave\", \"Travis\"]\r\n",
    "\r\n",
    "for index, name in enumerate(names, start=1):\r\n",
    "    print(index, name)"
   ],
   "outputs": [
    {
     "output_type": "stream",
     "name": "stdout",
     "text": [
      "1 Corey\n",
      "2 Chris\n",
      "3 Dave\n",
      "4 Travis\n"
     ]
    }
   ],
   "metadata": {}
  },
  {
   "cell_type": "code",
   "execution_count": null,
   "source": [
    "names = [\"Corey\", \"Chris\", \"Dave\", \"Travis\"]\r\n",
    "heroes = [\"Spiderman\", \"Superman\", \"Deadpool\", \"Batman\"]\r\n",
    "for index, name in enumerate(names, start=1):\r\n",
    "    print(index, name)"
   ],
   "outputs": [],
   "metadata": {}
  },
  {
   "cell_type": "code",
   "execution_count": 52,
   "source": [
    "for i in {'n1' : 'one', 'n2' : 'two'} : print(i)"
   ],
   "outputs": [
    {
     "output_type": "stream",
     "name": "stdout",
     "text": [
      "n1\n",
      "n2\n"
     ]
    }
   ],
   "metadata": {}
  },
  {
   "cell_type": "code",
   "execution_count": 1,
   "source": [
    "print(range(5))\r\n",
    "\r\n",
    "print(*range(5)) \r\n"
   ],
   "outputs": [
    {
     "output_type": "stream",
     "name": "stdout",
     "text": [
      "range(0, 5)\n",
      "0 1 2 3 4\n"
     ]
    }
   ],
   "metadata": {}
  },
  {
   "cell_type": "code",
   "execution_count": null,
   "source": [
    "n = int(input('enter a number between 1-10'))\r\n",
    "\r\n",
    "for i in range(11):\r\n",
    "    print('{}x{} = '.format(n, i), n*i)"
   ],
   "outputs": [],
   "metadata": {}
  }
 ],
 "metadata": {
  "orig_nbformat": 4,
  "language_info": {
   "name": "python",
   "version": "3.9.5",
   "mimetype": "text/x-python",
   "codemirror_mode": {
    "name": "ipython",
    "version": 3
   },
   "pygments_lexer": "ipython3",
   "nbconvert_exporter": "python",
   "file_extension": ".py"
  },
  "kernelspec": {
   "name": "python3",
   "display_name": "Python 3.9.5 64-bit"
  },
  "interpreter": {
   "hash": "df9803d5d1b6cb5abc1edc30c69a1153e23b31bf85805cdabf595a077425259e"
  }
 },
 "nbformat": 4,
 "nbformat_minor": 2
}