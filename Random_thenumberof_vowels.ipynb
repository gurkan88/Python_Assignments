{
 "cells": [
  {
   "cell_type": "code",
   "execution_count": 47,
   "source": [
    "\r\n",
    "wovels = \"a\", \"e\", \"i\", \"o\", \"u\", \"ü\", \"ö\", \"ı\"\r\n",
    "sentence = input(\"enter a sentence: \").strip()\r\n",
    "sentence_format = list(sentence.replace(\" \",\"\").lower())\r\n",
    "wovels_check = []\r\n",
    "number = {}\r\n",
    "for i in range(len(sentence_format)):\r\n",
    "    if sentence_format[i] in wovels:\r\n",
    "        wovels_check.append(sentence_format[i])\r\n",
    "for x in wovels_check:\r\n",
    "    number.update({x:wovels_check.count(x)})\r\n",
    "\r\n",
    "print(sentence, \"\\nThe wovels in this sentence are \",set(wovels_check),\"\\n\",number)\r\n"
   ],
   "outputs": [
    {
     "output_type": "stream",
     "name": "stdout",
     "text": [
      "sakla SAMANI gelir ZAMAnı \n",
      "The wovels in this sentence are  {'i', 'a', 'ı', 'e'} \n",
      " {'a': 6, 'i': 2, 'e': 1, 'ı': 1}\n"
     ]
    }
   ],
   "metadata": {}
  },
  {
   "cell_type": "markdown",
   "source": [
    "\r\n",
    "Kullanıcıdan bir cümle alan ve cümle içerisinde geçen sesli harflerin her birinden kaçar tane olduğunu çıktı veren bir program yazınız.\r\n",
    "Girilen harflerin küçük/büyük olabileceği ihtimalini göz önünde bulundurunuz.\r\n",
    "Kolay Gelsin...\r\n",
    "Beklenen Çıktı:\r\n",
    "cümle: Sakla samanı gelir zamanı.\r\n",
    "a: 6\r\n",
    "ı: 2\r\n",
    "e: 1\r\n",
    "i: 1 (edited) "
   ],
   "metadata": {}
  },
  {
   "cell_type": "code",
   "execution_count": 34,
   "source": [
    "kelime=str(input(\"kelime giriniz : \")).lower()\r\n",
    "kelime=list(kelime)\r\n",
    "liste1=[]\r\n",
    "liste2={}\r\n",
    "liste=(\"a\",\"e\",\"ı\",\"i\",\"o\",\"ö\",\"u\",\"ü\")\r\n",
    "for i in kelime:\r\n",
    " if i in liste:\r\n",
    "   liste1.append(i)\r\n",
    "for i in liste1:\r\n",
    "        if i in liste2:\r\n",
    "            liste2[i] += 1\r\n",
    "        else:\r\n",
    "            liste2[i] = 1\r\n",
    "print(liste2)"
   ],
   "outputs": [
    {
     "output_type": "execute_result",
     "data": {
      "text/plain": [
       "['jk', 'kj', 12]"
      ]
     },
     "metadata": {},
     "execution_count": 34
    }
   ],
   "metadata": {}
  },
  {
   "cell_type": "code",
   "execution_count": 42,
   "source": [
    "cumle = \"Sakla samani gelir zamani\"\r\n",
    "vowels = \"aeiouAEIOU\"\r\n",
    "a={}\r\n",
    "for i in cumle:\r\n",
    "    if i in vowels:\r\n",
    "        if i not in a:\r\n",
    "            a[i] = 1\r\n",
    "        else:\r\n",
    "            a[i] = cumle.count(i)  \r\n",
    "print(a)"
   ],
   "outputs": [
    {
     "output_type": "execute_result",
     "data": {
      "text/plain": [
       "dict"
      ]
     },
     "metadata": {},
     "execution_count": 42
    }
   ],
   "metadata": {}
  },
  {
   "cell_type": "code",
   "execution_count": null,
   "source": [
    "text = input('Enter your text here > ')\r\n",
    "vowels = ['a', 'e', 'u', 'i', 'o']  # for only English characters\r\n",
    "dictt = {}\r\n",
    "for i in text:\r\n",
    "    if i in vowels:\r\n",
    "        if i not in dictt:\r\n",
    "            dictt[i] = 1\r\n",
    "        else:\r\n",
    "            dictt[i] += 1\r\n",
    "print('\\n'.join(\"{}: {}\".format(k, v) for k, v in dictt.items()))"
   ],
   "outputs": [],
   "metadata": {}
  },
  {
   "cell_type": "code",
   "execution_count": null,
   "source": [
    "# A different solution\r\n",
    "text = input('Enter your text here > ')\r\n",
    "vowels = ['a', 'e', 'u', 'i', 'o']  # for only English characters\r\n",
    "dictt = {}\r\n",
    "for i in text:\r\n",
    "    if i in vowels:\r\n",
    "        dictt[i] = dictt.get(i, 0) + 1\r\n",
    "print('\\n'.join(\"{}: {}\".format(k, v) for k, v in dictt.items()))"
   ],
   "outputs": [],
   "metadata": {}
  },
  {
   "cell_type": "code",
   "execution_count": 59,
   "source": [
    "def Wovels(sentence):\r\n",
    "    wovels = \"a\", \"e\", \"i\", \"o\", \"u\", \"ü\", \"ö\", \"ı\"\r\n",
    "    sentence_format = str(sentence.strip().replace(\" \",\"\").lower())\r\n",
    "    wovels_check1 = []\r\n",
    "    wovels_check2 = {}\r\n",
    "    for i in range(len(sentence_format)):\r\n",
    "        if sentence_format[i] in wovels:\r\n",
    "            wovels_check1.append(sentence_format[i])\r\n",
    "    for x in wovels_check1:\r\n",
    "            wovels_check2.update({x:wovels_check1.count(x)})\r\n",
    "    print(sentence, \"\\nThe wovels in this sentence are;\",\"\\n\",wovels_check2,sep=\"\")\r\n",
    "\r\n",
    "input1 = input(\"Please enter a sentence:\")\r\n",
    "Wovels(input1)"
   ],
   "outputs": [
    {
     "output_type": "stream",
     "name": "stdout",
     "text": [
      " hey you SAKLA samanı \n",
      "The wovels in this sentence are;\n",
      "{'e': 1, 'o': 1, 'u': 1, 'a': 4, 'ı': 1}\n"
     ]
    }
   ],
   "metadata": {}
  },
  {
   "cell_type": "code",
   "execution_count": 49,
   "source": [],
   "outputs": [
    {
     "output_type": "stream",
     "name": "stdout",
     "text": [
      "+\n",
      "+\n",
      "+\n",
      "+\n",
      "+\n",
      "+\n"
     ]
    }
   ],
   "metadata": {}
  }
 ],
 "metadata": {
  "orig_nbformat": 4,
  "language_info": {
   "name": "python"
  }
 },
 "nbformat": 4,
 "nbformat_minor": 2
}