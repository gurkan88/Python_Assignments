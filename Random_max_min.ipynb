{
 "cells": [
  {
   "cell_type": "markdown",
   "source": [
    "Write a Python code that find the students who have maximum and minimum average at below.\r\n",
    "grades={'Student-1': {'Lesson-1': 57, 'Lesson-2': 46, 'Lesson-3': 58, 'Lesson-4': 81, 'Lesson-5': 85}, 'Student-2': {'Lesson-1': 85, 'Lesson-2': 56, 'Lesson-3': 51, 'Lesson-4': 69, 'Lesson-5': 67}, 'Student-3': {'Lesson-1': 68, 'Lesson-2': 76, 'Lesson-3': 87, 'Lesson-4': 57, 'Lesson-5': 56}, 'Student-4': {'Lesson-1': 78, 'Lesson-2': 93, 'Lesson-3': 88, 'Lesson-4': 38, 'Lesson-5': 54}, 'Student-5': {'Lesson-1': 50, 'Lesson-2': 46, 'Lesson-3': 78, 'Lesson-4': 81, 'Lesson-5': 75}}"
   ],
   "metadata": {}
  },
  {
   "cell_type": "code",
   "execution_count": 96,
   "source": [
    "class Student_info:\r\n",
    "    \r\n",
    "    def __init__(grade, Lesson_1, Lesson_2, Lesson_3, Lesson_4, Lesson_5):\r\n",
    "        grade.Lesson_1 = Lesson_1\r\n",
    "        grade.Lesson_2 = Lesson_2\r\n",
    "        grade.Lesson_3 = Lesson_3\r\n",
    "        grade.Lesson_4 = Lesson_4\r\n",
    "        grade.Lesson_5 = Lesson_5\r\n",
    "\r\n",
    "    def myfunc(self):\r\n",
    "        average = (self.Lesson_1 + self.Lesson_2 + self.Lesson_3 + self.Lesson_4 + self.Lesson_5)/5\r\n",
    "        print(average)\r\n",
    "\r\n",
    "Student_1 = Student_info(57,46,58,81,85)\r\n",
    "\r\n",
    "Student_2 = Student_info(85,56,51,69,67)\r\n",
    "\r\n",
    "Student_3 = Student_info(68,76,87,57,56)\r\n",
    "\r\n",
    "Student_4 = Student_info(78,93,88,38,54)\r\n",
    "\r\n",
    "Student_5 = Student_info(50,46,78,81,75)\r\n",
    "\r\n",
    "\r\n",
    "max_min = [\r\n",
    "    Student_1.myfunc(),\r\n",
    "    Student_2.myfunc(),\r\n",
    "    Student_3.myfunc(),\r\n",
    "    Student_4.myfunc(),\r\n",
    "    Student_5.myfunc()]\r\n",
    "\r\n",
    "max_min\r\n"
   ],
   "outputs": [
    {
     "output_type": "error",
     "ename": "AttributeError",
     "evalue": "'Student_info' object has no attribute 'myfunc'",
     "traceback": [
      "\u001b[1;31m---------------------------------------------------------------------------\u001b[0m",
      "\u001b[1;31mAttributeError\u001b[0m                            Traceback (most recent call last)",
      "\u001b[1;32m~\\AppData\\Local\\Temp/ipykernel_2472/457611429.py\u001b[0m in \u001b[0;36m<module>\u001b[1;34m\u001b[0m\n\u001b[0;32m     24\u001b[0m \u001b[1;33m\u001b[0m\u001b[0m\n\u001b[0;32m     25\u001b[0m max_min = [\n\u001b[1;32m---> 26\u001b[1;33m     \u001b[0mStudent_1\u001b[0m\u001b[1;33m.\u001b[0m\u001b[0mmyfunc\u001b[0m\u001b[1;33m(\u001b[0m\u001b[1;33m)\u001b[0m\u001b[1;33m,\u001b[0m\u001b[1;33m\u001b[0m\u001b[1;33m\u001b[0m\u001b[0m\n\u001b[0m\u001b[0;32m     27\u001b[0m     \u001b[0mStudent_2\u001b[0m\u001b[1;33m.\u001b[0m\u001b[0mmyfunc\u001b[0m\u001b[1;33m(\u001b[0m\u001b[1;33m)\u001b[0m\u001b[1;33m,\u001b[0m\u001b[1;33m\u001b[0m\u001b[1;33m\u001b[0m\u001b[0m\n\u001b[0;32m     28\u001b[0m     \u001b[0mStudent_3\u001b[0m\u001b[1;33m.\u001b[0m\u001b[0mmyfunc\u001b[0m\u001b[1;33m(\u001b[0m\u001b[1;33m)\u001b[0m\u001b[1;33m,\u001b[0m\u001b[1;33m\u001b[0m\u001b[1;33m\u001b[0m\u001b[0m\n",
      "\u001b[1;31mAttributeError\u001b[0m: 'Student_info' object has no attribute 'myfunc'"
     ]
    }
   ],
   "metadata": {}
  },
  {
   "cell_type": "code",
   "execution_count": null,
   "source": [
    "def average(self, Student_1, Student_2, Student_3, Student_4, Student_5):\r\n",
    "        pass\r\n",
    "\r\n",
    "\r\n",
    "\r\n",
    "x.max_min()\r\n",
    "\r\n",
    "\r\n",
    "max_min = [\r\n",
    "    Student_1,\r\n",
    "    Student_2.myfunc(),\r\n",
    "    Student_3.myfunc(),\r\n",
    "    Student_4.myfunc(),\r\n",
    "    Student_5.myfunc()]\r\n",
    "\r\n",
    "max_min\r\n"
   ],
   "outputs": [],
   "metadata": {}
  }
 ],
 "metadata": {
  "orig_nbformat": 4,
  "language_info": {
   "name": "python"
  }
 },
 "nbformat": 4,
 "nbformat_minor": 2
}