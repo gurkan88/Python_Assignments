{
 "cells": [
  {
   "cell_type": "code",
   "execution_count": null,
   "source": [
    "#password generator\r\n",
    "mostcommon25_names_man = \"James\tRobert\tJohn\tMichael\tWilliam\tDavid\tRichard\tJoseph\\\r\n",
    "    \tThomas\tCharles\tChristopher\tDaniel\tMatthew\tAnthony\tMark\t\\\r\n",
    "        Donald\tSteven\tPaul\tAndrew\tJoshua\tKenneth\tKevin\tBrian\tGeorge\tEdward\"\r\n",
    "mostcommon25_names_woman = \"Mary\tPatricia\tJennifer\tLinda\tElizabeth\tBarbara\tSusan\\\r\n",
    "        Jessica\tSarah\tKaren\tNancy\tLisa\tBetty\tMargaret\tSandra\tAshley\tKimberly\\\r\n",
    "        \tEmily\tDonna\tMichelle\tDorothy\tCarol\tAmanda\tMelissa\tDeborah\"\r\n",
    "mostcommon_surnames = \"Johnson\tWilliams\tBrown\tJones\tGarcia\tMiller\tDavis\tRodriguez\\\r\n",
    "    \tMartinez\tHernandez\tLopez\tGonzales\tWilson\tAnderson\tThomas\tTaylor\tMoore\\\r\n",
    "        Jackson\tMartin\tLee\tPerez\tThompson\tWhite\tHarris\tSanchez\tClark\tRamirez\tLewis\\\r\n",
    "        Robinson\tWalker\tYoung\tAllen\tKing\tWright\tScott\tTorres\tNguyen\tHill\\\r\n",
    "        Flores\tGreen\tAdams\tNelson\tBaker\tHall\tRivera\tCampbell\tMitchell\tCarter\\\r\n",
    "    \tRoberts\tGomez\tPhillips\tEvans\tTurner\tDiaz\tParker\tCruz\tEdwards\tCollins\tReyes\\\r\n",
    "    \tStewart\tMorris\tMorales\tMurphy\tCook\tRogers\tGutierrez\tOrtiz\tMorgan\tCooper\tPeterson\"\r\n",
    "user_name = input(\"Please enter your name\\n\")\r\n",
    "user_surname = input(\"Please enter your surname\\n\")\r\n",
    "x =  user_name.strip().title() in (mostcommon25_names_man or mostcommon25_names_woman)\r\n",
    "y =  user_surname.strip().title() in mostcommon_surnames\r\n",
    "import random \r\n",
    "import string\r\n",
    "sum_all = string.ascii_lowercase + string.ascii_uppercase + string.digits + string.punctuation\r\n",
    "password = \"\".join(random.sample(sum_all,8))\r\n",
    "if x and y :\r\n",
    "    print(f\"Hello {user_name.strip().title()} {user_surname.strip().title()},\\\r\n",
    "        \\nPassword : {password} \")\r\n",
    "else :\r\n",
    "    print(f\"Hello {user_name.strip().title()} {user_surname.strip().title()},\\\r\n",
    "        \\nYour password is not in our database\")"
   ],
   "outputs": [],
   "metadata": {}
  }
 ],
 "metadata": {
  "orig_nbformat": 4,
  "language_info": {
   "name": "python"
  }
 },
 "nbformat": 4,
 "nbformat_minor": 2
}