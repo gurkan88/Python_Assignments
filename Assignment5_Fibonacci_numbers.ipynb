{
 "cells": [
  {
   "cell_type": "markdown",
   "source": [
    "***\r\n",
    "***\r\n",
    "💡Objective:\r\n",
    "To improve your control flow statement skills and to raise your awareness of some algebraic knowledge.<br>\r\n",
    "\r\n",
    "Task : Create a list consisting of Fibonacci numbers from 1 to 55 using control flow statements.<br>\r\n",
    "\r\n",
    "The desired output is like :<br>\r\n",
    "\r\n",
    "fibonacci →  [1, 1, 2, 3, 5, 8, 13, 21, 34, 55]<br>"
   ],
   "metadata": {}
  },
  {
   "cell_type": "markdown",
   "source": [
    "### The Rule is x(n) = x(n−1) + x(n−2)"
   ],
   "metadata": {}
  },
  {
   "cell_type": "code",
   "execution_count": 16,
   "source": [
    "list1 = list(range(1,56))\r\n",
    "fibonacci = [0,1]   ## the first two fibonacci number is placed in advance\r\n",
    "for i in range(2,len(list1)):\r\n",
    "    f = fibonacci[i-1] + fibonacci[i-2]   ## The Rule is x(n) = x(n−1) + x(n−2)\r\n",
    "    fibonacci.append(f)\r\n",
    "for index,f in enumerate(fibonacci):\r\n",
    "    print(index,\": \",f)\r\n"
   ],
   "outputs": [
    {
     "output_type": "stream",
     "name": "stdout",
     "text": [
      "0 :  0\n",
      "1 :  1\n",
      "2 :  1\n",
      "3 :  2\n",
      "4 :  3\n",
      "5 :  5\n",
      "6 :  8\n",
      "7 :  13\n",
      "8 :  21\n",
      "9 :  34\n",
      "10 :  55\n",
      "11 :  89\n",
      "12 :  144\n",
      "13 :  233\n",
      "14 :  377\n",
      "15 :  610\n",
      "16 :  987\n",
      "17 :  1597\n",
      "18 :  2584\n",
      "19 :  4181\n",
      "20 :  6765\n",
      "21 :  10946\n",
      "22 :  17711\n",
      "23 :  28657\n",
      "24 :  46368\n",
      "25 :  75025\n",
      "26 :  121393\n",
      "27 :  196418\n",
      "28 :  317811\n",
      "29 :  514229\n",
      "30 :  832040\n",
      "31 :  1346269\n",
      "32 :  2178309\n",
      "33 :  3524578\n",
      "34 :  5702887\n",
      "35 :  9227465\n",
      "36 :  14930352\n",
      "37 :  24157817\n",
      "38 :  39088169\n",
      "39 :  63245986\n",
      "40 :  102334155\n",
      "41 :  165580141\n",
      "42 :  267914296\n",
      "43 :  433494437\n",
      "44 :  701408733\n",
      "45 :  1134903170\n",
      "46 :  1836311903\n",
      "47 :  2971215073\n",
      "48 :  4807526976\n",
      "49 :  7778742049\n",
      "50 :  12586269025\n",
      "51 :  20365011074\n",
      "52 :  32951280099\n",
      "53 :  53316291173\n",
      "54 :  86267571272\n"
     ]
    }
   ],
   "metadata": {}
  }
 ],
 "metadata": {
  "orig_nbformat": 4,
  "language_info": {
   "name": "python",
   "version": "3.9.5",
   "mimetype": "text/x-python",
   "codemirror_mode": {
    "name": "ipython",
    "version": 3
   },
   "pygments_lexer": "ipython3",
   "nbconvert_exporter": "python",
   "file_extension": ".py"
  },
  "kernelspec": {
   "name": "python3",
   "display_name": "Python 3.9.5 64-bit"
  },
  "interpreter": {
   "hash": "df9803d5d1b6cb5abc1edc30c69a1153e23b31bf85805cdabf595a077425259e"
  }
 },
 "nbformat": 4,
 "nbformat_minor": 2
}