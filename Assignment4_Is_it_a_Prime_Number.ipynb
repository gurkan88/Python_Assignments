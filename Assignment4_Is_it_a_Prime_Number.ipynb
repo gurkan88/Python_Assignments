{
 "cells": [
  {
   "cell_type": "markdown",
   "source": [
    "Assignment-009/4 (Is it a Prime Number?)\r\n",
    "\r\n",
    "💡Objective:\r\n",
    "To improve your control flow statement skills and to raise your awareness of some algebraic knowledge.\r\n",
    "Write your Python codes on any IDLE, push it up to your GitHub repository and submit your GitHub Page link address in addition to your code as a plain text.\r\n",
    "\r\n",
    "Task : Write a program that takes a number from the user and prints the result to check if it is a prime number.\r\n",
    "\r\n",
    "The examples of the desired output are as follows :\r\n",
    "\r\n",
    "input →  19 ⇉ output : 19 is a prime number\r\n",
    "input →  10 ⇉ output : 10 is not a prime number\r\n"
   ],
   "metadata": {}
  },
  {
   "cell_type": "code",
   "execution_count": 44,
   "source": [
    "def Prime_number_check(num):\r\n",
    "    check = False\r\n",
    "    if num.replace(\" \",\"\").isdigit():\r\n",
    "        num = int(num)\r\n",
    "        division = int(num/2 + 1.5)  #to have less calculation, the greatest divider is half of the number   \r\n",
    "        if num > 2 :\r\n",
    "            for i in range(2,division):    \r\n",
    "                if num % i == 0 :\r\n",
    "                    check = True        \r\n",
    "                    break\r\n",
    "            if check:\r\n",
    "                print(f\"{num} is not a prime number\")\r\n",
    "            else:\r\n",
    "                print(f\"{num} is a prime number\")  \r\n",
    "        else:\r\n",
    "            if num == 2:\r\n",
    "                print(f\"{num} is a prime number\")\r\n",
    "            else:\r\n",
    "                print(f\"{num} is not a prime number\")\r\n",
    "    else:\r\n",
    "        print(\"It is an invalid entry. Don't use non-numeric, float, or negative values!\")\r\n",
    "\r\n",
    "input1 = input(\"Enter a number: \")\r\n",
    "Prime_number_check(input1)\r\n"
   ],
   "outputs": [],
   "metadata": {}
  },
  {
   "cell_type": "code",
   "execution_count": 139,
   "source": [
    "nu = 9\r\n",
    "divi = 5\r\n",
    "for i in range(2,divi):    \r\n",
    "    if nu % i == 0 :\r\n",
    "        return print(f\"{nu} is not a prime number\")\r\n",
    "    else:\r\n",
    "        return print(f\"{nu} is a prime number\")     "
   ],
   "outputs": [
    {
     "output_type": "error",
     "ename": "SyntaxError",
     "evalue": "'return' outside function (Temp/ipykernel_13032/4139725095.py, line 5)",
     "traceback": [
      "\u001b[1;36m  File \u001b[1;32m\"C:\\Users\\gurka\\AppData\\Local\\Temp/ipykernel_13032/4139725095.py\"\u001b[1;36m, line \u001b[1;32m5\u001b[0m\n\u001b[1;33m    return print(f\"{nu} is not a prime number\")\u001b[0m\n\u001b[1;37m    ^\u001b[0m\n\u001b[1;31mSyntaxError\u001b[0m\u001b[1;31m:\u001b[0m 'return' outside function\n"
     ]
    }
   ],
   "metadata": {}
  },
  {
   "cell_type": "code",
   "execution_count": null,
   "source": [
    "\r\n",
    "                else:\r\n",
    "                    return print(f\"{num} is a prime number\")    "
   ],
   "outputs": [],
   "metadata": {}
  },
  {
   "cell_type": "code",
   "execution_count": null,
   "source": [
    "        \r\n",
    "        if num % 2 == 0:        # check if even number\r\n",
    "            if num == 2:\r\n",
    "                print(f\"{num} is a prime number\")\r\n",
    "            else:\r\n",
    "                print(f\"{num} is not a prime number\")\r\n",
    "        elif num == 0:\r\n",
    "            print(f\"{num} is not a prime number\")\r\n",
    "        elif num == 1:\r\n",
    "            print(f\"{num} is not a prime number\")\r\n",
    "        elif num == 3:\r\n",
    "            print(f\"{num} is a prime number\")\r\n",
    "        elif num == 5:\r\n",
    "            print(f\"{num} is a prime number\")\r\n",
    "        else:"
   ],
   "outputs": [],
   "metadata": {}
  },
  {
   "cell_type": "code",
   "execution_count": 16,
   "source": [
    "# Program to check if a number is prime or not\r\n",
    "\r\n",
    "num = 25\r\n",
    "\r\n",
    "# To take input from the user\r\n",
    "#num = int(input(\"Enter a number: \"))\r\n",
    "\r\n",
    "# define a flag variable\r\n",
    "flag = False\r\n",
    "\r\n",
    "# prime numbers are greater than 1\r\n",
    "if num > 1:\r\n",
    "    # check for factors\r\n",
    "    for i in range(2, num):\r\n",
    "        if (num % i) == 0:\r\n",
    "            # if factor is found, set flag to True\r\n",
    "            flag = True\r\n",
    "            # break out of loop\r\n",
    "            break\r\n",
    "\r\n",
    "# check if flag is True\r\n",
    "if flag:\r\n",
    "    print(num, \"is not a prime number\")\r\n",
    "else:\r\n",
    "    print(num, \"is a prime number\")"
   ],
   "outputs": [
    {
     "output_type": "stream",
     "name": "stdout",
     "text": [
      "25 is not a prime number\n"
     ]
    }
   ],
   "metadata": {}
  }
 ],
 "metadata": {
  "orig_nbformat": 4,
  "language_info": {
   "name": "python",
   "version": "3.9.5",
   "mimetype": "text/x-python",
   "codemirror_mode": {
    "name": "ipython",
    "version": 3
   },
   "pygments_lexer": "ipython3",
   "nbconvert_exporter": "python",
   "file_extension": ".py"
  },
  "kernelspec": {
   "name": "python3",
   "display_name": "Python 3.9.5 64-bit"
  },
  "interpreter": {
   "hash": "df9803d5d1b6cb5abc1edc30c69a1153e23b31bf85805cdabf595a077425259e"
  }
 },
 "nbformat": 4,
 "nbformat_minor": 2
}