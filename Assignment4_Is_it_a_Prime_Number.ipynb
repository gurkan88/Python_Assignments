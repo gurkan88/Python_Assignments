{
 "cells": [
  {
   "cell_type": "markdown",
   "source": [
    "Assignment-009/4 (Is it a Prime Number?)\r\n",
    "\r\n",
    "💡Objective:\r\n",
    "To improve your control flow statement skills and to raise your awareness of some algebraic knowledge.\r\n",
    "Write your Python codes on any IDLE, push it up to your GitHub repository and submit your GitHub Page link address in addition to your code as a plain text.\r\n",
    "\r\n",
    "Task : Write a program that takes a number from the user and prints the result to check if it is a prime number.\r\n",
    "\r\n",
    "The examples of the desired output are as follows :\r\n",
    "\r\n",
    "input →  19 ⇉ output : 19 is a prime number\r\n",
    "input →  10 ⇉ output : 10 is not a prime number\r\n"
   ],
   "metadata": {}
  },
  {
   "cell_type": "code",
   "execution_count": 54,
   "source": [
    "def Prime_number_check(num):\r\n",
    "    if num.replace(\" \",\"\").isdigit():\r\n",
    "        num = int(num)\r\n",
    "        division = int(num/2 + 0.5)  #to have less calculation, the greatest divider is half of the number\r\n",
    "        if num % 2 == 0:        # check if even number\r\n",
    "            print(f\"{num} is not a prime number\")\r\n",
    "        else:\r\n",
    "            y = False\r\n",
    "            for i in range(3,division):   #checked if even number so started with 3 up to half of the number \r\n",
    "                if num % i == 0 :\r\n",
    "                    y = y or True\r\n",
    "                    return print(f\"{num} is not a prime number\")\r\n",
    "                else:\r\n",
    "                    y = False\r\n",
    "                    return print(f\"{num} is a prime number\")     \r\n",
    "    else:\r\n",
    "        print(\"It is an invalid entry. Don't use non-numeric, float, or negative values!\")\r\n",
    "\r\n",
    "input1 = input(\"Enter a number: \")\r\n",
    "Prime_number_check(input1)\r\n"
   ],
   "outputs": [
    {
     "output_type": "stream",
     "name": "stdout",
     "text": [
      "61 is a prime number\n"
     ]
    }
   ],
   "metadata": {}
  }
 ],
 "metadata": {
  "orig_nbformat": 4,
  "language_info": {
   "name": "python",
   "version": "3.9.5",
   "mimetype": "text/x-python",
   "codemirror_mode": {
    "name": "ipython",
    "version": 3
   },
   "pygments_lexer": "ipython3",
   "nbconvert_exporter": "python",
   "file_extension": ".py"
  },
  "kernelspec": {
   "name": "python3",
   "display_name": "Python 3.9.5 64-bit"
  },
  "interpreter": {
   "hash": "df9803d5d1b6cb5abc1edc30c69a1153e23b31bf85805cdabf595a077425259e"
  }
 },
 "nbformat": 4,
 "nbformat_minor": 2
}