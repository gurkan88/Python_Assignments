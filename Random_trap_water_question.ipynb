{
 "cells": [
  {
   "cell_type": "markdown",
   "source": [
    "Interview'larda Google, Facebook, Microsoft firmalarınca kullanılan bir soru. Biriken su birim miktarını bulmaca.\r\n",
    "--\r\n",
    "orjinal metin :\r\n",
    "Given an array of non-negative integers representing an elevation map as shown below where the width of each bar is 1, compute how much water will be trapped on terrain after raining. To clarify further, the black boxes represents terrain and its height, and the blue boxes represents the water that could be trapped on the terrain.\r\n",
    "Lütfen bir iki sonra thread olarak çözümleri paylaşalım. Mevcut müfredat dahilinde çözelim..."
   ],
   "metadata": {}
  },
  {
   "cell_type": "code",
   "execution_count": 29,
   "source": [
    "array = [0,1,0,2,1,0,1,3,2,1,2,1]\r\n",
    "water = 0\r\n",
    "for i in range(9):\r\n",
    "    for j in range(-1,-10,-1):\r\n",
    "        print(array[j])\r\n",
    "        for k in range(i+1,-j-1):\r\n",
    "            if array[i] and array[j] > array[k]:\r\n",
    "                if array[i] > array[j]:\r\n",
    "                    water += array[i]\r\n",
    "                elif array[j] > array[i]:\r\n",
    "                    water += array[j]\r\n",
    "                    \r\n",
    "print(water)\r\n",
    "\r\n",
    "\r\n",
    "\r\n",
    "\r\n",
    "#input(\"enter an array:\")\r\n"
   ],
   "outputs": [
    {
     "output_type": "stream",
     "name": "stdout",
     "text": [
      "1\n",
      "2\n",
      "1\n",
      "2\n",
      "3\n",
      "1\n",
      "0\n",
      "1\n",
      "2\n",
      "1\n",
      "2\n",
      "1\n",
      "2\n",
      "3\n",
      "1\n",
      "0\n",
      "1\n",
      "2\n",
      "1\n",
      "2\n",
      "1\n",
      "2\n",
      "3\n",
      "1\n",
      "0\n",
      "1\n",
      "2\n",
      "1\n",
      "2\n",
      "1\n",
      "2\n",
      "3\n",
      "1\n",
      "0\n",
      "1\n",
      "2\n",
      "1\n",
      "2\n",
      "1\n",
      "2\n",
      "3\n",
      "1\n",
      "0\n",
      "1\n",
      "2\n",
      "1\n",
      "2\n",
      "1\n",
      "2\n",
      "3\n",
      "1\n",
      "0\n",
      "1\n",
      "2\n",
      "1\n",
      "2\n",
      "1\n",
      "2\n",
      "3\n",
      "1\n",
      "0\n",
      "1\n",
      "2\n",
      "1\n",
      "2\n",
      "1\n",
      "2\n",
      "3\n",
      "1\n",
      "0\n",
      "1\n",
      "2\n",
      "1\n",
      "2\n",
      "1\n",
      "2\n",
      "3\n",
      "1\n",
      "0\n",
      "1\n",
      "2\n",
      "22\n"
     ]
    }
   ],
   "metadata": {}
  },
  {
   "cell_type": "markdown",
   "source": [
    "\r\n"
   ],
   "metadata": {}
  }
 ],
 "metadata": {
  "orig_nbformat": 4,
  "language_info": {
   "name": "python",
   "version": "3.9.5",
   "mimetype": "text/x-python",
   "codemirror_mode": {
    "name": "ipython",
    "version": 3
   },
   "pygments_lexer": "ipython3",
   "nbconvert_exporter": "python",
   "file_extension": ".py"
  },
  "kernelspec": {
   "name": "python3",
   "display_name": "Python 3.9.5 64-bit"
  },
  "interpreter": {
   "hash": "df9803d5d1b6cb5abc1edc30c69a1153e23b31bf85805cdabf595a077425259e"
  }
 },
 "nbformat": 4,
 "nbformat_minor": 2
}