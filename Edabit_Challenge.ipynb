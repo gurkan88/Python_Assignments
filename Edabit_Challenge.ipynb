{
 "cells": [
  {
   "cell_type": "markdown",
   "source": [
    "***\r\n",
    "***\r\n",
    "Sum of Negative Integers\r\n",
    "Create a function that takes a string containing integers as well as other characters and return the sum of the negative integers only.\r\n",
    "\r\n",
    "Examples\r\n",
    "negative_sum(\"-12 13%14&-11\") ➞ -23\r\n",
    "# -12 + -11 = -23\r\n",
    "\r\n",
    "negative_sum(\"22 13%14&-11-22 13 12\") ➞ -33\r\n",
    "# -11 + -22 = -33\r\n",
    "Notes\r\n",
    "There is at least one negative integer.\r\n"
   ],
   "metadata": {}
  },
  {
   "cell_type": "code",
   "execution_count": 1,
   "source": [
    "def negative_sum(chars):\r\n",
    "\t\r\n",
    "\t"
   ],
   "outputs": [],
   "metadata": {}
  }
 ],
 "metadata": {
  "orig_nbformat": 4,
  "language_info": {
   "name": "python",
   "version": "3.9.5",
   "mimetype": "text/x-python",
   "codemirror_mode": {
    "name": "ipython",
    "version": 3
   },
   "pygments_lexer": "ipython3",
   "nbconvert_exporter": "python",
   "file_extension": ".py"
  },
  "kernelspec": {
   "name": "python3",
   "display_name": "Python 3.9.5 64-bit"
  },
  "interpreter": {
   "hash": "df9803d5d1b6cb5abc1edc30c69a1153e23b31bf85805cdabf595a077425259e"
  }
 },
 "nbformat": 4,
 "nbformat_minor": 2
}