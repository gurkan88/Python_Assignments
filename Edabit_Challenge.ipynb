{
 "cells": [
  {
   "cell_type": "markdown",
   "source": [
    "***\r\n",
    "***\r\n",
    "Sum of Negative Integers\r\n",
    "Create a function that takes a string containing integers as well as other characters and return the sum of the negative integers only.\r\n",
    "\r\n",
    "Examples\r\n",
    "negative_sum(\"-12 13%14&-11\") ➞ -23\r\n",
    "# -12 + -11 = -23\r\n",
    "\r\n",
    "negative_sum(\"22 13%14&-11-22 13 12\") ➞ -33\r\n",
    "# -11 + -22 = -33\r\n",
    "Notes\r\n",
    "There is at least one negative integer.\r\n"
   ],
   "metadata": {}
  },
  {
   "cell_type": "code",
   "execution_count": 1,
   "source": [
    "def negative_sum(chars):\r\n",
    "\t"
   ],
   "outputs": [],
   "metadata": {}
  },
  {
   "cell_type": "code",
   "execution_count": 9,
   "source": [
    "list1 = [1,3,4]\r\n",
    "sum(list1)"
   ],
   "outputs": [
    {
     "output_type": "execute_result",
     "data": {
      "text/plain": [
       "8"
      ]
     },
     "metadata": {},
     "execution_count": 9
    }
   ],
   "metadata": {}
  },
  {
   "cell_type": "code",
   "execution_count": null,
   "source": [
    "import re\r\n",
    "pattern = (A-Z)\r\n"
   ],
   "outputs": [],
   "metadata": {}
  },
  {
   "cell_type": "code",
   "execution_count": null,
   "source": [
    "import re\r\n",
    "def negative_sum(chars):\r\n",
    "\treturn sum(map(int,re.findall(r'-\\d+', chars))) # \\d ==[0-9]\r\n",
    "\r\n",
    "tt = \"aba87-5kı8-4\"\r\n",
    "negative_sum(tt)"
   ],
   "outputs": [],
   "metadata": {}
  },
  {
   "cell_type": "markdown",
   "source": [
    "***\r\n",
    "***\r\n",
    "Parentheses Clusters\r\n",
    "Write a function that groups a string into parentheses cluster. Each cluster should be balanced.\r\n",
    "\r\n",
    "Examples\r\n",
    "split(\"()()()\") ➞ [\"()\", \"()\", \"()\"]\r\n",
    "\r\n",
    "split(\"((()))\") ➞ [\"((()))\"]\r\n",
    "\r\n",
    "split(\"((()))(())()()(()())\") ➞ [\"((()))\", \"(())\", \"()\", \"()\", \"(()())\"]\r\n",
    "\r\n",
    "split(\"((())())(()(()()))\") ➞ [\"((())())\", \"(()(()()))\"]\r\n",
    "Notes\r\n",
    "All input strings will only contain parentheses.\r\n",
    "Balanced: Every opening parens ( must exist with its matching closing parens ) in the same cluster."
   ],
   "metadata": {}
  },
  {
   "cell_type": "code",
   "execution_count": 26,
   "source": [
    "def split(txt):\r\n",
    "    parantheses = {\")\" : \"(\"} \r\n",
    "    check = []\r\n",
    "    split_list = []\r\n",
    "    count = 0\r\n",
    "    for i in txt:\r\n",
    "        if i == \"(\" or \")\":\r\n",
    "            if i in \"(\":\r\n",
    "                check.append(i)\r\n",
    "                count += 1\r\n",
    "            elif i in \")\" and check != []:\r\n",
    "                check.pop()\r\n",
    "            if check == []:\r\n",
    "                split_list.append(\"(\"*count + \")\"*count)\r\n",
    "                count = 0\r\n",
    "        else: return None\r\n",
    "    return split_list\r\n",
    "\r\n",
    "print(split(\"()()()\"))\r\n",
    "print(split(\"((()))\"))\r\n",
    "print(split(\"((()))(())()()(()())\"))\r\n",
    "print(split(\"((())())(()(()()))\"))"
   ],
   "outputs": [
    {
     "output_type": "stream",
     "name": "stdout",
     "text": [
      "['()', '()', '()']\n",
      "['((()))']\n",
      "['((()))', '(())', '()', '()', '((()))']\n",
      "['(((())))', '((((()))))']\n"
     ]
    }
   ],
   "metadata": {}
  },
  {
   "cell_type": "code",
   "execution_count": 27,
   "source": [
    "par = input(\"Write only parentheses : \")\r\n",
    "list1=[]\r\n",
    "list2=[]\r\n",
    "par_split=[]\r\n",
    "for i in range(len(par)):\r\n",
    "    if par[i]==\"(\":\r\n",
    "        list1.append(\"(\")\r\n",
    "        list2.append(\"(\")\r\n",
    "    elif par[i]==\")\":\r\n",
    "        list1.pop()\r\n",
    "        list2.append(\")\")\r\n",
    "        if len(list1)==0:\r\n",
    "            par_split.append(\"\".join(list2))\r\n",
    "            list2.clear()\r\n",
    "print(par_split)\r\n",
    "\r\n"
   ],
   "outputs": [
    {
     "output_type": "stream",
     "name": "stdout",
     "text": [
      "['((())())', '(()(()()))']\n"
     ]
    }
   ],
   "metadata": {}
  },
  {
   "cell_type": "code",
   "execution_count": 25,
   "source": [
    "def split(txt):\r\n",
    "    a = []\r\n",
    "    b = \"\"\r\n",
    "    for i in txt:\r\n",
    "        b += i\r\n",
    "        if b.count(\"(\") == b.count(\")\"):\r\n",
    "            a.append(b)\r\n",
    "            b = \"\"\r\n",
    "    return a\r\n",
    "\r\n",
    "print(split(\"()()()\"))\r\n",
    "print(split(\"((()))\"))\r\n",
    "print(split(\"((()))(())()()(()())\"))\r\n",
    "print(split(\"((())())(()(()()))\"))"
   ],
   "outputs": [
    {
     "output_type": "stream",
     "name": "stdout",
     "text": [
      "['()', '()', '()']\n",
      "['((()))']\n",
      "['((()))', '(())', '()', '()', '(()())']\n",
      "['((())())', '(()(()()))']\n"
     ]
    }
   ],
   "metadata": {}
  },
  {
   "cell_type": "markdown",
   "source": [
    "***\r\n",
    "***\r\n",
    "Prime Factorization of an Integer\r\n",
    "Create a function that returns a list containing the prime factors of whatever integer is passed to it.\r\n",
    "\r\n",
    "Examples\r\n",
    "prime_factors(20) ➞ [2, 2, 5]\r\n",
    "\r\n",
    "prime_factors(100) ➞ [2, 2, 5, 5]\r\n",
    "\r\n",
    "prime_factors(8912234) ➞ [2, 47, 94811]\r\n",
    "Notes\r\n",
    "Implement your solution using trial division.\r\n",
    "Your solution should not require recursion."
   ],
   "metadata": {}
  },
  {
   "cell_type": "code",
   "execution_count": 128,
   "source": [
    "# it checks all the factors of the number and find all the prime numbers up to that number\r\n",
    "# then checks the factors in the prime numbers \r\n",
    "def prime_factors(num):\r\n",
    "    factors,prime_numbers = [], []\r\n",
    "    i = 2\r\n",
    "    for i in range(2,num):\r\n",
    "        if num % i == 0:\r\n",
    "            factors.append(i)\r\n",
    "            num /= i\r\n",
    "            while num % i == 0:\r\n",
    "                factors.append(i)\r\n",
    "                num /= i\r\n",
    "                if num % i != 0: break\r\n",
    "    for j in factors:\r\n",
    "        count = 0\r\n",
    "        for k in range(2,j+1):\r\n",
    "            if j % k == 0:\r\n",
    "                count += 1\r\n",
    "        if not count >= 2:\r\n",
    "            prime_numbers.append(j)\r\n",
    "    for m in factors:\r\n",
    "        if m not in prime_numbers:\r\n",
    "            factors.remove(m)\r\n",
    "    return factors\r\n",
    "\r\n",
    "prime_factors(156106746)"
   ],
   "outputs": [
    {
     "output_type": "execute_result",
     "data": {
      "text/plain": [
       "[2, 3, 3, 8672597]"
      ]
     },
     "metadata": {},
     "execution_count": 128
    }
   ],
   "metadata": {}
  },
  {
   "cell_type": "code",
   "execution_count": 130,
   "source": [
    "def prime_factors(n):\r\n",
    "    lst = []\r\n",
    "    for i in range(2,n):\r\n",
    "        if n % i == 0:\r\n",
    "            while n % i == 0:\r\n",
    "                lst.append(i)\r\n",
    "                n = n / i\r\n",
    "    return lst \r\n",
    "\r\n",
    "prime_factors(20)"
   ],
   "outputs": [
    {
     "output_type": "execute_result",
     "data": {
      "text/plain": [
       "[2, 2, 5]"
      ]
     },
     "metadata": {},
     "execution_count": 130
    }
   ],
   "metadata": {}
  },
  {
   "cell_type": "markdown",
   "source": [
    "these two below and above are quickest and simplest way only checks the factors that are already prime."
   ],
   "metadata": {}
  },
  {
   "cell_type": "code",
   "execution_count": null,
   "source": [
    "def prime_factors(num):\r\n",
    "    output = []\r\n",
    "    for i in range(2,  int(num/2)):\r\n",
    "        while num % i == 0:\r\n",
    "            output.append(i)\r\n",
    "            num = int(num / i)\r\n",
    "\r\n",
    "    return output"
   ],
   "outputs": [],
   "metadata": {}
  },
  {
   "cell_type": "markdown",
   "source": [
    "***\r\n"
   ],
   "metadata": {}
  },
  {
   "cell_type": "markdown",
   "source": [
    "***\r\n",
    "***\r\n",
    "Splitting Up Numbers\r\n",
    "Create a function that takes a number num and returns each place value in the number.\r\n",
    "\r\n",
    "Examples\r\n",
    "num_split(39) ➞ [30, 9]\r\n",
    "\r\n",
    "num_split(-434) ➞ [-400, -30, -4]\r\n",
    "\r\n",
    "num_split(100) ➞ [100, 0, 0]\r\n",
    "Notes\r\n",
    "N/A\r\n",
    "\r\n",
    "https://edabit.com/challenge/Wd9cCvFKC3fHzgqSx"
   ],
   "metadata": {}
  },
  {
   "cell_type": "code",
   "execution_count": 173,
   "source": [
    "def num_split(num):\r\n",
    "    output = []\r\n",
    "    if num < 0:\r\n",
    "        digits = (list(str(num)))[1:]\r\n",
    "        number_of_digits = len(digits) - 1\r\n",
    "        for i in digits:\r\n",
    "            x = int(i) * (10**number_of_digits)\r\n",
    "            number_of_digits -= 1\r\n",
    "            output.append(x*-1)\r\n",
    "    else:\r\n",
    "        digits = (list(str(num)))\r\n",
    "        number_of_digits = len(digits) - 1\r\n",
    "        for i in digits:\r\n",
    "            x = int(i) * (10**number_of_digits)\r\n",
    "            number_of_digits -= 1\r\n",
    "            output.append(x)\r\n",
    "    return output\r\n",
    "\r\n",
    "num_split(489616)"
   ],
   "outputs": [
    {
     "output_type": "execute_result",
     "data": {
      "text/plain": [
       "[400000, 80000, 9000, 600, 10, 6]"
      ]
     },
     "metadata": {},
     "execution_count": 173
    }
   ],
   "metadata": {}
  },
  {
   "cell_type": "code",
   "execution_count": 163,
   "source": [
    "def num_split(num):\r\n",
    "\tf,res = [1,-1][num < 0],[]\r\n",
    "\tnum = abs(num)\r\n",
    "\twhile num:\r\n",
    "\t\tnum,r = divmod(num,10)\r\n",
    "\t\tres = [r*f]+res\r\n",
    "\t\tf *= 10\r\n",
    "\treturn res\r\n",
    "\r\n",
    "num_split(395)"
   ],
   "outputs": [
    {
     "output_type": "execute_result",
     "data": {
      "text/plain": [
       "[300, 90, 5]"
      ]
     },
     "metadata": {},
     "execution_count": 163
    }
   ],
   "metadata": {}
  },
  {
   "cell_type": "code",
   "execution_count": 165,
   "source": [
    "def num_split(num):\r\n",
    "    sign, lst = 1 if num >= 0 else -1, list(map(int,str(abs(num))))\r\n",
    "    return [sign * lst[i] * 10**(len(lst)-i-1) for i in range(len(lst))]\r\n",
    "num_split(395)"
   ],
   "outputs": [
    {
     "output_type": "execute_result",
     "data": {
      "text/plain": [
       "[300, 90, 5]"
      ]
     },
     "metadata": {},
     "execution_count": 165
    }
   ],
   "metadata": {}
  },
  {
   "cell_type": "code",
   "execution_count": null,
   "source": [
    "def num_split(num):\r\n",
    "    a=[]\r\n",
    "    count=0\r\n",
    "    for i in str(abs(num))[::-1]:\r\n",
    "        a.append(int(i)*(10**(count)))\r\n",
    "        count+=1\r\n",
    "    return a[::-1] if num >0 else [-1*i for i in a[::-1]]\r\n",
    "\r\n",
    "num_split(795)"
   ],
   "outputs": [],
   "metadata": {}
  },
  {
   "cell_type": "markdown",
   "source": [
    "***\r\n"
   ],
   "metadata": {}
  }
 ],
 "metadata": {
  "orig_nbformat": 4,
  "language_info": {
   "name": "python",
   "version": "3.9.5",
   "mimetype": "text/x-python",
   "codemirror_mode": {
    "name": "ipython",
    "version": 3
   },
   "pygments_lexer": "ipython3",
   "nbconvert_exporter": "python",
   "file_extension": ".py"
  },
  "kernelspec": {
   "name": "python3",
   "display_name": "Python 3.9.5 64-bit"
  },
  "interpreter": {
   "hash": "df9803d5d1b6cb5abc1edc30c69a1153e23b31bf85805cdabf595a077425259e"
  }
 },
 "nbformat": 4,
 "nbformat_minor": 2
}