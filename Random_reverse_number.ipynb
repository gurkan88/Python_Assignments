{
 "cells": [
  {
   "cell_type": "markdown",
   "source": [
    "Selamlar:woman-raising-hand: Kolay gelsin arkadaşlar:female-technologist::male-technologist:\r\n",
    "Given a signed 32-bit integer x, return x with its digits reversed. If reversing x causes the value to go outside the signed 32-bit integer range [-2^31, 2^31 - 1], then return 0.\r\n",
    "Assume the environment does not allow you to store 64-bit integers (signed or unsigned).\r\n",
    "Example 1:\r\n",
    "Input: x = 123\r\n",
    "Output: 321\r\n",
    " \r\n",
    "Example 2:\r\n",
    "Input: x = -123\r\n",
    "Output: -321\r\n",
    " \r\n",
    "Example 3:\r\n",
    "Input: x = 120\r\n",
    "Output: 21\r\n",
    " \r\n",
    "Example 4:\r\n",
    "Input: x = 0\r\n",
    "Output: 0\r\n",
    "Constraints:\r\n",
    "-2^31 <= x <= 2^31 - 1"
   ],
   "metadata": {}
  },
  {
   "cell_type": "code",
   "execution_count": 54,
   "source": [
    "def reverse_integer(x):\r\n",
    "    if x in range(-2**31,2**31-1):\r\n",
    "        sign = +1 if x > 0 else -1\r\n",
    "        x *= sign\r\n",
    "        while x:\r\n",
    "            if x % 10 == 0:\r\n",
    "                x /= 10\r\n",
    "            else:\r\n",
    "                break\r\n",
    "        x = str(int(x))\r\n",
    "        lst = list(x)\r\n",
    "        lst.reverse()\r\n",
    "        x = \"\".join(lst)\r\n",
    "        x = int(x)\r\n",
    "        return x*sign\r\n",
    "    else:\r\n",
    "        x = 0\r\n",
    "        return print(x)\r\n",
    "\r\n",
    "convert = int(input(\"enter a number : \"))\r\n",
    "reverse_integer(convert)"
   ],
   "outputs": [
    {
     "output_type": "execute_result",
     "data": {
      "text/plain": [
       "-54654"
      ]
     },
     "metadata": {},
     "execution_count": 54
    }
   ],
   "metadata": {}
  },
  {
   "cell_type": "code",
   "execution_count": 1,
   "source": [
    "x = \"45\",\"78\"\r\n",
    "s = \"96\",\"3\"\r\n",
    "x = \"\".join(s)\r\n",
    "x"
   ],
   "outputs": [
    {
     "output_type": "execute_result",
     "data": {
      "text/plain": [
       "'963'"
      ]
     },
     "metadata": {},
     "execution_count": 1
    }
   ],
   "metadata": {}
  },
  {
   "cell_type": "markdown",
   "source": [
    "join() method is used to both to write a list down as an integer and overwrite a value on variable"
   ],
   "metadata": {}
  }
 ],
 "metadata": {
  "orig_nbformat": 4,
  "language_info": {
   "name": "python",
   "version": "3.9.5",
   "mimetype": "text/x-python",
   "codemirror_mode": {
    "name": "ipython",
    "version": 3
   },
   "pygments_lexer": "ipython3",
   "nbconvert_exporter": "python",
   "file_extension": ".py"
  },
  "kernelspec": {
   "name": "python3",
   "display_name": "Python 3.9.5 64-bit"
  },
  "interpreter": {
   "hash": "df9803d5d1b6cb5abc1edc30c69a1153e23b31bf85805cdabf595a077425259e"
  }
 },
 "nbformat": 4,
 "nbformat_minor": 2
}