{
 "cells": [
  {
   "cell_type": "markdown",
   "source": [
    "Write a Python code to sort the list at below without using .sort() method of list. \r\n",
    "elements of list = [999, 333, 2, 8982, 12, 45, 77, 99, 11] \r\n",
    "Expected output: [2, 11, 12, 45, 77, 99, 333, 999, 8982]"
   ],
   "metadata": {}
  },
  {
   "cell_type": "code",
   "execution_count": 50,
   "source": [
    "elements = [999, 333, 2, 8982, 12, 45, 77, 99, 11] \r\n",
    "sorted1 = []\r\n",
    "for i in range(len(elements)):\r\n",
    "    x in elements\r\n",
    "    x = min(elements)\r\n",
    "    sorted1.append(x)\r\n",
    "    elements.remove(x)\r\n",
    "\r\n",
    "print(sorted1)\r\n"
   ],
   "outputs": [
    {
     "output_type": "stream",
     "name": "stdout",
     "text": [
      "[2, 11, 12, 45, 77, 99, 333, 999, 8982]\n"
     ]
    }
   ],
   "metadata": {}
  },
  {
   "cell_type": "code",
   "execution_count": 1,
   "source": [
    "my_list = [999, 333, 2, 8982, 12, 45, 77, 99, 11]\r\n",
    "for i in range(len(my_list)):\r\n",
    "    for x in range(0, len(my_list)-1):\r\n",
    "        if my_list[x] > my_list[x+1]:\r\n",
    "            my_list[x], my_list[x+1] = my_list[x+1],  my_list[x]\r\n",
    "        else:\r\n",
    "            continue\r\n",
    "print(my_list)"
   ],
   "outputs": [
    {
     "output_type": "stream",
     "name": "stdout",
     "text": [
      "[2, 11, 12, 45, 77, 99, 333, 999, 8982]\n"
     ]
    }
   ],
   "metadata": {}
  }
 ],
 "metadata": {
  "orig_nbformat": 4,
  "language_info": {
   "name": "python",
   "version": "3.9.5",
   "mimetype": "text/x-python",
   "codemirror_mode": {
    "name": "ipython",
    "version": 3
   },
   "pygments_lexer": "ipython3",
   "nbconvert_exporter": "python",
   "file_extension": ".py"
  },
  "kernelspec": {
   "name": "python3",
   "display_name": "Python 3.9.5 64-bit"
  },
  "interpreter": {
   "hash": "df9803d5d1b6cb5abc1edc30c69a1153e23b31bf85805cdabf595a077425259e"
  }
 },
 "nbformat": 4,
 "nbformat_minor": 2
}