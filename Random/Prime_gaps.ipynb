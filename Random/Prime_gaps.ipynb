{
 "cells": [
  {
   "cell_type": "markdown",
   "source": [
    "<a>https://mathworld.wolfram.com/PrimeGaps.html</a>"
   ],
   "metadata": {}
  },
  {
   "cell_type": "markdown",
   "source": [
    "Asal sayılar düzenli aralıklarla yerleştirilmez. Örnek için 2için 3boşluğudur 1. Gönderen 3için 5boşluğudur 2. Gönderen 7için 11öyle 4. 2 ile 50 arasında, aşağıdaki 2 boşluklu asal çiftlere sahibiz: 3-5, 5-7, 11-13, 17-19, 29-31, 41-43\r\n",
    "n uzunluğunda bir asal boşluk, iki ardışık asal sayı arasındaki n-1 ardışık bileşik sayı dizisidir (bkz: http://mathworld.wolfram.com/PrimeGaps.html ).\r\n",
    "Parametrelerle bir fonksiyon boşluğu yazacağız:\r\n",
    "g (integer >= 2) aradığımız boşluğu gösterir\r\n",
    "m (integer > 2) aramanın başlangıcını verir (m dahil)\r\n",
    "n (integer >= m) aramanın sonunu verir (n dahil)\r\n",
    "n 1100000'in ötesine geçmeyecek.\r\n",
    "Yukarıdaki örnekte , 2 boşluklu 3 ile 50 arasındaki ilk çift olan gap(2, 3, 50)geri dönecektir [3, 5] or (3, 5) or {3, 5}.\r\n",
    "Bu nedenle, bu işlev , bu sayılar aksi takdirde `nil veya null veya None veya Nothing (veya ... dile bağlı olarak) varsa , sınırlar arasında boşluk bırakılmış iki asal sayının ilk çiftini döndürmelidir .gmn\r\n",
    "C++'da Lua: böyle bir durumda dönüş {0, 0}. F#'da: dönüş [||]. Kotlin, Dart ve Prolog'da: return []. Pascal'da: TGap (0, 0) yazın.\r\n",
    "Örnekler:\r\n",
    "gap(2, 5, 7) --> [5, 7] or (5, 7) or {5, 7}\r\n",
    "gap(2, 5, 5) --> nil. In C++ {0, 0}. In F# [||]. In Kotlin, Dart and Prolog return []`\r\n",
    "gap(4, 130, 200) --> [163, 167] or (163, 167) or {163, 167}\r\n",
    "([193, 197] ayrıca 130 ile 200 arasında 4 boşluklu bir asal sayıdır ancak ilk çift değildir)\r\n",
    "gap(6,100,110) --> nil or {0, 0} or ...: 100 ile 110 arasında var 101, 103, 107, 109ama 101-1076 boşluk değil çünkü arada var 103ve 103-1096 boşluk değil çünkü arada var 107.\r\n",
    "Örnek Testlerde daha fazla iade örneği görebilirsiniz.\r\n",
    "Git için Not\r\n",
    "Go için: m ve n arasında boşluk olmadığında sıfır dilim beklenir. Örnek: boşluk(11,30000,100000) --> nil"
   ],
   "metadata": {}
  },
  {
   "cell_type": "code",
   "execution_count": 1,
   "source": [
    "def prime_gap(a,b,c):\r\n",
    "    inter = range(b,c+1)\r\n",
    "    prime = []\r\n",
    "    for i in inter:\r\n",
    "        count = 0\r\n",
    "        for j in range(1,i+1):\r\n",
    "            if i % j == 0:\r\n",
    "                count += 1\r\n",
    "        if count <= 2:    prime.append(i)\r\n",
    "    \r\n",
    "    for i in range(len(prime)-1):\r\n",
    "        if prime[i+1] - prime[i] == a:\r\n",
    "            return [prime[i],prime[i+1]]\r\n",
    "        else: return [0,0]\r\n",
    "\r\n",
    "prime_gap(6,130,200)\r\n",
    "\r\n",
    "\r\n",
    "        "
   ],
   "outputs": [
    {
     "output_type": "execute_result",
     "data": {
      "text/plain": [
       "[131, 137]"
      ]
     },
     "metadata": {},
     "execution_count": 1
    }
   ],
   "metadata": {}
  }
 ],
 "metadata": {
  "orig_nbformat": 4,
  "language_info": {
   "name": "python",
   "version": "3.9.5",
   "mimetype": "text/x-python",
   "codemirror_mode": {
    "name": "ipython",
    "version": 3
   },
   "pygments_lexer": "ipython3",
   "nbconvert_exporter": "python",
   "file_extension": ".py"
  },
  "kernelspec": {
   "name": "python3",
   "display_name": "Python 3.9.5 64-bit"
  },
  "interpreter": {
   "hash": "df9803d5d1b6cb5abc1edc30c69a1153e23b31bf85805cdabf595a077425259e"
  }
 },
 "nbformat": 4,
 "nbformat_minor": 2
}