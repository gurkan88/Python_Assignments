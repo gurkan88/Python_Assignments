{
 "cells": [
  {
   "cell_type": "markdown",
   "source": [
    "## This file contains different problems with solutions"
   ],
   "metadata": {}
  },
  {
   "cell_type": "markdown",
   "source": [
    "***\r\n",
    "***\r\n",
    "Write a Python program to construct the following pattern, using a nested for loop."
   ],
   "metadata": {}
  },
  {
   "cell_type": "code",
   "execution_count": null,
   "source": [
    "def arrow(x):\r\n",
    "    if area < 30:\r\n",
    "        for i in range(area):\r\n",
    "            print(\"* \"*i, \" \"*(area-i),\"*\"*i)\r\n",
    "        for j in range(area,0,-1):\r\n",
    "            print(\"* \"*j, \" \"*(area-j),\"*\"*j)\r\n",
    "    else:\r\n",
    "        return 0\r\n",
    "\r\n",
    "area = int(input(\"enter a number: \"))\r\n",
    "arrow(area)"
   ],
   "outputs": [],
   "metadata": {}
  },
  {
   "cell_type": "markdown",
   "source": [
    "***\r\n",
    "***\r\n",
    "Döngüler ve liste metotlarını kullanarak çözebileceğiniz bir soru \r\n",
    "num = [48, 10, 11, 21, 36, 5, 6, 52, 28, 29,\r\n",
    "       53, 54, 45, 19, 20, 47, 55, 39, 41, 7,\r\n",
    "       9, 17, 26, 27, 42, 22, 37, 51, 46, 18,\r\n",
    "       44, 30, 34, 13, 15, 35, 33, 16, 50, 24]\r\n",
    "Elemanları ardışık sayılardan oluşan karışık halde bir liste veriliyor. Listenin en küçük elemanı ile en büyük elemanı arasında yer alan, ancak listede gösterilmeyen eksik sayılardan çift olanları çıktı veren python kodu yazınız.\r\n",
    "Beklenen Çıktı:\r\n",
    "8\r\n",
    "12\r\n",
    "14\r\n",
    "32\r\n",
    "38\r\n",
    "40"
   ],
   "metadata": {}
  },
  {
   "cell_type": "code",
   "execution_count": null,
   "source": [
    "num = [48, 10, 11, 21, 36, 5, 6, 52, 28, 29,\r\n",
    "       53, 54, 45, 19, 20, 47, 55, 39, 41, 7,\r\n",
    "       9, 17, 26, 27, 42, 22, 37, 51, 46, 18,\r\n",
    "       44, 30, 34, 13, 15, 35, 33, 16, 50, 24]\r\n",
    "for x in range(min(num), max(num)):\r\n",
    "    print(x) if x % 2 == 0 and (x not in num) else None"
   ],
   "outputs": [],
   "metadata": {}
  },
  {
   "cell_type": "code",
   "execution_count": null,
   "source": [
    "num = [48, 10, 11, 21, 36, 5, 6, 52, 28, 29,\r\n",
    "       53, 54, 45, 19, 20, 47, 55, 39, 41, 7,\r\n",
    "       9, 17, 26, 27, 42, 22, 37, 51, 46, 18,\r\n",
    "       44, 30, 34, 13, 15, 35, 33, 16, 50, 24]\r\n",
    "print([i for i in range(min(num),max(num)) if i%2==0 and i not in num])"
   ],
   "outputs": [],
   "metadata": {}
  },
  {
   "cell_type": "markdown",
   "source": [
    "***\r\n",
    "***\r\n",
    "What is an anagram? Well, two words are anagrams of each other if they both contain the same letters. For example:\r\n",
    "'abba' & 'baab' == true\r\n",
    "'abba' & 'bbaa' == true\r\n",
    "'abba' & 'abbba' == false\r\n",
    "'abba' & 'abca' == false\r\n",
    "Take two inputs from the user word and word list and then write code that will find all the anagrams of a word from a list. You should return a list of all the anagrams or an empty list if there are none. For example:\r\n",
    "input1:'abba'\r\n",
    "input2: ['aabb', 'abcd', 'bbaa', 'dada']) \r\n",
    "output: ['aabb', 'bbaa']\r\n",
    "input1:'racer'\r\n",
    "input2: ['crazer', 'carer', 'racar', 'caers', 'racer'])\r\n",
    "output: ['carer', 'racer']\r\n",
    "input1:'laser'\r\n",
    "input2:['lazing', 'lazy',  'lacer'])\r\n",
    "output:[]\r\n",
    "\r\n"
   ],
   "metadata": {}
  },
  {
   "cell_type": "code",
   "execution_count": null,
   "source": [
    "def check_anagram(word,word_list):\r\n",
    "    anagram = []\r\n",
    "    word_list = list(word_list.split(\",\"))\r\n",
    "    for i in word_list:\r\n",
    "        if sorted(list(word)) == sorted(i):\r\n",
    "            anagram.append(i)\r\n",
    "    print(anagram)\r\n",
    "\r\n",
    "input1 = input(\"enter a word to check for anagram: \")\r\n",
    "input2 = input(\"enter other words to check for anagram(use comma to seperate the words): \")\r\n",
    "check_anagram(input1,input2)"
   ],
   "outputs": [],
   "metadata": {}
  },
  {
   "cell_type": "code",
   "execution_count": null,
   "source": [
    "x = [\"a\",\"b\",\"c\"]\r\n",
    "y = [\"c\",\"a\",\"b\"]\r\n",
    "sorted(x) == sorted(y)"
   ],
   "outputs": [],
   "metadata": {}
  },
  {
   "cell_type": "code",
   "execution_count": null,
   "source": [
    "x = [\"a\",\"b\",\"c\"]\r\n",
    "y = [\"c\",\"a\",\"b\"]\r\n",
    "x == y"
   ],
   "outputs": [],
   "metadata": {}
  },
  {
   "cell_type": "code",
   "execution_count": null,
   "source": [
    "k = \"new\"\r\n",
    "sorted(k)"
   ],
   "outputs": [],
   "metadata": {}
  },
  {
   "cell_type": "markdown",
   "source": [
    "***\r\n",
    "***"
   ],
   "metadata": {}
  },
  {
   "cell_type": "markdown",
   "source": [
    "Write a Python program which iterates the integers from 1 to 50. For multiples of three print \"Fizz\" instead of the number and for the multiples of five print \"Buzz\". For numbers which are multiples of both three and five print \"FizzBuzz\".\r\n",
    "Sample Output :\r\n",
    "fizzbuzz\r\n",
    "1\r\n",
    "2\r\n",
    "fizz\r\n",
    "4\r\n",
    "buzz "
   ],
   "metadata": {}
  },
  {
   "cell_type": "code",
   "execution_count": null,
   "source": [
    "numbers = list(range(1,51))\r\n",
    "for x in numbers:\r\n",
    "    if x % 15 == 0:\r\n",
    "        numbers[numbers.index(x)] = \"FizzBuzz\"\r\n",
    "    elif x % 3 == 0:\r\n",
    "        numbers[numbers.index(x)] = \"fizz\"\r\n",
    "    elif x % 5 == 0:\r\n",
    "        numbers[numbers.index(x)] = \"buzz\"\r\n",
    "for y in numbers:\r\n",
    "    print(y)      \r\n"
   ],
   "outputs": [],
   "metadata": {}
  },
  {
   "cell_type": "code",
   "execution_count": null,
   "source": [
    "new423 = [5,6,7,9]\r\n",
    "new423[0] = \"five\"\r\n",
    "new423[3] = \"nine\"\r\n",
    "new423"
   ],
   "outputs": [],
   "metadata": {}
  },
  {
   "cell_type": "markdown",
   "source": [
    "variable[index] = new_value ## this changes the value of that item determined with index number with the new_value"
   ],
   "metadata": {}
  },
  {
   "cell_type": "code",
   "execution_count": null,
   "source": [
    "for i in range(1, 51):\r\n",
    "    if i % 3 == 0 and i % 5 != 0:\r\n",
    "        print('Fizz')\r\n",
    "    elif i % 5 == 0 and i % 3 != 0:\r\n",
    "        print('Buzz')\r\n",
    "    elif i % 15 == 0:\r\n",
    "        print('FizzBuzz')\r\n",
    "    else:\r\n",
    "        print(i)"
   ],
   "outputs": [],
   "metadata": {}
  },
  {
   "cell_type": "markdown",
   "source": [
    "***\r\n",
    "***"
   ],
   "metadata": {}
  },
  {
   "cell_type": "markdown",
   "source": [
    "Write a Python program to check a triangle is equilateral, isosceles or scalene.<br>\r\n",
    "Note :<br>\r\n",
    "An equilateral triangle is a triangle in which all three sides are equal.<br>\r\n",
    "A scalene triangle is a triangle that has three unequal sides.<br>\r\n",
    "An isosceles triangle is a triangle with (at least) two equal sides.<br>\r\n",
    "Sample Output:<br>\r\n",
    "x: 6<br>\r\n",
    "y:8<br>\r\n",
    "z:12<br>\r\n",
    "Scalene triangle<br>\r\n",
    "<br><img src=\"images/image1.png\"/>\r\n",
    "\r\n"
   ],
   "metadata": {}
  },
  {
   "cell_type": "code",
   "execution_count": null,
   "source": [],
   "outputs": [],
   "metadata": {}
  },
  {
   "cell_type": "markdown",
   "source": [
    "***\r\n",
    "***"
   ],
   "metadata": {}
  },
  {
   "cell_type": "markdown",
   "source": [
    "Task : Create a program that will play the “cows and bulls” game with the user. The game works like this:\\\r\n",
    "Randomly generate a 4-digit number. Ask the user to guess a 4-digit number. For every digit that the user guessed correctly in the correct\\ place, they have a “cow”. For every digit the user guessed correctly in the wrong place is a “bull.” Every time the user makes a guess, tell\\ them how many “cows” and “bulls” they have. Once the user guesses the correct number, the game is over. Keep track of the number of guesses\\ the user makes throughout teh game and tell the user at the end.\\\r\n",
    "Say the number generated by the computer is 1038. An example interaction could look like this:\\\r\n",
    "  Welcome to the Cows and Bulls Game! \\\r\n",
    "  Enter a number: \\\r\n",
    "  >>> 1234\\\r\n",
    "  2 cows, 0 bulls\\\r\n",
    "  >>> 1256\\\r\n",
    "  1 cow, 1 bull\\\r\n",
    "  ..."
   ],
   "metadata": {}
  },
  {
   "cell_type": "code",
   "execution_count": null,
   "source": [
    "import random\r\n",
    "cow1 = cow2 = bull1 = bull2 = 0\r\n",
    "while True:\r\n",
    "    num = list(str(random.randint(1000,10000)))\r\n",
    "    guess1 = list(str(input(\"guess a 4-digit number(Player1)(to quit press q): \")))\r\n",
    "    guess2 = list(str(input(\"guess a 4-digit number(Player2)(to quit press q): \")))\r\n",
    "    if num != guess1 or guess2:\r\n",
    "        for i in guess1:\r\n",
    "            if guess1[guess1.index(i)] == num[guess1.index(i)]:\r\n",
    "                cow1 += 1  \r\n",
    "            elif i in num:\r\n",
    "                bull1 += 1                  \r\n",
    "        for i in guess2:\r\n",
    "            if guess2[guess2.index(i)] == num[guess2.index(i)]:\r\n",
    "                cow2 += 1  \r\n",
    "            elif i in num:\r\n",
    "                bull2 += 1\r\n",
    "        print(\"Random number:\",num,\"\\nAnswer of Player 1:\",guess1,\"cow:\",cow1,\"bull:\",bull1,\\\r\n",
    "            \"\\nAnswer of Player 2:\",guess2,\"cow:\",cow2,\"bull:\",bull2)\r\n",
    "        \r\n",
    "    else:\r\n",
    "        print(\"Congratulations, you guessed correctly\\n\")\r\n",
    "        print(\"Random number:\",num,\"\\nAnswer of Player 1:\",guess1,\"cow:\",cow1,\"bull:\",bull1,\\\r\n",
    "            \"\\nAnswer of Player 2:\",guess2,\"cow:\",cow2,\"bull:\",bull2)\r\n",
    "        break"
   ],
   "outputs": [],
   "metadata": {}
  },
  {
   "cell_type": "code",
   "execution_count": null,
   "source": [
    "import random\r\n",
    "print(\"Welcome to the Cows and Bulls Game!\")\r\n",
    "random_number = str(random.randrange(1000,10000))  # 10000 de dahil edilmis olur bu sekilde. 9999 olarak duzeltebilirsiniz.\r\n",
    "print(random_number)  # Bunu yazdirmakta fayda var, cunku dogru tahmin edene kadar donguden cikamazsiniz.\r\n",
    "random_number_list = list(str(random_number))\r\n",
    "while True:\r\n",
    "    entering_number = input(\"Enter a number:\")\r\n",
    "    entering_number_list = list(entering_number)\r\n",
    "    if int(random_number) == int(entering_number):  # Burada random number string, entering number int'e donusturuluyor. Hicbir zaman esit olmazlar. Onun icin random number'i int'e donusturdum.\r\n",
    "        print(f\"Congratulations, you got the number. The number is {random_number}\")\r\n",
    "        break  # \r\n",
    "    cows = 0\r\n",
    "    bulls = 0\r\n",
    "    for a in range(len(entering_number_list)):\r\n",
    "        if entering_number_list[a] == random_number_list[a]:\r\n",
    "            cows += 1\r\n",
    "        elif entering_number_list[a] in random_number_list:\r\n",
    "            bulls += 1\r\n",
    "    print(f\"{cows} cows, {bulls} bulls.\")"
   ],
   "outputs": [],
   "metadata": {}
  },
  {
   "cell_type": "markdown",
   "source": [
    "***\r\n",
    "***\r\n"
   ],
   "metadata": {}
  },
  {
   "cell_type": "markdown",
   "source": [
    "\r\n",
    "Imagine you took all the numbers between 0 and n and concatenated them together into a long string. How many digits are there <br>between 0 and n? Write a function that can calculate this.\r\n",
    "<br>There are 0 digits between 0 and 1, there are 9 digits between 0 and 10 and there are 189 digits between 0 and 100.\r\n",
    "<br>Examples digits(1) ➞ 0\r\n",
    "<br>digits(10) ➞ 9\r\n",
    "<br>digits(100) ➞ 189\r\n",
    "<br>digits(2020) ➞ 6969\r\n",
    "<br>Notes The numbers are going to be rather big so creating that string won't be practical.\r\n",
    "<br>(Eğer fonksiyonlar bitmediyse kullanıcadan input alarak da çözebilirsiniz)"
   ],
   "metadata": {}
  },
  {
   "cell_type": "code",
   "execution_count": null,
   "source": [
    "def concatenate_numbers(inter):\r\n",
    "    inter = list(range(1,inter))\r\n",
    "    digits = 0\r\n",
    "    for i in inter:\r\n",
    "        while i >= 10:\r\n",
    "            i //= 10\r\n",
    "            digits += 1\r\n",
    "        else:\r\n",
    "            digits += 1    \r\n",
    "    return digits\r\n",
    "\r\n",
    "inter = 2020\r\n",
    "concatenate_numbers(inter)\r\n"
   ],
   "outputs": [],
   "metadata": {}
  },
  {
   "cell_type": "code",
   "execution_count": null,
   "source": [
    "print(len([[12,34,56]][0]))"
   ],
   "outputs": [],
   "metadata": {}
  },
  {
   "cell_type": "markdown",
   "source": [
    "***\r\n",
    "***"
   ],
   "metadata": {}
  },
  {
   "cell_type": "markdown",
   "source": [
    "<h2>Edabit Challange</h2>\r\n",
    "Loves Me, Loves Me Not...\r\n",
    "\"Loves me, loves me not\" is a traditional game in which a person plucks off all the petals of a flower one by one, saying the phrase \"Loves me\" and \"Loves me not\" when determining whether the one that they love, loves them back.\r\n",
    "\r\n",
    "Given a number of petals, return a string which repeats the phrases \"Loves me\" and \"Loves me not\" for every alternating petal, and return the last phrase in all caps. Remember to put a comma and space between phrases.\r\n",
    "\r\n",
    "Examples\r\n",
    "loves_me(3) ➞ \"Loves me, Loves me not, LOVES ME\"\r\n",
    "\r\n",
    "loves_me(6) ➞ \"Loves me, Loves me not, Loves me, Loves me not, Loves me, LOVES ME NOT\"\r\n",
    "\r\n",
    "loves_me(1) ➞ \"LOVES ME\"\r\n",
    "Notes\r\n",
    "Remember to return a string.\r\n",
    "The first phrase is always \"Loves me\"."
   ],
   "metadata": {}
  },
  {
   "cell_type": "code",
   "execution_count": null,
   "source": [
    "def status(number1):\r\n",
    "    output = []\r\n",
    "    for i in range(1,number1):\r\n",
    "        if not i % 2 == 0:\r\n",
    "            output.append(\"Loves me\")\r\n",
    "        else:\r\n",
    "            output.append(\"Loves me not\")\r\n",
    "    output[-1] = output[-1].upper()\r\n",
    "    return output\r\n",
    "\r\n",
    "number1 = 6\r\n",
    "print(*status(7), sep=\", \")"
   ],
   "outputs": [],
   "metadata": {}
  },
  {
   "cell_type": "code",
   "execution_count": null,
   "source": [
    "def loves_me(n):\r\n",
    "    x = \"Loves me\"\r\n",
    "    y = \"Loves me not\"\r\n",
    "    lst = [x if i%2==0 else y for i in range(n)]\r\n",
    "    lst[-1] = lst[-1].upper()\r\n",
    "    return \", \".join(lst)\r\n",
    "\r\n",
    "print(loves_me(6))"
   ],
   "outputs": [],
   "metadata": {}
  },
  {
   "cell_type": "code",
   "execution_count": null,
   "source": [
    "\".\".join(\"point\")\r\n",
    "hey1 = [\"hey\", \"you\", \"outthere\"]\r\n",
    "\".\".join(hey1)"
   ],
   "outputs": [],
   "metadata": {}
  },
  {
   "cell_type": "code",
   "execution_count": null,
   "source": [
    "def loves_me(num):    \r\n",
    "    text = 'Loves me'\r\n",
    "    result = ''\r\n",
    "    for i in range(1, num + 1):\r\n",
    "        if i % 2 == 0:\r\n",
    "            res = text + ' not'\r\n",
    "        else:\r\n",
    "            res = text\r\n",
    "        if i == num:\r\n",
    "            res = res.upper()\r\n",
    "        result += res + ', '\r\n",
    "    result = result.strip(', ')\r\n",
    "    return result\r\n",
    "print(loves_me(6))"
   ],
   "outputs": [],
   "metadata": {}
  },
  {
   "cell_type": "code",
   "execution_count": null,
   "source": [
    "def loves_me(number1):\r\n",
    "    output1 = []\r\n",
    "    for i in range(1,number1):\r\n",
    "        if not i % 2 == 0:\r\n",
    "            output1.append(\"Loves me\")\r\n",
    "        else:\r\n",
    "            output1.append(\"Loves me not\")\r\n",
    "    \r\n",
    "    output1[-1] = output1[-1].upper()\r\n",
    "\t\t\r\n",
    "    return \", \".join(output1)\r\n",
    "\r\n",
    "print(loves_me(4))\r\n"
   ],
   "outputs": [],
   "metadata": {}
  },
  {
   "cell_type": "markdown",
   "source": [
    "***\r\n",
    "***\r\n"
   ],
   "metadata": {}
  },
  {
   "cell_type": "markdown",
   "source": [
    "<h2>Interview code challenge question used</h2>\r\n",
    "<br>by Cisco, Dell, Airbnb, Microsoft\r\n",
    "<br>==========================\r\n",
    "<br>Given a string containing just the characters '(', ')', '{', '}', '[' and ']',\r\n",
    "<br>determine if the input string is valid.\r\n",
    "<br>An input string is valid if:\r\n",
    "<br>Open brackets must be closed by the same type of brackets.\r\n",
    "<br>Open brackets must be closed in the correct order.\r\n",
    "<br>Note that an empty string is also considered valid.\r\n",
    "<br>Example 1:\r\n",
    "<br>Input: \"()\"\r\n",
    "<br>Output: True\r\n",
    "<br>Example 2:\r\n",
    "<br>Input: \"()[]{}\"\r\n",
    "<br>Output: True\r\n",
    "<br>Example 3:\r\n",
    "<br>Input: \"(]\"\r\n",
    "<br>Output: False\r\n",
    "<br>Example 4:\r\n",
    "<br>Input: \"([)]\"\r\n",
    "<br>Output: False\r\n",
    "<br>Example 5:\r\n",
    "<br>Input: \"{[]}\"\r\n",
    "<br>Output: True"
   ],
   "metadata": {}
  },
  {
   "cell_type": "code",
   "execution_count": 65,
   "source": [
    "char2 = {'(' : ')', '{': '}', '[': ']'}\r\n",
    "def char_check2():\r\n",
    "    txt3 = input(\"enter the text: \")\r\n",
    "    check = []\r\n",
    "    for i in txt3:\r\n",
    "        if i in char2.keys():\r\n",
    "            check.append(i)\r\n",
    "        elif i in char2.values():\r\n",
    "            if len(check) != 0 :\r\n",
    "                if i == \")\" and check[-1] == \"(\":\r\n",
    "                    check.pop()\r\n",
    "                elif i == \"}\" and check[-1] == \"{\":\r\n",
    "                    check.pop()\r\n",
    "                elif i == \"]\" and check[-1] == \"[\":\r\n",
    "                    check.pop()\r\n",
    "            else: return False\r\n",
    "        else:  \r\n",
    "            return False\r\n",
    "    return check == []\r\n",
    "\r\n",
    "print(char_check2()) "
   ],
   "outputs": [
    {
     "output_type": "stream",
     "name": "stdout",
     "text": [
      "False\n"
     ]
    }
   ],
   "metadata": {}
  },
  {
   "cell_type": "code",
   "execution_count": null,
   "source": [
    "char2 = { ')' : '(' , '}' : '{', ']' : '['}\r\n",
    "def char_check2():\r\n",
    "    txt3 = input(\"enter the text: \")\r\n",
    "    check = []\r\n",
    "    for i in txt3:\r\n",
    "        if i in char2.values():\r\n",
    "            check.append(i)\r\n",
    "        elif i in char2.keys():\r\n",
    "            if check == [] or char2[i] != check.pop() : \r\n",
    "                #checks if the match list is empty to make sure there is no closing bracket before\r\n",
    "                # and if the last closing bracket is in correct order\r\n",
    "                return False\r\n",
    "        else:  \r\n",
    "            return False\r\n",
    "    return check == []\r\n",
    "\r\n",
    "print(char_check2()) "
   ],
   "outputs": [],
   "metadata": {}
  },
  {
   "cell_type": "code",
   "execution_count": null,
   "source": [
    "def valid(a):\r\n",
    "        liste = []\r\n",
    "        sözlük = {\"]\":\"[\", \"}\":\"{\", \")\":\"(\"}\r\n",
    "        for i in a:\r\n",
    "            if i in sözlük.values():\r\n",
    "                liste.append(i)\r\n",
    "            elif i in sözlük.keys():\r\n",
    "                if liste == [] or sözlük[i] != liste.pop():\r\n",
    "                    return False\r\n",
    "            else:\r\n",
    "                return False\r\n",
    "        return liste == []\r\n",
    "print(valid('(())[]'))"
   ],
   "outputs": [],
   "metadata": {}
  },
  {
   "cell_type": "code",
   "execution_count": 48,
   "source": [
    "text = input('Enter a text > ')\r\n",
    "liste = ['(', '{', '[', ')', '}', ']']\r\n",
    "dictt = {'(':')', '{':'}', '[':']', ')':'(', '}':'{', ']':'['}\r\n",
    "leng = len(text)\r\n",
    "result = True\r\n",
    "for i in text:\r\n",
    "    if i in liste:\r\n",
    "        sayi_1 = text.count(i)\r\n",
    "        x = text.find(i)\r\n",
    "        tersi = dictt[i]\r\n",
    "        if tersi in text:\r\n",
    "            sayi_2 = text.count(tersi)\r\n",
    "            y = text[::-1].find(tersi)\r\n",
    "            y = leng - y - 1\r\n",
    "            if i == '(' or i == '{' or i == '[':\r\n",
    "                if sayi_1 !=sayi_2 or x > y or not (y - x) % 2:\r\n",
    "                    result = False\r\n",
    "                    break\r\n",
    "            else:\r\n",
    "                if y > x:\r\n",
    "                    if i not in text[y + 1:]:\r\n",
    "                        result = False\r\n",
    "                        break\r\n",
    "        else:\r\n",
    "            result = False\r\n",
    "    else:\r\n",
    "        result = False\r\n",
    "print(result)"
   ],
   "outputs": [
    {
     "output_type": "stream",
     "name": "stdout",
     "text": [
      "False\n"
     ]
    }
   ],
   "metadata": {}
  },
  {
   "cell_type": "code",
   "execution_count": null,
   "source": [
    "class Solution(object):\r\n",
    "    def isValid(self, s):\r\n",
    "        \"\"\"\r\n",
    "        :type s: str\r\n",
    "        :rtype: bool\r\n",
    "        \"\"\"\r\n",
    "        stack = []\r\n",
    "        dct = {\")\": \"(\", \"]\": \"[\", \"}\":\"{\"}\r\n",
    "        \r\n",
    "        for par in s:\r\n",
    "            if par==dct.keys():\r\n",
    "                stack.append(par)\r\n",
    "            else:\r\n",
    "                if len(stack):\r\n",
    "                    last = stack.pop()\r\n",
    "                    if dct[par]!=last:\r\n",
    "                        return False\r\n",
    "                else:\r\n",
    "                    return False\r\n",
    "    \r\n",
    "        if len(stack):\r\n",
    "            return False\r\n",
    "        return True\r\n",
    "        \r\n",
    "isValid(\"())\")"
   ],
   "outputs": [],
   "metadata": {}
  },
  {
   "cell_type": "code",
   "execution_count": 5,
   "source": [
    "a, opn, cls, que = input(), [\"(\", \"[\", \"{\"], [\")\", \"]\", \"}\"], []\r\n",
    "for i in a:\r\n",
    "    [que.insert(0, cls[ii]) for ii in range(3) if i == opn[ii]]\r\n",
    "    que.append(0) if i in cls and not len(que) else None\r\n",
    "    que.remove(que[0]) if i == que[0] else None\r\n",
    "print(\"invalid\") if len(que) else print(\"valid\")"
   ],
   "outputs": [
    {
     "output_type": "stream",
     "name": "stdout",
     "text": [
      "valid\n"
     ]
    }
   ],
   "metadata": {}
  },
  {
   "cell_type": "markdown",
   "source": [
    "---"
   ],
   "metadata": {}
  },
  {
   "cell_type": "markdown",
   "source": [
    "0., 4. ve 5. elemanları çıkardıktan sonra belirtilen listeyi yazdıracak bir Python programı yazın. \r\n",
    "Örnek Liste : ['Kırmızı', 'Yeşil', 'Beyaz', 'Siyah', 'Pembe', 'Sarı']\r\n",
    "Beklenen Çıktı : ['Yeşil', 'Beyaz', 'Siyah']\r\n",
    "Not: 3 satırda yapın."
   ],
   "metadata": {}
  },
  {
   "cell_type": "code",
   "execution_count": 8,
   "source": [
    "liste = ['Kırmızı', 'Yeşil', 'Beyaz', 'Siyah', 'Pembe', 'Sarı']\r\n",
    "a = list(filter(lambda x : x == liste[1] or x == liste[2] or x == liste[3], liste))\r\n",
    "print(a)"
   ],
   "outputs": [
    {
     "output_type": "stream",
     "name": "stdout",
     "text": [
      "['Yeşil', 'Beyaz', 'Siyah']\n"
     ]
    }
   ],
   "metadata": {}
  },
  {
   "cell_type": "code",
   "execution_count": 9,
   "source": [
    "liste = ['Kırmızı', 'Yeşil', 'Beyaz', 'Siyah', 'Pembe', 'Sarı']\r\n",
    "\r\n",
    "del liste[0], liste[3], liste[3]\r\n",
    "print(liste)"
   ],
   "outputs": [
    {
     "output_type": "stream",
     "name": "stdout",
     "text": [
      "['Yeşil', 'Beyaz', 'Siyah']\n"
     ]
    }
   ],
   "metadata": {}
  },
  {
   "cell_type": "code",
   "execution_count": 10,
   "source": [
    "liste = ['Kırmızı', 'Yeşil', 'Beyaz', 'Siyah', 'Pembe', 'Sarı']\r\n",
    "liste = [x for (i,x) in enumerate(liste) if i not in (0,4,5)]\r\n",
    "print(liste)"
   ],
   "outputs": [
    {
     "output_type": "stream",
     "name": "stdout",
     "text": [
      "['Yeşil', 'Beyaz', 'Siyah']\n"
     ]
    }
   ],
   "metadata": {}
  },
  {
   "cell_type": "markdown",
   "source": [
    "***"
   ],
   "metadata": {}
  }
 ],
 "metadata": {
  "orig_nbformat": 4,
  "language_info": {
   "name": "python",
   "version": "3.9.5",
   "mimetype": "text/x-python",
   "codemirror_mode": {
    "name": "ipython",
    "version": 3
   },
   "pygments_lexer": "ipython3",
   "nbconvert_exporter": "python",
   "file_extension": ".py"
  },
  "kernelspec": {
   "name": "python3",
   "display_name": "Python 3.9.5 64-bit"
  },
  "interpreter": {
   "hash": "df9803d5d1b6cb5abc1edc30c69a1153e23b31bf85805cdabf595a077425259e"
  }
 },
 "nbformat": 4,
 "nbformat_minor": 2
}