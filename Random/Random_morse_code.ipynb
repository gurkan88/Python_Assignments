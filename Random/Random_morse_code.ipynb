{
 "cells": [
  {
   "cell_type": "markdown",
   "source": [
    "Take a string with input() and returns the Morse code equivalent.\r\n",
    "Examples\r\n",
    "\"EDABBIT CHALLENGE\" ➞ \". -.. .- -... -... .. -   -.-. .... .- .-.. .-.. . -. --. .\"\r\n",
    "\"HELP ME !\" ➞ \".... . .-.. .--.   -- .   -.-.--\"\r\n",
    "This dictionary can be used for coding:\r\n",
    "char_to_dots = {\r\n",
    "  'A': '.-', 'B': '-...', 'C': '-.-.', 'D': '-..', 'E': '.', 'F': '..-.',\r\n",
    "  'G': '--.', 'H': '....', 'I': '..', 'J': '.---', 'K': '-.-', 'L': '.-..',\r\n",
    "  'M': '--', 'N': '-.', 'O': '---', 'P': '.--.', 'Q': '--.-', 'R': '.-.',\r\n",
    "  'S': '...', 'T': '-', 'U': '..-', 'V': '...-', 'W': '.--', 'X': '-..-',\r\n",
    "  'Y': '-.--', 'Z': '--..', ' ': ' ', '0': '-----',\r\n",
    "  '1': '.----', '2': '..---', '3': '...--', '4': '....-', '5': '.....',\r\n",
    "  '6': '-....', '7': '--...', '8': '---..', '9': '----.',\r\n",
    "  '&': '.-...', \"'\": '.----.', '@': '.--.-.', ')': '-.--.-', '(': '-.--.',\r\n",
    "  ':': '---...', ',': '--..--', '=': '-...-', '!': '-.-.--', '.': '.-.-.-',\r\n",
    "  '-': '-....-', '+': '.-.-.', '\"': '.-..-.', '?': '..--..', '/': '-..-.'\r\n",
    "}\r\n",
    "Notes\r\n",
    "Ouput should be International Morse Code, and use the standard conventions for symbols not defined inside the ITU recommendation (see Resources).\r\n",
    "Input value can be lower or upper case.\r\n",
    "Input string can have digits.\r\n",
    "Input string can have some special characters (e.g. comma, colon, apostrophe, period, question mark, exclamation mark).\r\n",
    "One space \" \" is expected after each character, except the last one."
   ],
   "metadata": {}
  },
  {
   "cell_type": "code",
   "execution_count": null,
   "source": [
    "### my_answer\r\n",
    "char_to_dots = {\r\n",
    "  'A': '.-', 'B': '-...', 'C': '-.-.', 'D': '-..', 'E': '.', 'F': '..-.',\r\n",
    "  'G': '--.', 'H': '....', 'I': '..', 'J': '.---', 'K': '-.-', 'L': '.-..',\r\n",
    "  'M': '--', 'N': '-.', 'O': '---', 'P': '.--.', 'Q': '--.-', 'R': '.-.',\r\n",
    "  'S': '...', 'T': '-', 'U': '..-', 'V': '...-', 'W': '.--', 'X': '-..-',\r\n",
    "  'Y': '-.--', 'Z': '--..', ' ': ' ', '0': '-----',\r\n",
    "  '1': '.----', '2': '..---', '3': '...--', '4': '....-', '5': '.....',\r\n",
    "  '6': '-....', '7': '--...', '8': '---..', '9': '----.',\r\n",
    "  '&': '.-...', \"'\": '.----.', '@': '.--.-.', ')': '-.--.-', '(': '-.--.',\r\n",
    "  ':': '---...', ',': '--..--', '=': '-...-', '!': '-.-.--', '.': '.-.-.-',\r\n",
    "  '-': '-....-', '+': '.-.-.', '\"': '.-..-.', '?': '..--..', '/': '-..-.'\r\n",
    "}\r\n",
    "i = 0\r\n",
    "output = \"\"\r\n",
    "x = list(input(\"enter the word:\").upper())\r\n",
    "for i in range(0,len(x)):\r\n",
    "    output += char_to_dots[x[i]] + \" \"\r\n",
    "print(output.rstrip(output[-1]))"
   ],
   "outputs": [],
   "metadata": {}
  },
  {
   "cell_type": "code",
   "execution_count": 110,
   "source": [
    "### my_answer morse_code_developed\r\n",
    "import re\r\n",
    "def Morse_converter(text):\r\n",
    "    encrypt = {\r\n",
    "        'A': '.-', 'B': '-...', 'C': '-.-.', 'D': '-..', 'E': '.', 'F': '..-.',\r\n",
    "        'G': '--.', 'H': '....', 'I': '..', 'J': '.---', 'K': '-.-', 'L': '.-..',\r\n",
    "        'M': '--', 'N': '-.', 'O': '---', 'P': '.--.', 'Q': '--.-', 'R': '.-.',\r\n",
    "        'S': '...', 'T': '-', 'U': '..-', 'V': '...-', 'W': '.--', 'X': '-..-',\r\n",
    "        'Y': '-.--', 'Z': '--..', ' ': ' ', '0': '-----',\r\n",
    "        '1': '.----', '2': '..---', '3': '...--', '4': '....-', '5': '.....',\r\n",
    "        '6': '-....', '7': '--...', '8': '---..', '9': '----.',\r\n",
    "        '&': '.-...', \"'\": '.----.', '@': '.--.-.', ')': '-.--.-', '(': '-.--.',\r\n",
    "        ':': '---...', ',': '--..--', '=': '-...-', '!': '-.-.--', '.': '.-.-.-',\r\n",
    "        '-': '-....-', '+': '.-.-.', '\"': '.-..-.', '?': '..--..', '/': '-..-.'}\r\n",
    "    decrypt = {value : key for key, value in encrypt.items()} \r\n",
    "    output = \"\"\r\n",
    "    if re.match(\"(\\s|-|\\.)+\",text) :\r\n",
    "        text_format = text.split(\" \")\r\n",
    "        for x in text_format:\r\n",
    "            if x in decrypt:\r\n",
    "                output += decrypt[x]\r\n",
    "            else:\r\n",
    "                output += \"(undefined)\" + \" \"\r\n",
    "        print(output)\r\n",
    "\r\n",
    "\r\n",
    "    else:\r\n",
    "        for x in text.upper():\r\n",
    "            if x != \" \":\r\n",
    "                output += encrypt[x] + \" \"\r\n",
    "            else:\r\n",
    "                output += \" \"\r\n",
    "        print(output)\r\n",
    "\r\n",
    "\r\n",
    "\r\n",
    "input1 = input(\"only enter '.' '-' and ' ' space to decode or enter the text to convert morse:\") \r\n",
    "Morse_converter(input1)\r\n"
   ],
   "outputs": [
    {
     "output_type": "stream",
     "name": "stdout",
     "text": [
      "\n"
     ]
    }
   ],
   "metadata": {}
  },
  {
   "cell_type": "code",
   "execution_count": 83,
   "source": [
    "## different solution\r\n",
    "    \r\n",
    "    morseAlphabet ={\r\n",
    "        \"A\" : \".-\",\r\n",
    "        \"B\" : \"-...\",\r\n",
    "        \"C\" : \"-.-.\",\r\n",
    "        \"D\" : \"-..\",\r\n",
    "        \"E\" : \".\",\r\n",
    "        \"F\" : \"..-.\",\r\n",
    "        \"G\" : \"--.\",\r\n",
    "        \"H\" : \"....\",\r\n",
    "        \"I\" : \"..\",\r\n",
    "        \"J\" : \".---\",\r\n",
    "        \"K\" : \"-.-\",\r\n",
    "        \"L\" : \".-..\",\r\n",
    "        \"M\" : \"--\",\r\n",
    "        \"N\" : \"-.\",\r\n",
    "        \"O\" : \"---\",\r\n",
    "        \"P\" : \".--.\",\r\n",
    "        \"Q\" : \"--.-\",\r\n",
    "        \"R\" : \".-.\",\r\n",
    "        \"S\" : \"...\",\r\n",
    "        \"T\" : \"-\",\r\n",
    "        \"U\" : \"..-\",\r\n",
    "        \"V\" : \"...-\",\r\n",
    "        \"W\" : \".--\",\r\n",
    "        \"X\" : \"-..-\",\r\n",
    "        \"Y\" : \"-.--\",\r\n",
    "        \"Z\" : \"--..\",\r\n",
    "        \" \" : \"/\"\r\n",
    "        }\r\n",
    "\r\n",
    "    inverseMorseAlphabet=dict((v,k) for (k,v) in morseAlphabet.items())\r\n",
    "\r\n",
    "\r\n",
    "    testCode = \".... . .-.. .-.. --- / -.. .- .. .-.. -.-- / .--. .-. --- --. .-. .- -- -- . .-. / --. --- --- -.. / .-.. ..- -.-. -.- / --- -. / - .... . / -.-. .... .- .-.. .-.. . -. --. . ... / - --- -.. .- -.-- \"\r\n",
    "\r\n",
    "    # parse a morse code string positionInString is the starting point for decoding\r\n",
    "    def decodeMorse(code, positionInString = 0):\r\n",
    "        \r\n",
    "        if positionInString < len(code):\r\n",
    "            morseLetter = \"\"\r\n",
    "            for key,char in enumerate(code[positionInString:]):\r\n",
    "                if char == \" \":\r\n",
    "                    positionInString = key + positionInString + 1\r\n",
    "                    letter = inverseMorseAlphabet[morseLetter]\r\n",
    "                    return letter + decodeMorse(code, positionInString)\r\n",
    "                \r\n",
    "                else:\r\n",
    "                    morseLetter += char\r\n",
    "        else:\r\n",
    "            return \"\"\r\n",
    "        \r\n",
    "    #encode a message in morse code, spaces between words are represented by '/'\r\n",
    "    def encodeToMorse(message):\r\n",
    "        encodedMessage = \"\"\r\n",
    "        for char in message[:]:\r\n",
    "            encodedMessage += morseAlphabet[char.upper()] + \" \"\r\n",
    "                \r\n",
    "        return encodedMessage"
   ],
   "outputs": [],
   "metadata": {}
  },
  {
   "cell_type": "code",
   "execution_count": 111,
   "source": [
    "## different approach to get key from a value in a dict\r\n",
    "char_to_dots = {\r\n",
    "        'A': '.-', 'B': '-...', 'C': '-.-.', 'D': '-..', 'E': '.', 'F': '..-.',\r\n",
    "        'G': '--.', 'H': '....', 'I': '..', 'J': '.---', 'K': '-.-', 'L': '.-..',\r\n",
    "        'M': '--', 'N': '-.', 'O': '---', 'P': '.--.', 'Q': '--.-', 'R': '.-.',\r\n",
    "        'S': '...', 'T': '-', 'U': '..-', 'V': '...-', 'W': '.--', 'X': '-..-',\r\n",
    "        'Y': '-.--', 'Z': '--..', ' ': ' ', '0': '-----',\r\n",
    "        '1': '.----', '2': '..---', '3': '...--', '4': '....-', '5': '.....',\r\n",
    "        '6': '-....', '7': '--...', '8': '---..', '9': '----.',\r\n",
    "        '&': '.-...', \"'\": '.----.', '@': '.--.-.', ')': '-.--.-', '(': '-.--.',\r\n",
    "        ':': '---...', ',': '--..--', '=': '-...-', '!': '-.-.--', '.': '.-.-.-',\r\n",
    "        '-': '-....-', '+': '.-.-.', '\"': '.-..-.', '?': '..--..', '/': '-..-.'\r\n",
    "        }\r\n",
    "def get_key(val):\r\n",
    "    for key, value in char_to_dots.items():\r\n",
    "         if val == value:\r\n",
    "             return key\r\n",
    " \r\n",
    "    return \"key doesn't exist\"\r\n",
    "print(get_key(\"-.---------..\"))"
   ],
   "outputs": [
    {
     "output_type": "stream",
     "name": "stdout",
     "text": [
      "key doesn't exist\n"
     ]
    }
   ],
   "metadata": {}
  },
  {
   "cell_type": "code",
   "execution_count": 66,
   "source": [
    "## shortway to get key from a value in dict\r\n",
    "encrypt = {5:\"beş\", 6:\"altı\", 7:\"yedi\"}\r\n",
    "decrypt = {value : key for key, value in encrypt.items()}\r\n",
    "decrypt[\"altı\"]\r\n",
    "encrypt.get(5)\r\n",
    "encrypt[7]"
   ],
   "outputs": [
    {
     "output_type": "execute_result",
     "data": {
      "text/plain": [
       "'yedi'"
      ]
     },
     "metadata": {},
     "execution_count": 66
    }
   ],
   "metadata": {}
  },
  {
   "cell_type": "markdown",
   "source": [
    "much more short than defining a function\r\n",
    "to get key from a value in a dict"
   ],
   "metadata": {}
  },
  {
   "cell_type": "markdown",
   "source": [
    "## Other Answers"
   ],
   "metadata": {}
  },
  {
   "cell_type": "code",
   "execution_count": null,
   "source": [
    "char_to_dots = {\r\n",
    "  'A': '.-', 'B': '-...', 'C': '-.-.', 'D': '-..', 'E': '.', 'F': '..-.',\r\n",
    "  'G': '--.', 'H': '....', 'I': '..', 'J': '.---', 'K': '-.-', 'L': '.-..',\r\n",
    "  'M': '--', 'N': '-.', 'O': '---', 'P': '.--.', 'Q': '--.-', 'R': '.-.',\r\n",
    "  'S': '...', 'T': '-', 'U': '..-', 'V': '...-', 'W': '.--', 'X': '-..-',\r\n",
    "  'Y': '-.--', 'Z': '--..', ' ': ' ', '0': '-----',\r\n",
    "  '1': '.----', '2': '..---', '3': '...--', '4': '....-', '5': '.....',\r\n",
    "  '6': '-....', '7': '--...', '8': '---..', '9': '----.',\r\n",
    "  '&': '.-...', \"'\": '.----.', '@': '.--.-.', ')': '-.--.-', '(': '-.--.',\r\n",
    "  ':': '---...', ',': '--..--', '=': '-...-', '!': '-.-.--', '.': '.-.-.-',\r\n",
    "  '-': '-....-', '+': '.-.-.', '\"': '.-..-.', '?': '..--..', '/': '-..-.'\r\n",
    "}\r\n",
    "cikti = []\r\n",
    "giris = input(\"Birşeyler yazın: \").upper()\r\n",
    "for i in giris:\r\n",
    "    cikti.append(char_to_dots[i])\r\n",
    "print(*cikti)"
   ],
   "outputs": [],
   "metadata": {}
  },
  {
   "cell_type": "code",
   "execution_count": null,
   "source": [
    "char_to_dots = {\r\n",
    "  'A': '.-', 'B': '-...', 'C': '-.-.', 'D': '-..', 'E': '.', 'F': '..-.',\r\n",
    "  'G': '--.', 'H': '....', 'I': '..', 'J': '.---', 'K': '-.-', 'L': '.-..',\r\n",
    "  'M': '--', 'N': '-.', 'O': '---', 'P': '.--.', 'Q': '--.-', 'R': '.-.',\r\n",
    "  'S': '...', 'T': '-', 'U': '..-', 'V': '...-', 'W': '.--', 'X': '-..-',\r\n",
    "  'Y': '-.--', 'Z': '--..', ' ': ' ', '0': '-----',\r\n",
    "  '1': '.----', '2': '..---', '3': '...--', '4': '....-', '5': '.....',\r\n",
    "  '6': '-....', '7': '--...', '8': '---..', '9': '----.',\r\n",
    "  '&': '.-...', \"'\": '.----.', '@': '.--.-.', ')': '-.--.-', '(': '-.--.',\r\n",
    "  ':': '---...', ',': '--..--', '=': '-...-', '!': '-.-.--', '.': '.-.-.-',\r\n",
    "  '-': '-....-', '+': '.-.-.', '\"': '.-..-.', '?': '..--..', '/': '-..-.'\r\n",
    "}\r\n",
    "text = input('Enter a text > ').strip().upper()\r\n",
    "result = []\r\n",
    "result_text = ''\r\n",
    "for i in text:\r\n",
    "    if i in char_to_dots.keys():\r\n",
    "        result.append(char_to_dots[i])\r\n",
    "for i in result:\r\n",
    "    result_text += (i + ' ') \r\n",
    "print(result_text)"
   ],
   "outputs": [],
   "metadata": {}
  },
  {
   "cell_type": "code",
   "execution_count": null,
   "source": [
    "def encode_morse(message):\r\n",
    "    char_to_dots = {\r\n",
    "  'A': '.-', 'B': '-...', 'C': '-.-.', 'D': '-..', 'E': '.', 'F': '..-.',\r\n",
    "  'G': '--.', 'H': '....', 'I': '..', 'J': '.---', 'K': '-.-', 'L': '.-..',\r\n",
    "  'M': '--', 'N': '-.', 'O': '---', 'P': '.--.', 'Q': '--.-', 'R': '.-.',\r\n",
    "  'S': '...', 'T': '-', 'U': '..-', 'V': '...-', 'W': '.--', 'X': '-..-',\r\n",
    "  'Y': '-.--', 'Z': '--..', ' ': ' ', '0': '-----',\r\n",
    "  '1': '.----', '2': '..---', '3': '...--', '4': '....-', '5': '.....',\r\n",
    "  '6': '-....', '7': '--...', '8': '---..', '9': '----.',\r\n",
    "  '&': '.-...', \"'\": '.----.', '@': '.--.-.', ')': '-.--.-', '(': '-.--.',\r\n",
    "  ':': '---...', ',': '--..--', '=': '-...-', '!': '-.-.--', '.': '.-.-.-',\r\n",
    "  '-': '-....-', '+': '.-.-.', '\"': '.-..-.', '?': '..--..', '/': '-..-.'}\r\n",
    "    return \" \".join(char_to_dots[i.upper()] for i in message)\r\n",
    "print(encode_morse(\"EDABBIT CHALLENGE\"))"
   ],
   "outputs": [],
   "metadata": {}
  },
  {
   "cell_type": "code",
   "execution_count": null,
   "source": [
    "char_to_dots = {\r\n",
    "  'A': '.-', 'B': '-...', 'C': '-.-.', 'D': '-..', 'E': '.', 'F': '..-.',\r\n",
    "  'G': '--.', 'H': '....', 'I': '..', 'J': '.---', 'K': '-.-', 'L': '.-..',\r\n",
    "  'M': '--', 'N': '-.', 'O': '---', 'P': '.--.', 'Q': '--.-', 'R': '.-.',\r\n",
    "  'S': '...', 'T': '-', 'U': '..-', 'V': '...-', 'W': '.--', 'X': '-..-',\r\n",
    "  'Y': '-.--', 'Z': '--..', ' ': ' ', '0': '-----',\r\n",
    "  '1': '.----', '2': '..---', '3': '...--', '4': '....-', '5': '.....',\r\n",
    "  '6': '-....', '7': '--...', '8': '---..', '9': '----.',\r\n",
    "  '&': '.-...', \"'\": '.----.', '@': '.--.-.', ')': '-.--.-', '(': '-.--.',\r\n",
    "  ':': '---...', ',': '--..--', '=': '-...-', '!': '-.-.--', '.': '.-.-.-',\r\n",
    "  '-': '-....-', '+': '.-.-.', '\"': '.-..-.', '?': '..--..', '/': '-..-.'\r\n",
    "}\r\n",
    "a = []\r\n",
    "b = str(input(\"Enter your string:\")).upper()\r\n",
    "for i in b:\r\n",
    "    a.append(char_to_dots[i])\r\n",
    "print(b,\">>>\",a)"
   ],
   "outputs": [],
   "metadata": {}
  },
  {
   "cell_type": "code",
   "execution_count": null,
   "source": [
    "word=input('Enter a word/phrase to be converted to IMC:')\r\n",
    "word_ims=[]\r\n",
    "for letter in list(word.upper()):\r\n",
    "  word_ims.append(char_to_dots[letter])\r\n",
    "word_ims = ' '.join(word_ims)\r\n",
    "print(word_ims)"
   ],
   "outputs": [],
   "metadata": {}
  },
  {
   "cell_type": "code",
   "execution_count": null,
   "source": [
    "word=input('Enter a word/phrase to be converted to IMC: ')\r\n",
    "word_ims=' '.join(char_to_dots[i.upper()] for i in word)\r\n",
    "print(word_ims)"
   ],
   "outputs": [],
   "metadata": {}
  },
  {
   "cell_type": "code",
   "execution_count": null,
   "source": [
    "char_to_dots = {\r\n",
    "  'A': '.-', 'B': '-...', 'C': '-.-.', 'D': '-..', 'E': '.', 'F': '..-.',\r\n",
    "  'G': '--.', 'H': '....', 'I': '..', 'J': '.---', 'K': '-.-', 'L': '.-..',\r\n",
    "  'M': '--', 'N': '-.', 'O': '---', 'P': '.--.', 'Q': '--.-', 'R': '.-.',\r\n",
    "  'S': '...', 'T': '-', 'U': '..-', 'V': '...-', 'W': '.--', 'X': '-..-',\r\n",
    "  'Y': '-.--', 'Z': '--..', ' ': ' ', '0': '-----',\r\n",
    "  '1': '.----', '2': '..---', '3': '...--', '4': '....-', '5': '.....',\r\n",
    "  '6': '-....', '7': '--...', '8': '---..', '9': '----.',\r\n",
    "  '&': '.-...', \"'\": '.----.', '@': '.--.-.', ')': '-.--.-', '(': '-.--.',\r\n",
    "  ':': '---...', ',': '--..--', '=': '-...-', '!': '-.-.--', '.': '.-.-.-',\r\n",
    "  '-': '-....-', '+': '.-.-.', '\"': '.-..-.', '?': '..--..', '/': '-..-.'\r\n",
    "}\r\n",
    "user=input(\"please enter input\").upper()\r\n",
    "number,user=len(user),list(user)\r\n",
    "morselist=[char_to_dots[user[num]] for num in range(number)]\r\n",
    "for mors in morselist:\r\n",
    "    print(f\" {mors}\",end=\" \")"
   ],
   "outputs": [],
   "metadata": {}
  },
  {
   "cell_type": "code",
   "execution_count": null,
   "source": [
    "input1 = input('Enter a something for Morse code:').upper()\r\n",
    "for i in input1 :\r\n",
    "    a = char_to_dots[str(i)]\r\n",
    "    print(a, '', end ='')"
   ],
   "outputs": [],
   "metadata": {}
  }
 ],
 "metadata": {
  "orig_nbformat": 4,
  "language_info": {
   "name": "python"
  }
 },
 "nbformat": 4,
 "nbformat_minor": 2
}