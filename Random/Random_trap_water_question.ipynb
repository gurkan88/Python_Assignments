{
 "cells": [
  {
   "cell_type": "markdown",
   "source": [
    "Interview'larda Google, Facebook, Microsoft firmalarınca kullanılan bir soru. Biriken su birim miktarını bulmaca.<br>\r\n",
    "--<br>\r\n",
    "orjinal metin :<br>\r\n",
    "Given an array of non-negative integers representing an elevation map as shown below where the width of each bar is 1, compute how much water<br>\r\n",
    "will be trapped on terrain after raining. To clarify further, the black boxes represents terrain and its height, and the blue boxes represents<br>\r\n",
    "the water that could be trapped on the terrain.<br>\r\n",
    "<img src=\"images/trap_water.png\" alt=\"trap water question\" width=\"100%\" height=\"auto\" border=\"1px\">"
   ],
   "metadata": {}
  },
  {
   "cell_type": "code",
   "execution_count": 3,
   "source": [
    "input1 = [0,1,0,2,1,0,1,3,2,1,2,1]\r\n",
    "def solution(array):\r\n",
    "    water = 0\r\n",
    "    x = 0 \r\n",
    "    while x < len(array)-1:\r\n",
    "        for ind in range(x+1,len(array)):\r\n",
    "            if array[ind] >= array[x] :\r\n",
    "                water += (ind-x-1) * array[x] - sum(array[x+1:ind])\r\n",
    "                x = ind\r\n",
    "                break\r\n",
    "        else:\r\n",
    "            t = max(array[x+1:])\r\n",
    "            t_index = array[x+1:].index(t) + x+1\r\n",
    "            water += (t_index-x-1)*t - sum(array[x+1:t_index])\r\n",
    "            x = t_index\r\n",
    "    return water\r\n",
    "\r\n",
    "input1 = [0,1,0,2,1,0,1,3,2,1,2,1]\r\n",
    "input2 = [5,4,5]\r\n",
    "solution(input2)"
   ],
   "outputs": [
    {
     "output_type": "execute_result",
     "data": {
      "text/plain": [
       "10"
      ]
     },
     "metadata": {},
     "execution_count": 3
    }
   ],
   "metadata": {}
  },
  {
   "cell_type": "code",
   "execution_count": null,
   "source": [
    "new = [0, 1, 0,\"2\", 1,3,4,1,5,2]\r\n",
    "new[1:5].index(\"2\")\r\n",
    "## index number has changed according to the new part \"new[1:5]\""
   ],
   "outputs": [],
   "metadata": {}
  },
  {
   "cell_type": "code",
   "execution_count": 1,
   "source": [
    "#sample_answer\r\n",
    "def solution(pipes):\r\n",
    "\t\"\"\"\r\n",
    "\tReturns the area of water\r\n",
    "\t\r\n",
    "\tBasic thought proccess is to look for a pipe that\r\n",
    "\tis the same height or taller than the current pipe.\r\n",
    "\tWe will start with the first pipe, look through pipes\r\n",
    "\tand try to find one that is taller or same height. When\r\n",
    "\twe reach this pipe we will calculate the area from the\r\n",
    "\tprevious pipe to this one and repeat the process until\r\n",
    "\tno more pipes exist.\r\n",
    "\t:param pipes: List\r\n",
    "\t:return: int\r\n",
    "\t\"\"\"\r\n",
    "\tif len(pipes) < 3:\r\n",
    "\t\treturn 0 \r\n",
    "\r\n",
    "\tarea = 0\r\n",
    "\tind = 0\r\n",
    "\r\n",
    "\twhile ind < len(pipes)-1:\r\n",
    "\t\tfor x in range(ind+1, len(pipes)):\r\n",
    "\t\t\tpipe = pipes[x]\r\n",
    "\t\t\tif pipe >= pipes[ind]:  # look for a pipe that is greater than or equal to last tallest pipe\r\n",
    "\t\t\t\tnum_pipes = x-ind -1  # how many pipes we are finding area for\r\n",
    "\t\t\t\tarea += (min(pipe, pipes[ind]) * num_pipes) - sum(pipes[ind+1:x])  # add area of all pipes inbetween these pipes\r\n",
    "\t\t\t\tind = x  # change the last tallest pipe to be the one we found\r\n",
    "\t\t\t\tbreak\r\n",
    "\t\telse:\r\n",
    "\t\t\t# if we couldn't find a pipe taller than the last tallest pipe\r\n",
    "\t\t\tp = max(pipes[ind+1:])  # find the tallest one we can\r\n",
    "\t\t\tpipe_ind = pipes[ind+1:].index(p) + ind + 1  # calculate the index in the list of that pipe\r\n",
    "\t\t\tnum_pipes = pipe_ind-ind-1  # how many pipes we are finding area for\r\n",
    "\t\t\tarea += (p * num_pipes) - sum(pipes[ind+1:pipe_ind])  # add area of all pipes inbetween those two pipes\r\n",
    "\t\t\tind = pipe_ind  # change last tallest pipe to be the pipe we found\r\n",
    "\t\t\r\n",
    "\treturn area  # return answer\r\n",
    "\r\n",
    "array = [5,3,4,8,1,4,2,4]\r\n",
    "solution(array)"
   ],
   "outputs": [
    {
     "output_type": "execute_result",
     "data": {
      "text/plain": [
       "8"
      ]
     },
     "metadata": {},
     "execution_count": 1
    }
   ],
   "metadata": {}
  }
 ],
 "metadata": {
  "orig_nbformat": 4,
  "language_info": {
   "name": "python",
   "version": "3.9.5",
   "mimetype": "text/x-python",
   "codemirror_mode": {
    "name": "ipython",
    "version": 3
   },
   "pygments_lexer": "ipython3",
   "nbconvert_exporter": "python",
   "file_extension": ".py"
  },
  "kernelspec": {
   "name": "python3",
   "display_name": "Python 3.9.5 64-bit"
  },
  "interpreter": {
   "hash": "df9803d5d1b6cb5abc1edc30c69a1153e23b31bf85805cdabf595a077425259e"
  }
 },
 "nbformat": 4,
 "nbformat_minor": 2
}