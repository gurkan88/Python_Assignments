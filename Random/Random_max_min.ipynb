{
 "cells": [
  {
   "cell_type": "markdown",
   "source": [
    "Write a Python code that find the students who have maximum and minimum average at below.\r\n",
    "grades={'Student-1': {'Lesson-1': 57, 'Lesson-2': 46, 'Lesson-3': 58, 'Lesson-4': 81, 'Lesson-5': 85}, 'Student-2': {'Lesson-1': 85, 'Lesson-2': 56, 'Lesson-3': 51, 'Lesson-4': 69, 'Lesson-5': 67}, 'Student-3': {'Lesson-1': 68, 'Lesson-2': 76, 'Lesson-3': 87, 'Lesson-4': 57, 'Lesson-5': 56}, 'Student-4': {'Lesson-1': 78, 'Lesson-2': 93, 'Lesson-3': 88, 'Lesson-4': 38, 'Lesson-5': 54}, 'Student-5': {'Lesson-1': 50, 'Lesson-2': 46, 'Lesson-3': 78, 'Lesson-4': 81, 'Lesson-5': 75}}"
   ],
   "metadata": {}
  },
  {
   "cell_type": "code",
   "execution_count": 164,
   "source": [
    "## my answer\r\n",
    "class Student_info:\r\n",
    "    \r\n",
    "    def __init__(grade, Lesson_1, Lesson_2, Lesson_3, Lesson_4, Lesson_5):\r\n",
    "        grade.Lesson_1 = Lesson_1\r\n",
    "        grade.Lesson_2 = Lesson_2\r\n",
    "        grade.Lesson_3 = Lesson_3\r\n",
    "        grade.Lesson_4 = Lesson_4\r\n",
    "        grade.Lesson_5 = Lesson_5\r\n",
    "\r\n",
    "    def myfunc(self):\r\n",
    "        average = (self.Lesson_1 + self.Lesson_2 + self.Lesson_3 + self.Lesson_4 + self.Lesson_5)/5\r\n",
    "        return average\r\n",
    "\r\n",
    "Student_1 = Student_info(57,46,58,81,85)\r\n",
    "Student_2 = Student_info(85,56,51,69,67)\r\n",
    "Student_3 = Student_info(68,76,87,57,56)\r\n",
    "Student_4 = Student_info(78,93,88,38,54)\r\n",
    "Student_5 = Student_info(50,46,78,81,75)\r\n",
    "\r\n",
    "all_grades = [\r\n",
    "    Student_1.myfunc(),\r\n",
    "    Student_2.myfunc(),\r\n",
    "    Student_3.myfunc(),\r\n",
    "    Student_4.myfunc(),\r\n",
    "    Student_5.myfunc() ]\r\n",
    "grades_with_names = {}\r\n",
    "for i in range(5):\r\n",
    "    grades_with_names.update({all_grades[i]:\"Student\"+f\"{i+1}\"})\r\n",
    "\r\n",
    "print(grades_with_names,\"\\nmax\",max(grades_with_names.items()),\"\\nmin\",min(grades_with_names.items()))\r\n",
    "\r\n"
   ],
   "outputs": [
    {
     "output_type": "stream",
     "name": "stdout",
     "text": [
      "{65.4: 'Student1', 65.6: 'Student2', 68.8: 'Student3', 70.2: 'Student4', 66.0: 'Student5'} \n",
      "max (70.2, 'Student4') \n",
      "min (65.4, 'Student1')\n"
     ]
    }
   ],
   "metadata": {}
  },
  {
   "cell_type": "code",
   "execution_count": 165,
   "source": [
    "### other answers\r\n",
    "grades={\r\n",
    "    'Student-1': {'Lesson-1': 57, 'Lesson-2': 46, 'Lesson-3': 58, 'Lesson-4': 81, 'Lesson-5': 85}, \r\n",
    "    'Student-2': {'Lesson-1': 85, 'Lesson-2': 56, 'Lesson-3': 51, 'Lesson-4': 69, 'Lesson-5': 67}, \r\n",
    "    'Student-3': {'Lesson-1': 68, 'Lesson-2': 76, 'Lesson-3': 87, 'Lesson-4': 57, 'Lesson-5': 56}, \r\n",
    "    'Student-4': {'Lesson-1': 78, 'Lesson-2': 93, 'Lesson-3': 88, 'Lesson-4': 38, 'Lesson-5': 54}, \r\n",
    "    'Student-5': {'Lesson-1': 50, 'Lesson-2': 46, 'Lesson-3': 78, 'Lesson-4': 81, 'Lesson-5': 75}}\r\n",
    "student_dict = {}\r\n",
    "student_list = []\r\n",
    "students = list(grades.keys())\r\n",
    "for i in grades.values():\r\n",
    "    total = 0\r\n",
    "    for x, y in i.items():\r\n",
    "        total += y\r\n",
    "        if x == list(grades['Student-1'].keys())[-1]:\r\n",
    "            total = total / len(grades)\r\n",
    "            student_list.append(total)\r\n",
    "            continue\r\n",
    "for i in range(len(grades)):\r\n",
    "    student_dict[student_list[i]] = students[i]\r\n",
    "maximum = max(list(student_dict.keys()))\r\n",
    "minimum = min(list(student_dict.keys()))\r\n",
    "print(f'The student who has the maximum average is {student_dict[maximum]} and his/her score is {maximum}.')\r\n",
    "print(f'The student who has the minimum average is {student_dict[minimum]} and his/her score is {minimum}.')"
   ],
   "outputs": [
    {
     "output_type": "stream",
     "name": "stdout",
     "text": [
      "The student who has the maximum average is Student-4 and his/her score is 70.2.\n",
      "The student who has the minimum average is Student-1 and his/her score is 65.4.\n"
     ]
    }
   ],
   "metadata": {}
  }
 ],
 "metadata": {
  "orig_nbformat": 4,
  "language_info": {
   "name": "python"
  }
 },
 "nbformat": 4,
 "nbformat_minor": 2
}