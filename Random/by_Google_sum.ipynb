{
 "cells": [
  {
   "cell_type": "markdown",
   "source": [
    "## This problem was asked by Google.\r\n",
    "#### Given a list of integers S and a target number k, write a function that returns a subset of S that adds up to k. If such a subset cannot be made, then return null.\r\n",
    "#### Integers can appear more than once in the list. You may assume all numbers in the list are positive.\r\n",
    "#### For example, given S = [12, 1, 61, 5, 9, 2] and k = 24, return [12, 9, 2,1] since it sums up to 24."
   ],
   "metadata": {}
  },
  {
   "cell_type": "code",
   "execution_count": 54,
   "source": [
    "def find_sum(lst,k):\r\n",
    "    sum_ = []\r\n",
    "    check_list = lst.copy()\r\n",
    "    check_list = sorted(check_list,reverse=True)\r\n",
    "    for i in check_list:\r\n",
    "        if i > k:\r\n",
    "            check_list.remove(i)\r\n",
    "    for i in check_list:\r\n",
    "        if sum(sum_) + i <= k:\r\n",
    "            sum_.append(i)\r\n",
    "        if sum(sum_) == k:\r\n",
    "            return sum_\r\n",
    "    else: return \"null\"\r\n"
   ],
   "outputs": [],
   "metadata": {}
  },
  {
   "cell_type": "code",
   "execution_count": 57,
   "source": [
    "find_sum(S,65)"
   ],
   "outputs": [
    {
     "output_type": "execute_result",
     "data": {
      "text/plain": [
       "'null'"
      ]
     },
     "metadata": {},
     "execution_count": 57
    }
   ],
   "metadata": {}
  },
  {
   "cell_type": "code",
   "execution_count": 42,
   "source": [
    "S = [12, 1, 61, 5, 9, 2]\r\n",
    "sorted(S,reverse=True)"
   ],
   "outputs": [
    {
     "output_type": "execute_result",
     "data": {
      "text/plain": [
       "[61, 12, 9, 5, 2, 1]"
      ]
     },
     "metadata": {},
     "execution_count": 42
    }
   ],
   "metadata": {}
  }
 ],
 "metadata": {
  "orig_nbformat": 4,
  "language_info": {
   "name": "python",
   "version": "3.9.5",
   "mimetype": "text/x-python",
   "codemirror_mode": {
    "name": "ipython",
    "version": 3
   },
   "pygments_lexer": "ipython3",
   "nbconvert_exporter": "python",
   "file_extension": ".py"
  },
  "kernelspec": {
   "name": "python3",
   "display_name": "Python 3.9.5 64-bit"
  },
  "interpreter": {
   "hash": "df9803d5d1b6cb5abc1edc30c69a1153e23b31bf85805cdabf595a077425259e"
  }
 },
 "nbformat": 4,
 "nbformat_minor": 2
}