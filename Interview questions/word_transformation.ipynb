{
 "cells": [
  {
   "cell_type": "markdown",
   "metadata": {},
   "source": [
    "Given a start word, an end word, and a dictionary of valid words, \n",
    "\n",
    "find the shortest transformation sequence from start to end \n",
    "\n",
    "such that only one letter is changed at each step of the sequence, \n",
    "\n",
    "and each transformed word exists in the dictionary. \n",
    "\n",
    "If there is no possible transformation, return null. \n",
    "\n",
    "Each word in the dictionary have the same length as start and end and is lowercase.\n",
    "\n",
    "For example, \n",
    "\n",
    "given start = “dog”, end = “cat”, \n",
    "\n",
    "and dictionary = {“dot”, “dop”, “dat”, “cat”}, \n",
    "\n",
    "return [“dog”, “dot”, “dat”, “cat”].\n",
    "\n",
    "Given start = “dog”, \n",
    "\n",
    "end = “cat”,\n",
    "\n",
    "and dictionary = {“dot”, “tod”, “dat”, “dar”},\n",
    "\n",
    "return null as there is no possible transformation from dog to cat.\n",
    "\n",
    "https://leetcode.com/problems/word-ladder/solution/"
   ]
  },
  {
   "cell_type": "code",
   "execution_count": 2,
   "metadata": {},
   "outputs": [],
   "source": [
    "start = \"dog\"\n",
    "end = \"cat\"\n",
    "dictionary = [\"dot\", \"tod\", \"dat\", \"dar\", \"cat\"]"
   ]
  },
  {
   "cell_type": "code",
   "execution_count": 12,
   "metadata": {},
   "outputs": [
    {
     "ename": "IndentationError",
     "evalue": "expected an indented block (Temp/ipykernel_21356/1012306570.py, line 12)",
     "output_type": "error",
     "traceback": [
      "\u001b[1;36m  File \u001b[1;32m\"C:\\Users\\gurka\\AppData\\Local\\Temp/ipykernel_21356/1012306570.py\"\u001b[1;36m, line \u001b[1;32m12\u001b[0m\n\u001b[1;33m    sequence.append()\u001b[0m\n\u001b[1;37m    ^\u001b[0m\n\u001b[1;31mIndentationError\u001b[0m\u001b[1;31m:\u001b[0m expected an indented block\n"
     ]
    }
   ],
   "source": [
    "def transform(start, end, dictionary):\n",
    "    sequence = [start]\n",
    "    exclude = dictionary\n",
    "    if end not in dictionary:\n",
    "        return None\n",
    "    for word in dictionary:\n",
    "        for letter in word:\n",
    "            if letter in end:\n",
    "                \n",
    "            \n",
    "\n",
    "        sequence.append()"
   ]
  },
  {
   "cell_type": "code",
   "execution_count": 14,
   "metadata": {},
   "outputs": [
    {
     "data": {
      "text/plain": [
       "['d', 'o', 'g']"
      ]
     },
     "execution_count": 14,
     "metadata": {},
     "output_type": "execute_result"
    }
   ],
   "source": [
    "letters = list(start)\n",
    "letters"
   ]
  },
  {
   "cell_type": "code",
   "execution_count": 17,
   "metadata": {},
   "outputs": [
    {
     "data": {
      "text/plain": [
       "False"
      ]
     },
     "execution_count": 17,
     "metadata": {},
     "output_type": "execute_result"
    }
   ],
   "source": [
    "letters in list(dictionary[1])"
   ]
  },
  {
   "cell_type": "code",
   "execution_count": 18,
   "metadata": {},
   "outputs": [
    {
     "data": {
      "text/plain": [
       "['t', 'o', 'd']"
      ]
     },
     "execution_count": 18,
     "metadata": {},
     "output_type": "execute_result"
    }
   ],
   "source": [
    "list(dictionary[1])"
   ]
  },
  {
   "cell_type": "code",
   "execution_count": null,
   "metadata": {},
   "outputs": [],
   "source": []
  }
 ],
 "metadata": {
  "interpreter": {
   "hash": "df9803d5d1b6cb5abc1edc30c69a1153e23b31bf85805cdabf595a077425259e"
  },
  "kernelspec": {
   "display_name": "Python 3.9.5 64-bit",
   "language": "python",
   "name": "python3"
  },
  "language_info": {
   "codemirror_mode": {
    "name": "ipython",
    "version": 3
   },
   "file_extension": ".py",
   "mimetype": "text/x-python",
   "name": "python",
   "nbconvert_exporter": "python",
   "pygments_lexer": "ipython3",
   "version": "3.9.5"
  },
  "orig_nbformat": 4
 },
 "nbformat": 4,
 "nbformat_minor": 2
}
