{
 "cells": [
  {
   "cell_type": "code",
   "execution_count": null,
   "source": [
    "import random\r\n",
    "list1 = [1,2,3,4,5]\r\n",
    "output, factorial = [], 1\r\n",
    "for i in range(1,len(list1)+1):\r\n",
    "    factorial *= i \r\n",
    "\r\n",
    "while True:\r\n",
    "    random.shuffle(list1)\r\n",
    "    if list1 not in output:\r\n",
    "        list2 = list(list1)\r\n",
    "        output.append(list2)\r\n",
    "    if len(output) == factorial:\r\n",
    "        break  \r\n",
    "    \r\n",
    "output.sort()\r\n",
    "output"
   ],
   "outputs": [],
   "metadata": {}
  },
  {
   "cell_type": "code",
   "execution_count": 371,
   "source": [
    "import random\r\n",
    "c = {1,2,3,10,11}\r\n",
    "h = {1,2,4,5,6}\r\n",
    "j = c.difference(h)\r\n",
    "b = [{6,8}]\r\n",
    "b[0].add(random.choice(list(j)))\r\n",
    "b[0]\r\n"
   ],
   "outputs": [
    {
     "output_type": "execute_result",
     "data": {
      "text/plain": [
       "{3, 6, 8}"
      ]
     },
     "metadata": {},
     "execution_count": 371
    }
   ],
   "metadata": {}
  },
  {
   "cell_type": "code",
   "execution_count": 1,
   "source": [
    "import random\r\n",
    "a = [1, 2, 3, 4,5]\r\n",
    "uzunluk = len(a)\r\n",
    "fact = 1\r\n",
    "liste = []\r\n",
    "son = []\r\n",
    "for i in range(1, uzunluk + 1):\r\n",
    "    fact *= i\r\n",
    "while True:\r\n",
    "    x = random.choice(a)\r\n",
    "    if x not in liste:\r\n",
    "        liste.append(x)\r\n",
    "    if len(liste) == uzunluk:\r\n",
    "        if liste not in son:\r\n",
    "            son.append(liste)\r\n",
    "            liste = []\r\n",
    "            if len(son) == fact:\r\n",
    "                break\r\n",
    "        else:\r\n",
    "            liste = []\r\n",
    "son.sort()\r\n",
    "son"
   ],
   "outputs": [
    {
     "output_type": "execute_result",
     "data": {
      "text/plain": [
       "[[1, 2, 3, 4, 5],\n",
       " [1, 2, 3, 5, 4],\n",
       " [1, 2, 4, 3, 5],\n",
       " [1, 2, 4, 5, 3],\n",
       " [1, 2, 5, 3, 4],\n",
       " [1, 2, 5, 4, 3],\n",
       " [1, 3, 2, 4, 5],\n",
       " [1, 3, 2, 5, 4],\n",
       " [1, 3, 4, 2, 5],\n",
       " [1, 3, 4, 5, 2],\n",
       " [1, 3, 5, 2, 4],\n",
       " [1, 3, 5, 4, 2],\n",
       " [1, 4, 2, 3, 5],\n",
       " [1, 4, 2, 5, 3],\n",
       " [1, 4, 3, 2, 5],\n",
       " [1, 4, 3, 5, 2],\n",
       " [1, 4, 5, 2, 3],\n",
       " [1, 4, 5, 3, 2],\n",
       " [1, 5, 2, 3, 4],\n",
       " [1, 5, 2, 4, 3],\n",
       " [1, 5, 3, 2, 4],\n",
       " [1, 5, 3, 4, 2],\n",
       " [1, 5, 4, 2, 3],\n",
       " [1, 5, 4, 3, 2],\n",
       " [2, 1, 3, 4, 5],\n",
       " [2, 1, 3, 5, 4],\n",
       " [2, 1, 4, 3, 5],\n",
       " [2, 1, 4, 5, 3],\n",
       " [2, 1, 5, 3, 4],\n",
       " [2, 1, 5, 4, 3],\n",
       " [2, 3, 1, 4, 5],\n",
       " [2, 3, 1, 5, 4],\n",
       " [2, 3, 4, 1, 5],\n",
       " [2, 3, 4, 5, 1],\n",
       " [2, 3, 5, 1, 4],\n",
       " [2, 3, 5, 4, 1],\n",
       " [2, 4, 1, 3, 5],\n",
       " [2, 4, 1, 5, 3],\n",
       " [2, 4, 3, 1, 5],\n",
       " [2, 4, 3, 5, 1],\n",
       " [2, 4, 5, 1, 3],\n",
       " [2, 4, 5, 3, 1],\n",
       " [2, 5, 1, 3, 4],\n",
       " [2, 5, 1, 4, 3],\n",
       " [2, 5, 3, 1, 4],\n",
       " [2, 5, 3, 4, 1],\n",
       " [2, 5, 4, 1, 3],\n",
       " [2, 5, 4, 3, 1],\n",
       " [3, 1, 2, 4, 5],\n",
       " [3, 1, 2, 5, 4],\n",
       " [3, 1, 4, 2, 5],\n",
       " [3, 1, 4, 5, 2],\n",
       " [3, 1, 5, 2, 4],\n",
       " [3, 1, 5, 4, 2],\n",
       " [3, 2, 1, 4, 5],\n",
       " [3, 2, 1, 5, 4],\n",
       " [3, 2, 4, 1, 5],\n",
       " [3, 2, 4, 5, 1],\n",
       " [3, 2, 5, 1, 4],\n",
       " [3, 2, 5, 4, 1],\n",
       " [3, 4, 1, 2, 5],\n",
       " [3, 4, 1, 5, 2],\n",
       " [3, 4, 2, 1, 5],\n",
       " [3, 4, 2, 5, 1],\n",
       " [3, 4, 5, 1, 2],\n",
       " [3, 4, 5, 2, 1],\n",
       " [3, 5, 1, 2, 4],\n",
       " [3, 5, 1, 4, 2],\n",
       " [3, 5, 2, 1, 4],\n",
       " [3, 5, 2, 4, 1],\n",
       " [3, 5, 4, 1, 2],\n",
       " [3, 5, 4, 2, 1],\n",
       " [4, 1, 2, 3, 5],\n",
       " [4, 1, 2, 5, 3],\n",
       " [4, 1, 3, 2, 5],\n",
       " [4, 1, 3, 5, 2],\n",
       " [4, 1, 5, 2, 3],\n",
       " [4, 1, 5, 3, 2],\n",
       " [4, 2, 1, 3, 5],\n",
       " [4, 2, 1, 5, 3],\n",
       " [4, 2, 3, 1, 5],\n",
       " [4, 2, 3, 5, 1],\n",
       " [4, 2, 5, 1, 3],\n",
       " [4, 2, 5, 3, 1],\n",
       " [4, 3, 1, 2, 5],\n",
       " [4, 3, 1, 5, 2],\n",
       " [4, 3, 2, 1, 5],\n",
       " [4, 3, 2, 5, 1],\n",
       " [4, 3, 5, 1, 2],\n",
       " [4, 3, 5, 2, 1],\n",
       " [4, 5, 1, 2, 3],\n",
       " [4, 5, 1, 3, 2],\n",
       " [4, 5, 2, 1, 3],\n",
       " [4, 5, 2, 3, 1],\n",
       " [4, 5, 3, 1, 2],\n",
       " [4, 5, 3, 2, 1],\n",
       " [5, 1, 2, 3, 4],\n",
       " [5, 1, 2, 4, 3],\n",
       " [5, 1, 3, 2, 4],\n",
       " [5, 1, 3, 4, 2],\n",
       " [5, 1, 4, 2, 3],\n",
       " [5, 1, 4, 3, 2],\n",
       " [5, 2, 1, 3, 4],\n",
       " [5, 2, 1, 4, 3],\n",
       " [5, 2, 3, 1, 4],\n",
       " [5, 2, 3, 4, 1],\n",
       " [5, 2, 4, 1, 3],\n",
       " [5, 2, 4, 3, 1],\n",
       " [5, 3, 1, 2, 4],\n",
       " [5, 3, 1, 4, 2],\n",
       " [5, 3, 2, 1, 4],\n",
       " [5, 3, 2, 4, 1],\n",
       " [5, 3, 4, 1, 2],\n",
       " [5, 3, 4, 2, 1],\n",
       " [5, 4, 1, 2, 3],\n",
       " [5, 4, 1, 3, 2],\n",
       " [5, 4, 2, 1, 3],\n",
       " [5, 4, 2, 3, 1],\n",
       " [5, 4, 3, 1, 2],\n",
       " [5, 4, 3, 2, 1]]"
      ]
     },
     "metadata": {},
     "execution_count": 1
    }
   ],
   "metadata": {}
  },
  {
   "cell_type": "code",
   "execution_count": 370,
   "source": [
    "son == output"
   ],
   "outputs": [
    {
     "output_type": "execute_result",
     "data": {
      "text/plain": [
       "True"
      ]
     },
     "metadata": {},
     "execution_count": 370
    }
   ],
   "metadata": {}
  },
  {
   "cell_type": "code",
   "execution_count": null,
   "source": [
    "from timeit import timeit \r\n",
    "time1 = timeit(solution, number=1000)\r\n",
    "time2 = timeit(other_solution, number=1000)\r\n"
   ],
   "outputs": [],
   "metadata": {}
  },
  {
   "cell_type": "code",
   "execution_count": null,
   "source": [
    "print(f\"first is {round(time1/time2, 2)} times faster than second\")"
   ],
   "outputs": [],
   "metadata": {}
  }
 ],
 "metadata": {
  "orig_nbformat": 4,
  "language_info": {
   "name": "python",
   "version": "3.9.5",
   "mimetype": "text/x-python",
   "codemirror_mode": {
    "name": "ipython",
    "version": 3
   },
   "pygments_lexer": "ipython3",
   "nbconvert_exporter": "python",
   "file_extension": ".py"
  },
  "kernelspec": {
   "name": "python3",
   "display_name": "Python 3.9.5 64-bit"
  },
  "interpreter": {
   "hash": "df9803d5d1b6cb5abc1edc30c69a1153e23b31bf85805cdabf595a077425259e"
  }
 },
 "nbformat": 4,
 "nbformat_minor": 2
}