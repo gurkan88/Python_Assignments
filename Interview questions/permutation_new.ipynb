{
 "cells": [
  {
   "cell_type": "code",
   "execution_count": null,
   "source": [
    "import random\r\n",
    "list1 = [1,2,3,4,5]\r\n",
    "output, factorial = [], 1\r\n",
    "for i in range(1,len(list1)+1):\r\n",
    "    factorial *= i \r\n",
    "\r\n",
    "while True:\r\n",
    "    random.shuffle(list1)\r\n",
    "    if list1 not in output:\r\n",
    "        list2 = list(list1)\r\n",
    "        output.append(list2)\r\n",
    "    if len(output) == factorial:\r\n",
    "        break  \r\n",
    "    \r\n",
    "output.sort()\r\n",
    "output"
   ],
   "outputs": [],
   "metadata": {}
  },
  {
   "cell_type": "code",
   "execution_count": 371,
   "source": [
    "import random\r\n",
    "c = {1,2,3,10,11}\r\n",
    "h = {1,2,4,5,6}\r\n",
    "j = c.difference(h)\r\n",
    "b = [{6,8}]\r\n",
    "b[0].add(random.choice(list(j)))\r\n",
    "b[0]\r\n"
   ],
   "outputs": [
    {
     "output_type": "execute_result",
     "data": {
      "text/plain": [
       "{3, 6, 8}"
      ]
     },
     "metadata": {},
     "execution_count": 371
    }
   ],
   "metadata": {}
  }
 ],
 "metadata": {
  "orig_nbformat": 4,
  "language_info": {
   "name": "python",
   "version": "3.9.5",
   "mimetype": "text/x-python",
   "codemirror_mode": {
    "name": "ipython",
    "version": 3
   },
   "pygments_lexer": "ipython3",
   "nbconvert_exporter": "python",
   "file_extension": ".py"
  },
  "kernelspec": {
   "name": "python3",
   "display_name": "Python 3.9.5 64-bit"
  },
  "interpreter": {
   "hash": "df9803d5d1b6cb5abc1edc30c69a1153e23b31bf85805cdabf595a077425259e"
  }
 },
 "nbformat": 4,
 "nbformat_minor": 2
}