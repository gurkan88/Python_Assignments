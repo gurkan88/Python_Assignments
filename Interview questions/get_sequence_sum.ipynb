{
 "cells": [
  {
   "cell_type": "code",
   "execution_count": 14,
   "metadata": {},
   "outputs": [],
   "source": [
    "import timeit"
   ]
  },
  {
   "cell_type": "code",
   "execution_count": 50,
   "metadata": {},
   "outputs": [],
   "source": [
    "# version1\n",
    "def get_sequence_sum(i,j,k):\n",
    "    sum_ = sum([*range(i,j)]) + sum([*range(j,k-1,-1)])\n",
    "    return sum_"
   ]
  },
  {
   "cell_type": "code",
   "execution_count": 61,
   "metadata": {},
   "outputs": [
    {
     "name": "stdout",
     "output_type": "stream",
     "text": [
      "Execution time is: 10.01171979999981\n"
     ]
    }
   ],
   "source": [
    "statement='''\n",
    "# version1\n",
    "def get_sequence_sum(i,j,k):\n",
    "    sum_ = sum([*range(i,j)]) + sum([*range(j,k-1,-1)])\n",
    "    return sum_\n",
    "get_sequence_sum(5,9,6)\n",
    "'''\n",
    "print(f'Execution time is: {timeit.timeit(stmt=statement, number=10000000 ,)}')"
   ]
  },
  {
   "cell_type": "code",
   "execution_count": 24,
   "metadata": {},
   "outputs": [],
   "source": [
    "# version2\n",
    "def get_sequence_sum(i,j,k):\n",
    "    sum_ = sum([*range(i,j)] + [*range(j,k-1,-1)])\n",
    "    return sum_"
   ]
  },
  {
   "cell_type": "code",
   "execution_count": 60,
   "metadata": {},
   "outputs": [
    {
     "name": "stdout",
     "output_type": "stream",
     "text": [
      "Execution time is: 9.411811599999965\n"
     ]
    }
   ],
   "source": [
    "statement='''\n",
    "# version2\n",
    "def get_sequence_sum(i,j,k):\n",
    "    sum_ = sum([*range(i,j)] + [*range(j,k-1,-1)])\n",
    "    return sum_\n",
    "get_sequence_sum(5,9,6)\n",
    "'''\n",
    "print(f'Execution time is: {timeit.timeit(stmt=statement, number=10000000 ,)}')"
   ]
  },
  {
   "cell_type": "code",
   "execution_count": 33,
   "metadata": {},
   "outputs": [],
   "source": [
    "# version3\n",
    "def get_sequence_sum(i,j,k):\n",
    "    if i > k :\n",
    "        sum_ = 2*sum([*range(i,j)]) + j + sum([*range(k,i)])\n",
    "    else: \n",
    "        sum_ = 2*sum([*range(k,j)]) + j + sum([*range(i,k)])\n",
    "    return sum_"
   ]
  },
  {
   "cell_type": "code",
   "execution_count": 59,
   "metadata": {},
   "outputs": [
    {
     "name": "stdout",
     "output_type": "stream",
     "text": [
      "Execution time is: 9.345142399999986\n"
     ]
    }
   ],
   "source": [
    "statement='''\n",
    "# version3\n",
    "def get_sequence_sum(i,j,k):\n",
    "    if i > k :\n",
    "        sum_ = 2*sum([*range(i,j)]) + j + sum([*range(k,i)])\n",
    "    else: \n",
    "        sum_ = 2*sum([*range(k,j)]) + j + sum([*range(i,k)])\n",
    "    return sum_\n",
    "get_sequence_sum(5,9,6)\n",
    "'''\n",
    "print(f'Execution time is: {timeit.timeit(stmt=statement, number=10000000 ,)}')"
   ]
  },
  {
   "cell_type": "code",
   "execution_count": 56,
   "metadata": {},
   "outputs": [],
   "source": [
    "# version4\n",
    "def get_sequence_sum(i,j,k):\n",
    "    sum_j = (j * (j+1))/2 \n",
    "    sum_i = (i * (i+1))/2 \n",
    "    sum_k = (k * (k+1))/2 \n",
    "    sum_left = sum_j - sum_i + i\n",
    "    sum_right = sum_j - sum_k + k\n",
    "    return sum_left + sum_right - j"
   ]
  },
  {
   "cell_type": "code",
   "execution_count": 62,
   "metadata": {},
   "outputs": [
    {
     "name": "stdout",
     "output_type": "stream",
     "text": [
      "Execution time is: 5.729538800000228\n"
     ]
    }
   ],
   "source": [
    "statement='''\n",
    "# version4\n",
    "def get_sequence_sum(i,j,k):\n",
    "    sum_j = (j * (j+1))/2 \n",
    "    sum_i = (i * (i+1))/2 \n",
    "    sum_k = (k * (k+1))/2 \n",
    "    sum_left = sum_j - sum_i + i\n",
    "    sum_right = sum_j - sum_k + k\n",
    "    return sum_left + sum_right - j\n",
    "get_sequence_sum(5,9,6)\n",
    "'''\n",
    "print(f'Execution time is: {timeit.timeit(stmt=statement, number=10000000 ,)}')"
   ]
  },
  {
   "cell_type": "code",
   "execution_count": 57,
   "metadata": {},
   "outputs": [
    {
     "data": {
      "text/plain": [
       "56.0"
      ]
     },
     "execution_count": 57,
     "metadata": {},
     "output_type": "execute_result"
    }
   ],
   "source": [
    "get_sequence_sum(5,9,6)"
   ]
  },
  {
   "cell_type": "code",
   "execution_count": 44,
   "metadata": {},
   "outputs": [
    {
     "name": "stdout",
     "output_type": "stream",
     "text": [
      "Execution time is: 9.930760300000202\n"
     ]
    }
   ],
   "source": [
    "statement='''\n",
    "def get_sequence_sum(i,j,k):\n",
    "    sum_ = sum([*range(i,j)]) + sum([*range(j,k-1,-1)])\n",
    "    return sum_\n",
    "get_sequence_sum(5,9,6)\n",
    "'''\n",
    "print(f'Execution time is: {timeit.timeit(stmt=statement, number=10000000 ,)}')"
   ]
  },
  {
   "cell_type": "code",
   "execution_count": 63,
   "metadata": {},
   "outputs": [
    {
     "name": "stdout",
     "output_type": "stream",
     "text": [
      "Execution time is: 5.753203699999631\n"
     ]
    }
   ],
   "source": [
    "import timeit\n",
    "\n",
    "statement='''\n",
    "def sum_loop(i,j,k):\n",
    "\n",
    "    a = (i * (i + 1)) / 2\n",
    "    b = (j * (j + 1)) / 2\n",
    "    c = (k * (k + 1)) / 2\n",
    "\n",
    "    d = (b - a) + i\n",
    "    e = (b - c) + k\n",
    "    return d+e-j\n",
    "\n",
    "sum_loop(5,9,6)'''\n",
    "\n",
    "print(f'Execution time is: {timeit.timeit(stmt=statement, number=10000000)}')"
   ]
  },
  {
   "cell_type": "code",
   "execution_count": 46,
   "metadata": {},
   "outputs": [
    {
     "name": "stdout",
     "output_type": "stream",
     "text": [
      "Execution time is: 5.3820347999999285\n"
     ]
    }
   ],
   "source": [
    "import timeit\n",
    "\n",
    "statement='''\n",
    "def sum_loop(i,j,k):\n",
    "\n",
    "    a = (i * (i + 1)) / 2\n",
    "    b = (j * (j + 1)) / 2\n",
    "    c = (k * (k + 1)) / 2\n",
    "\n",
    "    d = (b - a) + i\n",
    "    e = (b - c) + k\n",
    "    return d+e-j\n",
    "\n",
    "sum_loop(5,9,6)'''\n",
    "\n",
    "print(f'Execution time is: {timeit.timeit(stmt=statement, number=10000000)}')"
   ]
  },
  {
   "cell_type": "code",
   "execution_count": 48,
   "metadata": {},
   "outputs": [
    {
     "data": {
      "text/plain": [
       "1335.0"
      ]
     },
     "execution_count": 48,
     "metadata": {},
     "output_type": "execute_result"
    }
   ],
   "source": [
    "def sum_loop(i,j,k):\n",
    "\n",
    "    a = (i * (i + 1)) / 2\n",
    "    b = (j * (j + 1)) / 2\n",
    "    c = (k * (k + 1)) / 2\n",
    "\n",
    "    d = (b - a) + i\n",
    "    e = (b - c) + k\n",
    "    return d+e-j\n",
    "\n",
    "sum_loop(12,39,16)"
   ]
  }
 ],
 "metadata": {
  "interpreter": {
   "hash": "df9803d5d1b6cb5abc1edc30c69a1153e23b31bf85805cdabf595a077425259e"
  },
  "kernelspec": {
   "display_name": "Python 3.9.5 64-bit",
   "language": "python",
   "name": "python3"
  },
  "language_info": {
   "codemirror_mode": {
    "name": "ipython",
    "version": 3
   },
   "file_extension": ".py",
   "mimetype": "text/x-python",
   "name": "python",
   "nbconvert_exporter": "python",
   "pygments_lexer": "ipython3",
   "version": "3.9.5"
  },
  "orig_nbformat": 4
 },
 "nbformat": 4,
 "nbformat_minor": 2
}
