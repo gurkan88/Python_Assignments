{
 "cells": [
  {
   "cell_type": "code",
   "execution_count": 1,
   "source": [
    "print(\"answer following questions yes or no\")\r\n",
    "age = input(\"Are you a cigarette addict older than 75 years old?\").strip().title()\r\n",
    "chronic = input(\"Do you have a severe chronic disease?\").strip().title()\r\n",
    "immune = input(\"Is your immune system too weak?\").strip().title()\r\n",
    "if age and chronic and immune == \"Yes\" :\r\n",
    "    print(\"You are in risky group\")\r\n",
    "elif age and chronic == \"Yes\" :\r\n",
    "    print(\"You are in risky group\")\r\n",
    "elif age and immune == \"Yes\" :\r\n",
    "    print(\"You are in risky group\")\r\n",
    "elif chronic and immune == \"Yes\" :\r\n",
    "    print(\"You are in risky group\")\r\n",
    "else:\r\n",
    "    print(\"You are not in risky group\")"
   ],
   "outputs": [
    {
     "output_type": "stream",
     "name": "stdout",
     "text": [
      "answer following questions yes or no\n"
     ]
    }
   ],
   "metadata": {}
  }
 ],
 "metadata": {
  "orig_nbformat": 4,
  "language_info": {
   "name": "python",
   "version": "3.9.5",
   "mimetype": "text/x-python",
   "codemirror_mode": {
    "name": "ipython",
    "version": 3
   },
   "pygments_lexer": "ipython3",
   "nbconvert_exporter": "python",
   "file_extension": ".py"
  },
  "kernelspec": {
   "name": "python3",
   "display_name": "Python 3.9.5 64-bit"
  },
  "interpreter": {
   "hash": "df9803d5d1b6cb5abc1edc30c69a1153e23b31bf85805cdabf595a077425259e"
  }
 },
 "nbformat": 4,
 "nbformat_minor": 2
}