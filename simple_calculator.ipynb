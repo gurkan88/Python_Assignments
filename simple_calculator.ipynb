{
 "cells": [
  {
   "cell_type": "code",
   "execution_count": 220,
   "metadata": {},
   "outputs": [],
   "source": [
    "def calculator(input1):                 ####LAST VERSION###############\n",
    "    \"\"\"Simple Calculator\\n\n",
    "\\n\n",
    "    Calculates the string input\\n\n",
    "    Only following operations are valid : +, -, /, *, ()\\n\n",
    "\\n\n",
    "    calc    =>  calculation result in a paranthesis\\n\n",
    "    opt     =>  operations in calc\\n\n",
    "    check   =>  checks if the paranthesis are valid\"\"\"\n",
    "\n",
    "\n",
    "\n",
    "\n",
    "    input2 = input1\n",
    "    \n",
    "    import re\n",
    "    delimiters = \"*\",\"/\",\"-\",\"+\",\"(\",\")\",\"*-\",\"/-\",\"/+\",\"*+\"\n",
    "    regexPattern = '|'.join(map(re.escape, delimiters))\n",
    "\n",
    "    for i in input1:\n",
    "        if i == \" \":\n",
    "            input1 = input1.replace(\" \", \"\")\n",
    "    if i not in \"()/*-+0123456789\":\n",
    "        return print(\"Error1\\nYou entered wrong character\\nOnly following characters are valid : '0123456789/*-+()' \")\n",
    "\n",
    "    check = list(input1)\n",
    "    while \")\" in check:\n",
    "        i = check.index(\")\")\n",
    "        if \"(\" not in check:\n",
    "            return print(\"Error2\\nParanthesis are not valid\")\n",
    "        ind = len(check) -1 - check[::-1].index(\"(\",len(check)-i-1)\n",
    "        check.pop(i)\n",
    "        check.pop(ind)\n",
    "\n",
    "    while True:\n",
    "\n",
    "        if \"(\" and \")\" in input1: \n",
    "            i = input1.find(\")\")\n",
    "            ind = len(input1) -1 - input1[::-1].find(\"(\",len(input1)-i-1)\n",
    "        else: \n",
    "            ind = 0\n",
    "            i = len(input1)+1\n",
    "\n",
    "        opt = list(filter(lambda x : x != \"\" and \"(\" not in x and \")\" not in x and x != \".\", re.split(\"\\d\",input1[ind:i+1])))\n",
    "        \n",
    "        calc = list(map(float, list(filter(lambda x : x != \"\", re.split(regexPattern,input1[ind:i+1]) ))))\n",
    "\n",
    "        if input1[ind:i+1][input1[ind:i+1].index(re.search(\"\\d\",input1[ind:i+1]).group()) -1 ] == \"-\":\n",
    "            calc[0] *= -1\n",
    "            if \"(\" not in input1[ind:i+1]:\n",
    "                opt.pop(0)\n",
    "        \n",
    "        while \"-\" in opt:\n",
    "            calc[opt.index(\"-\") + 1] *= -1 \n",
    "            opt[opt.index(\"-\")] = \"+\"\n",
    "\n",
    "        while \"/+\" in opt:\n",
    "            opt[opt.index(\"/+\")] = \"/\"\n",
    "        while \"*+\" in opt:\n",
    "            opt[opt.index(\"/+\")] = \"*\"\n",
    "\n",
    "        while \"+-\" in opt:\n",
    "            opt[opt.index(\"+-\")] = \"-\"\n",
    "        while \"-+\" in opt:\n",
    "            opt[opt.index(\"-+\")] = \"-\"\n",
    "\n",
    "        while \"/-\" in opt:\n",
    "            calc[opt.index(\"/-\")] /=  -calc[opt.index(\"/-\")+1]\n",
    "            calc.pop(opt.index(\"/-\")+1)\n",
    "            opt.pop(opt.index(\"/-\"))\n",
    "\n",
    "        while \"/\" in opt:\n",
    "            calc[opt.index(\"/\")] /= calc[opt.index(\"/\")+1]\n",
    "            calc.pop(opt.index(\"/\")+1)\n",
    "            opt.pop(opt.index(\"/\"))\n",
    "\n",
    "        while \"*-\" in opt:\n",
    "            calc[opt.index(\"*-\")] *= -calc[opt.index(\"*-\")+1]\n",
    "            calc.pop(opt.index(\"*-\")+1)\n",
    "            opt.pop(opt.index(\"*-\"))\n",
    "\n",
    "        while \"*\" in opt:\n",
    "            calc[opt.index(\"*\")] *= calc[opt.index(\"*\")+1]\n",
    "            calc.pop(opt.index(\"*\")+1)\n",
    "            opt.pop(opt.index(\"*\"))\n",
    "\n",
    "        while True:\n",
    "            while len(opt) != 0:\n",
    "\n",
    "                if \"-\" in opt:\n",
    "                    calc[opt.index(\"-\")] -= calc[opt.index(\"-\")+1]\n",
    "                    calc.pop(opt.index(\"-\")+1)\n",
    "                    opt.pop(opt.index(\"-\"))\n",
    "\n",
    "                elif \"+\" in opt:\n",
    "                    calc[opt.index(\"+\")] += calc[opt.index(\"+\")+1]\n",
    "                    calc.pop(opt.index(\"+\")+1)\n",
    "                    opt.pop(opt.index(\"+\"))\n",
    "\n",
    "            if len(opt) == 0:\n",
    "                input1 = input1.replace(input1[ind:i+1],str(calc[0]))\n",
    "                break\n",
    "\n",
    "        if (\"+\" in input1 or \"-\" in input1) and input1[0] != \"+\" and input1[0] != \"-\": continue \n",
    "        if \"(\" not in input1 and \"/\" not in input1 and \"*\" not in input1 and \")\" not in input1: break\n",
    "\n",
    "\n",
    "    input1 = float(input1)\n",
    "    if input1 == int(input1): input1 = int(input1)\n",
    "    return input1"
   ]
  },
  {
   "cell_type": "code",
   "execution_count": 221,
   "metadata": {},
   "outputs": [
    {
     "name": "stdout",
     "output_type": "stream",
     "text": [
      "Simple Calculator\n",
      "\n",
      "\n",
      "\n",
      "    Calculates the string input\n",
      "\n",
      "    Only following operations are valid : +, -, /, *, ()\n",
      "\n",
      "\n",
      "\n",
      "    calc    =>  calculation result in a paranthesis\n",
      "\n",
      "    opt     =>  operations in calc\n",
      "\n",
      "    check   =>  checks if the paranthesis are valid\n"
     ]
    }
   ],
   "source": [
    "print(calculator.__doc__)"
   ]
  },
  {
   "cell_type": "markdown",
   "metadata": {},
   "source": [
    "## TEST"
   ]
  },
  {
   "cell_type": "code",
   "execution_count": 222,
   "metadata": {},
   "outputs": [
    {
     "name": "stdout",
     "output_type": "stream",
     "text": [
      "6\n",
      "-9\n",
      "63\n",
      "-24\n",
      "10\n",
      "-18\n",
      "176.66666666666666\n",
      "82.36383928571428\n",
      "-79\n",
      "-57\n",
      "-14.382978723404255\n",
      "409.2836879432624\n",
      "474.2836879432624\n"
     ]
    }
   ],
   "source": [
    "print(calculator(\"1 + 5\"))\n",
    "print(calculator(\"12 - 3*7\"))\n",
    "print(calculator(\"(12-3) * 7\"))\n",
    "print(calculator(\"1 / 2 *3 * 4 - 5 * 6\"))\n",
    "print(calculator(\"1+1+1+1+1+1+1+1+1+1\"))\n",
    "print(calculator(\"((7 * (2 - 5)) + 3)\"))\n",
    "print(calculator(\"4/9*-6*(4*(4-6)*8)+6\"))\n",
    "print(calculator(\"-8*9/-7+(-5/(-8*8)+8)-8*-8\"))\n",
    "print(calculator(\"(7-1)-(4+1)*(5*(4*3)+(4*2))/(8/2)\"))\n",
    "print(calculator(\"3+4*(5*(5-8))\"))\n",
    "print(calculator(\"(45/94*18-6+4/4-9-6+1-4)\"))\n",
    "print(calculator(\"(45/94*18-6+4/4-9-6+1-4+7*(7/(4-1)*5)+(((4*9)+(4-6))+4)*9)\"))\n",
    "print(calculator(\"(45/94*18-6+4/4-9-6+1-4+7*(7/(4-1)*5)+(((4*9)+(4-6))+4)*9)+65\"))"
   ]
  },
  {
   "cell_type": "code",
   "execution_count": 223,
   "metadata": {},
   "outputs": [
    {
     "name": "stdout",
     "output_type": "stream",
     "text": [
      "6\n",
      "-9\n",
      "63\n",
      "-24.0\n",
      "10\n",
      "-18\n",
      "176.66666666666666\n",
      "82.36383928571428\n",
      "-79.0\n",
      "-57\n",
      "-14.382978723404255\n",
      "409.2836879432624\n",
      "474.2836879432624\n"
     ]
    }
   ],
   "source": [
    "print(eval(\"1 + 5\"))\n",
    "print(eval(\"12 - 3*7\"))\n",
    "print(eval(\"(12-3) * 7\"))\n",
    "print(eval(\"1 / 2 *3 * 4 - 5 * 6\"))\n",
    "print(eval(\"1+1+1+1+1+1+1+1+1+1\"))\n",
    "print(eval(\"((7 * (2 - 5)) + 3)\"))\n",
    "print(eval(\"4/9*-6*(4*(4-6)*8)+6\"))\n",
    "print(eval(\"-8*9/-7+(-5/(-8*8)+8)-8*-8\"))\n",
    "print(eval(\"(7-1)-(4+1)*(5*(4*3)+(4*2))/(8/2)\"))\n",
    "print(eval(\"3+4*(5*(5-8))\"))\n",
    "print(eval(\"(45/94*18-6+4/4-9-6+1-4)\"))\n",
    "print(eval(\"(45/94*18-6+4/4-9-6+1-4+7*(7/(4-1)*5)+(((4*9)+(4-6))+4)*9)\"))\n",
    "print(eval(\"(45/94*18-6+4/4-9-6+1-4+7*(7/(4-1)*5)+(((4*9)+(4-6))+4)*9)+65\"))"
   ]
  },
  {
   "cell_type": "code",
   "execution_count": 224,
   "metadata": {},
   "outputs": [
    {
     "data": {
      "text/plain": [
       "True"
      ]
     },
     "execution_count": 224,
     "metadata": {},
     "output_type": "execute_result"
    }
   ],
   "source": [
    "test = [\n",
    "        calculator(\"1 + 5\"),\n",
    "        calculator(\"12 - 3*7\"),\n",
    "        calculator(\"(12-3) * 7\"),\n",
    "        calculator(\"1 / 2 *3 * 4 - 5 * 6\"),\n",
    "        calculator(\"1+1+1+1+1+1+1+1+1+1\"),\n",
    "        calculator(\"((7 * (2 - 5)) + 3)\"),\n",
    "        calculator(\"4/9*-6*(4*(4-6)*8)+6\"),\n",
    "        calculator(\"-8*9/-7+(-5/(-8*8)+8)-8*-8\"),\n",
    "        calculator(\"(7-1)-(4+1)*(5*(4*3)+(4*2))/(8/2)\"),\n",
    "        calculator(\"3+4*(5*(5-8))\"),\n",
    "        calculator(\"(45/94*18-6+4/4-9-6+1-4)\"),\n",
    "        calculator(\"(45/94*18-6+4/4-9-6+1-4+7*(7/(4-1)*5)+(((4*9)+(4-6))+4)*9)\"),\n",
    "        calculator(\"(45/94*18-6+4/4-9-6+1-4+7*(7/(4-1)*5)+(((4*9)+(4-6))+4)*9)+65\")\n",
    "        ]\n",
    "\n",
    "\n",
    "check = [\n",
    "        eval(\"1 + 5\"),\n",
    "        eval(\"12 - 3*7\"),\n",
    "        eval(\"(12-3) * 7\"),\n",
    "        eval(\"1 / 2 *3 * 4 - 5 * 6\"),\n",
    "        eval(\"1+1+1+1+1+1+1+1+1+1\"),\n",
    "        eval(\"((7 * (2 - 5)) + 3)\"),\n",
    "        eval(\"4/9*-6*(4*(4-6)*8)+6\"),\n",
    "        eval(\"-8*9/-7+(-5/(-8*8)+8)-8*-8\"),\n",
    "        eval(\"(7-1)-(4+1)*(5*(4*3)+(4*2))/(8/2)\"),\n",
    "        eval(\"3+4*(5*(5-8))\"),\n",
    "        eval(\"(45/94*18-6+4/4-9-6+1-4)\"),\n",
    "        eval(\"(45/94*18-6+4/4-9-6+1-4+7*(7/(4-1)*5)+(((4*9)+(4-6))+4)*9)\"),\n",
    "        eval(\"(45/94*18-6+4/4-9-6+1-4+7*(7/(4-1)*5)+(((4*9)+(4-6))+4)*9)+65\")\n",
    "        ]\n",
    "\n",
    "test == check"
   ]
  },
  {
   "cell_type": "markdown",
   "metadata": {},
   "source": [
    "ALTERNATIVE METHOD"
   ]
  },
  {
   "cell_type": "code",
   "execution_count": 184,
   "metadata": {},
   "outputs": [
    {
     "data": {
      "text/latex": [
       "$\\displaystyle 10077700$"
      ],
      "text/plain": [
       "10077700"
      ]
     },
     "execution_count": 184,
     "metadata": {},
     "output_type": "execute_result"
    }
   ],
   "source": [
    "import sympy\n",
    "x = sympy.sympify(\"4**(3-2)+6**9\")\n",
    "x"
   ]
  }
 ],
 "metadata": {
  "interpreter": {
   "hash": "df9803d5d1b6cb5abc1edc30c69a1153e23b31bf85805cdabf595a077425259e"
  },
  "kernelspec": {
   "display_name": "Python 3.9.5 64-bit",
   "name": "python3"
  },
  "language_info": {
   "codemirror_mode": {
    "name": "ipython",
    "version": 3
   },
   "file_extension": ".py",
   "mimetype": "text/x-python",
   "name": "python",
   "nbconvert_exporter": "python",
   "pygments_lexer": "ipython3",
   "version": "3.9.5"
  },
  "orig_nbformat": 4
 },
 "nbformat": 4,
 "nbformat_minor": 2
}
