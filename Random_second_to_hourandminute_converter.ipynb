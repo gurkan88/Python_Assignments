{
 "cells": [
  {
   "cell_type": "code",
   "execution_count": 4,
   "source": [
    "\r\n",
    "def check_is_digit(input_str):\r\n",
    "    if input_str.strip().isdigit():\r\n",
    "        number = int(input_str)\r\n",
    "        hour = number // 3600\r\n",
    "        minute_number = (number % 3600) // 60\r\n",
    "        second = (number % 3600) % 60\r\n",
    "        print(f\"{number} seconds are equal to {hour} hours {minute_number} minutes and {second} seconds.\")\r\n",
    "    else:\r\n",
    "        print(\" It is an invalid entry. Don't use non-numeric, float, or negative values!\")\r\n",
    "\r\n",
    "sec = input(\"enter the total number of seconds: \")\r\n",
    "check_is_digit(sec)"
   ],
   "outputs": [
    {
     "output_type": "stream",
     "name": "stdout",
     "text": [
      "45465 seconds are equal to 12 hours 37 minutes and 45 seconds.\n"
     ]
    }
   ],
   "metadata": {}
  },
  {
   "cell_type": "markdown",
   "source": [
    "isdigit() is a method to check if all the string is digit"
   ],
   "metadata": {}
  },
  {
   "cell_type": "code",
   "execution_count": 4,
   "source": [
    "x = \"8786\"\r\n",
    "print(x.isdigit())\r\n",
    "y = \"abc9877\"\r\n",
    "print(y.isdigit())"
   ],
   "outputs": [
    {
     "output_type": "stream",
     "name": "stdout",
     "text": [
      "True\n",
      "False\n"
     ]
    }
   ],
   "metadata": {}
  },
  {
   "cell_type": "code",
   "execution_count": null,
   "source": [],
   "outputs": [],
   "metadata": {}
  },
  {
   "cell_type": "code",
   "execution_count": null,
   "source": [],
   "outputs": [],
   "metadata": {}
  }
 ],
 "metadata": {
  "orig_nbformat": 4,
  "language_info": {
   "name": "python"
  }
 },
 "nbformat": 4,
 "nbformat_minor": 2
}