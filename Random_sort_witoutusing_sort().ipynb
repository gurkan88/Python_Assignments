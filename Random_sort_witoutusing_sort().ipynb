{
 "cells": [
  {
   "cell_type": "markdown",
   "source": [
    "Write a Python code to sort the list at below without using .sort() method of list. \r\n",
    "elements of list = [999, 333, 2, 8982, 12, 45, 77, 99, 11] \r\n",
    "Expected output: [2, 11, 12, 45, 77, 99, 333, 999, 8982]"
   ],
   "metadata": {}
  },
  {
   "cell_type": "code",
   "execution_count": 50,
   "source": [
    "elements = [999, 333, 2, 8982, 12, 45, 77, 99, 11] \r\n",
    "sorted1 = []\r\n",
    "for i in range(len(elements)):\r\n",
    "    x in elements\r\n",
    "    x = min(elements)\r\n",
    "    sorted1.append(x)\r\n",
    "    elements.remove(x)\r\n",
    "\r\n",
    "print(sorted1)\r\n"
   ],
   "outputs": [
    {
     "output_type": "stream",
     "name": "stdout",
     "text": [
      "[2, 11, 12, 45, 77, 99, 333, 999, 8982]\n"
     ]
    }
   ],
   "metadata": {}
  }
 ],
 "metadata": {
  "orig_nbformat": 4,
  "language_info": {
   "name": "python"
  }
 },
 "nbformat": 4,
 "nbformat_minor": 2
}