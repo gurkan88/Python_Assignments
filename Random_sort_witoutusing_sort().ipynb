{
 "cells": [
  {
   "cell_type": "markdown",
   "source": [
    "Write a Python code to sort the list at below without using .sort() method of list. \r\n",
    "elements of list = [999, 333, 2, 8982, 12, 45, 77, 99, 11] \r\n",
    "Expected output: [2, 11, 12, 45, 77, 99, 333, 999, 8982]"
   ],
   "metadata": {}
  },
  {
   "cell_type": "code",
   "execution_count": 50,
   "source": [
    "elements = [999, 333, 2, 8982, 12, 45, 77, 99, 11] \r\n",
    "sorted1 = []\r\n",
    "for i in range(len(elements)):\r\n",
    "    x in elements\r\n",
    "    x = min(elements)\r\n",
    "    sorted1.append(x)\r\n",
    "    elements.remove(x)\r\n",
    "\r\n",
    "print(sorted1)\r\n"
   ],
   "outputs": [
    {
     "output_type": "stream",
     "name": "stdout",
     "text": [
      "[2, 11, 12, 45, 77, 99, 333, 999, 8982]\n"
     ]
    }
   ],
   "metadata": {}
  },
  {
   "cell_type": "code",
   "execution_count": 7,
   "source": [
    "my_list = [999, 333, 2, 8982, 12, 45, 77, 99, 11]\r\n",
    "for i in range(len(my_list)):\r\n",
    "    for x in range(0, len(my_list)-1):\r\n",
    "        if my_list[x] > my_list[x+1]:\r\n",
    "            my_list[x], my_list[x+1] = my_list[x+1],  my_list[x]\r\n",
    "        else:\r\n",
    "            continue\r\n",
    "print(my_list)"
   ],
   "outputs": [
    {
     "output_type": "error",
     "ename": "IndentationError",
     "evalue": "unexpected indent (Temp/ipykernel_19156/2985862991.py, line 3)",
     "traceback": [
      "\u001b[1;36m  File \u001b[1;32m\"C:\\Users\\gurka\\AppData\\Local\\Temp/ipykernel_19156/2985862991.py\"\u001b[1;36m, line \u001b[1;32m3\u001b[0m\n\u001b[1;33m    for x in range(0, len(my_list)-1):\u001b[0m\n\u001b[1;37m    ^\u001b[0m\n\u001b[1;31mIndentationError\u001b[0m\u001b[1;31m:\u001b[0m unexpected indent\n"
     ]
    }
   ],
   "metadata": {}
  }
 ],
 "metadata": {
  "orig_nbformat": 4,
  "language_info": {
   "name": "python"
  }
 },
 "nbformat": 4,
 "nbformat_minor": 2
}