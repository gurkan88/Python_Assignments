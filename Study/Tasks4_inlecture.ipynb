{
 "cells": [
  {
   "cell_type": "code",
   "execution_count": 1,
   "id": "e7dd4872",
   "metadata": {},
   "outputs": [],
   "source": [
    "import random\n",
    "def key_generator():\n",
    "    key = ascii.random()\n",
    "    return key"
   ]
  },
  {
   "cell_type": "code",
   "execution_count": 2,
   "id": "737e913d",
   "metadata": {},
   "outputs": [
    {
     "data": {
      "text/plain": [
       "'Q'"
      ]
     },
     "execution_count": 2,
     "metadata": {},
     "output_type": "execute_result"
    }
   ],
   "source": [
    "chr(random.randint(65,99))"
   ]
  },
  {
   "cell_type": "code",
   "execution_count": 3,
   "id": "344a01a3",
   "metadata": {},
   "outputs": [
    {
     "data": {
      "text/plain": [
       "['H', 'L', '^']"
      ]
     },
     "execution_count": 3,
     "metadata": {},
     "output_type": "execute_result"
    }
   ],
   "source": [
    "uppers = [chr(random.randint(65,99)) for i in range(3)]\n",
    "uppers"
   ]
  },
  {
   "cell_type": "code",
   "execution_count": 4,
   "id": "1c9cd896",
   "metadata": {},
   "outputs": [
    {
     "ename": "TypeError",
     "evalue": "join() takes no keyword arguments",
     "output_type": "error",
     "traceback": [
      "\u001b[1;31m---------------------------------------------------------------------------\u001b[0m",
      "\u001b[1;31mTypeError\u001b[0m                                 Traceback (most recent call last)",
      "\u001b[1;32m<ipython-input-4-f14359fefa3d>\u001b[0m in \u001b[0;36m<module>\u001b[1;34m\u001b[0m\n\u001b[1;32m----> 1\u001b[1;33m \u001b[1;34m\"\"\u001b[0m\u001b[1;33m.\u001b[0m\u001b[0mjoin\u001b[0m\u001b[1;33m(\u001b[0m\u001b[0muppers\u001b[0m \u001b[1;33m=\u001b[0m \u001b[1;33m[\u001b[0m\u001b[0mchr\u001b[0m\u001b[1;33m(\u001b[0m\u001b[0mrandom\u001b[0m\u001b[1;33m.\u001b[0m\u001b[0mrandint\u001b[0m\u001b[1;33m(\u001b[0m\u001b[1;36m65\u001b[0m\u001b[1;33m,\u001b[0m\u001b[1;36m99\u001b[0m\u001b[1;33m)\u001b[0m\u001b[1;33m)\u001b[0m \u001b[1;32mfor\u001b[0m \u001b[0mi\u001b[0m \u001b[1;32min\u001b[0m \u001b[0mrange\u001b[0m\u001b[1;33m(\u001b[0m\u001b[1;36m3\u001b[0m\u001b[1;33m)\u001b[0m\u001b[1;33m]\u001b[0m\u001b[1;33m)\u001b[0m\u001b[1;33m\u001b[0m\u001b[1;33m\u001b[0m\u001b[0m\n\u001b[0m",
      "\u001b[1;31mTypeError\u001b[0m: join() takes no keyword arguments"
     ]
    }
   ],
   "source": [
    "\"\".join(uppers = [chr(random.randint(65,99)) for i in range(3)])"
   ]
  },
  {
   "cell_type": "code",
   "execution_count": null,
   "id": "d34c9f94",
   "metadata": {},
   "outputs": [],
   "source": [
    "lowers = [chr(random.randint(97,122)) for i in range(3)]"
   ]
  },
  {
   "cell_type": "code",
   "execution_count": null,
   "id": "5a058308",
   "metadata": {},
   "outputs": [],
   "source": [
    "chars = chr(random.randint(33,47)) + chr(random.randint(58,64))"
   ]
  },
  {
   "cell_type": "code",
   "execution_count": null,
   "id": "d2c2d720",
   "metadata": {},
   "outputs": [],
   "source": [
    "numbers = [chr(random.randint(48,57)) for i in range(3)]"
   ]
  },
  {
   "cell_type": "code",
   "execution_count": null,
   "id": "49975609",
   "metadata": {},
   "outputs": [],
   "source": [
    "password = \"\".join(uppers) + \"\".join(lowers) + \"\".join(numbers) + \"\".join(chars)\n",
    "password"
   ]
  },
  {
   "cell_type": "code",
   "execution_count": null,
   "id": "b59cefca",
   "metadata": {},
   "outputs": [],
   "source": [
    "def shuffleit(string):\n",
    "    chars = chr(random.randint(33,47)) + chr(random.randint(58,64))\n",
    "    numbers = [chr(random.randint(48,57)) for i in range(3)]\n",
    "    lowers = [chr(random.randint(97,122)) for i in range(3)]\n",
    "    uppers = [chr(random.randint(65,99)) for i in range(3)]\n",
    "    password = \"\".join(uppers) + \"\".join(lowers) + \"\".join(numbers) + \"\".join(chars)\n",
    "    templist = list(string)\n",
    "    random.shuffle(templist)\n",
    "    return \"\".join(templist)\n",
    "\n",
    "shuffleit(password)"
   ]
  },
  {
   "cell_type": "code",
   "execution_count": null,
   "id": "b0946561",
   "metadata": {},
   "outputs": [],
   "source": [
    "from timeit import timeit"
   ]
  },
  {
   "cell_type": "code",
   "execution_count": null,
   "id": "817b5e8d",
   "metadata": {
    "scrolled": false
   },
   "outputs": [],
   "source": [
    "def for_loop():\n",
    "    result = []\n",
    "    \n",
    "    for i in range(1000000):\n",
    "        result.append(i)\n",
    "    return result\n",
    "\n"
   ]
  },
  {
   "cell_type": "code",
   "execution_count": null,
   "id": "2ef7591c",
   "metadata": {},
   "outputs": [],
   "source": [
    "def list_comprehension():\n",
    "    return [i for i in range(1000000)]"
   ]
  },
  {
   "cell_type": "code",
   "execution_count": null,
   "id": "c7585b0a",
   "metadata": {},
   "outputs": [],
   "source": [
    "time1 = timeit(for_loop, number=1000)\n",
    "time2 = timeit(list_comprehension, number=1000)"
   ]
  },
  {
   "cell_type": "code",
   "execution_count": null,
   "id": "310da524",
   "metadata": {},
   "outputs": [],
   "source": [
    "print(f\"List Comprehension is {round(time1/time2, 2)} times faster than for_loop\")"
   ]
  },
  {
   "cell_type": "code",
   "execution_count": null,
   "id": "132f65ed",
   "metadata": {},
   "outputs": [],
   "source": [
    "import smtplib"
   ]
  },
  {
   "cell_type": "code",
   "execution_count": null,
   "id": "a942158f",
   "metadata": {},
   "outputs": [],
   "source": [
    "server = smtplib.SMTP(\"smtp.gmail.com\",587)"
   ]
  },
  {
   "cell_type": "code",
   "execution_count": null,
   "id": "ac69f1b6",
   "metadata": {},
   "outputs": [],
   "source": [
    "server.starttls()\n"
   ]
  },
  {
   "cell_type": "code",
   "execution_count": null,
   "id": "b86c1231",
   "metadata": {},
   "outputs": [],
   "source": [
    "my_key = \"L13.s2M/73\""
   ]
  },
  {
   "cell_type": "code",
   "execution_count": null,
   "id": "079d47b8",
   "metadata": {},
   "outputs": [],
   "source": [
    "server.login(\"gurkangnr1\",my_key)"
   ]
  },
  {
   "cell_type": "code",
   "execution_count": null,
   "id": "4600b83b",
   "metadata": {},
   "outputs": [],
   "source": [
    "message = \"this is a test mail\""
   ]
  },
  {
   "cell_type": "code",
   "execution_count": null,
   "id": "628de5c4",
   "metadata": {},
   "outputs": [],
   "source": [
    "server.sendmail(\"gurkangnr1@gmail.com\", \"grknhan@gmail.com\", message)"
   ]
  },
  {
   "cell_type": "code",
   "execution_count": 6,
   "id": "4b87cd27",
   "metadata": {
    "scrolled": true
   },
   "outputs": [],
   "source": [
    "x = \"The best IT school is Clarusway\""
   ]
  },
  {
   "cell_type": "code",
   "execution_count": 5,
   "id": "7fe5985f",
   "metadata": {},
   "outputs": [],
   "source": [
    "from googletrans import Translator"
   ]
  },
  {
   "cell_type": "code",
   "execution_count": null,
   "id": "9188fc35",
   "metadata": {},
   "outputs": [],
   "source": [
    "Translator()"
   ]
  },
  {
   "cell_type": "code",
   "execution_count": 15,
   "id": "d7d72a21",
   "metadata": {},
   "outputs": [
    {
     "data": {
      "text/plain": [
       "<googletrans.client.Translator at 0x2eb0d6511f0>"
      ]
     },
     "execution_count": 15,
     "metadata": {},
     "output_type": "execute_result"
    }
   ],
   "source": [
    "Translator(x)"
   ]
  },
  {
   "cell_type": "code",
   "execution_count": null,
   "id": "0a6a366d",
   "metadata": {},
   "outputs": [],
   "source": [
    "pip install textblob\n",
    "from textblob import TextBlob\n",
    "yazi = \"data science is one of the best paid professions \"\n",
    "blob = TextBlob(yazi)\n",
    "blob_eng = blob.translate(to='tr')\n",
    "blob_Hirvat = blob.translate(to='hr')\n",
    "blob_Hind = blob.translate(to='hi')\n",
    "blob_Ru = blob.translate(to='ru')\n",
    "blob_Tr = blob.translate(to='tr')"
   ]
  },
  {
   "cell_type": "code",
   "execution_count": null,
   "id": "c675c044",
   "metadata": {},
   "outputs": [],
   "source": []
  },
  {
   "cell_type": "code",
   "execution_count": 20,
   "id": "6570fa9e",
   "metadata": {},
   "outputs": [
    {
     "data": {
      "text/plain": [
       "['USA1',\n",
       " 'USA2',\n",
       " 'USA3',\n",
       " 'Japan1',\n",
       " 'Japan2',\n",
       " 'Japan3',\n",
       " 'Spain1',\n",
       " 'Spain2',\n",
       " 'Spain3']"
      ]
     },
     "execution_count": 20,
     "metadata": {},
     "output_type": "execute_result"
    }
   ],
   "source": [
    "x = [\"1\",\"2\",\"3\"]\n",
    "y = [\"USA\",\"Japan\",\"Spain\"]\n",
    "result = []\n",
    "z = [i+j for i in y for j in x]\n",
    "z"
   ]
  },
  {
   "cell_type": "code",
   "execution_count": null,
   "id": "318ca600",
   "metadata": {},
   "outputs": [],
   "source": []
  },
  {
   "cell_type": "code",
   "execution_count": null,
   "id": "2d2d4155",
   "metadata": {},
   "outputs": [],
   "source": []
  },
  {
   "cell_type": "code",
   "execution_count": null,
   "id": "12e8f96a",
   "metadata": {},
   "outputs": [],
   "source": []
  },
  {
   "cell_type": "code",
   "execution_count": null,
   "id": "34bb682d",
   "metadata": {},
   "outputs": [],
   "source": []
  }
 ],
 "metadata": {
  "kernelspec": {
   "display_name": "Python 3",
   "language": "python",
   "name": "python3"
  },
  "language_info": {
   "codemirror_mode": {
    "name": "ipython",
    "version": 3
   },
   "file_extension": ".py",
   "mimetype": "text/x-python",
   "name": "python",
   "nbconvert_exporter": "python",
   "pygments_lexer": "ipython3",
   "version": "3.8.8"
  }
 },
 "nbformat": 4,
 "nbformat_minor": 5
}
