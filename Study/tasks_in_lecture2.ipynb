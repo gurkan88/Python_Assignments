{
 "cells": [
  {
   "cell_type": "code",
   "execution_count": 1,
   "source": [
    "vowel_list = ['a', 'e', 'i', 'o', 'u']\r\n",
    "first_ten = ['a', 'b', 'c', 'd', 'e', 'f', 'g', 'h', 'i', 'j']\r\n",
    "  \r\n",
    "vowels = filter(lambda x: True if x in vowel_list else False, first_ten) \r\n",
    "\r\n",
    "print('Vowels are :', list(vowels))"
   ],
   "outputs": [
    {
     "output_type": "stream",
     "name": "stdout",
     "text": [
      "Vowels are : ['a', 'e', 'i']\n"
     ]
    }
   ],
   "metadata": {}
  },
  {
   "cell_type": "code",
   "execution_count": 13,
   "source": [
    "list1 = [1,2,3,4,5,6]\r\n",
    "output = map(lambda x: x*2 , list1)\r\n",
    "output2 = map(lambda x: x*2 if x>3 else False, list1)\r\n",
    "output3 = filter(lambda x: x*2 if x>3 else False, list1)\r\n",
    "type(output)\r\n",
    "print(list(output))\r\n",
    "print(list(output2))\r\n",
    "print(list(output3))"
   ],
   "outputs": [
    {
     "output_type": "stream",
     "name": "stdout",
     "text": [
      "[2, 4, 6, 8, 10, 12]\n",
      "[False, False, False, 8, 10, 12]\n",
      "[4, 5, 6]\n"
     ]
    }
   ],
   "metadata": {}
  },
  {
   "cell_type": "markdown",
   "source": [
    "<h2>\r\n",
    "output and output2:      map returns all the expressions\r\n",
    "<br>output3:             filter only returns the expression if True, if False it does not return</h2>"
   ],
   "metadata": {}
  },
  {
   "cell_type": "code",
   "execution_count": 15,
   "source": [
    "number_list = [1, 2, 3, 4, 5, 6, 7, 8, 9, 10]\r\n",
    "\r\n",
    "result = list(filter(lambda x : x >= 6, number_list ))  \r\n",
    "result\r\n"
   ],
   "outputs": [
    {
     "output_type": "execute_result",
     "data": {
      "text/plain": [
       "[6, 7, 8, 9, 10]"
      ]
     },
     "metadata": {},
     "execution_count": 15
    }
   ],
   "metadata": {}
  },
  {
   "cell_type": "code",
   "execution_count": 19,
   "source": [
    "def modular_function(n):\r\n",
    "    return lambda x: x ** n\r\n",
    "\r\n",
    "power_of_3 = modular_function(3)\r\n",
    "print(power_of_3(5))\r\n",
    "print((lambda x: x**3)(5))\r\n",
    "\r\n",
    "mean = lambda x, y: (x+y)/2\r\n",
    "print(mean(8, 10))\r\n",
    "\r\n",
    "multiply = lambda x: x * 4\r\n",
    "add = lambda x, y: x + y\r\n",
    "print(add(multiply(10), 5))"
   ],
   "outputs": [
    {
     "output_type": "stream",
     "name": "stdout",
     "text": [
      "125\n",
      "125\n",
      "9.0\n",
      "45\n"
     ]
    }
   ],
   "metadata": {}
  },
  {
   "cell_type": "code",
   "execution_count": 31,
   "source": [
    "import functools\r\n",
    "new = [1,2,3]\r\n",
    "print(functools.reduce(lambda x,y: x*2,new))"
   ],
   "outputs": [
    {
     "output_type": "stream",
     "name": "stdout",
     "text": [
      "4\n"
     ]
    }
   ],
   "metadata": {}
  },
  {
   "cell_type": "code",
   "execution_count": 33,
   "source": [
    "number_list=[1, 2, 3, 4, 5]\r\n",
    "\r\n",
    "result= list(map(lambda x : x**2, number_list))"
   ],
   "outputs": [],
   "metadata": {}
  },
  {
   "cell_type": "code",
   "execution_count": 35,
   "source": [
    "number_list=[1, 2, 3, 4, 5, 6, 7, 8, 9, 10]\r\n",
    "\r\n",
    "result= list(filter(lambda x: x%2 != 0 , number_list))   \r\n",
    "\r\n",
    "result"
   ],
   "outputs": [
    {
     "output_type": "execute_result",
     "data": {
      "text/plain": [
       "[1, 3, 5, 7, 9]"
      ]
     },
     "metadata": {},
     "execution_count": 35
    }
   ],
   "metadata": {}
  },
  {
   "cell_type": "code",
   "execution_count": 36,
   "source": [
    "variable = \"global\"\r\n",
    "\r\n",
    "def func_outer():\r\n",
    "    variable = \"enclosing outer local\"\r\n",
    "    def func_inner():\r\n",
    "        variable = \"enclosing inner local\"\r\n",
    "        def func_local():\r\n",
    "            variable = \"local\"\r\n",
    "            print(variable)\r\n",
    "        func_local()\r\n",
    "    func_inner()\r\n",
    " \r\n",
    "func_outer()  # prints 'local' defined in the innermost function\r\n",
    "print(variable)  # 'global' level variable holds its value"
   ],
   "outputs": [
    {
     "output_type": "stream",
     "name": "stdout",
     "text": [
      "local\n",
      "global\n"
     ]
    }
   ],
   "metadata": {}
  },
  {
   "cell_type": "code",
   "execution_count": 37,
   "source": [
    "count = 1\r\n",
    "\r\n",
    "def print_global():\r\n",
    "    print(count)\r\n",
    " \r\n",
    "print_global()\r\n",
    " \r\n",
    "def counter():\r\n",
    "    print(count)\r\n",
    "    count += 1  # we're trying to change its value\r\n",
    " \r\n",
    "print()  # just empty line\r\n",
    "counter()"
   ],
   "outputs": [
    {
     "output_type": "stream",
     "name": "stdout",
     "text": [
      "1\n",
      "\n"
     ]
    },
    {
     "output_type": "error",
     "ename": "UnboundLocalError",
     "evalue": "local variable 'count' referenced before assignment",
     "traceback": [
      "\u001b[1;31m---------------------------------------------------------------------------\u001b[0m",
      "\u001b[1;31mUnboundLocalError\u001b[0m                         Traceback (most recent call last)",
      "\u001b[1;32m~\\AppData\\Local\\Temp/ipykernel_16536/3762386244.py\u001b[0m in \u001b[0;36m<module>\u001b[1;34m\u001b[0m\n\u001b[0;32m     11\u001b[0m \u001b[1;33m\u001b[0m\u001b[0m\n\u001b[0;32m     12\u001b[0m \u001b[0mprint\u001b[0m\u001b[1;33m(\u001b[0m\u001b[1;33m)\u001b[0m  \u001b[1;31m# just empty line\u001b[0m\u001b[1;33m\u001b[0m\u001b[1;33m\u001b[0m\u001b[0m\n\u001b[1;32m---> 13\u001b[1;33m \u001b[0mcounter\u001b[0m\u001b[1;33m(\u001b[0m\u001b[1;33m)\u001b[0m\u001b[1;33m\u001b[0m\u001b[1;33m\u001b[0m\u001b[0m\n\u001b[0m",
      "\u001b[1;32m~\\AppData\\Local\\Temp/ipykernel_16536/3762386244.py\u001b[0m in \u001b[0;36mcounter\u001b[1;34m()\u001b[0m\n\u001b[0;32m      7\u001b[0m \u001b[1;33m\u001b[0m\u001b[0m\n\u001b[0;32m      8\u001b[0m \u001b[1;32mdef\u001b[0m \u001b[0mcounter\u001b[0m\u001b[1;33m(\u001b[0m\u001b[1;33m)\u001b[0m\u001b[1;33m:\u001b[0m\u001b[1;33m\u001b[0m\u001b[1;33m\u001b[0m\u001b[0m\n\u001b[1;32m----> 9\u001b[1;33m     \u001b[0mprint\u001b[0m\u001b[1;33m(\u001b[0m\u001b[0mcount\u001b[0m\u001b[1;33m)\u001b[0m\u001b[1;33m\u001b[0m\u001b[1;33m\u001b[0m\u001b[0m\n\u001b[0m\u001b[0;32m     10\u001b[0m     \u001b[0mcount\u001b[0m \u001b[1;33m+=\u001b[0m \u001b[1;36m1\u001b[0m  \u001b[1;31m# we're trying to change its value\u001b[0m\u001b[1;33m\u001b[0m\u001b[1;33m\u001b[0m\u001b[0m\n\u001b[0;32m     11\u001b[0m \u001b[1;33m\u001b[0m\u001b[0m\n",
      "\u001b[1;31mUnboundLocalError\u001b[0m: local variable 'count' referenced before assignment"
     ]
    }
   ],
   "metadata": {}
  },
  {
   "cell_type": "code",
   "execution_count": 38,
   "source": [
    "count = 1\r\n",
    "\r\n",
    "def counter():\r\n",
    "    global count  # we've changed its scope\r\n",
    "    print(count)  # it's global anymore\r\n",
    "    count += 1\r\n",
    " \r\n",
    "counter() \r\n",
    "counter()\r\n",
    "counter()"
   ],
   "outputs": [
    {
     "output_type": "stream",
     "name": "stdout",
     "text": [
      "1\n",
      "2\n",
      "3\n"
     ]
    }
   ],
   "metadata": {}
  },
  {
   "cell_type": "code",
   "execution_count": 40,
   "source": [
    "def func_enclosing1():\r\n",
    "    x = 'outer variable'\r\n",
    "    def func_enclosing2():\r\n",
    "        x = 'inner variable'\r\n",
    "        print(\"inner:\", x)\r\n",
    "    func_enclosing2()\r\n",
    "    print(\"outer:\", x)\r\n",
    "\r\n",
    "func_enclosing1()"
   ],
   "outputs": [
    {
     "output_type": "stream",
     "name": "stdout",
     "text": [
      "inner: inner variable\n",
      "outer: outer variable\n"
     ]
    }
   ],
   "metadata": {}
  },
  {
   "cell_type": "code",
   "execution_count": 39,
   "source": [
    "def enclosing_func1():\r\n",
    "    x = 'outer variable'\r\n",
    "    def enclosing_func2():\r\n",
    "        nonlocal x  # its inner-value can be used in the outer scope\r\n",
    "        x = 'inner variable'\r\n",
    "        print(\"inner:\", x)\r\n",
    "    enclosing_func2()\r\n",
    "    print(\"outer:\", x)\r\n",
    "\r\n",
    "enclosing_func1() "
   ],
   "outputs": [
    {
     "output_type": "stream",
     "name": "stdout",
     "text": [
      "inner: inner variable\n",
      "outer: inner variable\n"
     ]
    }
   ],
   "metadata": {}
  },
  {
   "cell_type": "code",
   "execution_count": 42,
   "source": [
    "x = 10\r\n",
    "  \r\n",
    "def my_function(): \r\n",
    "    global x\r\n",
    "    x += 5 \r\n",
    "    print(x) \r\n",
    "\r\n",
    "my_function()\r\n",
    " "
   ],
   "outputs": [
    {
     "output_type": "stream",
     "name": "stdout",
     "text": [
      "15\n"
     ]
    }
   ],
   "metadata": {}
  },
  {
   "cell_type": "code",
   "execution_count": 43,
   "source": [
    "def myfunc1():\r\n",
    "  x = \"hi\"\r\n",
    "  def myfunc2():\r\n",
    "    nonlocal x\r\n",
    "    x = \"hello\"\r\n",
    "  myfunc2() \r\n",
    "  return x\r\n",
    "\r\n",
    "print(myfunc1())"
   ],
   "outputs": [
    {
     "output_type": "stream",
     "name": "stdout",
     "text": [
      "hello\n"
     ]
    }
   ],
   "metadata": {}
  },
  {
   "cell_type": "code",
   "execution_count": 45,
   "source": [
    "y = 10  \r\n",
    "def my_function_2(): \r\n",
    "    global y\r\n",
    "    y += 5 \r\n",
    "    print(y)\r\n",
    "my_function_2()"
   ],
   "outputs": [
    {
     "output_type": "stream",
     "name": "stdout",
     "text": [
      "15\n"
     ]
    }
   ],
   "metadata": {}
  },
  {
   "cell_type": "code",
   "execution_count": 54,
   "source": [
    "x = 'My name is Richard'\r\n",
    "def my_function_1(): \r\n",
    "    x = 'My name is John'\r\n",
    "\r\n",
    "print(x)\r\n",
    "  "
   ],
   "outputs": [
    {
     "output_type": "stream",
     "name": "stdout",
     "text": [
      "My name is Richard\n"
     ]
    }
   ],
   "metadata": {}
  },
  {
   "cell_type": "code",
   "execution_count": 56,
   "source": [
    "city = \"I love Paris!\"\r\n",
    "\r\n",
    "def my_function(): \r\n",
    "    city = \"I love London!\"\r\n",
    "    print(city) \r\n",
    "\r\n",
    "my_function()"
   ],
   "outputs": [
    {
     "output_type": "stream",
     "name": "stdout",
     "text": [
      "I love London!\n"
     ]
    }
   ],
   "metadata": {}
  },
  {
   "cell_type": "code",
   "execution_count": 59,
   "source": [
    "def outer():\r\n",
    "    x = \"previous\"\r\n",
    "    \r\n",
    "    def inner():\r\n",
    "        nonlocal x\r\n",
    "        x = \"later\"\r\n",
    "        print(\"inner:\", x)\r\n",
    "    \r\n",
    "    inner()\r\n",
    "    print(\"outer:\", x)\r\n",
    "\r\n",
    "outer()"
   ],
   "outputs": [
    {
     "output_type": "stream",
     "name": "stdout",
     "text": [
      "inner: later\n",
      "outer: later\n"
     ]
    }
   ],
   "metadata": {}
  },
  {
   "cell_type": "code",
   "execution_count": 2,
   "source": [
    "str = \"clarusway\"\r\n",
    "str[3:6]"
   ],
   "outputs": [
    {
     "output_type": "error",
     "ename": "NameError",
     "evalue": "name 'midindex' is not defined",
     "traceback": [
      "\u001b[1;31m---------------------------------------------------------------------------\u001b[0m",
      "\u001b[1;31mNameError\u001b[0m                                 Traceback (most recent call last)",
      "\u001b[1;32m~\\AppData\\Local\\Temp/ipykernel_18300/496551466.py\u001b[0m in \u001b[0;36m<module>\u001b[1;34m\u001b[0m\n\u001b[0;32m      1\u001b[0m \u001b[0mstr\u001b[0m \u001b[1;33m=\u001b[0m \u001b[1;34m\"clarusway\"\u001b[0m\u001b[1;33m\u001b[0m\u001b[1;33m\u001b[0m\u001b[0m\n\u001b[0;32m      2\u001b[0m \u001b[0mstr\u001b[0m\u001b[1;33m[\u001b[0m\u001b[1;36m3\u001b[0m\u001b[1;33m:\u001b[0m\u001b[1;36m6\u001b[0m\u001b[1;33m]\u001b[0m\u001b[1;33m\u001b[0m\u001b[1;33m\u001b[0m\u001b[0m\n\u001b[1;32m----> 3\u001b[1;33m \u001b[0mstr\u001b[0m\u001b[1;33m[\u001b[0m\u001b[1;33m:\u001b[0m\u001b[0mmidindex\u001b[0m\u001b[1;33m]\u001b[0m\u001b[1;33m\u001b[0m\u001b[1;33m\u001b[0m\u001b[0m\n\u001b[0m",
      "\u001b[1;31mNameError\u001b[0m: name 'midindex' is not defined"
     ]
    }
   ],
   "metadata": {}
  },
  {
   "cell_type": "code",
   "execution_count": 27,
   "source": [
    "def for_loop():\r\n",
    "    result = []\r\n",
    "    \r\n",
    "    for i in range(1000000):\r\n",
    "        result.append(i)\r\n",
    "    return result\r\n"
   ],
   "outputs": [],
   "metadata": {}
  },
  {
   "cell_type": "markdown",
   "source": [
    "***\r\n",
    "# TIMING with timeit()"
   ],
   "metadata": {}
  },
  {
   "cell_type": "code",
   "execution_count": 22,
   "source": [
    "def list_comprehension():\r\n",
    "    return [i for i in range(1000000)]"
   ],
   "outputs": [],
   "metadata": {}
  },
  {
   "cell_type": "code",
   "execution_count": 32,
   "source": [
    "from timeit import timeit"
   ],
   "outputs": [],
   "metadata": {}
  },
  {
   "cell_type": "code",
   "execution_count": 33,
   "source": [
    "time1 = timeit(for_loop, number=1000)\r\n",
    "time2 = timeit(list_comprehension, number=1000)"
   ],
   "outputs": [],
   "metadata": {}
  },
  {
   "cell_type": "code",
   "execution_count": null,
   "source": [
    "print(f\"List Comprehension is {round(time1/time2, 2)} times faster than for_loop\")"
   ],
   "outputs": [],
   "metadata": {}
  },
  {
   "cell_type": "markdown",
   "source": [
    "***\r\n",
    "# Datetime"
   ],
   "metadata": {}
  },
  {
   "cell_type": "code",
   "execution_count": 3,
   "source": [
    "import math \r\n",
    "math.pi"
   ],
   "outputs": [
    {
     "output_type": "execute_result",
     "data": {
      "text/plain": [
       "3.141592653589793"
      ]
     },
     "metadata": {},
     "execution_count": 3
    }
   ],
   "metadata": {}
  },
  {
   "cell_type": "code",
   "execution_count": 9,
   "source": [
    "import datetime\r\n",
    "print(datetime.date.today())\r\n",
    "print(datetime.datetime.now())"
   ],
   "outputs": [
    {
     "output_type": "stream",
     "name": "stdout",
     "text": [
      "2021-08-18\n",
      "2021-08-18 13:24:43.050509\n"
     ]
    }
   ],
   "metadata": {}
  },
  {
   "cell_type": "code",
   "execution_count": 14,
   "source": [
    "import random\r\n",
    "print(random.random())"
   ],
   "outputs": [
    {
     "output_type": "stream",
     "name": "stdout",
     "text": [
      "0.7329679796633856\n"
     ]
    }
   ],
   "metadata": {}
  },
  {
   "cell_type": "code",
   "execution_count": 15,
   "source": [
    "import random\r\n",
    "random.__name__"
   ],
   "outputs": [
    {
     "output_type": "execute_result",
     "data": {
      "text/plain": [
       "'random'"
      ]
     },
     "metadata": {},
     "execution_count": 15
    }
   ],
   "metadata": {}
  },
  {
   "cell_type": "code",
   "execution_count": 18,
   "source": [
    "import random\r\n"
   ],
   "outputs": [
    {
     "output_type": "error",
     "ename": "AttributeError",
     "evalue": "'str' object has no attribute '__main__'",
     "traceback": [
      "\u001b[1;31m---------------------------------------------------------------------------\u001b[0m",
      "\u001b[1;31mAttributeError\u001b[0m                            Traceback (most recent call last)",
      "\u001b[1;32m~\\AppData\\Local\\Temp/ipykernel_812/337759156.py\u001b[0m in \u001b[0;36m<module>\u001b[1;34m\u001b[0m\n\u001b[0;32m      1\u001b[0m \u001b[1;32mimport\u001b[0m \u001b[0mrandom\u001b[0m\u001b[1;33m\u001b[0m\u001b[1;33m\u001b[0m\u001b[0m\n\u001b[0;32m      2\u001b[0m \u001b[0mx\u001b[0m \u001b[1;33m=\u001b[0m \u001b[1;34m\"heyyou\"\u001b[0m\u001b[1;33m\u001b[0m\u001b[1;33m\u001b[0m\u001b[0m\n\u001b[1;32m----> 3\u001b[1;33m \u001b[0mx\u001b[0m\u001b[1;33m.\u001b[0m\u001b[0m__main__\u001b[0m\u001b[1;33m\u001b[0m\u001b[1;33m\u001b[0m\u001b[0m\n\u001b[0m",
      "\u001b[1;31mAttributeError\u001b[0m: 'str' object has no attribute '__main__'"
     ]
    }
   ],
   "metadata": {}
  },
  {
   "cell_type": "code",
   "execution_count": 20,
   "source": [
    "import module1\r\n",
    "module1.calc_factorial(4)"
   ],
   "outputs": [
    {
     "output_type": "execute_result",
     "data": {
      "text/plain": [
       "24"
      ]
     },
     "metadata": {},
     "execution_count": 20
    }
   ],
   "metadata": {}
  },
  {
   "cell_type": "code",
   "execution_count": 23,
   "source": [
    "\"-\".join([\"1\",\"2\",\"3\"])"
   ],
   "outputs": [
    {
     "output_type": "execute_result",
     "data": {
      "text/plain": [
       "'1-2-3'"
      ]
     },
     "metadata": {},
     "execution_count": 23
    }
   ],
   "metadata": {}
  },
  {
   "cell_type": "code",
   "execution_count": 63,
   "source": [
    "import earth.asia.module1\r\n",
    "earth.asia.module1.calculate_fact(5)"
   ],
   "outputs": [
    {
     "output_type": "execute_result",
     "data": {
      "text/plain": [
       "120"
      ]
     },
     "metadata": {},
     "execution_count": 63
    }
   ],
   "metadata": {}
  },
  {
   "cell_type": "code",
   "execution_count": 64,
   "source": [
    "from earth.asia.module1 import calculate_fact\r\n",
    "calculate_fact(6)"
   ],
   "outputs": [
    {
     "output_type": "execute_result",
     "data": {
      "text/plain": [
       "720"
      ]
     },
     "metadata": {},
     "execution_count": 64
    }
   ],
   "metadata": {}
  },
  {
   "cell_type": "code",
   "execution_count": 65,
   "source": [
    "from earth import *\r\n",
    "calculate_fact(7)"
   ],
   "outputs": [
    {
     "output_type": "execute_result",
     "data": {
      "text/plain": [
       "5040"
      ]
     },
     "metadata": {},
     "execution_count": 65
    }
   ],
   "metadata": {}
  },
  {
   "cell_type": "code",
   "execution_count": 73,
   "source": [
    "calculate_fact(5)"
   ],
   "outputs": [
    {
     "output_type": "execute_result",
     "data": {
      "text/plain": [
       "120"
      ]
     },
     "metadata": {},
     "execution_count": 73
    }
   ],
   "metadata": {}
  },
  {
   "cell_type": "code",
   "execution_count": 75,
   "source": [
    "from earth.europe.module2 import calc_summation\r\n",
    "calc_summation(7,8)"
   ],
   "outputs": [
    {
     "output_type": "execute_result",
     "data": {
      "text/plain": [
       "15"
      ]
     },
     "metadata": {},
     "execution_count": 75
    }
   ],
   "metadata": {}
  },
  {
   "cell_type": "code",
   "execution_count": 76,
   "source": [
    "calc_summation(5,8)"
   ],
   "outputs": [
    {
     "output_type": "execute_result",
     "data": {
      "text/plain": [
       "13"
      ]
     },
     "metadata": {},
     "execution_count": 76
    }
   ],
   "metadata": {}
  },
  {
   "cell_type": "code",
   "execution_count": 77,
   "source": [
    "import earth.europe.module2"
   ],
   "outputs": [],
   "metadata": {}
  },
  {
   "cell_type": "code",
   "execution_count": 83,
   "source": [
    "from earth.europe import germany"
   ],
   "outputs": [],
   "metadata": {}
  },
  {
   "cell_type": "code",
   "execution_count": 91,
   "source": [
    "dir(earth)"
   ],
   "outputs": [
    {
     "output_type": "execute_result",
     "data": {
      "text/plain": [
       "['__builtins__',\n",
       " '__cached__',\n",
       " '__doc__',\n",
       " '__file__',\n",
       " '__loader__',\n",
       " '__name__',\n",
       " '__package__',\n",
       " '__path__',\n",
       " '__spec__',\n",
       " 'asia',\n",
       " 'europe']"
      ]
     },
     "metadata": {},
     "execution_count": 91
    }
   ],
   "metadata": {}
  },
  {
   "cell_type": "code",
   "execution_count": null,
   "source": [],
   "outputs": [],
   "metadata": {}
  }
 ],
 "metadata": {
  "orig_nbformat": 4,
  "language_info": {
   "name": "python",
   "version": "3.9.5",
   "mimetype": "text/x-python",
   "codemirror_mode": {
    "name": "ipython",
    "version": 3
   },
   "pygments_lexer": "ipython3",
   "nbconvert_exporter": "python",
   "file_extension": ".py"
  },
  "kernelspec": {
   "name": "python3",
   "display_name": "Python 3.9.5 64-bit"
  },
  "interpreter": {
   "hash": "df9803d5d1b6cb5abc1edc30c69a1153e23b31bf85805cdabf595a077425259e"
  }
 },
 "nbformat": 4,
 "nbformat_minor": 2
}