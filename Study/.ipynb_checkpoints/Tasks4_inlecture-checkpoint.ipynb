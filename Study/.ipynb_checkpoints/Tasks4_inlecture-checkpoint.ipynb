{
 "cells": [
  {
   "cell_type": "code",
   "execution_count": 2,
   "id": "e7d6ebed",
   "metadata": {},
   "outputs": [],
   "source": [
    "import random\n",
    "def key_generator():\n",
    "    key = ascii.random()\n",
    "    return key"
   ]
  },
  {
   "cell_type": "code",
   "execution_count": 74,
   "id": "e9f06d41",
   "metadata": {},
   "outputs": [
    {
     "data": {
      "text/plain": [
       "'H'"
      ]
     },
     "execution_count": 74,
     "metadata": {},
     "output_type": "execute_result"
    }
   ],
   "source": [
    "chr(random.randint(65,99))"
   ]
  },
  {
   "cell_type": "code",
   "execution_count": 76,
   "id": "4f6b92e6",
   "metadata": {},
   "outputs": [
    {
     "data": {
      "text/plain": [
       "['R', 'B', 'D']"
      ]
     },
     "execution_count": 76,
     "metadata": {},
     "output_type": "execute_result"
    }
   ],
   "source": [
    "uppers = [chr(random.randint(65,99)) for i in range(3)]\n",
    "uppers"
   ]
  },
  {
   "cell_type": "code",
   "execution_count": null,
   "id": "1843c33a",
   "metadata": {},
   "outputs": [],
   "source": [
    "\"\".join(uppers = [chr(random.randint(65,99)) for i in range(3)])"
   ]
  },
  {
   "cell_type": "code",
   "execution_count": 149,
   "id": "02e1a89a",
   "metadata": {},
   "outputs": [],
   "source": [
    "lowers = [chr(random.randint(97,122)) for i in range(3)]"
   ]
  },
  {
   "cell_type": "code",
   "execution_count": 147,
   "id": "e6683bb0",
   "metadata": {},
   "outputs": [],
   "source": [
    "chars = chr(random.randint(33,47)) + chr(random.randint(58,64))"
   ]
  },
  {
   "cell_type": "code",
   "execution_count": 142,
   "id": "d89bd2a7",
   "metadata": {},
   "outputs": [],
   "source": [
    "numbers = [chr(random.randint(48,57)) for i in range(3)]"
   ]
  },
  {
   "cell_type": "code",
   "execution_count": 150,
   "id": "724c5af2",
   "metadata": {},
   "outputs": [
    {
     "data": {
      "text/plain": [
       "'DRBxeh625(:'"
      ]
     },
     "execution_count": 150,
     "metadata": {},
     "output_type": "execute_result"
    }
   ],
   "source": [
    "password = \"\".join(uppers) + \"\".join(lowers) + \"\".join(numbers) + \"\".join(chars)\n",
    "password"
   ]
  },
  {
   "cell_type": "code",
   "execution_count": 172,
   "id": "5f7a8289",
   "metadata": {},
   "outputs": [
    {
     "data": {
      "text/plain": [
       "'DBh:6e5x(R2'"
      ]
     },
     "execution_count": 172,
     "metadata": {},
     "output_type": "execute_result"
    }
   ],
   "source": [
    "def shuffleit(string):\n",
    "    chars = chr(random.randint(33,47)) + chr(random.randint(58,64))\n",
    "    numbers = [chr(random.randint(48,57)) for i in range(3)]\n",
    "    lowers = [chr(random.randint(97,122)) for i in range(3)]\n",
    "    uppers = [chr(random.randint(65,99)) for i in range(3)]\n",
    "    password = \"\".join(uppers) + \"\".join(lowers) + \"\".join(numbers) + \"\".join(chars)\n",
    "    templist = list(string)\n",
    "    random.shuffle(templist)\n",
    "    return \"\".join(templist)\n",
    "\n",
    "shuffleit(password)"
   ]
  },
  {
   "cell_type": "code",
   "execution_count": 2,
   "id": "010a90de",
   "metadata": {},
   "outputs": [],
   "source": [
    "from timeit import timeit"
   ]
  },
  {
   "cell_type": "code",
   "execution_count": 4,
   "id": "ad1a5bc7",
   "metadata": {
    "scrolled": false
   },
   "outputs": [],
   "source": [
    "def for_loop():\n",
    "    result = []\n",
    "    \n",
    "    for i in range(1000000):\n",
    "        result.append(i)\n",
    "    return result\n",
    "\n"
   ]
  },
  {
   "cell_type": "code",
   "execution_count": 5,
   "id": "f4071220",
   "metadata": {},
   "outputs": [],
   "source": [
    "def list_comprehension():\n",
    "    return [i for i in range(1000000)]"
   ]
  },
  {
   "cell_type": "code",
   "execution_count": 6,
   "id": "bc704f76",
   "metadata": {},
   "outputs": [],
   "source": [
    "time1 = timeit(for_loop, number=1000)\n",
    "time2 = timeit(list_comprehension, number=1000)"
   ]
  },
  {
   "cell_type": "code",
   "execution_count": 7,
   "id": "040364f0",
   "metadata": {},
   "outputs": [
    {
     "name": "stdout",
     "output_type": "stream",
     "text": [
      "List Comprehension is 1.62 times faster than for_loop\n"
     ]
    }
   ],
   "source": [
    "print(f\"List Comprehension is {round(time1/time2, 2)} times faster than for_loop\")"
   ]
  },
  {
   "cell_type": "code",
   "execution_count": 8,
   "id": "7c3524e6",
   "metadata": {},
   "outputs": [],
   "source": [
    "import smtplib"
   ]
  },
  {
   "cell_type": "code",
   "execution_count": 10,
   "id": "50554d72",
   "metadata": {},
   "outputs": [],
   "source": [
    "server = smtplib.SMTP(\"smtp.gmail.com\",587)"
   ]
  },
  {
   "cell_type": "code",
   "execution_count": null,
   "id": "e0e43cc7",
   "metadata": {},
   "outputs": [],
   "source": []
  },
  {
   "cell_type": "code",
   "execution_count": null,
   "id": "c41ad196",
   "metadata": {},
   "outputs": [],
   "source": []
  },
  {
   "cell_type": "code",
   "execution_count": null,
   "id": "a9026a93",
   "metadata": {},
   "outputs": [],
   "source": []
  }
 ],
 "metadata": {
  "kernelspec": {
   "display_name": "Python 3",
   "language": "python",
   "name": "python3"
  },
  "language_info": {
   "codemirror_mode": {
    "name": "ipython",
    "version": 3
   },
   "file_extension": ".py",
   "mimetype": "text/x-python",
   "name": "python",
   "nbconvert_exporter": "python",
   "pygments_lexer": "ipython3",
   "version": "3.8.8"
  }
 },
 "nbformat": 4,
 "nbformat_minor": 5
}
