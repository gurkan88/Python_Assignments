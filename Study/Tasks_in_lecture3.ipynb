{
 "cells": [
  {
   "cell_type": "code",
   "execution_count": 1,
   "source": [
    "while True:\r\n",
    "    no_one = int(input(\"The first number please : \"))\r\n",
    "    no_two = int(input(\"The second number please : \"))\r\n",
    "    try:\r\n",
    "        division = no_one / no_two  # normal part of the program\r\n",
    "    except ZeroDivisionError:\r\n",
    "        print(\"You can't divide by zero! Try again.\")  # executes when division by zero\r\n",
    "    else:\r\n",
    "        print(\"The result of the division is : \", division)  # executes if there is no exception\r\n",
    "    finally:\r\n",
    "        print(\"Thanks for using our mini divison calculator! Come again!\")\r\n",
    "        break  # exits the while loop"
   ],
   "outputs": [
    {
     "output_type": "stream",
     "name": "stdout",
     "text": [
      "The result of the division is :  0.8\n",
      "Thanks for using our mini divison calculator! Come again!\n"
     ]
    }
   ],
   "metadata": {}
  },
  {
   "cell_type": "code",
   "execution_count": 3,
   "source": [
    "while True:\r\n",
    "    no_one = int(input(\"The first number please : \"))\r\n",
    "    no_two = int(input(\"The second number please : \"))\r\n",
    "    try:\r\n",
    "        division = no_one / no_two\r\n",
    "        print(\"The result of the division is : \", division)\r\n",
    "        break\r\n",
    "    except Exception as e:\r\n",
    "        print(\"Something went wrong...Try again.\")\r\n",
    "        print(\"Probably it is because of '{}' error\".format(e))\r\n",
    "        break"
   ],
   "outputs": [
    {
     "output_type": "error",
     "ename": "ValueError",
     "evalue": "invalid literal for int() with base 10: 'k'",
     "traceback": [
      "\u001b[1;31m---------------------------------------------------------------------------\u001b[0m",
      "\u001b[1;31mValueError\u001b[0m                                Traceback (most recent call last)",
      "\u001b[1;32m~\\AppData\\Local\\Temp/ipykernel_18048/309252609.py\u001b[0m in \u001b[0;36m<module>\u001b[1;34m\u001b[0m\n\u001b[0;32m      1\u001b[0m \u001b[1;32mwhile\u001b[0m \u001b[1;32mTrue\u001b[0m\u001b[1;33m:\u001b[0m\u001b[1;33m\u001b[0m\u001b[1;33m\u001b[0m\u001b[0m\n\u001b[0;32m      2\u001b[0m     \u001b[0mno_one\u001b[0m \u001b[1;33m=\u001b[0m \u001b[0mint\u001b[0m\u001b[1;33m(\u001b[0m\u001b[0minput\u001b[0m\u001b[1;33m(\u001b[0m\u001b[1;34m\"The first number please : \"\u001b[0m\u001b[1;33m)\u001b[0m\u001b[1;33m)\u001b[0m\u001b[1;33m\u001b[0m\u001b[1;33m\u001b[0m\u001b[0m\n\u001b[1;32m----> 3\u001b[1;33m     \u001b[0mno_two\u001b[0m \u001b[1;33m=\u001b[0m \u001b[0mint\u001b[0m\u001b[1;33m(\u001b[0m\u001b[0minput\u001b[0m\u001b[1;33m(\u001b[0m\u001b[1;34m\"The second number please : \"\u001b[0m\u001b[1;33m)\u001b[0m\u001b[1;33m)\u001b[0m\u001b[1;33m\u001b[0m\u001b[1;33m\u001b[0m\u001b[0m\n\u001b[0m\u001b[0;32m      4\u001b[0m     \u001b[1;32mtry\u001b[0m\u001b[1;33m:\u001b[0m\u001b[1;33m\u001b[0m\u001b[1;33m\u001b[0m\u001b[0m\n\u001b[0;32m      5\u001b[0m         \u001b[0mdivision\u001b[0m \u001b[1;33m=\u001b[0m \u001b[0mno_one\u001b[0m \u001b[1;33m/\u001b[0m \u001b[0mno_two\u001b[0m\u001b[1;33m\u001b[0m\u001b[1;33m\u001b[0m\u001b[0m\n",
      "\u001b[1;31mValueError\u001b[0m: invalid literal for int() with base 10: 'k'"
     ]
    }
   ],
   "metadata": {}
  },
  {
   "cell_type": "code",
   "execution_count": 5,
   "source": [
    "try :\r\n",
    "    a = 10\r\n",
    "    b = 2\r\n",
    "    print(\"The result of division is :\", c)\r\n",
    "except Exception as e:\r\n",
    "    print(\"The error message is : \", e)"
   ],
   "outputs": [
    {
     "output_type": "stream",
     "name": "stdout",
     "text": [
      "The error message is :  name 'c' is not defined\n"
     ]
    }
   ],
   "metadata": {}
  },
  {
   "cell_type": "code",
   "execution_count": 22,
   "source": [
    "try:\r\n",
    "    f = open('watertrap.py')\r\n",
    "    print(f.read())\r\n",
    "except:\r\n",
    "    print(\"Something went wrong\")\r\n",
    "finally:\r\n",
    "    f. close()"
   ],
   "outputs": [
    {
     "output_type": "stream",
     "name": "stdout",
     "text": [
      "\n",
      "def solution(pipes):\n",
      "\t\"\"\"\n",
      "\tReturns the area of water\n",
      "\t\n",
      "\tBasic thought proccess is to look for a pipe that\n",
      "\tis the same height or taller than the current pipe.\n",
      "\tWe will start with the first pipe, look through pipes\n",
      "\tand try to find one that is taller or same height. When\n",
      "\twe reach this pipe we will calculate the area from the\n",
      "\tprevious pipe to this one and repeat the process until\n",
      "\tno more pipes exist.\n",
      "\t:param pipes: List\n",
      "\t:return: int\n",
      "\t\"\"\"\n",
      "\tif len(pipes) < 3:\n",
      "\t\treturn 0 \n",
      "\n",
      "\tarea = 0\n",
      "\tind = 0\n",
      "\n",
      "\twhile ind < len(pipes)-1:\n",
      "\t\tfor x in range(ind+1, len(pipes)):\n",
      "\t\t\tpipe = pipes[x]\n",
      "\t\t\tif pipe >= pipes[ind]:  # look for a pipe that is greater than or equal to last tallest pipe\n",
      "\t\t\t\tnum_pipes = x-ind -1  # how many pipes we are finding area for\n",
      "\t\t\t\tarea += (min(pipe, pipes[ind]) * num_pipes) - sum(pipes[ind+1:x])  # add area of all pipes inbetween these pipes\n",
      "\t\t\t\tind = x  # change the last tallest pipe to be the one we found\n",
      "\t\t\t\tbreak\n",
      "\t\telse:\n",
      "\t\t\t# if we couldn't find a pipe taller than the last tallest pipe\n",
      "\t\t\tp = max(pipes[ind+1:])  # find the tallest one we can\n",
      "\t\t\tpipe_ind = pipes[ind+1:].index(p) + ind + 1  # calculate the index in the list of that pipe\n",
      "\t\t\tnum_pipes = pipe_ind-ind-1  # how many pipes we are finding area for\n",
      "\t\t\tarea += (p * num_pipes) - sum(pipes[ind+1:pipe_ind])  # add area of all pipes inbetween those two pipes\n",
      "\t\t\tind = pipe_ind  # change last tallest pipe to be the pipe we found\n",
      "\t\t\n",
      "\treturn area  # return answer\n",
      "\n",
      "array = [0,1,0,2,1,0,1,3,2,1,2,1,8,7]\n",
      "solution(array)\n"
     ]
    }
   ],
   "metadata": {}
  },
  {
   "cell_type": "code",
   "execution_count": 23,
   "source": [
    "try:\r\n",
    "    x = 2/0\r\n",
    "except ZeroDivisionError:\r\n",
    "    print('Attempt to divide by zero')\r\n",
    "except:\r\n",
    "    print('Something else went wrong')"
   ],
   "outputs": [
    {
     "output_type": "stream",
     "name": "stdout",
     "text": [
      "Attempt to divide by zero\n"
     ]
    }
   ],
   "metadata": {}
  },
  {
   "cell_type": "code",
   "execution_count": 30,
   "source": [
    "try:\r\n",
    "    x = 2/0\r\n",
    "except ZeroDivisionError:\r\n",
    "    print('Attempt to divide by zero')\r\n",
    "except ZeroDivisionError:\r\n",
    "   print(\"You can't divide by zero!!\")\r\n",
    "except ValueError:\r\n",
    "   print(\"You can only enter numbers consisting of digits, not text!!\")\r\n",
    "except (ValueError, TypeError):\r\n",
    "    print(\"You can only enter numbers consisting of digits, not text!!\")\r\n",
    "except ArithmeticError:\r\n",
    "    print(\"I will also catch OverflowError, FloatingPointError and ZeroDivisionError\")\r\n"
   ],
   "outputs": [
    {
     "output_type": "stream",
     "name": "stdout",
     "text": [
      "Attempt to divide by zero\n"
     ]
    }
   ],
   "metadata": {}
  },
  {
   "cell_type": "code",
   "execution_count": 31,
   "source": [
    "try:\r\n",
    "  print(x)\r\n",
    "except:\r\n",
    "  print(\"Something is wrong\")\r\n",
    "finally:\r\n",
    "  print(\"The 'try except' is completed\")"
   ],
   "outputs": [
    {
     "output_type": "stream",
     "name": "stdout",
     "text": [
      "Something is wrong\n",
      "The 'try except' is completed\n"
     ]
    }
   ],
   "metadata": {}
  }
 ],
 "metadata": {
  "orig_nbformat": 4,
  "language_info": {
   "name": "python",
   "version": "3.9.5",
   "mimetype": "text/x-python",
   "codemirror_mode": {
    "name": "ipython",
    "version": 3
   },
   "pygments_lexer": "ipython3",
   "nbconvert_exporter": "python",
   "file_extension": ".py"
  },
  "kernelspec": {
   "name": "python3",
   "display_name": "Python 3.9.5 64-bit"
  },
  "interpreter": {
   "hash": "df9803d5d1b6cb5abc1edc30c69a1153e23b31bf85805cdabf595a077425259e"
  }
 },
 "nbformat": 4,
 "nbformat_minor": 2
}