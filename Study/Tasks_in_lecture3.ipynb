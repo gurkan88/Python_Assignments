{
 "cells": [
  {
   "cell_type": "code",
   "execution_count": 1,
   "source": [
    "while True:\r\n",
    "    no_one = int(input(\"The first number please : \"))\r\n",
    "    no_two = int(input(\"The second number please : \"))\r\n",
    "    try:\r\n",
    "        division = no_one / no_two  # normal part of the program\r\n",
    "    except ZeroDivisionError:\r\n",
    "        print(\"You can't divide by zero! Try again.\")  # executes when division by zero\r\n",
    "    else:\r\n",
    "        print(\"The result of the division is : \", division)  # executes if there is no exception\r\n",
    "    finally:\r\n",
    "        print(\"Thanks for using our mini divison calculator! Come again!\")\r\n",
    "        break  # exits the while loop"
   ],
   "outputs": [
    {
     "output_type": "stream",
     "name": "stdout",
     "text": [
      "The result of the division is :  0.8\n",
      "Thanks for using our mini divison calculator! Come again!\n"
     ]
    }
   ],
   "metadata": {}
  },
  {
   "cell_type": "code",
   "execution_count": 3,
   "source": [
    "while True:\r\n",
    "    no_one = int(input(\"The first number please : \"))\r\n",
    "    no_two = int(input(\"The second number please : \"))\r\n",
    "    try:\r\n",
    "        division = no_one / no_two\r\n",
    "        print(\"The result of the division is : \", division)\r\n",
    "        break\r\n",
    "    except Exception as e:\r\n",
    "        print(\"Something went wrong...Try again.\")\r\n",
    "        print(\"Probably it is because of '{}' error\".format(e))\r\n",
    "        break"
   ],
   "outputs": [
    {
     "output_type": "error",
     "ename": "ValueError",
     "evalue": "invalid literal for int() with base 10: 'k'",
     "traceback": [
      "\u001b[1;31m---------------------------------------------------------------------------\u001b[0m",
      "\u001b[1;31mValueError\u001b[0m                                Traceback (most recent call last)",
      "\u001b[1;32m~\\AppData\\Local\\Temp/ipykernel_18048/309252609.py\u001b[0m in \u001b[0;36m<module>\u001b[1;34m\u001b[0m\n\u001b[0;32m      1\u001b[0m \u001b[1;32mwhile\u001b[0m \u001b[1;32mTrue\u001b[0m\u001b[1;33m:\u001b[0m\u001b[1;33m\u001b[0m\u001b[1;33m\u001b[0m\u001b[0m\n\u001b[0;32m      2\u001b[0m     \u001b[0mno_one\u001b[0m \u001b[1;33m=\u001b[0m \u001b[0mint\u001b[0m\u001b[1;33m(\u001b[0m\u001b[0minput\u001b[0m\u001b[1;33m(\u001b[0m\u001b[1;34m\"The first number please : \"\u001b[0m\u001b[1;33m)\u001b[0m\u001b[1;33m)\u001b[0m\u001b[1;33m\u001b[0m\u001b[1;33m\u001b[0m\u001b[0m\n\u001b[1;32m----> 3\u001b[1;33m     \u001b[0mno_two\u001b[0m \u001b[1;33m=\u001b[0m \u001b[0mint\u001b[0m\u001b[1;33m(\u001b[0m\u001b[0minput\u001b[0m\u001b[1;33m(\u001b[0m\u001b[1;34m\"The second number please : \"\u001b[0m\u001b[1;33m)\u001b[0m\u001b[1;33m)\u001b[0m\u001b[1;33m\u001b[0m\u001b[1;33m\u001b[0m\u001b[0m\n\u001b[0m\u001b[0;32m      4\u001b[0m     \u001b[1;32mtry\u001b[0m\u001b[1;33m:\u001b[0m\u001b[1;33m\u001b[0m\u001b[1;33m\u001b[0m\u001b[0m\n\u001b[0;32m      5\u001b[0m         \u001b[0mdivision\u001b[0m \u001b[1;33m=\u001b[0m \u001b[0mno_one\u001b[0m \u001b[1;33m/\u001b[0m \u001b[0mno_two\u001b[0m\u001b[1;33m\u001b[0m\u001b[1;33m\u001b[0m\u001b[0m\n",
      "\u001b[1;31mValueError\u001b[0m: invalid literal for int() with base 10: 'k'"
     ]
    }
   ],
   "metadata": {}
  },
  {
   "cell_type": "code",
   "execution_count": 5,
   "source": [
    "try :\r\n",
    "    a = 10\r\n",
    "    b = 2\r\n",
    "    print(\"The result of division is :\", c)\r\n",
    "except Exception as e:\r\n",
    "    print(\"The error message is : \", e)"
   ],
   "outputs": [
    {
     "output_type": "stream",
     "name": "stdout",
     "text": [
      "The error message is :  name 'c' is not defined\n"
     ]
    }
   ],
   "metadata": {}
  },
  {
   "cell_type": "code",
   "execution_count": 22,
   "source": [
    "try:\r\n",
    "    f = open('watertrap.py')\r\n",
    "    print(f.read())\r\n",
    "except:\r\n",
    "    print(\"Something went wrong\")\r\n",
    "finally:\r\n",
    "    f. close()"
   ],
   "outputs": [
    {
     "output_type": "stream",
     "name": "stdout",
     "text": [
      "\n",
      "def solution(pipes):\n",
      "\t\"\"\"\n",
      "\tReturns the area of water\n",
      "\t\n",
      "\tBasic thought proccess is to look for a pipe that\n",
      "\tis the same height or taller than the current pipe.\n",
      "\tWe will start with the first pipe, look through pipes\n",
      "\tand try to find one that is taller or same height. When\n",
      "\twe reach this pipe we will calculate the area from the\n",
      "\tprevious pipe to this one and repeat the process until\n",
      "\tno more pipes exist.\n",
      "\t:param pipes: List\n",
      "\t:return: int\n",
      "\t\"\"\"\n",
      "\tif len(pipes) < 3:\n",
      "\t\treturn 0 \n",
      "\n",
      "\tarea = 0\n",
      "\tind = 0\n",
      "\n",
      "\twhile ind < len(pipes)-1:\n",
      "\t\tfor x in range(ind+1, len(pipes)):\n",
      "\t\t\tpipe = pipes[x]\n",
      "\t\t\tif pipe >= pipes[ind]:  # look for a pipe that is greater than or equal to last tallest pipe\n",
      "\t\t\t\tnum_pipes = x-ind -1  # how many pipes we are finding area for\n",
      "\t\t\t\tarea += (min(pipe, pipes[ind]) * num_pipes) - sum(pipes[ind+1:x])  # add area of all pipes inbetween these pipes\n",
      "\t\t\t\tind = x  # change the last tallest pipe to be the one we found\n",
      "\t\t\t\tbreak\n",
      "\t\telse:\n",
      "\t\t\t# if we couldn't find a pipe taller than the last tallest pipe\n",
      "\t\t\tp = max(pipes[ind+1:])  # find the tallest one we can\n",
      "\t\t\tpipe_ind = pipes[ind+1:].index(p) + ind + 1  # calculate the index in the list of that pipe\n",
      "\t\t\tnum_pipes = pipe_ind-ind-1  # how many pipes we are finding area for\n",
      "\t\t\tarea += (p * num_pipes) - sum(pipes[ind+1:pipe_ind])  # add area of all pipes inbetween those two pipes\n",
      "\t\t\tind = pipe_ind  # change last tallest pipe to be the pipe we found\n",
      "\t\t\n",
      "\treturn area  # return answer\n",
      "\n",
      "array = [0,1,0,2,1,0,1,3,2,1,2,1,8,7]\n",
      "solution(array)\n"
     ]
    }
   ],
   "metadata": {}
  },
  {
   "cell_type": "code",
   "execution_count": 23,
   "source": [
    "try:\r\n",
    "    x = 2/0\r\n",
    "except ZeroDivisionError:\r\n",
    "    print('Attempt to divide by zero')\r\n",
    "except:\r\n",
    "    print('Something else went wrong')"
   ],
   "outputs": [
    {
     "output_type": "stream",
     "name": "stdout",
     "text": [
      "Attempt to divide by zero\n"
     ]
    }
   ],
   "metadata": {}
  },
  {
   "cell_type": "code",
   "execution_count": 30,
   "source": [
    "try:\r\n",
    "    x = 2/0\r\n",
    "except ZeroDivisionError:\r\n",
    "    print('Attempt to divide by zero')\r\n",
    "except ZeroDivisionError:\r\n",
    "   print(\"You can't divide by zero!!\")\r\n",
    "except ValueError:\r\n",
    "   print(\"You can only enter numbers consisting of digits, not text!!\")\r\n",
    "except (ValueError, TypeError):\r\n",
    "    print(\"You can only enter numbers consisting of digits, not text!!\")\r\n",
    "except ArithmeticError:\r\n",
    "    print(\"I will also catch OverflowError, FloatingPointError and ZeroDivisionError\")\r\n"
   ],
   "outputs": [
    {
     "output_type": "stream",
     "name": "stdout",
     "text": [
      "Attempt to divide by zero\n"
     ]
    }
   ],
   "metadata": {}
  },
  {
   "cell_type": "code",
   "execution_count": 31,
   "source": [
    "try:\r\n",
    "  print(x)\r\n",
    "except:\r\n",
    "  print(\"Something is wrong\")\r\n",
    "finally:\r\n",
    "  print(\"The 'try except' is completed\")"
   ],
   "outputs": [
    {
     "output_type": "stream",
     "name": "stdout",
     "text": [
      "Something is wrong\n",
      "The 'try except' is completed\n"
     ]
    }
   ],
   "metadata": {}
  },
  {
   "cell_type": "code",
   "execution_count": 3,
   "source": [
    "from earth.asia.module1 import calculate_fact\r\n",
    "calculate_fact(4)"
   ],
   "outputs": [
    {
     "output_type": "execute_result",
     "data": {
      "text/plain": [
       "24"
      ]
     },
     "metadata": {},
     "execution_count": 3
    }
   ],
   "metadata": {}
  },
  {
   "cell_type": "code",
   "execution_count": 6,
   "source": [
    "from earth.asia import module1\r\n",
    "module1.calculate_fact(5)"
   ],
   "outputs": [
    {
     "output_type": "execute_result",
     "data": {
      "text/plain": [
       "120"
      ]
     },
     "metadata": {},
     "execution_count": 6
    }
   ],
   "metadata": {}
  },
  {
   "cell_type": "code",
   "execution_count": 11,
   "source": [
    "from earth.europe import germany\r\n",
    "dir(germany)"
   ],
   "outputs": [
    {
     "output_type": "execute_result",
     "data": {
      "text/plain": [
       "['__builtins__',\n",
       " '__cached__',\n",
       " '__doc__',\n",
       " '__file__',\n",
       " '__loader__',\n",
       " '__name__',\n",
       " '__package__',\n",
       " '__path__',\n",
       " '__spec__']"
      ]
     },
     "metadata": {},
     "execution_count": 11
    }
   ],
   "metadata": {}
  },
  {
   "cell_type": "code",
   "execution_count": 19,
   "source": [
    "pip list"
   ],
   "outputs": [
    {
     "output_type": "stream",
     "name": "stdout",
     "text": [
      "Package           Version\n",
      "----------------- -------\n",
      "backcall          0.2.0\n",
      "colorama          0.4.4\n",
      "debugpy           1.3.0\n",
      "decorator         5.0.9\n",
      "ipykernel         6.0.1\n",
      "ipython           7.25.0\n",
      "ipython-genutils  0.2.0\n",
      "jedi              0.18.0\n",
      "jupyter-client    6.1.12\n",
      "jupyter-core      4.7.1\n",
      "matplotlib-inline 0.1.2\n",
      "numpy             1.21.1\n",
      "pandas            1.3.1\n",
      "parso             0.8.2\n",
      "pickleshare       0.7.5\n",
      "pip               21.2.4\n",
      "prompt-toolkit    3.0.19\n",
      "Pygments          2.9.0\n",
      "python-dateutil   2.8.1\n",
      "pytz              2021.1\n",
      "pywin32           301\n",
      "pyzmq             22.1.0\n",
      "setuptools        56.0.0\n",
      "six               1.16.0\n",
      "tornado           6.1\n",
      "traitlets         5.0.5\n",
      "wcwidth           0.2.5\n",
      "Note: you may need to restart the kernel to use updated packages.\n"
     ]
    }
   ],
   "metadata": {}
  },
  {
   "cell_type": "code",
   "execution_count": 26,
   "source": [
    "n = 876509755433\r\n",
    "list(str(n))[::-1]"
   ],
   "outputs": [
    {
     "output_type": "execute_result",
     "data": {
      "text/plain": [
       "['3', '3', '4', '5', '5', '7', '9', '0', '5', '6', '7', '8']"
      ]
     },
     "metadata": {},
     "execution_count": 26
    }
   ],
   "metadata": {}
  },
  {
   "cell_type": "code",
   "execution_count": 32,
   "source": [
    "list(reversed(str(n)))"
   ],
   "outputs": [
    {
     "output_type": "execute_result",
     "data": {
      "text/plain": [
       "['3', '3', '4', '5', '5', '7', '9', '0', '5', '6', '7', '8']"
      ]
     },
     "metadata": {},
     "execution_count": 32
    }
   ],
   "metadata": {}
  },
  {
   "cell_type": "code",
   "execution_count": 37,
   "source": [
    "def fact(x):\r\n",
    "    result = 1\r\n",
    "    for i in range(1,x+1):\r\n",
    "        result *= i\r\n",
    "    return result\r\n",
    "\r\n",
    "fact(0)"
   ],
   "outputs": [
    {
     "output_type": "execute_result",
     "data": {
      "text/plain": [
       "1"
      ]
     },
     "metadata": {},
     "execution_count": 37
    }
   ],
   "metadata": {}
  },
  {
   "cell_type": "code",
   "execution_count": 61,
   "source": [
    "def fact(x):\r\n",
    "    result = 1\r\n",
    "    i = 1\r\n",
    "    while i < x+1:\r\n",
    "        result *= i\r\n",
    "        i += 1\r\n",
    "    return result\r\n",
    "\r\n",
    "fact(6)\r\n"
   ],
   "outputs": [
    {
     "output_type": "execute_result",
     "data": {
      "text/plain": [
       "720"
      ]
     },
     "metadata": {},
     "execution_count": 61
    }
   ],
   "metadata": {}
  },
  {
   "cell_type": "markdown",
   "source": [
    "***"
   ],
   "metadata": {}
  },
  {
   "cell_type": "markdown",
   "source": [
    "<h1>RECURSIVE FUNCTION</h1>"
   ],
   "metadata": {}
  },
  {
   "cell_type": "code",
   "execution_count": 50,
   "source": [
    "def my_factrorial(n):\r\n",
    "    if n == 1 or n == 0 :\r\n",
    "        return 1\r\n",
    "    else :\r\n",
    "        return n * my_factrorial(n - 1)\r\n",
    "    \r\n",
    "my_factrorial(4)"
   ],
   "outputs": [
    {
     "output_type": "execute_result",
     "data": {
      "text/plain": [
       "24"
      ]
     },
     "metadata": {},
     "execution_count": 50
    }
   ],
   "metadata": {}
  },
  {
   "cell_type": "markdown",
   "source": [
    "***"
   ],
   "metadata": {}
  },
  {
   "cell_type": "code",
   "execution_count": 59,
   "source": [
    "x = {\"+\": lambda x,y: x+y, \"-\": lambda x,y: x-y}\r\n",
    "print(x[\"+\"](3,5))\r\n",
    "print(x[\"-\"](15,9))\r\n",
    "type(x[\"+\"])"
   ],
   "outputs": [
    {
     "output_type": "stream",
     "name": "stdout",
     "text": [
      "8\n",
      "6\n"
     ]
    },
    {
     "output_type": "execute_result",
     "data": {
      "text/plain": [
       "function"
      ]
     },
     "metadata": {},
     "execution_count": 59
    }
   ],
   "metadata": {}
  },
  {
   "cell_type": "code",
   "execution_count": 14,
   "source": [
    "dict1 = {5:\"five\", 6:\"six\", }\r\n",
    "{x : y for x, y in dict1.items()}"
   ],
   "outputs": [
    {
     "output_type": "execute_result",
     "data": {
      "text/plain": [
       "{5: 'five', 6: 'six'}"
      ]
     },
     "metadata": {},
     "execution_count": 14
    }
   ],
   "metadata": {}
  },
  {
   "cell_type": "code",
   "execution_count": 23,
   "source": [
    "!python --version"
   ],
   "outputs": [
    {
     "output_type": "stream",
     "name": "stdout",
     "text": [
      "Python 3.9.5\n"
     ]
    }
   ],
   "metadata": {}
  },
  {
   "cell_type": "code",
   "execution_count": 5,
   "source": [
    "from upper_package import my_package_1, my_package_2\r\n",
    "from upper_package.my_package_1 import my_module_1, my_module_2\r\n",
    "dir(my_package_1)\r\n"
   ],
   "outputs": [
    {
     "output_type": "execute_result",
     "data": {
      "text/plain": [
       "['__builtins__',\n",
       " '__cached__',\n",
       " '__doc__',\n",
       " '__file__',\n",
       " '__loader__',\n",
       " '__name__',\n",
       " '__package__',\n",
       " '__path__',\n",
       " '__spec__',\n",
       " 'my_module_1',\n",
       " 'my_module_2']"
      ]
     },
     "metadata": {},
     "execution_count": 5
    }
   ],
   "metadata": {}
  },
  {
   "cell_type": "code",
   "execution_count": 6,
   "source": [
    "from upper_package.my_package_2 import my_module_3, my_module_4\r\n",
    "dir(my_package_2)"
   ],
   "outputs": [
    {
     "output_type": "execute_result",
     "data": {
      "text/plain": [
       "['__builtins__',\n",
       " '__cached__',\n",
       " '__doc__',\n",
       " '__file__',\n",
       " '__loader__',\n",
       " '__name__',\n",
       " '__package__',\n",
       " '__path__',\n",
       " '__spec__',\n",
       " 'my_module_3',\n",
       " 'my_module_4']"
      ]
     },
     "metadata": {},
     "execution_count": 6
    }
   ],
   "metadata": {}
  },
  {
   "cell_type": "code",
   "execution_count": 7,
   "source": [
    "print(my_module_2.__doc__)"
   ],
   "outputs": [
    {
     "output_type": "stream",
     "name": "stdout",
     "text": [
      "\n",
      "This is module 2. Welcome!\n",
      "\n"
     ]
    }
   ],
   "metadata": {}
  }
 ],
 "metadata": {
  "orig_nbformat": 4,
  "language_info": {
   "name": "python",
   "version": "3.9.5",
   "mimetype": "text/x-python",
   "codemirror_mode": {
    "name": "ipython",
    "version": 3
   },
   "pygments_lexer": "ipython3",
   "nbconvert_exporter": "python",
   "file_extension": ".py"
  },
  "kernelspec": {
   "name": "python3",
   "display_name": "Python 3.9.5 64-bit"
  },
  "interpreter": {
   "hash": "df9803d5d1b6cb5abc1edc30c69a1153e23b31bf85805cdabf595a077425259e"
  }
 },
 "nbformat": 4,
 "nbformat_minor": 2
}