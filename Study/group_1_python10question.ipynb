{
  "nbformat": 4,
  "nbformat_minor": 2,
  "metadata": {
    "colab": {
      "name": "group_1_cozumlu.ipynb",
      "provenance": []
    },
    "kernelspec": {
      "name": "python3",
      "display_name": "Python 3.9.5 64-bit"
    },
    "language_info": {
      "name": "python",
      "version": "3.9.5",
      "mimetype": "text/x-python",
      "codemirror_mode": {
        "name": "ipython",
        "version": 3
      },
      "pygments_lexer": "ipython3",
      "nbconvert_exporter": "python",
      "file_extension": ".py"
    },
    "interpreter": {
      "hash": "df9803d5d1b6cb5abc1edc30c69a1153e23b31bf85805cdabf595a077425259e"
    }
  },
  "cells": [
    {
      "cell_type": "markdown",
      "source": [
        "```\r\n",
        "1 Sansürlü kelimeyi düzeltelim\r\n",
        "print(sansür(\"pyth*n\", \"o\")) ---> python\r\n",
        "print(sansür(\"*r*b*m* p*rk *tt*m\",\"aaaıaei\"))  --> arabamı park ettim\r\n",
        "```\r\n",
        "\r\n"
      ],
      "metadata": {
        "id": "r9B45NdlOz1t"
      }
    },
    {
      "cell_type": "code",
      "execution_count": 26,
      "source": [
        "def sansur(text, vowels):\r\n",
        "    for i in text:\r\n",
        "        for j in vowels:\r\n",
        "            text = text.replace(\"*\", j, 1)\r\n",
        "    return text\r\n",
        "\r\n",
        "print(sansur(\"pyth*n\", \"o\")) \r\n",
        "print(sansur(\"*r*b*m* p*rk *tt*m\",\"aaaıaei\"))"
      ],
      "outputs": [
        {
          "output_type": "stream",
          "name": "stdout",
          "text": [
            "python\n",
            "arabamı park ettim\n"
          ]
        }
      ],
      "metadata": {}
    },
    {
      "cell_type": "code",
      "execution_count": 9,
      "source": [
        "def sansür(sansürlü, sesli):\r\n",
        "  n=0\r\n",
        "  for i in sansürlü:\r\n",
        "    if i=='*':\r\n",
        "      sansürlü=sansürlü.replace('*',sesli[n],1)\r\n",
        "      n+=1\r\n",
        "  return sansürlü\r\n",
        "print(sansür(\"pyth*n\", \"o\")) \r\n",
        "print(sansür(\"*r*b*m* p*rk *tt*m\",\"aiaıaei\"))"
      ],
      "outputs": [
        {
          "output_type": "stream",
          "name": "stdout",
          "text": [
            "python\n",
            "aribamı park ettim\n"
          ]
        }
      ],
      "metadata": {
        "colab": {
          "base_uri": "https://localhost:8080/"
        },
        "id": "GafOli-nlkXd",
        "outputId": "a0d0be94-af50-4428-ca5a-911d5d558c4c"
      }
    },
    {
      "cell_type": "markdown",
      "source": [
        "```\r\n",
        "2. Girdisi string olan ifadenin içerisindeki harflerin türkçe alfabesindeki yerlerini bulup, hepsinin değerlerini toplayıp sonuç çiftse True tekse False yazdıran bir fonksiyon yazınız.\r\n",
        "print(kelime_cift_mi(\"Bilgisayar\")) -->True\r\n",
        "```\r\n",
        "\r\n"
      ],
      "metadata": {
        "id": "Q5AiEAoiPHH-"
      }
    },
    {
      "cell_type": "code",
      "execution_count": 51,
      "source": [
        "def length(text):\r\n",
        "    count = 0\r\n",
        "    text = text.split(\" \")\r\n",
        "    for i in text:\r\n",
        "        count += len(i)\r\n",
        "    return (False,True)[count % 2 == 0]\r\n",
        "        \r\n",
        "print(length(\"Bilgisayar computer\"))"
      ],
      "outputs": [
        {
          "output_type": "stream",
          "name": "stdout",
          "text": [
            "True\n"
          ]
        }
      ],
      "metadata": {}
    },
    {
      "cell_type": "code",
      "execution_count": 52,
      "source": [
        "def kelime_cift_mi(cümle):\r\n",
        "  kucuk=\"abcçdefgğhıijklmnoöprsştuüvyz\"\r\n",
        "  toplam=0\r\n",
        "  for i in cümle.lower():\r\n",
        "    if i in kucuk:\r\n",
        "      toplam+=kucuk.index(i)+1\r\n",
        "  if toplam % 2 == 0:\r\n",
        "    return True\r\n",
        "  else:\r\n",
        "    return False\r\n",
        "print(kelime_cift_mi(\"B ç\")) "
      ],
      "outputs": [
        {
          "output_type": "stream",
          "name": "stdout",
          "text": [
            "True\n"
          ]
        }
      ],
      "metadata": {
        "colab": {
          "base_uri": "https://localhost:8080/"
        },
        "id": "TYQxx36xlpH7",
        "outputId": "f5ca6104-4db5-4348-9af3-9136607c86ea"
      }
    },
    {
      "cell_type": "markdown",
      "source": [
        "\r\n",
        "```\r\n",
        " 3. Write a program to prompt the user for hours and rate per hour using input to compute gross pay. Pay should be the normal rate for hours up to 40 and time-and-a-half for the hourly rate for all hours worked above 40 hours. Put the logic to do the computation of pay in a function called computepay() and use the function to do the computation. The function should return a value. Use 45 hours and a rate of 10.50 per hour to test the program (the pay should be 498.75). You should use input to read a string and float() to convert the string to a number. Do not worry about error checking the user input unless you want to - you can assume the user types numbers properly. Do not name your variable sum or use the sum() function\r\n",
        "\r\n",
        "```\r\n",
        "\r\n"
      ],
      "metadata": {
        "id": "yUnkroayPGvn"
      }
    },
    {
      "cell_type": "code",
      "execution_count": 55,
      "source": [
        "def computepay(hour,rate):\r\n",
        "    hour = float(hour)\r\n",
        "    rate = float(rate)\r\n",
        "    if hour <= 40:\r\n",
        "        return rate*hour\r\n",
        "    elif hour > 40 :\r\n",
        "        return rate*40 + 1.5*rate*(hour-40)\r\n",
        "\r\n",
        "computepay(45,10.5)\r\n",
        "\r\n"
      ],
      "outputs": [
        {
          "output_type": "execute_result",
          "data": {
            "text/plain": [
              "498.75"
            ]
          },
          "metadata": {},
          "execution_count": 55
        }
      ],
      "metadata": {}
    },
    {
      "cell_type": "code",
      "execution_count": 57,
      "source": [
        "def computepay(hour,rate):\r\n",
        "    hour = float(hour)\r\n",
        "    rate = float(rate)\r\n",
        "    return (rate*hour,(rate*40 + 1.5*rate*(hour-40)))[hour>40]\r\n",
        "\r\n",
        "computepay(45,10.5)"
      ],
      "outputs": [
        {
          "output_type": "execute_result",
          "data": {
            "text/plain": [
              "498.75"
            ]
          },
          "metadata": {},
          "execution_count": 57
        }
      ],
      "metadata": {}
    },
    {
      "cell_type": "code",
      "execution_count": 13,
      "source": [
        "def compute_pay(h, r):\r\n",
        "  if h > 40:\r\n",
        "    p = 40*r + (h-40) * r* 1.5\r\n",
        "  else:\r\n",
        "    p= h*r\r\n",
        "  return p\r\n",
        "compute_pay(45, 2)"
      ],
      "outputs": [
        {
          "output_type": "execute_result",
          "data": {
            "text/plain": [
              "95.0"
            ]
          },
          "metadata": {
            "tags": []
          },
          "execution_count": 13
        }
      ],
      "metadata": {
        "colab": {
          "base_uri": "https://localhost:8080/"
        },
        "id": "i5fWYRVSq2Z7",
        "outputId": "33d91c1b-5314-493c-bd1e-68a7aaafc719"
      }
    },
    {
      "cell_type": "markdown",
      "source": [
        "```\r\n",
        "4. Sayının faktöriyelini hesaplayan fonksiyon yazalım.\r\n",
        "```\r\n",
        "\r\n",
        "\r\n"
      ],
      "metadata": {
        "id": "agUSmN0iPGqB"
      }
    },
    {
      "cell_type": "code",
      "execution_count": 70,
      "source": [
        "def factorial(n):\r\n",
        "    if n == 0 or n == 1 : \r\n",
        "        return 1\r\n",
        "    else:\r\n",
        "        output = 1\r\n",
        "        for i in range(n,1,-1):\r\n",
        "            output *= i\r\n",
        "        return output\r\n",
        "factorial(1)"
      ],
      "outputs": [
        {
          "output_type": "execute_result",
          "data": {
            "text/plain": [
              "1"
            ]
          },
          "metadata": {},
          "execution_count": 70
        }
      ],
      "metadata": {}
    },
    {
      "cell_type": "code",
      "execution_count": 14,
      "source": [
        "def factoriel(sayi):\r\n",
        "  sonuc = 1\r\n",
        "  i = 1\r\n",
        "  while i <sayi+1:\r\n",
        "    sonuc *= i\r\n",
        "    i +=1\r\n",
        "  return sonuc\r\n",
        "factoriel(4)"
      ],
      "outputs": [
        {
          "output_type": "execute_result",
          "data": {
            "text/plain": [
              "24"
            ]
          },
          "metadata": {
            "tags": []
          },
          "execution_count": 14
        }
      ],
      "metadata": {
        "colab": {
          "base_uri": "https://localhost:8080/"
        },
        "id": "X35_pYVbsIXM",
        "outputId": "b7432233-0ac8-4365-98d3-4ec87de01a8c"
      }
    },
    {
      "cell_type": "code",
      "execution_count": 72,
      "source": [
        "def factoriel(sayi):\r\n",
        "  sonuc = 1\r\n",
        "  for i in range(1,sayi+1):\r\n",
        "    sonuc*=i\r\n",
        "  return sonuc\r\n",
        "factoriel(1)"
      ],
      "outputs": [
        {
          "output_type": "execute_result",
          "data": {
            "text/plain": [
              "1"
            ]
          },
          "metadata": {},
          "execution_count": 72
        }
      ],
      "metadata": {
        "colab": {
          "base_uri": "https://localhost:8080/"
        },
        "id": "ZW3lrMv5s6WH",
        "outputId": "7002baec-0a59-40b2-f92f-9755d888408e"
      }
    },
    {
      "cell_type": "markdown",
      "source": [
        "```\n",
        "5. Sayı ve string paramestresi alan, sayıyı geriye doğru aralarında * olacak şekilde yazdıran, sonuna verilen stringi büyük harflerle ekleyen ve en sona ! işareti koyan bir fonksiyon yazalım\n",
        " ÖRNEK\n",
        "geri_say(3,\"go\")--> \"3*2*1*GO!\"**kalın metin**\n",
        "```\n",
        "\n"
      ],
      "metadata": {
        "id": "tPWXxyrEPGmw"
      }
    },
    {
      "cell_type": "code",
      "execution_count": 16,
      "source": [
        "def geri_say(n, yazi):\r\n",
        "  sonuc = ''\r\n",
        "  for i in range(n,0,-1):\r\n",
        "    sonuc += str(i) + '*'\r\n",
        "  sonuc+= yazi.upper() + '!'\r\n",
        "  return sonuc\r\n",
        "geri_say(3,\"go\")"
      ],
      "outputs": [
        {
          "output_type": "execute_result",
          "data": {
            "text/plain": [
              "'3*2*1*GO!'"
            ],
            "application/vnd.google.colaboratory.intrinsic+json": {
              "type": "string"
            }
          },
          "metadata": {
            "tags": []
          },
          "execution_count": 16
        }
      ],
      "metadata": {
        "colab": {
          "base_uri": "https://localhost:8080/",
          "height": 35
        },
        "id": "fUCs9qFZtseU",
        "outputId": "08ffb2b7-0d50-4d1c-84b2-7d258826082f"
      }
    },
    {
      "cell_type": "markdown",
      "source": [
        "```\r\n",
        "6. Arif ve Raife listede yanyana duruyorlasa True döndüren durmuyorlarsa False döndüren bir fonksiyon yazalım.\r\n",
        "print(yan_yana_mı([\"Arif\",\"Raife\",\"Nihal\"])) --> True\r\n",
        "print(yan_yana_mı([\"Arif\",\"Nihal\",\"Raife\"])) --> False\r\n",
        "```\r\n",
        "\r\n"
      ],
      "metadata": {
        "id": "X0np6sCFPGjA"
      }
    },
    {
      "cell_type": "code",
      "execution_count": 99,
      "source": [
        "def nextto(arg):\r\n",
        "    for i in range(len(arg)):\r\n",
        "        arg[i] = arg[i].lower()\r\n",
        "    if arg.index(\"arif\")+1 == arg.index(\"raife\") or arg.index(\"arif\")-1 == arg.index(\"raife\") :\r\n",
        "        return True\r\n",
        "    else: return False\r\n",
        "\r\n",
        "print(nextto([\"Arif\",\"Nihal\",\"Raife\"]))\r\n",
        "print(nextto([\"Arif\",\"Raife\",\"Nihal\"]))"
      ],
      "outputs": [
        {
          "output_type": "stream",
          "name": "stdout",
          "text": [
            "False\n",
            "True\n"
          ]
        }
      ],
      "metadata": {}
    },
    {
      "cell_type": "code",
      "execution_count": 19,
      "source": [
        "def yan_yana_mi(liste):\r\n",
        "  for i in liste:\r\n",
        "    if liste.index('Arif')+1 == liste.index('Raife') or liste.index('Arif') == liste.index('Raife') +1:\r\n",
        "      return True\r\n",
        "    else:\r\n",
        "      return False\r\n",
        "print(yan_yana_mi([\"Arif\",\"Raife\",\"Nihal\"]))\r\n",
        "print(yan_yana_mi([\"Arif\",\"Nihal\",\"Raife\"]))"
      ],
      "outputs": [
        {
          "output_type": "stream",
          "name": "stdout",
          "text": [
            "True\n",
            "False\n"
          ]
        }
      ],
      "metadata": {
        "colab": {
          "base_uri": "https://localhost:8080/"
        },
        "id": "2WxAQYGevApA",
        "outputId": "fd14a40d-e658-4a59-dbaf-1df3e880d0ed"
      }
    },
    {
      "cell_type": "markdown",
      "source": [
        "```\r\n",
        "7. Listedeki her elemanı kendi indexi ile çarpıp toplamı veren bir fonksiyon yazalım.\r\n",
        "print(carpip_topla([1,2,3,4,5,6,7,8,9,10])) --> 330\r\n",
        "```\r\n",
        "\r\n",
        "\r\n",
        "\r\n"
      ],
      "metadata": {
        "id": "o8RAQ9ZpPGcN"
      }
    },
    {
      "cell_type": "code",
      "execution_count": 106,
      "source": [
        "def mult_index(list2):\r\n",
        "    output = 0\r\n",
        "    for i,j in enumerate(list2):\r\n",
        "        output += i*j\r\n",
        "    return output \r\n",
        "        \r\n",
        "mult_index([1,2,3,4,5,6,7,8,9,10])"
      ],
      "outputs": [
        {
          "output_type": "execute_result",
          "data": {
            "text/plain": [
              "330"
            ]
          },
          "metadata": {},
          "execution_count": 106
        }
      ],
      "metadata": {}
    },
    {
      "cell_type": "code",
      "execution_count": 21,
      "source": [
        "def carpıp_topla(liste):\r\n",
        "  toplam = 0\r\n",
        "  for i in range(len(liste)):\r\n",
        "    toplam += i* liste [i]\r\n",
        "  return toplam\r\n",
        "carpıp_topla([1,1])"
      ],
      "outputs": [
        {
          "output_type": "execute_result",
          "data": {
            "text/plain": [
              "1"
            ]
          },
          "metadata": {
            "tags": []
          },
          "execution_count": 21
        }
      ],
      "metadata": {
        "colab": {
          "base_uri": "https://localhost:8080/"
        },
        "id": "T_kLAmqewl7_",
        "outputId": "7bbb1416-c8b5-4c3f-b1f5-b1c1b6c3629c"
      }
    },
    {
      "cell_type": "code",
      "execution_count": 20,
      "source": [
        "#hatalı çözüm\r\n",
        "def carpıp_topla(liste):\r\n",
        "  toplam = 0\r\n",
        "  for i in liste:\r\n",
        "    toplam += i* liste.index(i)\r\n",
        "  return toplam\r\n",
        "carpıp_topla([1,1])"
      ],
      "outputs": [
        {
          "output_type": "execute_result",
          "data": {
            "text/plain": [
              "0"
            ]
          },
          "metadata": {
            "tags": []
          },
          "execution_count": 20
        }
      ],
      "metadata": {
        "colab": {
          "base_uri": "https://localhost:8080/"
        },
        "id": "d9Y3djzdxYpj",
        "outputId": "9a04da67-f474-4318-fb5c-fef5bb4a4010"
      }
    },
    {
      "cell_type": "markdown",
      "source": [
        "```\r\n",
        "8. Cümledeki sayı ve harflerin sayısını bulan bir fonksiyon yazalım\r\n",
        "print(harf_sayi_sayisi(\"10'a kadar saysam ve sonrasında hayat bayram olsa.\")) --> Harfler: 39, Sayılar: 2\r\n",
        "\r\n",
        "```\r\n",
        "\r\n",
        "\r\n"
      ],
      "metadata": {
        "id": "6eFw-Cy2PGYg"
      }
    },
    {
      "cell_type": "code",
      "execution_count": 124,
      "source": [
        "def number_of_letter_digit(text):\r\n",
        "    count_digit, count_letter = 0,0\r\n",
        "    for i in text:\r\n",
        "        if i.isdigit():\r\n",
        "            count_digit += 1\r\n",
        "        elif i.isalpha():\r\n",
        "            count_letter += 1\r\n",
        "    return f\"Number of letter: {count_letter}, Number of digit: {count_digit}\"\r\n",
        "\r\n",
        "print(number_of_letter_digit(\"10'a kadar saysam ve sonrasında hayat bayram olsa.\"))\r\n"
      ],
      "outputs": [
        {
          "output_type": "stream",
          "name": "stdout",
          "text": [
            "Number of letter: 39, Number of digit: 2\n"
          ]
        }
      ],
      "metadata": {}
    },
    {
      "cell_type": "code",
      "execution_count": 23,
      "source": [
        "def harf_sayi_sayisi(cümle):\r\n",
        "  h = 0\r\n",
        "  s = 0\r\n",
        "  d = 0\r\n",
        "  for i in cümle:\r\n",
        "    if i.isalpha():\r\n",
        "      h+=1\r\n",
        "    elif i.isdigit():\r\n",
        "      s+=1\r\n",
        "    else:\r\n",
        "      d +=1\r\n",
        "  return f'Harfler: {h}, sayılar {s}, diğerleri {d}'\r\n",
        "print(harf_sayi_sayisi(\"10'a kadar saysam ve sonrasında hayat bayram olsa.\"))"
      ],
      "outputs": [
        {
          "output_type": "stream",
          "name": "stdout",
          "text": [
            "Harfler: 39, sayılar 2, diğerleri 9\n"
          ]
        }
      ],
      "metadata": {
        "colab": {
          "base_uri": "https://localhost:8080/"
        },
        "id": "rDQnhdRQyFOY",
        "outputId": "e17ac0c4-44e3-41a2-de77-3eabee552154"
      }
    },
    {
      "cell_type": "markdown",
      "source": [
        "```\r\n",
        "9.Stringin içindeki en büyük ve en küçük sayıyı veren fonksiyon yazalım.\r\n",
        "print(büyük_kücük(\"3 2 4 6 -1 12\")) --> 12 -1\r\n",
        "```\r\n",
        "\r\n"
      ],
      "metadata": {
        "id": "txt134wgPGVZ"
      }
    },
    {
      "cell_type": "code",
      "execution_count": 138,
      "source": [
        "def max_min(text):\r\n",
        "    list3 = list(map(int, text.split(\" \")))\r\n",
        "    return f\"{max(list3)}, {min(list3)}\"\r\n",
        "\r\n",
        "print(max_min(\"3 2 4 6 -1 12\"))"
      ],
      "outputs": [
        {
          "output_type": "stream",
          "name": "stdout",
          "text": [
            "12, -1\n"
          ]
        }
      ],
      "metadata": {}
    },
    {
      "cell_type": "code",
      "execution_count": 144,
      "source": [
        "text = \"3 2 4 6 -1 12\"\r\n",
        "print(map(int, text.split(\" \")))\r\n",
        "print(list(map(int, text.split(\" \"))))"
      ],
      "outputs": [
        {
          "output_type": "stream",
          "name": "stdout",
          "text": [
            "<map object at 0x000002567F1D3EE0>\n",
            "[3, 2, 4, 6, -1, 12]\n"
          ]
        }
      ],
      "metadata": {}
    },
    {
      "cell_type": "code",
      "execution_count": 25,
      "source": [
        "def buyuk_kucuk(deger):\r\n",
        "  liste= list(map(int, deger.split()))\r\n",
        "  return f'{max(liste)} {min(liste)}'\r\n",
        "print(buyuk_kucuk(\"3 2 4 6 -1 12\"))"
      ],
      "outputs": [
        {
          "output_type": "stream",
          "name": "stdout",
          "text": [
            "12 -1\n"
          ]
        }
      ],
      "metadata": {
        "colab": {
          "base_uri": "https://localhost:8080/"
        },
        "id": "bnbOeXxAzdJC",
        "outputId": "9f77c59c-b8f8-4f50-90bf-38aeaa55bd28"
      }
    },
    {
      "cell_type": "markdown",
      "source": [
        "```\r\n",
        "10. Harfler ve boşluklardan oluşan stringin içindeki kelime nin uzunluğu beş veya dah fazla ise o kelimeyi ters çeviren bir fonksiyon yazalım.\r\n",
        "print(ters_döndür(\"Ah bir data scientist olabilsem:)\")) --> Ah bir data tsitneics ):meslibalo\r\n",
        "```\r\n",
        "\r\n"
      ],
      "metadata": {
        "id": "RhGJCDaNPGIS"
      }
    },
    {
      "cell_type": "code",
      "execution_count": 155,
      "source": [
        "def reverse(text):\r\n",
        "    text = text.split(\" \")\r\n",
        "    for i in text :\r\n",
        "        if len(i) >= 5 :\r\n",
        "            text[text.index(i)] = text[text.index(i)][::-1]\r\n",
        "    return \" \".join(text)\r\n",
        "\r\n",
        "\r\n",
        "print(reverse(\"Ah bir data scientist olabilsem:)\"))"
      ],
      "outputs": [
        {
          "output_type": "stream",
          "name": "stdout",
          "text": [
            "Ah bir data tsitneics ):meslibalo\n"
          ]
        }
      ],
      "metadata": {}
    },
    {
      "cell_type": "code",
      "execution_count": 152,
      "source": [
        "hey = \"hey\", \"you\"\r\n",
        "\" \".join(hey)"
      ],
      "outputs": [
        {
          "output_type": "execute_result",
          "data": {
            "text/plain": [
              "'hey you'"
            ]
          },
          "metadata": {},
          "execution_count": 152
        }
      ],
      "metadata": {}
    },
    {
      "cell_type": "code",
      "execution_count": 28,
      "source": [
        "def ters_dondur(yazi):\r\n",
        "  liste = yazi.split()\r\n",
        "  yeni = ''\r\n",
        "  for i in liste :\r\n",
        "    if len(i) >= 5:\r\n",
        "      yeni += i [::-1] + ' '\r\n",
        "    else:\r\n",
        "      yeni += i + ' '\r\n",
        "  return yeni.strip()\r\n",
        "\r\n",
        "print(ters_dondur(\"Ah bir data scientist olabilsem:)\"))"
      ],
      "outputs": [
        {
          "output_type": "stream",
          "name": "stdout",
          "text": [
            "Ah bir data tsitneics ):meslibalo\n"
          ]
        }
      ],
      "metadata": {
        "colab": {
          "base_uri": "https://localhost:8080/"
        },
        "id": "_dfpXe790luM",
        "outputId": "e296c945-bf97-49e5-b9fe-cbcf1087abf3"
      }
    }
  ]
}